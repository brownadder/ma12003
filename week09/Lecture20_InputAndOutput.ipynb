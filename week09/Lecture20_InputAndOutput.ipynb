{
 "cells": [
  {
   "cell_type": "markdown",
   "id": "7dc091ea",
   "metadata": {},
   "source": [
    "# *DISCLAIMER*\n",
    "## *Please, copy this notebook into your MA10276_workspace folder!*\n",
    "*This is unfortunately necessary as the notebook will teach reading and writing from files. Since the course directory is read-only, this notebook will not work unless you move it to your MA10276_workspace folder.*\n",
    "\n",
    "\n",
    "# Input and Output\n",
    "\n",
    "So far, we have mainly been using the `print()` function to output text to the screen. However, in many applications it will be necessary to read data from input files and to write data to output files. In particular, plain text files can be used to store unformatted data in a operating system and platform independent manner. As such, many spreadsheets are stored in .csv (comma separated values) files. Furthermore, it is often useful to have more complicated data or even Python objects stored for common use between different programmes. This can be achieved using the JSON and Pickle formats.\n",
    "\n",
    "### What you will learn\n",
    "\n",
    "In this notebook we will cover the following topics:\n",
    "* string handling\n",
    "* linebreaks and tabulators\n",
    "* input formatting\n",
    "* reading and writing from/to files\n",
    "* moving in files\n",
    "* saving structured data with JSON and Pickle\n",
    "\n",
    "*&#169; Tobias Hartung, University of Bath 2021-2022. This problem sheet is copyright of Tobias Hartung, University of Bath. It is provided exclusively for educational purposes at the University and is to be downloaded or copied for your private study only. Further distribution, e.g. by upload to external repositories, is prohibited.*\n",
    "\n",
    "## Output formatting\n",
    "\n",
    "Let us begin with outputn formatting. In most cases, you will be writing data to a file in a text format. That is, you will have to turn all your data into a string and then write it to the file. \n",
    "\n",
    "As an example, let us consider a small spreadsheet of the following form."
   ]
  },
  {
   "cell_type": "raw",
   "id": "6795426f",
   "metadata": {},
   "source": [
    "--------------------------\n",
    "| Number | Square | Cube |\n",
    "--------------------------\n",
    "| 2      | 4      | 8    |\n",
    "--------------------------\n",
    "| 3      | 9      | 27   |\n",
    "--------------------------\n",
    "| 4      | 16     | 64   |\n",
    "--------------------------\n",
    "| 5      | 25     | 125  |\n",
    "--------------------------"
   ]
  },
  {
   "cell_type": "markdown",
   "id": "41e60d49",
   "metadata": {},
   "source": [
    "If we wish to save this data as a csv file, then each line in the file will be a row in the table and each column will be separated by a chosen delimiter. This is usually a comma, but could be any symbol. Other common symbols are semicolons, colons, and tabulators. The table saved in a .csv file would thus look like the text below."
   ]
  },
  {
   "cell_type": "raw",
   "id": "5a5faf99",
   "metadata": {},
   "source": [
    "Number,Square,Cube\n",
    "2,4,8\n",
    "3,9,27\n",
    "4,16,64\n",
    "5,25,125"
   ]
  },
  {
   "cell_type": "markdown",
   "id": "9ff336d7",
   "metadata": {},
   "source": [
    "In order to create very large strings containing a lot of data as well as linebreaks, you will often require more control over your output formatting than simply printing space-separated values like `print(x,y,z)` would do. Python provides you with multiple options to achieve your goals. \n",
    "\n",
    "### Manual string handling\n",
    "\n",
    "The first option, which is the easiest to start with but also most tedious, is manual string formatting by using string slicing and concatenation operations. Elements of a string can be addressed similar to lists. "
   ]
  },
  {
   "cell_type": "code",
   "execution_count": null,
   "id": "9debf098",
   "metadata": {},
   "outputs": [],
   "source": [
    "last_line = \"5,25,125\"\n",
    "print(last_line[2:-4])"
   ]
  },
  {
   "cell_type": "markdown",
   "id": "14a3a885",
   "metadata": {},
   "source": [
    "However, if we are thinking about reading from a .csv file, then we may not know exactly at which character index (here 2) the second entry (25) begins and ends. A common approach to process .csv files is to read them line by line and then split them into the constituents. Here we are interested in splitting the strings at each comma. We can use the `split()` method of a string to achieve this."
   ]
  },
  {
   "cell_type": "code",
   "execution_count": null,
   "id": "f27e10a8",
   "metadata": {},
   "outputs": [],
   "source": [
    "split_last_line = last_line.split(',')\n",
    "print(split_last_line)"
   ]
  },
  {
   "cell_type": "markdown",
   "id": "bc2e72bc",
   "metadata": {},
   "source": [
    "As you can see, the `split()` method requires an argument which here is the string containing a comma `','` and it returns a list of strings which are the original string separated at the string passed to the method. Note also that the separating symbol no longer appears in the list of strings generated by `split()`. \n",
    "\n",
    "If we wish to join strings together, then we can use the concatenation operation `+`. "
   ]
  },
  {
   "cell_type": "code",
   "execution_count": null,
   "id": "db71efff",
   "metadata": {},
   "outputs": [],
   "source": [
    "number1 = \"5\"\n",
    "number2 = \"25\"\n",
    "number3 = \"125\"\n",
    "line = number1 + \",\" + number2 + \",\" + number3\n",
    "print(line)"
   ]
  },
  {
   "cell_type": "markdown",
   "id": "240a2cb9",
   "metadata": {},
   "source": [
    "As you may imagine, this can become very labour intensive for many strings to be concatenated. For some automation, you can use the `join()` method of a string. It acts as the reverse operation to `split()` and concatenates a list of strings with a given separating symbol. For example, if we want to re-assemple the split list `['5', '25', '125']`, then we could write"
   ]
  },
  {
   "cell_type": "code",
   "execution_count": null,
   "id": "22b0b3b1",
   "metadata": {},
   "outputs": [],
   "source": [
    "joined_last_line = \",\".join(split_last_line)\n",
    "print(joined_last_line)"
   ]
  },
  {
   "cell_type": "markdown",
   "id": "a0017366",
   "metadata": {},
   "source": [
    "As you can see, if we had thousands of columns, this `join()` function can easily create an entire row of the spreadsheet from a list containing the data that should go into that row. \n",
    "\n",
    "If you want to make sure that the .csv file (or even output printed on screen) is more readable for humans, an interesting formatting option to set manually are justifications. `rjust(n)` right-justifies in a block of size n, `ljust(n)` left-justifies, and `center(n)` centers text. "
   ]
  },
  {
   "cell_type": "code",
   "execution_count": null,
   "id": "0bd9667b",
   "metadata": {},
   "outputs": [],
   "source": [
    "for x in range(1, 11):\n",
    "    print(repr(x).ljust(5), repr(x*x).center(5), end=' ')\n",
    "    # Note use of 'end' on previous line\n",
    "    print(repr(x*x*x).rjust(5))"
   ]
  },
  {
   "cell_type": "markdown",
   "id": "48afc591",
   "metadata": {},
   "source": [
    "Note the use of the `end` parameter in the first `print()` statement. Usually `print()` ends with a linebreak. If you don't want this, then you can set it's behaviour in this way. Here it inserts a single space just like the comma does between the first two arguments that are printed. As such the second `print()` does not start a new line but prints the cubes just like they would have been printed, had we written \n",
    "\n",
    "`print(repr(x).ljust(5), repr(x*x).center(5),repr(x*x*x).rjust(5))`\n",
    "\n",
    "The use of `repr()` is also interesting to note here. The justification commands only work on printable representations of Python objects. The `repr()` function returns exactly this. So if you are unsure how to turn a complicated object into something printable, use `repr()`.\n",
    "\n",
    "For numeric strings, you can also use `zfill()` to pad with leading zeros. It does understand plus and minus."
   ]
  },
  {
   "cell_type": "code",
   "execution_count": null,
   "id": "0f177618",
   "metadata": {},
   "outputs": [],
   "source": [
    "print('42'.zfill(5))\n",
    "print('-42'.zfill(5))"
   ]
  },
  {
   "cell_type": "markdown",
   "id": "597e2af8",
   "metadata": {},
   "source": [
    "### Formatted string literals\n",
    "\n",
    "While manual string formatting is powerful, it can make for difficult to read code. Formatted string literals (also known as f-strings for short) often allow for greater format control while keeping the code understandable. You can define an f-string by writing f or F in front of your string definition. "
   ]
  },
  {
   "cell_type": "code",
   "execution_count": null,
   "id": "8414abe2",
   "metadata": {},
   "outputs": [],
   "source": [
    "import math                                                 \n",
    "# importing math library to get pi\n",
    "# next: inserting pi with defined number of digits directly into the string\n",
    "fstr = f'The value of pi is approximately {math.pi:.3f}.'   \n",
    "print(fstr)"
   ]
  },
  {
   "cell_type": "markdown",
   "id": "17a83c8c",
   "metadata": {},
   "source": [
    "As you can see, an f-string allows you to write exprespressions (here `math.pi`) directly into the string and pass on formatting options as well (here `.3f` means three figures after the decimal dot). Passing an integer after : will enforce the expression to be of at least that length. "
   ]
  },
  {
   "cell_type": "code",
   "execution_count": null,
   "id": "bfea648b",
   "metadata": {},
   "outputs": [],
   "source": [
    "fstr2 = f'The value of pi is approximately {math.pi:5}.'\n",
    "fstr3 = f'The value of pi is approximately {math.pi:50}.'\n",
    "print(fstr2)\n",
    "print(fstr3)"
   ]
  },
  {
   "cell_type": "markdown",
   "id": "008766ad",
   "metadata": {},
   "source": [
    "The example above shows that more than 16 digits of pi were printed since math.pi has 16 digit precision. This is independent of us passing the integer 5 or 50. But when passing 50, it ensured that the missing 33 symbols to reach a length of 50 were added as empty spaces. In general, if you have pass a number such as `math.pi`, the format you want to use is `{value:width.precision}` although many options exist here. This type of formatting is part of Python's lexical analysis. If you are interested in more detail, you can read all about it in the Python documentation.\n",
    "\n",
    "https://docs.python.org/3/reference/lexical_analysis.html#f-strings\n",
    "\n",
    "This type of formatting becomes important if you wish to create human-readable tables."
   ]
  },
  {
   "cell_type": "code",
   "execution_count": null,
   "id": "9272a858",
   "metadata": {},
   "outputs": [],
   "source": [
    "number = 'Number'\n",
    "square = 'Square'\n",
    "cube = 'Cube'\n",
    "print(f'{number:6} ==> {square:6} ==> {cube:4}')\n",
    "for i in range(1,11):\n",
    "    number = i\n",
    "    square = i**2\n",
    "    cube = i**3\n",
    "    print(f'{number:6d} ==> {square:6d} ==> {cube:4d}')"
   ]
  },
  {
   "cell_type": "markdown",
   "id": "7bd5866d",
   "metadata": {},
   "source": [
    "### The string `format()` method\n",
    "\n",
    "The third common formatting option is to use the `format()` method of a string. It's basic use is"
   ]
  },
  {
   "cell_type": "code",
   "execution_count": null,
   "id": "e24d816e",
   "metadata": {},
   "outputs": [],
   "source": [
    "print('{} squared is {}.'.format(5,25))"
   ]
  },
  {
   "cell_type": "markdown",
   "id": "7942af7d",
   "metadata": {},
   "source": [
    "However, for nicer formatting, you can also pass arguments to the braces in the string. "
   ]
  },
  {
   "cell_type": "code",
   "execution_count": null,
   "id": "86425c0b",
   "metadata": {},
   "outputs": [],
   "source": [
    "print('{0} squared is {1}.'.format(5,25))\n",
    "print('{1} squared is {0}.'.format(25,5))\n",
    "print('{number} squared is {square}.'.format(number=5,square=25))"
   ]
  },
  {
   "cell_type": "markdown",
   "id": "15ea672e",
   "metadata": {},
   "source": [
    "It should be noted that positional and keyword formatting can be combined. "
   ]
  },
  {
   "cell_type": "code",
   "execution_count": null,
   "id": "ade49e71",
   "metadata": {},
   "outputs": [],
   "source": [
    "print('The square of {} is {}, its cube is {cube}, and if we take the fourth power it\\'s {}.'.format(2,4,16,cube=8))"
   ]
  },
  {
   "cell_type": "markdown",
   "id": "f93de645",
   "metadata": {},
   "source": [
    "Note the use of `\\'`. This is called \"escaping a character\". Here the `'` symbol would denote the end of the string, but we wanted it as the symbol itself inside the string. By adding the backslash, we are telling Python \"I know you want to interpret the next character as something that has meaning to you. I don't want you to do this.\" This is the usual behaviour of an escape character. So if you wanted to have a backslash in your string, then you would need to escape the backslasph symbol and write `\\\\`. "
   ]
  },
  {
   "cell_type": "code",
   "execution_count": null,
   "id": "01bc503f",
   "metadata": {},
   "outputs": [],
   "source": [
    "print('\\\\')"
   ]
  },
  {
   "cell_type": "markdown",
   "id": "5d111592",
   "metadata": {},
   "source": [
    "It should also be noted that a few characters such as r, n, and t, change meaning when escaped. We will discuss them below. But the general rule of thumb is, don't escape a letter that would be interpreted correctly if not escaped. This way you will not accidentally change what you are printing because you accidentally escaped a letter that now has different behaviour than printing the letter itself.\n",
    "\n",
    "Returning to `.format()`, it is also sometimes necessary to reference variables by name rather than position. This can be done through dictionaries and using brackets `[]`."
   ]
  },
  {
   "cell_type": "code",
   "execution_count": null,
   "id": "67bb07f3",
   "metadata": {},
   "outputs": [],
   "source": [
    "table = {'number': 5, 'square': 25, 'cube': 125}\n",
    "print('Number: {0[number]:d}; Square: {0[square]:d}; Cube: {0[cube]:d}'.format(table))"
   ]
  },
  {
   "cell_type": "markdown",
   "id": "d10becd3",
   "metadata": {},
   "source": [
    "Note the `0` refers to the zero-indexed element in the list of things given to `format()`, i.e., `0[number]` calls `table['number']`.\n",
    "\n",
    "You can also pass the entire dictionary as keyword arguments (which is often the neater alternative). "
   ]
  },
  {
   "cell_type": "code",
   "execution_count": null,
   "id": "54765f0f",
   "metadata": {},
   "outputs": [],
   "source": [
    "print('Number: {number:d}; Square: {square:d}; Cube: {cube:d}'.format(**table))"
   ]
  },
  {
   "cell_type": "markdown",
   "id": "5c41c592",
   "metadata": {},
   "source": [
    "This is particularly useful if you combine formatting with the built-in function `vars()` which returns a dictionary of all local variables. \n",
    "\n",
    "Finally, this can also be used to generate tidily aligned tables. "
   ]
  },
  {
   "cell_type": "code",
   "execution_count": null,
   "id": "39b67069",
   "metadata": {},
   "outputs": [],
   "source": [
    "for x in range(1, 11):\n",
    "    print('{0:2d} {1:3d} {2:4d}'.format(x, x*x, x**3))"
   ]
  },
  {
   "cell_type": "markdown",
   "id": "4e727c4c",
   "metadata": {},
   "source": [
    "### Linebreaks and tabulators\n",
    "\n",
    "There is a final important aspect of formatting (which we will need to create a .csv file), and that is linebreaks. End of Line, End of File, and similar markers are objects in files that are commonly not printed but important for the correct displaying and processing of files. The two markers you will encounter most frequently are `\\r` and `\\n`. They denote \"return carriage\" `\\r` and \"new line\" `\\n`. Think about the operation of a type writer: hit enter to move a line down `\\n` and push the paper back to the beginning of the page `\\r`. Since computers don't have carriages, `\\r` is mainly redundant. However, `\\n` is a very common new line symbol. You can see how important these symbols are by looking at ASCII. `\\n` is symbol number 10 in ASCII and `\\r` is symbol number 13. Unfortunately, because `\\r` is a leftover from type writers, its use is operating system dependent. \n",
    "\n",
    "- Unix and all Unix-like systems (including Mac OS X) only use `\\n` for end-of-line. `\\r` means nothing special. As a consequence many programming languages copy this convention and will adjust to/from operating system specific end-of-line sequences when needed. \n",
    "- older Mac systems (pre OS X) use `\\r` as end-of-line and `\\n` means nothing special\n",
    "- Windows and many old operating systems use `\\r\\n` in this order. This is because electromechanical teletype-like terminals use `\\r` to command the carriage back to the leftmost stop (a slow operation) and `\\n` to roll the roller up one line (a fast operation). By using `\\r\\n` the roller can move up while the carriage is still moving left. \n",
    "- Character-mode terminals (typically emulating printing terminals) `\\r` and `\\n` act as \"move cursor all the way left\" and \"move cursor down\" respectively, i.e., both are necessary even though there is no carriage or roller. \n",
    "\n",
    "In practice, this means you should use `\\n` to force a new line and expect the underlying runtime to handle any weird operating systems (Windows). However, when it comes to reading from files, you will encounter `\\r` depending on the operating system. \n",
    "\n",
    "Another common symbol of this type is `\\t` which adds a tabulator. "
   ]
  },
  {
   "cell_type": "code",
   "execution_count": null,
   "id": "231a97df",
   "metadata": {},
   "outputs": [],
   "source": [
    "print('This is some text with linebreaks.\\nThis is a new line.\\n\\nAnd above is an empty line.\\tThis was a tabulator.')"
   ]
  },
  {
   "cell_type": "markdown",
   "id": "b9ca7afb",
   "metadata": {},
   "source": [
    "## Input formatting\n",
    "\n",
    "Technically, we have all we need (with the exception of actually handling a file), to store data in a .csv file. However, before we discuss file handline, let us quickly look at input formatting, i.e., how to turn the data received from a plain text file into the format that we need them in. \n",
    "\n",
    "Usually, we obtain input data in string format. This means, we want to process any incoming data into the data types we want them to be in. To this end, we can use the built-in functions `int()`, `float()`, `list()`, `set()`, and so on. "
   ]
  },
  {
   "cell_type": "code",
   "execution_count": null,
   "id": "bbcade42",
   "metadata": {},
   "outputs": [],
   "source": [
    "a = int(\"5\")\n",
    "b = float(\"1e-3\")\n",
    "c = list(\"12345\")\n",
    "d = set(\"1223\")\n",
    "print(a)\n",
    "print(b)\n",
    "print(c)\n",
    "print(d) # note the unordered nature of a set"
   ]
  },
  {
   "cell_type": "markdown",
   "id": "0efd869f",
   "metadata": {},
   "source": [
    "However, empty spaces and end-of-line markers can cause problems during these conversions. To remove any of these, you can use the `strip()` method."
   ]
  },
  {
   "cell_type": "code",
   "execution_count": null,
   "id": "ce4f689b",
   "metadata": {},
   "outputs": [],
   "source": [
    "in_string = \"   text \\n\"\n",
    "print(in_string)\n",
    "print(in_string)\n",
    "\n",
    "stripped_string = in_string.strip()\n",
    "\n",
    "print(stripped_string)\n",
    "print(stripped_string)"
   ]
  },
  {
   "cell_type": "markdown",
   "id": "3201abc0",
   "metadata": {},
   "source": [
    "Note how the leading empty space and the linebreak was removed. We can also use other symbols to be stripped by explicitly listing all symbols we want to strip. By default it strips empty spaces (including tabulators), `\\r`, `\\n`, and all file delimiters such as End of File which we haven't discussed."
   ]
  },
  {
   "cell_type": "code",
   "execution_count": null,
   "id": "ddeed5b7",
   "metadata": {},
   "outputs": [],
   "source": [
    "new_in_string = \"..a.aa..rea...asd...42..43...adfaae.ad.\"\n",
    "new_stripped_string = new_in_string.strip('.aersdf')\n",
    "print(new_stripped_string)"
   ]
  },
  {
   "cell_type": "markdown",
   "id": "6d6addfb",
   "metadata": {},
   "source": [
    "Note that, although we said to strip dots, it only removed them from the beginning and end of the string. \n",
    "\n",
    "Furthermore, explicitly defining what should be stripped will overwrite the default behaviour. So, if we had a `\\n` at the end, then `\\n` and everything between it and the 3 would remain in the string. "
   ]
  },
  {
   "cell_type": "code",
   "execution_count": null,
   "id": "6dbdd908",
   "metadata": {},
   "outputs": [],
   "source": [
    "new_in_string = \"..a.aa..rea...asd...42..43...adfaae.ad.\\n\"\n",
    "new_stripped_string = new_in_string.strip('.aersdf')\n",
    "print(new_stripped_string)"
   ]
  },
  {
   "cell_type": "markdown",
   "id": "ffe6f40b",
   "metadata": {},
   "source": [
    "## Reading and Writing files\n",
    "\n",
    "Files are handled as objects in Python. They can be opened with open(filename,mode) where the operating mode \"mode\" has various options. These are\n",
    "- `\"r\"` for read-only mode\n",
    "- `\"w\"` for write-only (this will replace the file if it has content)\n",
    "- `\"a\"` for appending to the existing file\n",
    "- `\"r+\"` and \"w+\" for read and write\n",
    "- `\"a+\"` for read and append\n",
    "- `\"rb\"`, `\"rb+\"`, `\"wb\"`, `\"wb+\"`, `\"ab\"`, `\"ab+\"` does exactly the same as their corresponding versions without the `b` but with the `b` it treats the file in binary format.\n",
    "We can then print into a file using the `write()` method and close the file with `close()`."
   ]
  },
  {
   "cell_type": "code",
   "execution_count": null,
   "id": "bce238e9",
   "metadata": {},
   "outputs": [],
   "source": [
    "f = open(\"test_file\",\"w\")\n",
    "f.write(\"Number,Square,Cube\")\n",
    "f.close()"
   ]
  },
  {
   "cell_type": "markdown",
   "id": "8bda5cf0",
   "metadata": {},
   "source": [
    "This code has generated a new file called test_file and written the text `Number,Square,Cube` into it. It has then closed the file. \n",
    "\n",
    "##### WARNING: Calling `f.write()` without closing the file can result in some of the data not being written to disk! This can happen even if the entire program has exited successfully. \n",
    "\n",
    "It is therefore prudent to code such that the file will be closed automatically."
   ]
  },
  {
   "cell_type": "code",
   "execution_count": null,
   "id": "7ff7088a",
   "metadata": {},
   "outputs": [],
   "source": [
    "with open(\"test_file\",\"a\") as f2:\n",
    "    f2.write(\"\\n1,1,1\")\n",
    "# We can check that the file is indeed closed now\n",
    "print(f2.closed)"
   ]
  },
  {
   "cell_type": "markdown",
   "id": "8ae67f9b",
   "metadata": {},
   "source": [
    "Note that in Python, most objects that need to be closed have their own context manager. Context managers are important for dealing with large and complicated data or structures because they allow you to allocate and release resources precisely when you want to and they provide a lot of functionality regarding exception handling. Until you progress much further into your Python career, files are likely the only data structures you will encounter that have a context manager (or at least where you want to make use of the context manager). As such, we will not discuss them in detail here, but more information can be found in the Python documentation.\n",
    "\n",
    "https://docs.python.org/3/library/contextlib.html\n",
    "\n",
    "The key message here is that the syntax `with ... as ...:` allows you to make use of that context manager without having to think about the specifics. Use it! \n",
    "\n",
    "In order to read a file, we have mutliple options. We may read the entire file at once with `read()`, read a single line (until the next `\\n`) with `readline()`, or read all lines with `readlines()`. "
   ]
  },
  {
   "cell_type": "code",
   "execution_count": null,
   "id": "d056a50d",
   "metadata": {},
   "outputs": [],
   "source": [
    "with open(\"test_file\",\"r\") as f:\n",
    "    print(f.read())\n",
    "    \n",
    "print(\"\\n\\n\") # adding some space in the output\n",
    "\n",
    "with open(\"test_file\",\"r\") as f:\n",
    "    print(f.readline())\n",
    "    print(f.readline())\n",
    "    \n",
    "print(\"\\n\\n\") # adding some space in the output\n",
    "\n",
    "with open(\"test_file\",\"r\") as f:\n",
    "    print(f.readlines())\n"
   ]
  },
  {
   "cell_type": "markdown",
   "id": "1b6e5465",
   "metadata": {},
   "source": [
    "Note the additional space between the two `print(f.readline())` statements. It is there because there is a `\\n` at the end of the `Number,Square,Cube\\n` line and `print()` inserts another `\\n` unless stop it from doing so, e.g. by writing `print(f.readline(),end='')`.\n",
    "\n",
    "`read()` and `readline()` have an optional argument size which is used like `f.read(size=-1)`. If this argument is omitted (like in the example above), negative, or `None`, then the entire document will be read. If the file is larger than your computer's memory, that is your problem to deal with (after you have successfully restarted the machine). Passing a positive integer `n`, will cause only `n` characters (in \"normal\" mode) or `n` bytes (in binary mode) to be read. If the end of the file is reached, then `f.read()` will return the empty string `''`."
   ]
  },
  {
   "cell_type": "code",
   "execution_count": null,
   "id": "fe6bddb3",
   "metadata": {},
   "outputs": [],
   "source": [
    "with open(\"test_file\",\"r\") as f:\n",
    "    print(f.read(5))\n",
    "    print(f.read(5))\n",
    "    print(f.read(5))\n",
    "    print(f.read(5))\n",
    "    print(f.read(5))\n",
    "    print(f.read(5))\n",
    "    print(f.read(5))\n",
    "    print(f.read(5))\n",
    "    print(f.read(5))"
   ]
  },
  {
   "cell_type": "markdown",
   "id": "645c3246",
   "metadata": {},
   "source": [
    "When working with binary files, it is often prudent to enforce binary strings. This can be achieved by leading the string with a lowe case `b`. "
   ]
  },
  {
   "cell_type": "code",
   "execution_count": null,
   "id": "3e8cdf7b",
   "metadata": {},
   "outputs": [],
   "source": [
    "with open(\"binary_test_file\",\"wb\") as f:\n",
    "    f.write(b'0123456789abcdef')"
   ]
  },
  {
   "cell_type": "markdown",
   "id": "570212ab",
   "metadata": {},
   "source": [
    "Note that this will cause an error if you are trying to write a binary string into a file that is not binary. \n",
    "\n",
    "### Writing and reading a .csv file\n",
    "\n",
    "With everything we have, we can now write a .csv file containing squares and cubes. "
   ]
  },
  {
   "cell_type": "code",
   "execution_count": null,
   "id": "9c468d92",
   "metadata": {},
   "outputs": [],
   "source": [
    "with open('squares_cubes.csv','w') as f: # open the file in write-mode with context manager\n",
    "    f.write('Number,Square,Cube')        # insert header \n",
    "    for i in range(1,11):                # loop over numbers to be written into the .csv\n",
    "        f.write(f'\\n{i},{i**2},{i**3}')  # note the linebreak to indicate a new column, and the use of f-strings"
   ]
  },
  {
   "cell_type": "markdown",
   "id": "66dc063c",
   "metadata": {},
   "source": [
    "We have now written a .csv file. Next, let us load the file, split the data and convert all numbers to numbers. Finally we will load them into a numpy array and print it."
   ]
  },
  {
   "cell_type": "code",
   "execution_count": null,
   "id": "82032881",
   "metadata": {},
   "outputs": [],
   "source": [
    "import numpy as np                       # import numpy\n",
    "numbers = []                             # initialise list with data to be added\n",
    "with open('squares_cubes.csv','r') as f: # open the file in read-mode with context manager\n",
    "    f.readline()                         # first line is the header, we can discard it\n",
    "    for line in f.readlines():           # loop over the remaining lines in the file\n",
    "        # append the three numbers i, i**2, i**3 as a list\n",
    "        # use comprehension to strip and split the line at the commas, and turn each value into an integer\n",
    "        numbers.append([int(x) for x in line.strip().split(',')])\n",
    "        \n",
    "numbers_array = np.array(numbers) # turn it into a numpy array\n",
    "print(numbers_array)"
   ]
  },
  {
   "cell_type": "markdown",
   "id": "9192fcdc",
   "metadata": {},
   "source": [
    "## Saving structured data with JSON and Pickle\n",
    "\n",
    "The JSON (JavaScript Object Notation) is a commonly used format for modern data exchange. As such, it is a good starting point for interoperability.\n",
    "\n",
    "The reading and writing to files operations we have seen so far can only deal with string and binary data. If we want to read/write numbers, we need to format them as strings to write and format from string to float/int when reading. If you want to store more complicated data such as nested lists and dictionaries, this becomes much more difficult very quickly. The JSON format automates this process. Writing with JSON is called `dump()`, reading is called `load()`."
   ]
  },
  {
   "cell_type": "code",
   "execution_count": null,
   "id": "6d05b727",
   "metadata": {},
   "outputs": [],
   "source": [
    "import json\n",
    "\n",
    "x = [1,\"two\",[3],{'4':5}]\n",
    "\n",
    "with open(\"json_test_file\",\"w\") as f:\n",
    "    json.dump(x,f)\n",
    "\n",
    "with open(\"json_test_file\",\"r\") as f2:\n",
    "    y = json.load(f2)\n",
    "    \n",
    "print(y)"
   ]
  },
  {
   "cell_type": "markdown",
   "id": "6833d9b2",
   "metadata": {},
   "source": [
    "JSON works by \"serialising\" the data, that is, by turning it into a string and writing it into a file. As such, JSON does exactly the same thing that we have discussed above, except JSON uses a very specific format. This format is useful when storing data that is to be used by another Python programme. In fact, the \"O\" in \"JSON\" stands for \"Object\" which indicates that a large class of objects can be stored using this method. \n",
    "\n",
    "It should be noted that within Python (and many other programming languages) *everything* is an object. With that in mind, it is reasonable to assume that everything can be stored using JSON. However, this is unfortunately not true because there are some limitations based on how JSON \"serialises\" data. As such, not all data (e.g., functions, classes, sets, ...) can be serialized by JSON. To handle these structures, pickle is a good alternative.\n",
    "\n",
    "##### WARNING: Pickle can store executable code. As such, a virus or other malicious software can be pickled and distributed. Only unpickle data you trust! If you use pickle and must ensure that the data is not tempered with, consider signing your data with the keyed-hashing for message authentication library hmac. \n",
    "\n",
    "The basic operation of pickle is identical to JSON. The main difference is that JSON uses text files whereas pickle uses binary files. This usage of binary files means that pickle can store a copy of the executable machine image of your data (e.g. a function) and thus load it again. "
   ]
  },
  {
   "cell_type": "code",
   "execution_count": null,
   "id": "8d6db3f4",
   "metadata": {},
   "outputs": [],
   "source": [
    "import pickle\n",
    "\n",
    "def square(x):\n",
    "    return x*x\n",
    "\n",
    "with open(\"pickle_test_file\",\"wb\") as f:\n",
    "    pickle.dump(square,f)\n",
    "\n",
    "with open(\"pickle_test_file\",\"rb\") as f2:\n",
    "    func = pickle.load(f2)\n",
    "   \n",
    "print(func)\n",
    "print(func(2))\n"
   ]
  },
  {
   "cell_type": "markdown",
   "id": "37e87292",
   "metadata": {},
   "source": [
    "Of course, saving and loading just a single function is generally not what we want to use pickle for. Instead, we tend to use it on larger structures such as classes. Since classes contain methods, they cannot be serialised via JSON. If we thus consider the `LinearFunction` class from week 5, we could not save it with JSON, but we can use pickle. "
   ]
  },
  {
   "cell_type": "code",
   "execution_count": null,
   "id": "8d2bc89c",
   "metadata": {},
   "outputs": [],
   "source": [
    "# copy class definition from week 5\n",
    "class LinearFunction(object):\n",
    "    '''Linear functions on R'''\n",
    "    \n",
    "    def to_str(g):\n",
    "        '''Returns a string representation of a LinearFunction'''\n",
    "        return str(g.a) +'x + ' + str(g.b);\n",
    "    \n",
    "    def evaluate(g, x):\n",
    "        '''Evaluates the linear function g at the point x and returns g(x)'''\n",
    "        return g.a*x + g.b\n",
    "    \n",
    "    def add(f, g):\n",
    "        '''Returns the sum of two LinearFunctions'''\n",
    "        r = LinearFunction()\n",
    "        r.a = f.a + g.a\n",
    "        r.b = f.b + g.b\n",
    "        return r\n",
    "\n",
    "    def random():\n",
    "        '''Returns a random LinearFunction'''\n",
    "        g = LinearFunction()\n",
    "        g.a = np.random.random()\n",
    "        g.b = np.random.random()\n",
    "        return g    \n",
    "    \n",
    "    def scale(f, c):\n",
    "        '''Scales the LinearFunction by a factor c'''\n",
    "        f.a = c*f.a\n",
    "        f.b = c*f.b\n",
    "    \n",
    "    def random_list(n):\n",
    "        '''Returns a list of n random LinearFunctions'''\n",
    "        lst = []\n",
    "        for i in range(n):\n",
    "            lst.append(LinearFunction.random())    \n",
    "        return lst\n",
    "    \n",
    "# save class with pickle\n",
    "with open(\"pickle_class_file\",\"wb\") as f:\n",
    "    pickle.dump(LinearFunction,f)\n",
    "\n",
    "# load it with a different name, so that calling it won't call the class defined above\n",
    "with open(\"pickle_class_file\",\"rb\") as f2:\n",
    "    LF_class = pickle.load(f2)\n",
    "   \n",
    "\n",
    "print(LF_class)                              # show the loaded class\n",
    "lin_func = LF_class()                        # define an element of the loaded class\n",
    "print(isinstance(lin_func,LinearFunction))   # show the element is instance of initially defined class"
   ]
  },
  {
   "cell_type": "markdown",
   "id": "e746a0bf",
   "metadata": {},
   "source": [
    "\n",
    "# Check your understanding\n",
    "\n",
    "##### Question 1\n",
    "In separated value files such as .csv, what does the first row in the file typically contain?\n",
    "```\n",
    "A The author of the table data\n",
    "B The column names of the data\n",
    "C The source of the data\n",
    "D Notes about the table data\n",
    "```\n",
    "\n",
    "##### Question 2\n",
    "In a .csv file, how do you separate columns? How do you separate rows?\n",
    "\n",
    "##### Question 3\n",
    "Given the file `numbers.txt`, which of the following is the correct way to open the file exclusively for reading as a text file? \n",
    "```\n",
    "A open('numbers.txt')\n",
    "B open('numbers.txt', 'w')\n",
    "C open('numbers.txt', 'r')\n",
    "D open('numbers.txt', 'rb')\n",
    "E open('numbers.txt', 'wb')\n",
    "```\n",
    "\n",
    "##### Question 4\n",
    "Whenever possible, what is the recommended way to ensure that a file object is properly closed after usage?\n",
    "```\n",
    "A By using the with statement\n",
    "B By using the try/finally block\n",
    "C Making sure that you use the .close() method before the end of the script\n",
    "D It doesn’t matter\n",
    "```\n",
    "\n",
    "##### Question 5\n",
    "When reading a file using the file object, what method is best for reading the entire file into a single string?\n",
    "```\n",
    "A .readline()\n",
    "B .readlines()\n",
    "C .read_file_to_str()\n",
    "D .read()\n",
    "```\n",
    "\n",
    "```\n",
    "\n",
    "\n",
    "\n",
    "\n",
    "\n",
    "\n",
    "\n",
    "\n",
    "\n",
    "\n",
    "\n",
    "\n",
    "\n",
    "\n",
    "\n",
    "\n",
    "\n",
    "\n",
    "\n",
    "\n",
    "\n",
    "\n",
    "\n",
    "```\n",
    "\n",
    "# Answers\n",
    "Q1: B\n",
    "Q2: columns with a comma `,` and rows with a newline symbol `\\n`\n",
    "Q3: C\n",
    "Q4: A\n",
    "Q5: D"
   ]
  }
 ],
 "metadata": {
  "kernelspec": {
   "display_name": "Python 3",
   "language": "python",
   "name": "python3"
  },
  "language_info": {
   "codemirror_mode": {
    "name": "ipython",
    "version": 3
   },
   "file_extension": ".py",
   "mimetype": "text/x-python",
   "name": "python",
   "nbconvert_exporter": "python",
   "pygments_lexer": "ipython3",
   "version": "3.8.10"
  }
 },
 "nbformat": 4,
 "nbformat_minor": 5
}
