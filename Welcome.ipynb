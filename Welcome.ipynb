{
 "cells": [
  {
   "cell_type": "markdown",
   "metadata": {
    "deletable": false,
    "editable": false,
    "run_control": {
     "frozen": true
    }
   },
   "source": [
    "# MA12003 Programming on the Notable server\n",
    "This notebook contains some general information on how to navigate the course material for MA12003.\n",
    "\n",
    "## First time setup\n",
    "If you have not done so already, please follow the instructions the [First time setup notebook](FirstTimeSetup.ipynb) to set up the course environment on Notable; this is only necessary the first time you log into the Notable server for this course.\n",
    "\n",
    "You should then read the rest of this notebook, which explains the organisation of the course material. Once you have done this, you can close this notebook, and go to the **<i class=\"fa fa-folder\"></i> / ma12003.git / week01** folder, which contains the first lectures for this unit."
   ]
  },
  {
   "cell_type": "markdown",
   "metadata": {
    "deletable": false,
    "editable": false,
    "run_control": {
     "frozen": true
    }
   },
   "source": [
    "## Navigating the course material\n",
    "### Folders and notebooks\n",
    "After you have followed the instructions in the [First time setup notebook](./FirstTimeSetup.ipynb), you will see the directory structure shown in the following figure:\n",
    "\n",
    "![Root folder on Notable server](./figures/root_folder.png \"Root folder\")\n",
    "\n",
    "Folders are marked with a <i class=\"fa fa-folder-o\"></i> symbol, followed by the name of the folder, such as:\n",
    "\n",
    "&ensp;&ensp;&ensp;&ensp;<i class=\"fa fa-folder-o\"></i> ma12003_workspace\n",
    "\n",
    "You can navigate to a different folder by clicking on it in the list. The name of the current folder is shown at the top. This looks something like this:\n",
    "\n",
    "&ensp;&ensp;&ensp;&ensp;**<i class=\"fa fa-folder\"></i> / ma12003.git / week01**\n",
    "\n",
    "Here <i class=\"fa fa-folder\"></i> is the so-called *root* folder, i.e. the folder at the basis of your directory structure. Clicking on the special folder ''<i class=\"fa fa-folder-o\"></i> ..'' takes you back to the parent folder. The following figure shows an example:\n",
    "\n",
    "![Example of a folder](./figures/folders.svg \"Folder structure\")\n",
    "\n",
    "Try this out to make sure you are confident with navigating the course material.\n",
    "\n",
    "Folders may contain Jupyter notebooks (like this one), those will be marked with a <i class=\"fa fa-book\"></i> symbol and a filename which ends in `.ipynb` (a shorthand for *''Interactive Python Notebook''*). Here is an example:\n",
    "\n",
    "&ensp;&ensp;&ensp;&ensp;<i class=\"fa fa-book\"></i> Lecture_12_StoringNumbers.ipynb\n",
    "\n",
    "### Organisation of the course material\n",
    "#### Lectures and programming exercises\n",
    "The lectures and programming exercises (called *tickables*) for this course are contained in the subdirectories of the folder **<i class=\"fa fa-folder\"></i> / ma12003.git**. The folder called ''week01'' will contain material for week 1 and so on. Note that you can view and run notebooks in folders of **<i class=\"fa fa-folder\"></i> / ma12003.git**, but **you should not save any work in <i class=\"fa fa-folder\"></i> / ma12003.git or its subfolders that you would like to keep**. The reason for this is that the material in this directory will be updated over the course of the semester; you can pull the latest content with the help of the [UpdateMA12003.ipynb](UpdateMA12003.ipynb) notebook in the root folder. This will overwrite all changes you might have made to files inside the **<i class=\"fa fa-folder\"></i> / ma12003.git** and its subfolders.\n",
    "#### Your working directory\n",
    "You should carry out all your work in the directory **<i class=\"fa fa-folder\"></i> / ma12003_workspace** which is created by the first time setup script above. The setup script will populate the **<i class=\"fa fa-folder\"></i> / ma12003_workspace** with some template files, which you can use as a starting point for your work.\n",
    "\n",
    "When you work with one of these files, for example to implement your own solution to the programming exercises **it is very important that you first  save the file under a different name by clicking on ''File'' $\\rightarrow$ ''Save as...'' in the menu bar**. For example, if the template file is called `Tickable_08_template` you should save it as `Tickable_08_USERNAME` where `USERNAME` is your Bath university username. For example, in my case I would save the file as `Tickable_08_ps2106`."
   ]
  },
  {
   "cell_type": "markdown",
   "metadata": {},
   "source": []
  }
 ],
 "metadata": {
  "kernelspec": {
   "display_name": "Python 3 (ipykernel)",
   "language": "python",
   "name": "python3"
  },
  "language_info": {
   "codemirror_mode": {
    "name": "ipython",
    "version": 3
   },
   "file_extension": ".py",
   "mimetype": "text/x-python",
   "name": "python",
   "nbconvert_exporter": "python",
   "pygments_lexer": "ipython3",
   "version": "3.11.4"
  }
 },
 "nbformat": 4,
 "nbformat_minor": 4
}
