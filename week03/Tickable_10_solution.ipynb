{
 "cells": [
  {
   "cell_type": "markdown",
   "id": "rolled-smart",
   "metadata": {},
   "source": [
    "# Tickable 10 - model solution\n",
    "\n",
    "*&#169; Eike Mueller, University of Bath 2019-2021. This model solution is copyright of Eike Mueller, University of Bath. It is provided exclusively for educational purposes at the University and is to be downloaded or copied for your private study only. Further distribution, e.g. by upload to external repositories, is prohibited.*"
   ]
  },
  {
   "cell_type": "markdown",
   "id": "small-budget",
   "metadata": {},
   "source": [
    "### &#9745; Task 1\n",
    "The implementation of the `mul()` and `add()` functions can be found in the file `polynomial.py`.\n",
    "\n",
    "This file contains two additional functions which make handling of polynomials a bit easier: The function `_simplify()` ensure that the highest order term in polynomials with positive degree is non-zero. This is achieved by recursively chopping off any terms of the from `[0,1]` from the end of the list that stores the polynomial. For example\n",
    "\n",
    "```Python\n",
    "_simplify([[1,3],[-4,7],[0,1],[0,1]])\n",
    "```\n",
    "\n",
    "will return `[[1,3],[-4,7]]`.\n",
    "\n",
    "The function `to_str()` converts a polynomial to a string that can be printed out. For example, for the polynomial\n",
    "\n",
    "$$\n",
    "\\frac{2}{9}+\\frac{1}{4}x+\\frac{2}{3}x^2\n",
    "$$\n",
    "\n",
    "```Python\n",
    "print(polynomial.to_str([[2,9],[1,4],[2,3]]))\n",
    "```\n",
    "\n",
    "will print out\n",
    "\n",
    "```Python\n",
    "+ (2 / 9) * x^0 + (1 / 4) * x^1 + (2 / 3) * x^2\n",
    "```\n",
    "\n",
    "Note that all functions are documented with a docstring, and there is a docstring at the head of the module with general information."
   ]
  },
  {
   "cell_type": "markdown",
   "id": "nonprofit-excess",
   "metadata": {},
   "source": [
    "### &#9745; Task 2\n",
    "See the tests in `test_polynomial.py`."
   ]
  },
  {
   "cell_type": "markdown",
   "id": "necessary-liquid",
   "metadata": {},
   "source": [
    "### &#9745; Task 3\n",
    "#### Task 3a\n",
    "To import the module and run the tests use:"
   ]
  },
  {
   "cell_type": "code",
   "execution_count": null,
   "id": "opened-marsh",
   "metadata": {},
   "outputs": [],
   "source": [
    "import polynomial\n",
    "!pytest -v test_polynomial.py"
   ]
  },
  {
   "cell_type": "markdown",
   "id": "pediatric-reasoning",
   "metadata": {},
   "source": [
    "The `help` command will produce additional information on the module and list the functions it contains. Note that the `_simplify()` function is not listed since it starts with an underscore (`_`)."
   ]
  },
  {
   "cell_type": "code",
   "execution_count": null,
   "id": "important-addition",
   "metadata": {},
   "outputs": [],
   "source": [
    "help(polynomial)"
   ]
  },
  {
   "cell_type": "markdown",
   "id": "congressional-enterprise",
   "metadata": {},
   "source": [
    "#### Task 3b\n",
    "To compute the $n$-th Legendre polynomial we can use the following recursive function:"
   ]
  },
  {
   "cell_type": "code",
   "execution_count": null,
   "id": "unauthorized-shooting",
   "metadata": {},
   "outputs": [],
   "source": [
    "def legendre_poly(n):\n",
    "    '''Compute n-th Legendre polynomial P_n(x)\n",
    "    \n",
    "    :arg n: Polynomial degree n\n",
    "    '''\n",
    "    if n==0:\n",
    "        return [[1,1],]\n",
    "    elif n==1:\n",
    "        return [[0,1],[1,1],]\n",
    "    else:\n",
    "        q_1 = [[0,1],[2*n-1,n]] # polynomial (2n-1)/n*x that multiplies P_{n-1}(x)\n",
    "        q_0 = [[-(n-1),n],]     # polynomial -(n-1)/n that multiplies P_{n-2}(x)\n",
    "        return polynomial.add( polynomial.mul(q_1,legendre_poly(n-1)), polynomial.mul(q_0,legendre_poly(n-2)) )"
   ]
  },
  {
   "cell_type": "markdown",
   "id": "extended-report",
   "metadata": {},
   "source": [
    "(as for the Fibonacci numbers, this recursive implementation becomes inefficient for large values of $n$). Note that by writing `polynomial.add()` etc. we ensure that we use the `mul()` function for polynomials, which is different from the `mul()` function for rational numbers defined in `rational.py`.\n",
    "\n",
    "We find in particular:"
   ]
  },
  {
   "cell_type": "code",
   "execution_count": null,
   "id": "entertaining-candle",
   "metadata": {},
   "outputs": [],
   "source": [
    "print(polynomial.to_str(legendre_poly(10)))"
   ]
  },
  {
   "cell_type": "markdown",
   "id": "entitled-enemy",
   "metadata": {},
   "source": [
    "This implies that\n",
    "\n",
    "$$\n",
    "P_{10}(x) = -\\frac{63}{256} + \\frac{3465}{256}x^2 - \\frac{15015}{128}x^4+\\frac{45045}{128}x^6 - \\frac{109395}{256}x^8 + \\frac{46189}{256}x^{10}\n",
    "$$"
   ]
  },
  {
   "cell_type": "markdown",
   "id": "purple-tutorial",
   "metadata": {},
   "source": [
    "### Other things to try out\n",
    "Functions for evaluating and integrating polynomials are implemented in `polynomial.py`, which also contains tests for these functions.\n",
    "\n",
    "To check the orthogonality relation we can proceed as follows for given degrees $n$, $m$:\n",
    "\n",
    "* Compute $P_n(x)$ and $P_m(x)$ with `legendre_polynomial()`\n",
    "* Multiply these two polynomials with the `mul()` function to obtain a polynomial $q_{n,m}(x)$\n",
    "* Use the `integrate()` function to integrate $q_{n,m}(x)$. This results in a polynomial $\\tilde{Q}_{n,m}(x)$.\n",
    "* Use the `mul()` function to multiply this polynomial $\\tilde{Q}_{n,m}(x)$ by the zero-order polynomial $\\frac{2n+1}{2}$ to obtain $Q_{n,m}(x)$.\n",
    "* Evaluate $Q_{n,m}(x)$ at $x=1$ and $x=-1$ with the `evaluate()` function to obtain the final result\n",
    "$$\n",
    "\\Omega_{n,m} = Q_{n,m}(1) - Q_{n,m}(-1)=\\frac{2n+1}{2}\\int_{-1}^{1} P_n(x) P_m(x)\\;dx\n",
    "$$\n",
    "\n",
    "The following code computes $Q_{n,m}$ and prints out the results in a table."
   ]
  },
  {
   "cell_type": "code",
   "execution_count": null,
   "id": "respective-sleep",
   "metadata": {},
   "outputs": [],
   "source": [
    "import rational\n",
    "\n",
    "for n in range(16):\n",
    "    for m in range(16):\n",
    "        P_n = legendre_poly(n)\n",
    "        P_m = legendre_poly(m)\n",
    "        q_nm = polynomial.mul(P_n,P_m)\n",
    "        tilde_Q_nm = polynomial.integrate(q_nm)\n",
    "        Q_nm = polynomial.mul([[2*n+1,2],],tilde_Q_nm)\n",
    "        Q_nm_p1 = polynomial.evaluate(Q_nm,[+1,1])\n",
    "        Q_nm_m1 = polynomial.evaluate(Q_nm,[-1,1])\n",
    "        r = rational.to_str(rational.add(Q_nm_p1,rational.mul([-1,1],Q_nm_m1)))\n",
    "        print (r,\" \",end=\"\")\n",
    "    print ()"
   ]
  }
 ],
 "metadata": {
  "kernelspec": {
   "display_name": "Python 3",
   "language": "python",
   "name": "python3"
  },
  "language_info": {
   "codemirror_mode": {
    "name": "ipython",
    "version": 3
   },
   "file_extension": ".py",
   "mimetype": "text/x-python",
   "name": "python",
   "nbconvert_exporter": "python",
   "pygments_lexer": "ipython3",
   "version": "3.9.10"
  }
 },
 "nbformat": 4,
 "nbformat_minor": 5
}
