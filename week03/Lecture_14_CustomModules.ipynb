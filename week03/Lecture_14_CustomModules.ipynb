{
 "cells": [
  {
   "cell_type": "markdown",
   "id": "pharmaceutical-walter",
   "metadata": {},
   "source": [
    "<div style=\"text-align:right;color:blue\">version id: __VERSION_ID__</div>\n",
    "\n",
    "# Writing custom modules\n",
    "In the last semester we have seen how we can use functions to implement algorithms that we want to execute repeatedly. However, a function will only do exactly one thing. What if we want to collect several functions that do related things? For example, we might want to write a set of functions for working with rational numbers and collect these in a function library that be used in several applications. In this notebook we will look at how related functions can be collected in a Python module which can then easily be reused later.\n",
    "\n",
    "<hr style=\"height: 2px\">\n",
    "\n",
    "### What you will learn\n",
    "In this notebook we will cover the following topics:\n",
    "\n",
    "* working with rational numbers in Python\n",
    "* Python modules\n",
    "* Documentation and testing modules\n",
    "* Python scripts\n",
    "\n",
    "<hr style=\"height: 2px\">\n",
    "\n",
    "*&#169; Eike Mueller, University of Bath 2019-2024. These lecture notes are copyright of Eike Mueller, University of Bath. They are provided exclusively for educational purposes at the University and are to be downloaded or copied for your private study only. Further distribution, e.g. by upload to external repositories, is prohibited.*"
   ]
  },
  {
   "cell_type": "markdown",
   "id": "becoming-bryan",
   "metadata": {},
   "source": [
    "## Rational numbers\n",
    "Imagine that we want to write a set of Python functions for working with rational numbers. A rational number $q=\\frac{a}{b}$ is defined by its numerator $a$ and its denominator $b$; both $a$ and $b\\ne 0$ are integer numbers. The set of all rational numbers is called $\\mathbb{Q}$. To make the representation in terms of two integers $a$ and $b$ unique, we also assume that\n",
    "\n",
    "* the denominator is positive ($b>1$)\n",
    "* the numerator $a$ and the denominator $b$ have no common factors larger than 1. In other words, their largest common divisor (gcd) is $\\text{gcd}(a,b)=1$. To compute the gcd of two numbers we can use the `gcd()` function from the `math` module:"
   ]
  },
  {
   "cell_type": "code",
   "execution_count": null,
   "id": "formal-niger",
   "metadata": {},
   "outputs": [],
   "source": [
    "import math\n",
    "math.gcd(45,100)"
   ]
  },
  {
   "cell_type": "markdown",
   "id": "regulated-fashion",
   "metadata": {},
   "source": [
    "The rules for adding and multiplying two rational numbers $q=\\frac{a}{b}\\in\\mathbb{Q}$ and $r=\\frac{c}{d}\\in\\mathbb{Q}$ are:\n",
    "\n",
    "$$\n",
    "q\\cdot r = \\frac{a\\cdot c}{b\\cdot d}\\qquad\\text{and}\\qquad q + r = \\frac{a\\cdot d+b\\cdot c}{b\\cdot d}\n",
    "\\qquad(\\dagger)\n",
    "$$"
   ]
  },
  {
   "cell_type": "markdown",
   "id": "cloudy-springfield",
   "metadata": {},
   "source": [
    "### Python implementation\n",
    "In Python, we can represent a rational number $q=\\frac{a}{b}$ as a list $[a,b]$ with two entries $a\\in \\mathbb{Z}$, $b\\in \\mathbb{N}$, $b>0$. This immediately leads to the following two functions which implement the sum and the product of two rational numbers. \n",
    "\n",
    "```Python\n",
    "def mul(p,q):\n",
    "    '''Multiply two rational numbers\n",
    "\n",
    "    Input:\n",
    "      * rational number p = [a,b] (= a/b)\n",
    "      * rational number q = [c,d] (= c/d)\n",
    "\n",
    "    Output:\n",
    "      * rational number r = [e,f] (= e/f) with r = p*q\n",
    "    '''\n",
    "    num_p, denom_p = p\n",
    "    num_q, denom_q = q\n",
    "    num_r = num_p*num_q\n",
    "    denom_r = denom_p*denom_q\n",
    "    return _simplify_rational([num_r,denom_r])\n",
    "\n",
    "def add(p,q):\n",
    "    '''Add two rational numbers\n",
    "\n",
    "    Input:\n",
    "      * rational number p = [a,b] (= a/b)\n",
    "      * rational number q = [c,d] (= c/d)\n",
    "\n",
    "    Output:\n",
    "      * rational number r = [e,f] (=e/f) with r = p + q\n",
    "    '''\n",
    "    num_p, denom_p = p\n",
    "    num_q, denom_q = q\n",
    "    num_r = num_p*denom_q + num_q*denom_p\n",
    "    denom_r = denom_p*denom_q\n",
    "    return _simplify_rational([num_r,denom_r])\n",
    "```\n",
    "\n",
    "The final line in each function calls a function `_simplify_rational()` which ensures that the gcd of the returned numerator and denominator is 1:\n",
    "\n",
    "```Python\n",
    "def _simplify_rational(q):\n",
    "    '''Cancel common integer factors in numerator and denominator\n",
    "\n",
    "    Input:\n",
    "     * rational number q = [a, b] (= a/b)\n",
    "\n",
    "    Output:\n",
    "     * Simplified rational number q = (a'/b') with a' = a/g, b' = b/g where\n",
    "       g = gcd(a,b)\n",
    "    '''\n",
    "    num, denom = q\n",
    "    g = math.gcd(num,denom)\n",
    "    return [num//g,denom//g]\n",
    "```"
   ]
  },
  {
   "cell_type": "markdown",
   "id": "latest-iceland",
   "metadata": {},
   "source": [
    "## Python modules\n",
    "If we implement these functions in a Python notebook, we can only ever use them in this particular notebook, and we have to copy and paste them if we want to use them somewhere else. This is clearly bad style. There is, however, a better solution: We can collect the three functions in a python module which can be loaded into any notebook. For this, we simply save them in a file called `rational.py`. If you go back to the folder containing the present notebook, you will find this file there. Open it now and have a look at the code.\n",
    "\n",
    "Using the module is very easy. All we need to do is import it with the `import` statement, just as we would import for example the numpy library. We can then use any functions from the module by preceding them with the name of this module, i.e. `rational.`. Let's try this out:"
   ]
  },
  {
   "cell_type": "code",
   "execution_count": null,
   "id": "noticed-feelings",
   "metadata": {},
   "outputs": [],
   "source": [
    "import rational\n",
    "p = [1,3]\n",
    "q = [2,5]\n",
    "p_plus_q = rational.add(p,q)\n",
    "p_times_q = rational.mul(p,q)\n",
    "print ('p + q = ',p_plus_q)\n",
    "print ('p * q = ',p_times_q)"
   ]
  },
  {
   "cell_type": "markdown",
   "id": "moral-enhancement",
   "metadata": {},
   "source": [
    "Note that since the function calls are preceded by the module name, two different modules can contain the same function. Just as we usually import the numpy library such that we can use it with the shorthand `np`, it is also possible to re-name a custom module when importing it (this can be useful if the module name is very long):"
   ]
  },
  {
   "cell_type": "code",
   "execution_count": null,
   "id": "entitled-detroit",
   "metadata": {},
   "outputs": [],
   "source": [
    "import rational as ra\n",
    "p = [1,3]\n",
    "q = [2,5]\n",
    "p_plus_q = ra.add(p,q)\n",
    "p_times_q = ra.mul(p,q)"
   ]
  },
  {
   "cell_type": "markdown",
   "id": "conditional-comfort",
   "metadata": {},
   "source": [
    "The only caveat is that Python is only able to import modules which are stored in the current directory or in one of the directories on the [module search path](https://docs.python.org/3/tutorial/modules.html#the-module-search-path). For this course the module search path has been set up correctly.\n",
    "\n",
    "If you look at the file `rational.py` you will see that it contains three additional functions:\n",
    "\n",
    "* `to_str(q)` takes a rational number `q` (given as a list with two entries `[a,b]`) and converts it to a well-formatted string of the form `a / b` which can be printed out. If the denominator is one, only the numerator is printed.\n",
    "* `add_int(n,q)` can be used to add an integer $n$ and a rational number $q=\\frac{a}{b}$\n",
    "* `mul_int(n,q)` can be used to multiply an integer $n$ and a rational number $q=\\frac{a}{b}$\n",
    "\n",
    "We now have a handy little library for doing some non-trivial calculations. Here are some examples:"
   ]
  },
  {
   "cell_type": "code",
   "execution_count": null,
   "id": "unavailable-colors",
   "metadata": {},
   "outputs": [],
   "source": [
    "p = [13,24]\n",
    "q = [-12,7]\n",
    "n = 5\n",
    "print(rational.to_str(p),' + ',rational.to_str(q),' = ',rational.to_str(rational.add(p,q)))\n",
    "print(rational.to_str(p),' * ',rational.to_str(q),' = ',rational.to_str(rational.mul(p,q)))\n",
    "print(str(n),' + ',rational.to_str(p),' = ',rational.to_str(rational.add_int(n,q)))\n",
    "print(str(n),' * ',rational.to_str(p),' = ',rational.to_str(rational.mul_int(n,q)))"
   ]
  },
  {
   "cell_type": "markdown",
   "id": "straight-actor",
   "metadata": {},
   "source": [
    "One thing that is still a little awkward about this is that whereas we can write `t = n + m` if `n` and `m` are integers, we can not write `r = p + q` is `p` and `q` are rational numbers represented by lists. In fact, if we try this we will get the following result:"
   ]
  },
  {
   "cell_type": "code",
   "execution_count": null,
   "id": "canadian-paper",
   "metadata": {},
   "outputs": [],
   "source": [
    "p = [13,24]\n",
    "q = [-12,7]\n",
    "r = p + q\n",
    "print(r)"
   ]
  },
  {
   "cell_type": "markdown",
   "id": "included-travel",
   "metadata": {},
   "source": [
    "This is clearly not what we wanted! The reason is of course that Python does not know that the lists `p` and `q` represent rational numbers. It is also quite awkward that we have to use `rational.add()` for adding two rational numbers but `rational.add_int()` if we want to add a rational number and an integer. In one of the later lectures we will see how these problems can be addressed in an elegant way by using object oriented programming and operator overloading."
   ]
  },
  {
   "cell_type": "markdown",
   "id": "embedded-statistics",
   "metadata": {},
   "source": [
    "## Documenting and testing modules\n",
    "### Module documentation\n",
    "If we look at `rational.py` we find that it starts with a doc-string in triple inverted commas:\n",
    "```Python\n",
    "'''Algebra of rational numbers\n",
    "\n",
    "This module provides functions for multiplying and adding rational numbers.\n",
    "Rational numbers are represented as pairs of integers. For example, the rational\n",
    "number a / b is stored as [a, b].\n",
    "'''\n",
    "```\n",
    "As it is good practice to document functions, modules should also be documented. The doc-string at the beginning of a module is split into a one-line summary, followed by a more detailled description. If we call the Python `help()` function with the module name, the documentation of the module will be printed out:"
   ]
  },
  {
   "cell_type": "code",
   "execution_count": null,
   "id": "inside-alias",
   "metadata": {},
   "outputs": [],
   "source": [
    "help(rational)"
   ]
  },
  {
   "cell_type": "markdown",
   "id": "positive-lemon",
   "metadata": {},
   "source": [
    "As we can see, this includes the docstring for the module as well as documentation of all functions defined in the module. There is one exception, however: functions starting with an underscore, such as `_simplify_rational()` are not included. These are typically auxilliary functions that are 'local' to the module: while they might be used by other functions in the module, they are hidden in the documentation since they are not meant to be called by any user of the module (However, Python is quite relaxed about this and does not stop us from doing this: it is perfectly possible to call `rational._simplify_rational(q)` after importing the module)."
   ]
  },
  {
   "cell_type": "markdown",
   "id": "aerial-cattle",
   "metadata": {},
   "source": [
    "### Testing with pytest\n",
    "As with individual functions, we should test whole modules. For this, we collect a set of tests in another Python file called `test_rational.py`. Have a look at this file, which can be found in the same directory as this script.\n",
    "\n",
    "To run all tests in a particular file we can use the `!pytest` command:"
   ]
  },
  {
   "cell_type": "code",
   "execution_count": null,
   "id": "laden-stupid",
   "metadata": {},
   "outputs": [],
   "source": [
    "!pytest test_rational.py"
   ]
  },
  {
   "cell_type": "markdown",
   "id": "announced-staff",
   "metadata": {},
   "source": [
    "The output can be made a bit more verbose by adding the `-v` flag:"
   ]
  },
  {
   "cell_type": "code",
   "execution_count": null,
   "id": "criminal-holocaust",
   "metadata": {},
   "outputs": [],
   "source": [
    "!pytest -v test_rational.py"
   ]
  },
  {
   "cell_type": "markdown",
   "id": "legitimate-prague",
   "metadata": {},
   "source": [
    "When developing a new module it is a good idea to re-run these tests after any changes to the code."
   ]
  },
  {
   "cell_type": "markdown",
   "id": "mounted-poster",
   "metadata": {},
   "source": [
    "## Standalone Python scripts\n",
    "Developing longer, more complex code in Jupyter notebooks can be quite cumbersome: if the code is split over different cells, we need to remember to execute these cells in the correct order. For this reason it sometimes makes sense to store code as a separate Python script. For this, we can simply save the code in a file with the `.py` extension. Consider the following code, which computes the sum \n",
    "\n",
    "$$\n",
    "1 + \\frac{1}{2} + \\frac{1}{4} + \\frac{1}{8} + \\dots + \\frac{1}{2^{15}}\n",
    "$$\n",
    "\n",
    "```Python\n",
    "q = [1,1]\n",
    "for k in range(1,16):\n",
    "    q = rational.add(q,[1,2**k])\n",
    "print (q)\n",
    "```\n",
    "\n",
    "You can find this code in the script `sum_rational.py` in the same directory as this notebook. Open this file now and have a look at its contents. To execute the code, we simply call pass its contents to the Python interpreter with "
   ]
  },
  {
   "cell_type": "code",
   "execution_count": null,
   "id": "chemical-album",
   "metadata": {},
   "outputs": [],
   "source": [
    "!python sum_rational.py"
   ]
  },
  {
   "cell_type": "markdown",
   "id": "ff2362df",
   "metadata": {},
   "source": [
    "## Check your understanding\n",
    "Answers to the following questions can be found at the very end of this notebook."
   ]
  },
  {
   "cell_type": "markdown",
   "id": "17240380",
   "metadata": {},
   "source": [
    "**Q1**: Which of the following statements is correct:\n",
    "\n",
    "1. A python script stored in the file `my_script.py` can be imported with\n",
    "```Python\n",
    "!python my_script.py\n",
    "```\n",
    "2. A Python module contains several functions that are logically related\n",
    "3. Python modules should be stored in files ending in `.py`\n",
    "4. The documentation of a custom Python module can be displayed with the `help()` function\n",
    "5. All of the above\n",
    "6. None of the above"
   ]
  },
  {
   "cell_type": "markdown",
   "id": "9eeca971",
   "metadata": {},
   "source": [
    "**Q2**: The file `linear_algebra.py` contains the following function for computing the cross-product of two three-dimensional vectors, which are represented as lists:\n",
    "\n",
    "```Python\n",
    "def cross_product(u,v):\n",
    "    w = [u[1]*v[2]-u[2]*v[1],u[2]*v[0]-u[0]*v[2],u[0]*v[1]-u[1]*v[0]]\n",
    "    return w\n",
    "```\n",
    "\n",
    "How can you use this function in your code to compute the cross-product of the two vectors $\\begin{pmatrix}1\\\\2\\\\3\\end{pmatrix}$ and $\\begin{pmatrix}4\\\\5\\\\6\\end{pmatrix}$?\n",
    "\n",
    "1. ```Python\n",
    "import linear_algebra\n",
    "linear_algebra.cross_product([1,2,3],[4,5,6])\n",
    "```\n",
    "\n",
    "2. ```Python\n",
    "import linear_algebra as la\n",
    "linear_algebra.cross_product([1,2,3],[4,5,6])\n",
    "```\n",
    "\n",
    "3. ```Python\n",
    "import linear_algebra as la\n",
    "cross_product([1,2,3],[4,5,6])\n",
    "```\n",
    "\n",
    "4. All of the above\n",
    "\n",
    "5. None of the above"
   ]
  },
  {
   "cell_type": "markdown",
   "id": "fac2b41f",
   "metadata": {},
   "source": [
    "$$\n",
    "{}^{}\n",
    "\\\\[20cm]\n",
    "{}^{}\n",
    "$$"
   ]
  },
  {
   "cell_type": "markdown",
   "id": "297927e8",
   "metadata": {},
   "source": [
    "## Answers to \"Check your Understanding\" questions\n",
    "**Q1**: answer #5, **Q2**: answer #1"
   ]
  }
 ],
 "metadata": {
  "kernelspec": {
   "display_name": "Python 3",
   "language": "python",
   "name": "python3"
  },
  "language_info": {
   "codemirror_mode": {
    "name": "ipython",
    "version": 3
   },
   "file_extension": ".py",
   "mimetype": "text/x-python",
   "name": "python",
   "nbconvert_exporter": "python",
   "pygments_lexer": "ipython3",
   "version": "3.8.10"
  }
 },
 "nbformat": 4,
 "nbformat_minor": 5
}
