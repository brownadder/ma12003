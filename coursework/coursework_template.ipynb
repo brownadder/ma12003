{
 "cells": [
  {
   "attachments": {},
   "cell_type": "markdown",
   "id": "rolled-smart",
   "metadata": {},
   "source": [
    "# MA10276 Programming coursework - Semester 2 supplementary\n",
    "\n",
    "**Before making any changes to this notebook, save it as `coursework_USERNAME.ipynb` where `USERNAME` is your username. You need to save this new file in the `MA10276_workspace` directory.**\n",
    "\n",
    "\n",
    "**DO NOT create any extra cells in this notebook** with the exception of additional cells under the Additional Examples section at the bottom of this file.\n",
    "\n",
    "* Your code should be put in the relevant cell. \n",
    "\n",
    "* Any packages that you need to import should be put in Task 1 cell\n",
    "\n",
    "* Code for Task 1.a, 1.b, 1.c should appear in the Task 1 cell. Running this cell **should not** produce any printed output.\n",
    "\n",
    "* Code for Task 2.a, 2.b should appear in the Task 2 cell. Running this cell **should not** produce any printed output.\n",
    "\n",
    "* The examples provided in Coursework should be put in the relevant cells, e.g. Task 1.a Example cell, Task 1.b Example cell, etc. In particular the examples will produce printed output and **should not** be put in the main cells for Task 1 and Task 2. \n",
    "\n",
    "* You should **NOT** add any additional tests, or prints to Task 1 cell, Task 2 cell, or Example cells described above. \n",
    "\n",
    "* Any additional tests that you ran for checking correctness of your code should be put under the **Additional Examples** section. Note that this is the only section under which you are allowed to add new cells. Note that all cells under **Additional Examples** section will be ignored and **will NOT be assessed**.\n",
    "\n",
    "#### Enter your full name in the following cell:"
   ]
  },
  {
   "attachments": {},
   "cell_type": "markdown",
   "id": "4cc4fb74",
   "metadata": {},
   "source": []
  },
  {
   "attachments": {},
   "cell_type": "markdown",
   "id": "b9aaf2aa",
   "metadata": {},
   "source": [
    "## Task 1"
   ]
  },
  {
   "attachments": {},
   "cell_type": "markdown",
   "id": "2f4c245b",
   "metadata": {},
   "source": [
    "### Task 1 Code\n",
    "Copy the skeletal code for Task 1 in the cell below and complete the implementation of Task 1.a-c as instructed. "
   ]
  },
  {
   "cell_type": "code",
   "execution_count": null,
   "id": "44e47332",
   "metadata": {},
   "outputs": [],
   "source": []
  },
  {
   "attachments": {},
   "cell_type": "markdown",
   "id": "478f4502",
   "metadata": {},
   "source": [
    "### Task 1.a Example\n",
    "\n",
    "Copy the code for Task 1.a Example in the cell below and test to see if it has the required behaviour"
   ]
  },
  {
   "cell_type": "code",
   "execution_count": null,
   "id": "4a87e60a",
   "metadata": {},
   "outputs": [],
   "source": []
  },
  {
   "attachments": {},
   "cell_type": "markdown",
   "id": "265a2a0b",
   "metadata": {},
   "source": [
    "### Task 1.b Example\n",
    "\n",
    "Copy the code for Task 1.b Example in the cell below and test to see if it has the required behaviour"
   ]
  },
  {
   "cell_type": "code",
   "execution_count": null,
   "id": "def9fb75",
   "metadata": {},
   "outputs": [],
   "source": []
  },
  {
   "attachments": {},
   "cell_type": "markdown",
   "id": "831b533d",
   "metadata": {},
   "source": [
    "### Task 1.c Example\n",
    "\n",
    "Copy the code for Task 1.c Example in the cell below and test to see if it has the required behaviour"
   ]
  },
  {
   "cell_type": "code",
   "execution_count": null,
   "id": "5acbf9b6",
   "metadata": {},
   "outputs": [],
   "source": []
  },
  {
   "attachments": {},
   "cell_type": "markdown",
   "id": "ready-grill",
   "metadata": {},
   "source": [
    "## Task 2\n",
    "### Task 2 Code\n",
    "Copy the skeletal code for Task 2 below and complete the implementation of Task 2.a-b as instructed:"
   ]
  },
  {
   "cell_type": "code",
   "execution_count": null,
   "id": "transsexual-mechanism",
   "metadata": {},
   "outputs": [],
   "source": []
  },
  {
   "attachments": {},
   "cell_type": "markdown",
   "id": "f98392d2",
   "metadata": {},
   "source": [
    "### Task 2.a Example\n",
    "\n",
    "Copy the code for Task 2.a Example in the cell below and test to see if it has the required behaviour"
   ]
  },
  {
   "cell_type": "code",
   "execution_count": null,
   "id": "050ce2b6",
   "metadata": {},
   "outputs": [],
   "source": []
  },
  {
   "attachments": {},
   "cell_type": "markdown",
   "id": "8c45d559",
   "metadata": {},
   "source": [
    "### Task 2.b Example\n",
    "\n",
    "Copy the code for Task 2.b Example in the cell below and test to see if it has the required behaviour"
   ]
  },
  {
   "cell_type": "code",
   "execution_count": null,
   "id": "238637b4",
   "metadata": {},
   "outputs": [],
   "source": []
  },
  {
   "attachments": {},
   "cell_type": "markdown",
   "id": "8ef42a6c",
   "metadata": {},
   "source": [
    "## Additional Examples\n",
    "\n",
    "* Any additional examples that you test your code with **can** be provided below. \n",
    "\n",
    "* Note that these are **NOT** a required part of the submission and **WILL NOT BE ASSESSED**. For this reason, if you prefer, you could also delete the examples below before submission and only use the space below for your own tests.\n",
    "\n",
    "* Feel free to add more cells below as required. Reminder: The cells below will be ignored during assessment."
   ]
  },
  {
   "cell_type": "code",
   "execution_count": null,
   "id": "379a390f",
   "metadata": {},
   "outputs": [],
   "source": []
  }
 ],
 "metadata": {
  "kernelspec": {
   "display_name": "Python 3",
   "language": "python",
   "name": "python3"
  },
  "language_info": {
   "codemirror_mode": {
    "name": "ipython",
    "version": 3
   },
   "file_extension": ".py",
   "mimetype": "text/x-python",
   "name": "python",
   "nbconvert_exporter": "python",
   "pygments_lexer": "ipython3",
   "version": "3.8.10"
  }
 },
 "nbformat": 4,
 "nbformat_minor": 5
}
