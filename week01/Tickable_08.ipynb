{
 "cells": [
  {
   "cell_type": "markdown",
   "id": "incorrect-lambda",
   "metadata": {},
   "source": [
    "# Tickable Exercise 8\n",
    "**Set**: Mon 06 Feb 2023\n",
    "\n",
    "**Due**: In your allocated computer lab in week 2\n",
    "\n",
    "In this tickable we will look at the effects of overflow and rounding errors in Python.\n",
    "\n",
    "<hr style=\"height: 2px\">\n",
    "\n",
    "*&#169; Eike Mueller, University of Bath 2019-2021. This problem sheet is copyright of Eike Mueller, University of Bath. It is provided exclusively for educational purposes at the University and is to be downloaded or copied for your private study only. Further distribution, e.g. by upload to external repositories, is prohibited.*"
   ]
  },
  {
   "cell_type": "markdown",
   "id": "dimensional-profile",
   "metadata": {},
   "source": [
    "## Two systems on linear equations\n",
    "Let $0<\\delta< 1$ be a positive number and consider the following two systems of linear equations:\n",
    "$$\n",
    "\\left.\\begin{aligned}\n",
    "x + y  &= 2\\\\\n",
    "x + (1+\\delta)y &= 2\\\\\n",
    "\\end{aligned}\\quad\\right\\}\\qquad \\text{System A}\n",
    "$$\n",
    "and\n",
    "$$\n",
    "\\left.\\begin{aligned}\n",
    "x + y  &= 2\\\\\n",
    "x + (1+\\delta)y &= 2+\\delta\\\\\n",
    "\\end{aligned}\\quad\\right\\}\\qquad \\text{System B}\n",
    "$$\n",
    "Note that for $\\delta \\ll 1$ the right hand sides of the the systems only differ by a very small amount. For example, for $\\delta=0.0001$ the right hand side in the final equation of System B is $2.0001$. \n",
    "\n",
    "Defining the solution vector $\\boldsymbol{u} = \\begin{pmatrix}x\\\\y\\end{pmatrix}$ or system A and the corresponding solution vector $\\boldsymbol{v}$ for system B, the two systems can be written in matrix form as \n",
    "\n",
    "$$\n",
    "\\left.\\begin{aligned}\n",
    "\\underbrace{%\n",
    "\\begin{pmatrix}\n",
    "1 & 1 \\\\\n",
    "1 & 1+\\delta\n",
    "\\end{pmatrix}\n",
    "}_{=:M}\n",
    "\\underbrace{%\n",
    "\\begin{pmatrix}\n",
    "x\\\\y\n",
    "\\end{pmatrix}\n",
    "}_{=:\\boldsymbol{u}}\n",
    "= \n",
    "\\underbrace{%\n",
    "\\begin{pmatrix}\n",
    "2\\\\2\n",
    "\\end{pmatrix}\n",
    "}_{=:\\boldsymbol{a}}\n",
    "\\end{aligned}\\quad\\right\\}\\qquad \\text{System A}\n",
    "$$\n",
    "\n",
    "and\n",
    "\n",
    "$$\n",
    "\\left.\\begin{aligned}\n",
    "\\begin{pmatrix}\n",
    "1 & 1 \\\\\n",
    "1 & 1+\\delta\n",
    "\\end{pmatrix}\n",
    "\\underbrace{\\begin{pmatrix}\n",
    "x\\\\y\n",
    "\\end{pmatrix}\n",
    "}_{=:\\boldsymbol{v}}\n",
    "= \n",
    "\\underbrace{%\n",
    "\\begin{pmatrix}\n",
    "2\\\\2+\\delta\n",
    "\\end{pmatrix}\n",
    "}_{=:\\boldsymbol{b}}\n",
    "\\end{aligned}\\quad\\right\\}\\qquad \\text{System B}\n",
    "$$\n",
    "\n",
    "or in more compact form as $M\\boldsymbol{u}=\\boldsymbol{a}$ (System A) and $M\\boldsymbol{v}=\\boldsymbol{b}$ (System B)."
   ]
  },
  {
   "cell_type": "markdown",
   "id": "cooked-entity",
   "metadata": {},
   "source": [
    "### Solution with numpy\n",
    "In numpy, linear systems of equations of the form $M\\boldsymbol{u}=\\boldsymbol{a}$ can be solved with the `numpy.linalg.solve()` function. If the numpy array `M` stores the $2\\times 2$ matrix $M$ and `a` stores the vector $a$, then\n",
    "\n",
    "```Python\n",
    "import numpy as np\n",
    "u = np.linalg.solve(M,a)\n",
    "```\n",
    "\n",
    "will return the solution. Under the hood numpy applies the Gaussian elimination algorithm, i.e. it will follow the same steps that we would carry out manually."
   ]
  },
  {
   "cell_type": "markdown",
   "id": "opening-criminal",
   "metadata": {},
   "source": [
    "### &#9745; Task 1\n",
    "On a piece of paper, show that System A has the solution $x=2$, $y=0$ whereas System B has the solution $x=y=1$, independent of $\\delta$. Note in particular that for $\\delta\\ll 1$ the solutions differ significantly, even though the right hand sides are almost identical."
   ]
  },
  {
   "cell_type": "markdown",
   "id": "c6ea8736",
   "metadata": {},
   "source": [
    "### &#9745; Task 2\n",
    "Run the following code cell to copy the templates for all tickables for this semester to your `ma10276_workspace` directory:"
   ]
  },
  {
   "cell_type": "code",
   "execution_count": null,
   "id": "bf491a8b",
   "metadata": {},
   "outputs": [],
   "source": [
    "!cp -r ~/courses/.MA10276/templates/* ~/MA10276_workspace/"
   ]
  },
  {
   "cell_type": "markdown",
   "id": "2dad697a",
   "metadata": {},
   "source": [
    "**If you see the following error message, just ignore it, the command will have been executed correctly nevertheless.**\n",
    "```\n",
    "shell-init: error retrieving current directory: getcwd: cannot access parent directories: No such file or directory\n",
    "```"
   ]
  },
  {
   "cell_type": "markdown",
   "id": "mechanical-notification",
   "metadata": {},
   "source": [
    "In your `MA10276_workspace` directory, open the notebook `Tickable_08_template.ipynb` and save it under a different name for the following exercises.\n",
    "\n",
    "Implement a function `solve_systems()` which has as a single parameter the number `delta` and which returns the two solution vectors of the two System A and System B.\n",
    "\n",
    "For example,\n",
    "\n",
    "```Python\n",
    "solution_A, solution_B = solve_systems(0.01)\n",
    "```\n",
    "should return\n",
    "```\n",
    "solution_A = [2. 0.]\n",
    "solution_B = [1. 1.]\n",
    "```"
   ]
  },
  {
   "cell_type": "markdown",
   "id": "chemical-horizon",
   "metadata": {},
   "source": [
    "### &#9745; Task 3\n",
    "#### Task 3a\n",
    "Run your function for $\\delta=0.01$, $\\delta=10^{-6}$, $\\delta=10^{-7}$, $\\delta=10^{-14}$, $\\delta=10^{-15}$ and complete the following table:\n",
    "\n",
    "| value of $\\delta$ | Solution of System A | Solution of System B |\n",
    "| --- | --- | --- |\n",
    "| $0.1$ |  |  |\n",
    "| $10^{-6}$ | | |\n",
    "| $10^{-7}$ | | |\n",
    "| $10^{-8}$ | | |\n",
    "| $10^{-14}$ | | |\n",
    "| $10^{-15}$ | | |\n",
    "\n",
    "What do you observe? Does this agree with your expectations?"
   ]
  },
  {
   "cell_type": "markdown",
   "id": "hybrid-fisher",
   "metadata": {},
   "source": [
    "#### Task 3b\n",
    "By default, numpy stores the entries of real-valued matrices as numbers of type `numpy.float64`, i.e. 64bit floating point numbers. It is also possible to tell numpy to use 32bit floating point format instead, for example:\n",
    "\n",
    "```Python\n",
    "import numpy as np\n",
    "D = np.array([[1.2, 5.8],[-3.3, 0.6]], dtype=np.float32)\n",
    "```\n",
    "\n",
    "Change you code such that the matrix $M$ is stored in 32bit floating point format. Repeat the numerical experiments from Task 3 and create a similar table."
   ]
  },
  {
   "cell_type": "markdown",
   "id": "prompt-directive",
   "metadata": {},
   "source": [
    "### &#9745; Task 4\n",
    "Recall that in semester 1 we wrote two functions for computing the n-th Fibonacci number: `fib_iter` and `fib_rec_mat`. Why do these functions not give the same result when computing $F_{100}$? How can you modify `fib_rec_mat_vec` such that it throws an exception if there is a danger that it triggers an overflow error?"
   ]
  },
  {
   "cell_type": "markdown",
   "id": "still-observer",
   "metadata": {},
   "source": [
    "To gain a tick for this problem you must be prepared to\n",
    "1. show your tutor your implementation of the function `solve_systems()`\n",
    "2. show your tutor the completed tables for Tasks 3a and 3b\n",
    "3. discuss your modified version of `fib_rec_mat_vec` with your tutor"
   ]
  },
  {
   "cell_type": "markdown",
   "id": "approximate-greene",
   "metadata": {},
   "source": [
    "## Other things to try out\n",
    "Write down the inverse $M^{-1}$ of the matrix $M$. For this, recall that the inverse of a $2\\times 2$ matrix $A=\\begin{pmatrix}a & b \\\\ c & d\\end{pmatrix}$ is given as:\n",
    "\n",
    "$$\n",
    "A^{-1} = \\frac{1}{\\det(A)}\\begin{pmatrix}\n",
    "d & -b \\\\ -c & a \n",
    "\\end{pmatrix}\\qquad\\text{with determinant $\\det(A)=ad-bc$}\n",
    "$$\n",
    "\n",
    "Since the product of a matrix and its inverse gives the identity matrix, i.e. $A^{-1}\\circ A = \\begin{pmatrix}1&0\\\\0&1\\end{pmatrix}$, the solution of the two systems can be written as:\n",
    "\n",
    "$$\n",
    "\\boldsymbol{u} = M^{-1}\\boldsymbol{a}\\quad\\text{(System A)}\\qquad\\qquad \\boldsymbol{v} = M^{-1}\\boldsymbol{b}\\quad\\text{(System B)}\n",
    "$$\n",
    "\n",
    "Use this observation to explain the behavior of the two functions in Task 3 for different values of $\\delta$.\n",
    "\n",
    "*Hint: look at the definition of the machine epsilon in the lecture notes*"
   ]
  }
 ],
 "metadata": {
  "kernelspec": {
   "display_name": "Python 3 (ipykernel)",
   "language": "python",
   "name": "python3"
  },
  "language_info": {
   "codemirror_mode": {
    "name": "ipython",
    "version": 3
   },
   "file_extension": ".py",
   "mimetype": "text/x-python",
   "name": "python",
   "nbconvert_exporter": "python",
   "pygments_lexer": "ipython3",
   "version": "3.8.12"
  }
 },
 "nbformat": 4,
 "nbformat_minor": 5
}
