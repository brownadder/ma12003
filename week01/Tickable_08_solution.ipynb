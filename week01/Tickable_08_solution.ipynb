{
 "cells": [
  {
   "cell_type": "markdown",
   "id": "rolled-smart",
   "metadata": {},
   "source": [
    "# Tickable 8 - model solution\n",
    "\n",
    "*&#169; Eike Mueller, University of Bath 2019-2021. This model solution is copyright of Eike Mueller, University of Bath. It is provided exclusively for educational purposes at the University and is to be downloaded or copied for your private study only. Further distribution, e.g. by upload to external repositories, is prohibited.*"
   ]
  },
  {
   "cell_type": "markdown",
   "id": "small-budget",
   "metadata": {},
   "source": [
    "### &#9745; Task 1\n",
    "This is easily shown by inserting the proposed solution into the equations:\n",
    "#### System A:\n",
    "$x=2, y=0$:\n",
    "$$\n",
    "\\begin{aligned}\n",
    "x + y  &= 2 + 0 = 2\\\\\n",
    "x + (1+\\delta)y &= 2 + (1+\\delta)\\cdot 0 = 2\\\\\n",
    "\\end{aligned}\n",
    "$$\n",
    "#### System B:\n",
    "$x=1, y=1$:\n",
    "$$\n",
    "\\begin{aligned}\n",
    "x + y  &= 1 + 1 = 2\\\\\n",
    "x + (1+\\delta)y &= 1 + (1+\\delta)\\cdot 1 = 2+\\delta\\\\\n",
    "\\end{aligned}\n",
    "$$"
   ]
  },
  {
   "cell_type": "markdown",
   "id": "protecting-museum",
   "metadata": {},
   "source": [
    "### &#9745; Task 2\n",
    "The Python function `solve_systems()` can be implemented like this:"
   ]
  },
  {
   "cell_type": "code",
   "execution_count": null,
   "id": "honey-sucking",
   "metadata": {},
   "outputs": [],
   "source": [
    "import numpy as np\n",
    "def solve_systems(delta):\n",
    "    M = np.array([[1,1],[1,1+delta]])\n",
    "    a = np.array([2,2])\n",
    "    b = np.array([2,2+delta])\n",
    "    solution_A = np.linalg.solve(M,a)\n",
    "    solution_B = np.linalg.solve(M,b)\n",
    "    return solution_A, solution_B"
   ]
  },
  {
   "cell_type": "markdown",
   "id": "forbidden-wisdom",
   "metadata": {},
   "source": [
    "For $\\delta=0.01$ we get, as expected:"
   ]
  },
  {
   "cell_type": "code",
   "execution_count": null,
   "id": "distant-sarah",
   "metadata": {},
   "outputs": [],
   "source": [
    "solution_A, solution_B = solve_systems(0.01)\n",
    "print ('solution of system A : ',solution_A)\n",
    "print ('solution of system B : ',solution_B)"
   ]
  },
  {
   "cell_type": "markdown",
   "id": "fiscal-judgment",
   "metadata": {},
   "source": [
    "### &#9745; Task 3\n",
    "To fill the table, we can write a for loop to print out the solutions as follows:"
   ]
  },
  {
   "cell_type": "markdown",
   "id": "necessary-liquid",
   "metadata": {},
   "source": [
    "#### Task 3a"
   ]
  },
  {
   "cell_type": "code",
   "execution_count": null,
   "id": "trying-flooring",
   "metadata": {},
   "outputs": [],
   "source": [
    "for delta in (0.01,1.E-6,1.E-7,1.E-8,1.E-12,1.E-14,1.E-15):\n",
    "    solution_A, solution_B = solve_systems(delta)\n",
    "    print ('delta = ',delta,' : ',solution_A,solution_B)"
   ]
  },
  {
   "cell_type": "markdown",
   "id": "partial-negotiation",
   "metadata": {},
   "source": [
    "We get the following table:\n",
    "\n",
    "| value of $$\\delta$$ | Solution of System A | Solution of System B |\n",
    "| --- | --- | --- |\n",
    "| $$0.1$$ | $$2.\\qquad 0.$$ |  $$1.\\qquad 1.$$ |\n",
    "| $$10^{-6}$$ | $$2.\\qquad 0.$$ |  $$1.\\qquad 1.$$ |\n",
    "| $$10^{-7}$$ | $$2.\\qquad 0.$$ |  $$1.\\qquad 1.$$ |\n",
    "| $$10^{-8}$$ | $$2.\\qquad 0.$$ |  $$1.\\qquad 1.$$ |\n",
    "| $$10^{-14}$$ | $$2.\\qquad 0.$$ |  $$0.97777778 \\qquad 1.02222222$$ |\n",
    "| $$10^{-15}$$ | $$2.\\qquad 0.$$ |  $$1.2\\qquad 0.8$$ |\n",
    "\n",
    "While the solution of System A is correct for all values of $\\delta$, System B is not solved correctly for small $\\delta$. For $\\delta=10^{-14}$ we get a solution is still close to the exact solution, but for $\\delta = 10^{-15}$ the result is completely wrong."
   ]
  },
  {
   "cell_type": "markdown",
   "id": "congressional-enterprise",
   "metadata": {},
   "source": [
    "#### Task 3b\n",
    "The following function is almost identical to `solve_systems()`, but the matrix $M$ and the two vectors $\\boldsymbol{a}$ and $\\boldsymbol{b}$ are stored as 32bit numbers by adding the `dtype=np.float32` parameter to `np.array()`:"
   ]
  },
  {
   "cell_type": "code",
   "execution_count": 3,
   "id": "cooked-voltage",
   "metadata": {},
   "outputs": [],
   "source": [
    "import numpy as np\n",
    "def solve_systems_sp(delta):\n",
    "    M = np.array([[1,1],[1,1+delta]],dtype=np.float32)\n",
    "    a = np.array([2,2],dtype=np.float32)\n",
    "    b = np.array([2,2+delta],dtype=np.float32)\n",
    "    solution_A = np.linalg.solve(M,a)\n",
    "    solution_B = np.linalg.solve(M,b)\n",
    "    return solution_A, solution_B"
   ]
  },
  {
   "cell_type": "markdown",
   "id": "cloudy-legend",
   "metadata": {},
   "source": [
    "Again we can fill the table by calling this function in a for-loop:"
   ]
  },
  {
   "cell_type": "code",
   "execution_count": null,
   "id": "excited-shame",
   "metadata": {},
   "outputs": [],
   "source": [
    "for delta in (0.01,1.E-6,1.E-7,1.E-8,1.E-12,1.E-14,1.E-15):\n",
    "    solution_A, solution_B = solve_systems_sp(delta)\n",
    "    print ('delta = ',delta,' : ',solution_A,solution_B)"
   ]
  },
  {
   "cell_type": "markdown",
   "id": "explicit-cleaning",
   "metadata": {},
   "source": [
    "However, now the behaviour is different: While the solution of both System A and System B is correct for $\\delta=0.01$ and $\\delta=10^{-6}$, so $\\delta=10^{-7}$ we get $x=2, y=0$ for both systems, and this clearly can't be correct. Furthermore, for smaller values of $\\delta$ Python aborts with an error message:\n",
    "\n",
    "```\n",
    "LinAlgError: Singular matrix\n",
    "```\n",
    "\n",
    "A singular matrix is a matrix with determinant 0 which can not be inverted.\n",
    "\n",
    "Although in exact arithmetic the matrix has a non-zero determinant for all values of $\\delta$, this is not true in floating point arithmetic. Because of rounding errors in the computation of the matrix determinant, Python believes that the matrix has a zero determinant and refuses to invert it."
   ]
  },
  {
   "cell_type": "markdown",
   "id": "comparative-russia",
   "metadata": {},
   "source": [
    "### &#9745; Task 4\n",
    "We get the following results why trying to compute $F_{100}$ with `fib_iter` and `fib_rec_mat`:"
   ]
  },
  {
   "cell_type": "code",
   "execution_count": 1,
   "id": "academic-vietnamese",
   "metadata": {},
   "outputs": [
    {
     "name": "stdout",
     "output_type": "stream",
     "text": [
      "F_{1000} [fib_iter]    =  354224848179261915075\n",
      "F_{1000} [fib_rec_mat] =  3736710778780434371\n"
     ]
    }
   ],
   "source": [
    "from model_solutions import fib_iter, fib_rec_mat\n",
    "print('F_{1000} [fib_iter]    = ',fib_iter(100))\n",
    "print('F_{1000} [fib_rec_mat] = ',fib_rec_mat(100))"
   ]
  },
  {
   "cell_type": "markdown",
   "id": "chubby-mentor",
   "metadata": {},
   "source": [
    "The result obtained with `fib_rec_mat` is incorrect. This is because `fib_rec_mat_vec` uses repeated multiplication with a numpy matrix to construct the vector $\\boldsymbol{f}_n=\\begin{pmatrix}F_n\\\\F_{n-1}\\end{pmatrix}$. Since the entries of the matrix are of type `np.int64`, this will generate overflow errors of they are larger than $2^{63}-1$. To address this error, we can can check whether one of the entries of the vector $\\boldsymbol{f}_n$ is larger than $2^{62}-1$, and trigger an exception if this is the case. Here is a modified implementation which takes this into account:"
   ]
  },
  {
   "cell_type": "code",
   "execution_count": null,
   "id": "administrative-permit",
   "metadata": {},
   "outputs": [],
   "source": [
    "import numpy as np\n",
    "def fib_rec_mat_vec_with_overflow_handling(n):\n",
    "    '''Compute the n-th Fibonacci vector (F_n, F_{n-1})\n",
    "\n",
    "    input: Number n\n",
    "    output: n-th Fibonacci vector (F_n, F_{n-1})\n",
    "    '''\n",
    "    if not (n == int(n)):\n",
    "        raise Exception('Fibonacci number F_n not defined for non-integer values')\n",
    "    elif (n < 0):\n",
    "        raise Exception('Fibonacci number F_n not defined for negative values')\n",
    "    elif (n == 0):\n",
    "        return np.array([0,1])\n",
    "    else:\n",
    "        A_fib = np.array([[1,1],[1,0]])\n",
    "        f_n = fib_rec_mat_vec_with_overflow_handling(n-1)\n",
    "        if (f_n[0]>2**62-1) or (f_n[1]>2**62-1):\n",
    "            raise Exception('Warning: potential overflow error')\n",
    "        return A_fib@f_n\n",
    "    \n",
    "def fib_rec_mat_with_overflow_handling(n):\n",
    "    '''Compute the n-th Fibonacci number by extracting the first component\n",
    "    of the n-th Fibonacci vector (F_n, F_{n-1})\n",
    "\n",
    "    input: Number n\n",
    "    output: n-th Fibonacci number F_n\n",
    "    '''\n",
    "    if not (n == int(n)):\n",
    "        raise Exception('Fibonacci number F_n not defined for non-integer values')\n",
    "    elif (n < 0):\n",
    "        raise Exception('Fibonacci number F_n not defined for negative values')\n",
    "    f_fib = fib_rec_mat_vec_with_overflow_handling(n)\n",
    "    return f_fib[0]"
   ]
  },
  {
   "cell_type": "markdown",
   "id": "stone-constraint",
   "metadata": {},
   "source": [
    "Instead of quietly returning an incorrect result, this implementation now aborts with a warning:"
   ]
  },
  {
   "cell_type": "code",
   "execution_count": null,
   "id": "affected-triple",
   "metadata": {},
   "outputs": [],
   "source": [
    "fib_rec_mat_with_overflow_handling(100)"
   ]
  },
  {
   "cell_type": "markdown",
   "id": "powerful-integrity",
   "metadata": {},
   "source": [
    "## Other things to try out\n",
    "The determinant of the matrix $M$ is $\\det(M) = 1\\cdot (1+\\delta) - 1 \\cdot 1 = (1+\\delta) - 1$. In exact arithmetic this reduces to $\\delta$, but if $\\delta$ is smaller than the machine epsilon, $1+\\delta$ will be rounded to $1$, so the determinant becomes $0$ and Python thinks that the matrix is singular. This explains the error message in Task 3b: For single precision (32bit) floating point numbers $\\epsilon_{\\text{mach}}^{(\\text{sp})}=2^{-24}\\approx5.58\\cdot 10^{-8}>\\delta$ for $\\delta\\le 10^{-8}$. We do not encounter this problem in Task 3a, since for double precision (64bit) floating point numbers $\\epsilon_{\\text{mach}}^{(\\text{sp})}=2^{-53}\\approx1.11\\cdot 10^{-16}<\\delta$ for all $\\delta\\ge 10^{-15}$.\n",
    "\n",
    "In floating point arithmetic, $1+\\delta$ will be represented by some number $1+\\delta'$, where usually $\\delta'\\ne\\delta$, but $\\delta'\\approx \\delta$. The *relative* difference between $\\delta'$ and $\\delta$ increases for small values of $\\delta$. Bearing this in mind, the inverse of the matrix $M$ is (in floating point arithmetic):\n",
    "\n",
    "$$\n",
    "M^{-1} = \\frac{1}{\\delta'}\n",
    "\\begin{pmatrix}\n",
    "1+\\delta' & -1 \\\\\n",
    "-1 & 1\n",
    "\\end{pmatrix}\n",
    "$$\n",
    "\n",
    "This gives the following solutions for the two systems:\n",
    "#### System A\n",
    "$$\n",
    "\\begin{pmatrix}\n",
    "x\\\\y\n",
    "\\end{pmatrix}\n",
    "=\n",
    "\\frac{1}{\\delta'}\n",
    "\\begin{pmatrix}\n",
    "1+\\delta' & -1 \\\\\n",
    "-1 & 1\n",
    "\\end{pmatrix}\n",
    "\\begin{pmatrix}\n",
    "2\\\\2\n",
    "\\end{pmatrix}\n",
    "=\n",
    "\\frac{1}{\\delta'}\n",
    "\\begin{pmatrix}\n",
    "(1+\\delta')\\cdot 2 - 1\\cdot 2 \\\\\n",
    "- 2\n",
    "\\end{pmatrix}\n",
    "=\n",
    "\\frac{1}{\\delta'}\n",
    "\\begin{pmatrix}\n",
    "2\\cdot(1+\\delta') - 1\\cdot 2 \\\\\n",
    "-2 + 2\n",
    "\\end{pmatrix}\n",
    "=\n",
    "\\begin{pmatrix}\n",
    "2 \\\\\n",
    "0\n",
    "\\end{pmatrix}\n",
    "$$\n",
    "\n",
    "We always get the correct solution $x=2,y=0$, irrespective of the value of  $\\delta$.\n",
    "\n",
    "#### System B\n",
    "When solving this system, we need to bear in mind that the value of $2+\\delta$ on the right hand side of the second equation gets rounded to $2+\\delta''$ where $\\delta''\\approx \\delta$, but (in general) $\\delta''\\ne \\delta$ and $\\delta''\\ne \\delta'$. Again, the *relative* error between $\\delta''$ and $\\delta$ increases for small values of $\\delta$. In floating point arithmetic this results in the following solution of the System B:\n",
    "\n",
    "$$\n",
    "\\begin{pmatrix}\n",
    "x\\\\y\n",
    "\\end{pmatrix}\n",
    "=\n",
    "\\frac{1}{\\delta'}\n",
    "\\begin{pmatrix}\n",
    "1+\\delta' & -1 \\\\\n",
    "-1 & 1\n",
    "\\end{pmatrix}\n",
    "\\begin{pmatrix}\n",
    "2\\\\2+\\delta''\n",
    "\\end{pmatrix}\n",
    "=\n",
    "\\frac{1}{\\delta'}\n",
    "\\begin{pmatrix}\n",
    "(1+\\delta')\\cdot 2 - 1\\cdot (2+\\delta'') \\\\\n",
    "-2 + (2+\\delta'')\n",
    "\\end{pmatrix}\n",
    "=\n",
    "\\frac{1}{\\delta'}\n",
    "\\begin{pmatrix}\n",
    "2\\delta' - \\delta'' \\\\\n",
    "\\delta''\n",
    "\\end{pmatrix}\n",
    "=\n",
    "\\begin{pmatrix}\n",
    "(2\\delta' - \\delta'')/\\delta' \\\\\n",
    "\\delta''/\\delta'\n",
    "\\end{pmatrix}\n",
    "\\ne\n",
    "\\begin{pmatrix}\n",
    "1 \\\\\n",
    "1\n",
    "\\end{pmatrix}\n",
    "$$\n",
    "\n",
    "The discrepancy between the numerical solution $x_{\\text{num}}=(2\\delta' - \\delta'')/\\delta'$, $y_{\\text{num}}\\delta''/\\delta'$ and the true solution $x=1,y=1$ increases for small values of $\\delta$, but it is small for large values of $\\delta$ where $\\delta\\approx \\delta'\\approx \\delta''$."
   ]
  }
 ],
 "metadata": {
  "kernelspec": {
   "display_name": "Python 3",
   "language": "python",
   "name": "python3"
  },
  "language_info": {
   "codemirror_mode": {
    "name": "ipython",
    "version": 3
   },
   "file_extension": ".py",
   "mimetype": "text/x-python",
   "name": "python",
   "nbconvert_exporter": "python",
   "pygments_lexer": "ipython3",
   "version": "3.9.8"
  }
 },
 "nbformat": 4,
 "nbformat_minor": 5
}
