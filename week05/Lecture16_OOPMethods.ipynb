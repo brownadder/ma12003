{
 "cells": [
  {
   "cell_type": "markdown",
   "metadata": {},
   "source": [
    "<div style=\"text-align:right;color:blue\">version id: __VERSION_ID__</div>\n",
    "\n",
    "# OOP - Part II: Methods\n"
   ]
  },
  {
   "cell_type": "markdown",
   "metadata": {},
   "source": [
    "In Lecture 15, we saw how we can define a new user defined type (or a class). However, this remains a bare-bones definition of a class. In this approach, the data is stored in the object, however all functionality exists in external functions. The power of Object Oriented Programming stems from not only associating the data with the object, but also the functionality which tells us how these objects *interact*. Thus an object is a collection of data (*attributes*) and functionality (*methods*). \n",
    "\n",
    "<hr style=\"height: 2px\">\n",
    "\n",
    "### What you will learn\n",
    "In this notebook we will cover the following topics:\n",
    "\n",
    "* Defining methods (functions) inside a class\n",
    "* Different ways of calling a method (including calling a method *on* an object)\n",
    "* The *self* notation\n",
    "* Defining and restricting how an instance of a class can be created\n",
    "\n",
    "<hr style=\"height: 2px\">\n",
    "\n",
    "*&#169; Pranav Singh, University of Bath 2021-2024. This problem sheet is copyright of Pranav Singh, University of Bath. It is provided exclusively for educational purposes at the University and is to be downloaded or copied for your private study only. Further distribution, e.g. by upload to external repositories, is prohibited.*"
   ]
  },
  {
   "cell_type": "markdown",
   "metadata": {},
   "source": [
    "## Methods"
   ]
  },
  {
   "cell_type": "markdown",
   "metadata": {},
   "source": [
    "In the previous lecture we created instances of user defined class `LinearFunction` and saw functions such as `to_str_lf`, `evaluate_lf`, `add_lf` and `random_lf` that act on (and/or return) instances of the class `LinearFunction`. \n",
    "\n",
    "In Python, we can also define functions *inside* a class definition. We do this by indenting the function definition. For example we can put the function `myfun` \n",
    "\n",
    "```Python \n",
    "def myfun(x):\n",
    "    return x*x\n",
    "```\n",
    "inside the class `MyClass`\n",
    "```Python \n",
    "class MyClass(object):\n",
    "    def myfun(x):\n",
    "        return x*x\n",
    "```\n",
    "by putting the definition of `myfun` under `MyClass` and indenting it. Functions defined inside a class definition are associated to objects and are called **methods**. \n",
    "\n",
    "Here is a new definition of the class `LinearFunction`, which contains the *methods* `to_str`, `add`, `evaluate`, `random`, and two new methods: \n",
    "\n",
    "* `scale` which scales the `LinearFunction` by a factor `c`. \n",
    "* `random_list` which generates a list of `n` random `LinearFunctions`."
   ]
  },
  {
   "cell_type": "code",
   "execution_count": null,
   "metadata": {},
   "outputs": [],
   "source": [
    "import numpy as np\n",
    "\n",
    "class LinearFunction(object):\n",
    "    '''Linear functions on R'''\n",
    "    \n",
    "    def to_str(g):\n",
    "        '''Returns a string representation of a LinearFunction'''\n",
    "        return str(g.a) +'x + ' + str(g.b);\n",
    "    \n",
    "    def evaluate(g, x):\n",
    "        '''Evaluates the linear function g at the point x and returns g(x)'''\n",
    "        return g.a*x + g.b\n",
    "    \n",
    "    def add(f, g):\n",
    "        '''Returns the sum of two LinearFunctions'''\n",
    "        r = LinearFunction()\n",
    "        r.a = f.a + g.a\n",
    "        r.b = f.b + g.b\n",
    "        return r\n",
    "\n",
    "    def random():\n",
    "        '''Returns a random LinearFunction'''\n",
    "        g = LinearFunction()\n",
    "        g.a = np.random.random()\n",
    "        g.b = np.random.random()\n",
    "        return g    \n",
    "    \n",
    "    def scale(f, c):\n",
    "        '''Scales the LinearFunction by a factor c'''\n",
    "        f.a = c*f.a\n",
    "        f.b = c*f.b\n",
    "    \n",
    "    def random_list(n):\n",
    "        '''Returns a list of n random LinearFunctions'''\n",
    "        lst = []\n",
    "        for i in range(n):\n",
    "            lst.append(LinearFunction.random())    \n",
    "        return lst"
   ]
  },
  {
   "cell_type": "markdown",
   "metadata": {},
   "source": [
    "Note that we have dropped the suffix `_lf` from the names of all methods. This is because the methods are associated with the class `LinearFunction`, and there is no ambiguity whether `add`, `to_str` etc refer to addition of linear functions or rational numbers, for instance.\n",
    "\n",
    "<br> \n",
    "Defining methods (i.e. putting functions inside class definition) has two advantages. \n",
    "\n",
    "* Firstly, just like defining functions inside a module, defining functions inside a class organises them in a neat way. In the above example, the *methods* `evaluate`, `add`, `random` etc. are organised (or stored) inside the class `LinearFunction`."
   ]
  },
  {
   "cell_type": "markdown",
   "metadata": {},
   "source": [
    "### Calling a method using *classname*.*methodname* notation\n",
    "\n",
    "Similar to modules, the method `add` can be accessed using the dot notation as `LinearFunction.add`. Similar remarks apply to other methods such as `to_str` and `evaluate`."
   ]
  },
  {
   "cell_type": "code",
   "execution_count": null,
   "metadata": {},
   "outputs": [],
   "source": [
    "f1 = LinearFunction()\n",
    "f1.a = 5\n",
    "f1.b = 7\n",
    "\n",
    "f2 = LinearFunction()\n",
    "f2.a = 3\n",
    "f2.b = -4\n",
    "\n",
    "f3 = LinearFunction.add(f1, f2)\n",
    "\n",
    "print('The sum of ' + LinearFunction.to_str(f1) + ' and ' + LinearFunction.to_str(f2) + ' is ' + LinearFunction.to_str(f3))"
   ]
  },
  {
   "cell_type": "markdown",
   "metadata": {},
   "source": [
    "We can now evaluate the new linear function `f3` at a point `x`."
   ]
  },
  {
   "cell_type": "code",
   "execution_count": null,
   "metadata": {},
   "outputs": [],
   "source": [
    "LinearFunction.evaluate(f3, 2)"
   ]
  },
  {
   "cell_type": "markdown",
   "metadata": {},
   "source": [
    "Use the above syntax to evaluate `f2` at `x=1`:"
   ]
  },
  {
   "cell_type": "code",
   "execution_count": null,
   "metadata": {},
   "outputs": [],
   "source": []
  },
  {
   "cell_type": "markdown",
   "metadata": {},
   "source": [
    "We can also nest these calls: for example we could sum `f1` and `f2` and evaluate the result at `x=7` without storing the sum of `f1` and `f2` in another variable:"
   ]
  },
  {
   "cell_type": "code",
   "execution_count": null,
   "metadata": {},
   "outputs": [],
   "source": [
    "LinearFunction.evaluate(LinearFunction.add(f1, f2), 7)"
   ]
  },
  {
   "cell_type": "markdown",
   "metadata": {},
   "source": [
    "### Calling a method using *instance*.*methodname* notation"
   ]
  },
  {
   "cell_type": "markdown",
   "metadata": {},
   "source": [
    "* There is another advantage to defining methods (i.e. defining relevant functions inside the class): We can call the methods directly on an object. \n",
    "\n",
    "Let us see this by an example. Instead of calling `LinearFunction.evaluate(f3, 2)` to evaluate `f3` at `2`, we can also call the method `evaluate` directly on `f3`, passing the parameter `2`:"
   ]
  },
  {
   "cell_type": "code",
   "execution_count": null,
   "metadata": {},
   "outputs": [],
   "source": [
    "f3.evaluate(2)"
   ]
  },
  {
   "cell_type": "markdown",
   "metadata": {},
   "source": [
    "Use the above syntax to evaluate `f1` at `x=-5`:"
   ]
  },
  {
   "cell_type": "code",
   "execution_count": null,
   "metadata": {},
   "outputs": [],
   "source": []
  },
  {
   "cell_type": "markdown",
   "metadata": {},
   "source": [
    "Besides being a shorter notation, this is also more natural in the sense that we seem to be performing some operation on (or using) the object `f3`. In this sense, methods are associated with an object and define its functionality.\n",
    "\n",
    "#### What happens when we call a method *on* an object?\n",
    "\n",
    "When we call `f3.evaluate(2)`, Python figures out that `f3` is an object of type `LinearFunction` and calls `LinearFunction.evaluate(f3, 2)`! That is, it calls the method `evaluate` defined inside the class `LinearFunction` and passes `f3` (the object on which the method `evaluate` was called) as the first parameter, while `2` gets passed as the second parameter. "
   ]
  },
  {
   "cell_type": "markdown",
   "metadata": {},
   "source": [
    "Similarly, we can add two linear functions by calling the `add` method on the first linear function, and can create a string representation by calling `to_str` on the resulting object:"
   ]
  },
  {
   "cell_type": "code",
   "execution_count": null,
   "metadata": {},
   "outputs": [],
   "source": [
    "f3 = f1.add(f2)\n",
    "f3.to_str()"
   ]
  },
  {
   "cell_type": "markdown",
   "metadata": {},
   "source": [
    "In the first line of the above code,`f3 = f1.add(f2)`, the method `LinearFunction.add` gets called with first parameter `f1` and the second parameter `f2`. In the second line of the code, `f3.to_str()`, the method `LinearFunction.to_str` gets called with `f3` as the first parameter. The above code is equivalent to the following (longer) version:"
   ]
  },
  {
   "cell_type": "code",
   "execution_count": null,
   "metadata": {},
   "outputs": [],
   "source": [
    "f3 = LinearFunction.add(f1, f2)\n",
    "LinearFunction.to_str(f3)"
   ]
  },
  {
   "cell_type": "markdown",
   "metadata": {},
   "source": [
    "We can also call the `to_str` method directly on the result of `f1.add(f2)` without storing it in the variable `f3`:"
   ]
  },
  {
   "cell_type": "code",
   "execution_count": null,
   "metadata": {},
   "outputs": [],
   "source": [
    "f1.add(f2).to_str()"
   ]
  },
  {
   "cell_type": "markdown",
   "metadata": {},
   "source": [
    "### Methods whose first parameter is not a `LinearFunction`\n",
    "\n",
    "The method `random` does not accept a parameter. Thus, calling `f3.random()` would be equivalent to calling `LinearFunction.random(f3)`, which is invalid and gives an error:"
   ]
  },
  {
   "cell_type": "code",
   "execution_count": null,
   "metadata": {},
   "outputs": [],
   "source": [
    "f3.random()"
   ]
  },
  {
   "cell_type": "markdown",
   "metadata": {},
   "source": [
    "The correct way to call `random` remains `LinearFunction.random()`. This also makes practical sense: The method `random` should generate a new random `LinearFunction` and should not act on (or depend on) `f3` in any sense. "
   ]
  },
  {
   "cell_type": "code",
   "execution_count": null,
   "metadata": {},
   "outputs": [],
   "source": [
    "f4 = LinearFunction.random()\n",
    "f4.to_str()"
   ]
  },
  {
   "cell_type": "markdown",
   "metadata": {},
   "source": [
    "Note that this is not simply because `random` does not accept a parameter. The same issue occurs in the case of the method `random_list`, which expects one parameter `n` but this parameter is expected to be of type `int`. Calling `f3.random_list()` is interpreted as `LinearFunction.random_list(f3)`. Since the method `random_list` expects its parameter to be an `int`, while `f3` is a `LinearFunction`, we get an error!"
   ]
  },
  {
   "cell_type": "code",
   "execution_count": null,
   "metadata": {},
   "outputs": [],
   "source": [
    "f3.random_list()"
   ]
  },
  {
   "cell_type": "markdown",
   "metadata": {},
   "source": [
    "The correct way for calling the method `random_list` is `LinearFunction.random_list(n)`"
   ]
  },
  {
   "cell_type": "code",
   "execution_count": null,
   "metadata": {},
   "outputs": [],
   "source": [
    "rlist = LinearFunction.random_list(5)\n",
    "print(rlist[1].to_str())\n",
    "print(rlist[3].to_str())"
   ]
  },
  {
   "cell_type": "markdown",
   "metadata": {},
   "source": [
    "### A method which modifies the object"
   ]
  },
  {
   "cell_type": "markdown",
   "metadata": {},
   "source": [
    "The method `scale` **does not return anything**. Instead, it *modifies* the object on which it is called!"
   ]
  },
  {
   "cell_type": "code",
   "execution_count": null,
   "metadata": {},
   "outputs": [],
   "source": [
    "print(f3.to_str())"
   ]
  },
  {
   "cell_type": "code",
   "execution_count": null,
   "metadata": {},
   "outputs": [],
   "source": [
    "f3.scale(4)\n",
    "print(f3.to_str())"
   ]
  },
  {
   "cell_type": "markdown",
   "metadata": {},
   "source": [
    "### The _self_ notation"
   ]
  },
  {
   "cell_type": "markdown",
   "metadata": {},
   "source": [
    "Since calling a method on an object (for example `f3.evaluate(...)`) is equivalent to calling that method from the class and passing the object (on which the method was called) as the first parameter (`LinearFunction.evaluate(f3, ...)`), it is common practice to name the first parameter in the definition of the method as *self*. \n",
    "\n",
    "We re-write the class using this _notational convention_."
   ]
  },
  {
   "cell_type": "code",
   "execution_count": null,
   "metadata": {},
   "outputs": [],
   "source": [
    "class LinearFunction(object):\n",
    "    '''Linear functions on R'''\n",
    "    \n",
    "    def to_str(self):\n",
    "        '''Returns a string representation of a LinearFunction'''\n",
    "        return str(self.a) +'x + ' + str(self.b);\n",
    "    \n",
    "    def evaluate(self, x):\n",
    "        '''Evaluates the linear function self at the point x and returns self(x)'''\n",
    "        return self.a*x + self.b\n",
    "    \n",
    "    def add(self, g):\n",
    "        '''Returns the sum of two LinearFunctions'''\n",
    "        r = LinearFunction()\n",
    "        r.a = self.a + g.a\n",
    "        r.b = self.b + g.b\n",
    "        return r\n",
    "\n",
    "    def random():\n",
    "        '''Returns a random LinearFunction'''\n",
    "        g = LinearFunction()\n",
    "        g.a = np.random.random()\n",
    "        g.b = np.random.random()\n",
    "        return g    \n",
    "    \n",
    "    def scale(self, c):\n",
    "        '''Scales the LinearFunction by a factor c'''\n",
    "        self.a = c*self.a\n",
    "        self.b = c*self.b\n",
    "    \n",
    "    def random_list(n):\n",
    "        '''Returns a list of n random LinearFunctions'''\n",
    "        lst = []\n",
    "        for i in range(n):\n",
    "            lst.append(LinearFunction.random())    \n",
    "        return lst"
   ]
  },
  {
   "cell_type": "markdown",
   "metadata": {},
   "source": [
    "As such, this is only a notational convention, so ignoring it does not lead to incorrect code. However, it is a very common convention and you are expected to follow it wherever possible. \n",
    "\n",
    "* This convention reminds us that *self* is the object on which the method was called (assuming we use the *instance*.*methodname* convention for calling the method, eg `f3.evaluate(2)`). \n",
    "\n",
    "* It also helps distinguish the remaining parameters. The parameters following *self* are the parameters that need to be passed when calling *instance*.*methodname* (for instance the value of the parameter `x` needs to be passed when calling `f3.evaluate`).\n",
    "\n",
    "**NOTE**: \n",
    "\n",
    "* We haven't changed the definition of the method `random` since it takes no input. In fact, as we have seen, the `random` method should not be called on an instance of `LinearFunction`!\n",
    "\n",
    "* Similar remark holds about `random_list`, which does not take a `LinearFunction` as an input.\n",
    "\n",
    "* The fact that the methods `random` and `random_list` do not have `self` appearing in their parameters helps us quickly identify methods that should *not* be called on instances of `LinearFunction`!"
   ]
  },
  {
   "cell_type": "markdown",
   "metadata": {},
   "source": [
    "## The \\_\\_init\\_\\_ method"
   ]
  },
  {
   "cell_type": "markdown",
   "metadata": {},
   "source": [
    "There is an issue with our current approach. Although we have been careful to set the attributes `a` and `b` of all instances of `LinearFunction` till now, we may easily forget to do so. For instance consider the linear function `f4` whose attributes `a` and `b` have not been set. Attempting to evaluate this linear function gives us an error."
   ]
  },
  {
   "cell_type": "code",
   "execution_count": null,
   "metadata": {},
   "outputs": [],
   "source": [
    "f4 = LinearFunction()\n",
    "f4.evaluate(2)"
   ]
  },
  {
   "cell_type": "markdown",
   "metadata": {},
   "source": [
    "This is because we had forgotten to set the attributes `a` and `b` of the `LinearFunction` `f4`."
   ]
  },
  {
   "cell_type": "code",
   "execution_count": null,
   "metadata": {},
   "outputs": [],
   "source": [
    "f4.a"
   ]
  },
  {
   "cell_type": "markdown",
   "metadata": {},
   "source": [
    "We would like to enforce that a linear function should always have its coefficients `a` and `b` defined. We can achieve this by defining an `__init__` method which defines (and therefore restricts) how an instance of a class can be created."
   ]
  },
  {
   "cell_type": "code",
   "execution_count": null,
   "metadata": {},
   "outputs": [],
   "source": [
    "class LinearFunction(object):\n",
    "    '''Linear functions on R'''\n",
    "    \n",
    "    def __init__(self, a, b):\n",
    "        '''Creates a LinearFunction ax+b'''\n",
    "        self.a = a;\n",
    "        self.b = b;\n",
    "    \n",
    "    def to_str(self):\n",
    "        '''Returns a string representation of a LinearFunction'''\n",
    "        return str(self.a) +'x + ' + str(self.b);\n",
    "    \n",
    "    def evaluate(self, x):\n",
    "        '''Evaluates the linear function self at the point x and returns self(x)'''\n",
    "        return self.a*x + self.b\n",
    "    \n",
    "    def add(self, g):\n",
    "        '''Returns the sum of two LinearFunctions'''\n",
    "        r = LinearFunction(self.a + g.a, self.b + g.b)\n",
    "        return r\n",
    "\n",
    "    def random():\n",
    "        '''Returns a random LinearFunction'''\n",
    "        g = LinearFunction(np.random.random(), np.random.random())\n",
    "        return g    \n",
    "    \n",
    "    def scale(self, c):\n",
    "        '''Scales the LinearFunction by a factor c'''\n",
    "        self.a = c*self.a\n",
    "        self.b = c*self.b\n",
    "    \n",
    "    def random_list(n):\n",
    "        '''Returns a list of n random LinearFunctions'''\n",
    "        lst = []\n",
    "        for i in range(n):\n",
    "            lst.append(LinearFunction.random())    \n",
    "        return lst"
   ]
  },
  {
   "cell_type": "markdown",
   "metadata": {},
   "source": [
    "Having defined the `__init__` method, we are no longer able to define a `LinearFunction` without specifying the two attributes `a` and `b`."
   ]
  },
  {
   "cell_type": "code",
   "execution_count": null,
   "metadata": {},
   "outputs": [],
   "source": [
    "f5 = LinearFunction()"
   ]
  },
  {
   "cell_type": "markdown",
   "metadata": {},
   "source": [
    "To find out the correct way of creating an instance of type `LinearFunction`, let us use the `?` syntax:"
   ]
  },
  {
   "cell_type": "code",
   "execution_count": null,
   "metadata": {},
   "outputs": [],
   "source": [
    "?LinearFunction"
   ]
  },
  {
   "cell_type": "markdown",
   "metadata": {},
   "source": [
    "The *Init signature* `LinearFunction(a, b)` tells us that in order to create an instance of class `LinearFunction`, we must now call `LinearFunction` (the name of the class) as a function which requires **two parameters** $a$ and $b$. The *Init docstring* tells us that this creates a `LinearFunction` $ax+b$."
   ]
  },
  {
   "cell_type": "code",
   "execution_count": null,
   "metadata": {},
   "outputs": [],
   "source": [
    "f5 = LinearFunction(4, 7)\n",
    "print(f5.evaluate(2))\n",
    "print(f5.to_str())"
   ]
  },
  {
   "cell_type": "markdown",
   "metadata": {},
   "source": [
    "To understand the syntax for the `__init__` method,\n",
    "\n",
    "```Python\n",
    "    def __init__(self, a, b):\n",
    "        '''Creates a LinearFunction ax+b'''\n",
    "        self.a = a;\n",
    "        self.b = b;\n",
    "```\n",
    "\n",
    "let us consider how the object `f5` is instantiated:\n",
    "\n",
    "```Python\n",
    "f5 = LinearFunction(4, 7)\n",
    "```\n",
    "\n",
    "When we call the class name `LinearFunction` as a function with the parameters `4` and `7`, Python calls the `__init__` method defined inside the class `LinearFunction`, \n",
    "with the values of the second and third parameters (`a` and `b`) set to `4` and `7`, respectively. The first parameter of the `__init__` method, `self`, is set to a *newly created instance* of `LinearFunction` which has no attributes to begin with. \n",
    "\n",
    "In the lines\n",
    "```Python\n",
    "self.a = a;\n",
    "self.b = b;\n",
    "```\n",
    "we take the values of the *parameters* `a` and `b` that were passed in the call (`4` and `7` respectively) and store these values in the *attributes* `self.a` and `self.b` of the newly created instance `self`. At this stage `self` is a `LinearFunction` with attributes `a=4` and `b=7`.\n",
    "\n",
    "\n",
    "Even though the `__init__` method does not have a return statement, it returns the newly created (and filled) instance `self` of class `LinearFunction`. As expected, the call `f5 = LinearFunction(4, 5)` stores this newly created instance in `f5`.\n",
    "\n",
    "We can, of course, create an instance and not store it in a variable:"
   ]
  },
  {
   "cell_type": "code",
   "execution_count": null,
   "metadata": {},
   "outputs": [],
   "source": [
    "LinearFunction(-3,5)"
   ]
  },
  {
   "cell_type": "markdown",
   "metadata": {},
   "source": [
    "An instance can also used in method calls directly without assigning them to variables. The following code evaluates $g(x) = -3 x + 5$ at $x = 2$."
   ]
  },
  {
   "cell_type": "code",
   "execution_count": null,
   "metadata": {},
   "outputs": [],
   "source": [
    "LinearFunction(-3,5).evaluate(2)"
   ]
  },
  {
   "cell_type": "markdown",
   "metadata": {},
   "source": [
    "The following call prints this linear function:"
   ]
  },
  {
   "cell_type": "code",
   "execution_count": null,
   "metadata": {},
   "outputs": [],
   "source": [
    "LinearFunction(-3,5).to_str()"
   ]
  },
  {
   "cell_type": "markdown",
   "metadata": {},
   "source": [
    "Note that we can still access or change the values of the attributes `a` and `b` of an instance of `LinearFunction`:"
   ]
  },
  {
   "cell_type": "code",
   "execution_count": null,
   "metadata": {},
   "outputs": [],
   "source": [
    "f5 = LinearFunction(4, 7)\n",
    "print(f5.to_str())\n",
    "f5.a = 1\n",
    "print(f5.to_str())"
   ]
  },
  {
   "cell_type": "markdown",
   "metadata": {},
   "source": [
    "#### Modifying `add` and `random`"
   ]
  },
  {
   "cell_type": "markdown",
   "metadata": {},
   "source": [
    "Note that the older definition of the method `add` will now give an error. Recall the old definition:\n",
    "\n",
    "```Python\n",
    "    def add(self, g):\n",
    "        '''Returns the sum of two LinearFunctions'''\n",
    "        r = LinearFunction()\n",
    "        r.a = self.a + g.a\n",
    "        r.b = self.b + g.b\n",
    "        return r\n",
    "```\n",
    "\n",
    "This is because `r = LinearFunction()` is no longer a valid way of creating an instance of `LinearFunction`. Instead, we use a new definition for `add`.\n",
    "\n",
    "```Python\n",
    "    def add(self, g):\n",
    "        '''Returns the sum of two LinearFunctions'''\n",
    "        r = LinearFunction(self.a + g.a, self.b + g.b)\n",
    "        return r\n",
    "```\n",
    "Here we call `LinearFunction` with two parameters which correspond to values that we wish to assign to `r.a` and `r.b`."
   ]
  },
  {
   "cell_type": "markdown",
   "metadata": {},
   "source": [
    "Similarly, we need to modify the method `random` to use the new way of instantiating linear functions:\n",
    "\n",
    "```Python\n",
    "    def random():\n",
    "        '''Returns a random LinearFunction'''\n",
    "        g = LinearFunction(np.random.random(), np.random.random())\n",
    "        return g    \n",
    "```"
   ]
  },
  {
   "cell_type": "markdown",
   "metadata": {},
   "source": [
    "The following code adds the linear functions $f(x) = 2x-1$ and $g(x)= -3x + 5$ and evaluates the sum at the point $x=9$."
   ]
  },
  {
   "cell_type": "code",
   "execution_count": null,
   "metadata": {},
   "outputs": [],
   "source": [
    "( LinearFunction(2,-1).add(LinearFunction(-3,5)) ).evaluate(9)"
   ]
  },
  {
   "cell_type": "markdown",
   "metadata": {},
   "source": [
    "Alternatively, we could define `f` and `g`, add them, store the result of the addition in a new `LinearFunction` `h`, and then evaluate `h` at $x=9$:"
   ]
  },
  {
   "cell_type": "code",
   "execution_count": null,
   "metadata": {},
   "outputs": [],
   "source": [
    "f = LinearFunction(2,-1)\n",
    "g = LinearFunction(-3,5)\n",
    "h = f.add(g)\n",
    "h.evaluate(9)"
   ]
  },
  {
   "cell_type": "markdown",
   "metadata": {},
   "source": [
    "## Variable number of arguments and multiple ways for instantiation"
   ]
  },
  {
   "cell_type": "markdown",
   "metadata": {},
   "source": [
    "A function can accept a variable number of parameters (also called arguments) using the `*args` notation. For instance consider the following code"
   ]
  },
  {
   "cell_type": "code",
   "execution_count": null,
   "metadata": {},
   "outputs": [],
   "source": [
    "def varinput(*args):\n",
    "    print(type(args))\n",
    "    print(args[0]) \n",
    "    n = len(args)\n",
    "    print(str(n) + ' arguments were passed: '+str(args))\n",
    "    \n",
    "varinput(1,'hello',0.1, (4,5), [1.0,0.1])"
   ]
  },
  {
   "cell_type": "markdown",
   "metadata": {},
   "source": [
    "In the function definition for `varinput`, we only specified one parameter `*args`. However the `*` before the name `args` tells Python to accept a variable number of inputs. Thus were able to pass 5 different inputs `1,'hello',0.1, (4,5), [1.0,0.1]`. \n",
    "\n",
    "The arguments passed in this way are put in a `tuple` with the name `args`. You will learn more information about *tuples* in a later lecture. However, for the purpose of this lecture you should know that they behave very similar to lists. In particular, \n",
    "\n",
    "* elements of the tuple `args` can be accessed just like elements of lists, eg the first element `args[0]` stores the first value passed (`1` in the above example),\n",
    "* we can find out the number of elements in the tuple `args` using `len(args)`,\n",
    "* and we create a string representation of the tuple `args` using `str(args)`."
   ]
  },
  {
   "cell_type": "markdown",
   "metadata": {},
   "source": [
    "### `__init__` method with variable number of arguments"
   ]
  },
  {
   "cell_type": "markdown",
   "metadata": {},
   "source": [
    "We can also allow an `__init__` method to take a variable number of arguments by keeping the *second* argument as `*args`. For example consider the `__init__` method in the following class: "
   ]
  },
  {
   "cell_type": "code",
   "execution_count": null,
   "metadata": {},
   "outputs": [],
   "source": [
    "class myclass(object):\n",
    "    \n",
    "    def __init__(self, *args):\n",
    "        print(type(args))\n",
    "        print(args[0]) \n",
    "        n = len(args)\n",
    "        print(str(n) + ' arguments were passed: '+str(args))\n",
    "        "
   ]
  },
  {
   "cell_type": "code",
   "execution_count": null,
   "metadata": {},
   "outputs": [],
   "source": [
    "a = myclass(1,'hello',0.1, (4,5), [1.0,0.1])"
   ]
  },
  {
   "cell_type": "markdown",
   "metadata": {},
   "source": [
    "We can use variable number of arguments to make the `__init__` method more flexible and allow more than one way of creating instances of `myclass`. It is also very helpful to check the type of each argument using `isinstance`, and use different rules for different types. "
   ]
  },
  {
   "cell_type": "markdown",
   "metadata": {},
   "source": [
    "<br>\n",
    "<br>\n",
    "<br>\n",
    "Consider the following example. "
   ]
  },
  {
   "cell_type": "code",
   "execution_count": null,
   "metadata": {},
   "outputs": [],
   "source": [
    "import numpy as np \n",
    "class Complex(object):\n",
    "    \n",
    "    def __init__(self, *args):\n",
    "        if len(args)==1:\n",
    "            self.re = args[0]\n",
    "            self.im = 0.\n",
    "        else:\n",
    "            self.re = args[0]\n",
    "            self.im = args[1]"
   ]
  },
  {
   "cell_type": "markdown",
   "metadata": {},
   "source": [
    "The above class allows us to create Complex numbers in two ways. Typically, we would expect to create a Complex number by passing two values: the value of the real component and the value of the imaginary component. However, we could also allow creating a Complex number by specifying only one component - the real component. In this case, we assume that the imaginary component is $0$. \n",
    "\n",
    "You can see by the following examples that the above implementation allows us both possibilities:"
   ]
  },
  {
   "cell_type": "code",
   "execution_count": null,
   "metadata": {},
   "outputs": [],
   "source": [
    "c1 = Complex(3, 4)\n",
    "c2 = Complex(0.5)\n",
    "\n",
    "print(str(c1.re) + ' + ' + str(c1.im)+'j')\n",
    "print(str(c2.re) + ' + ' + str(c2.im)+'j')"
   ]
  },
  {
   "cell_type": "markdown",
   "metadata": {},
   "source": [
    "## Check your understanding\n",
    "\n",
    "The solutions to these excercises are provided at the very end of this notebook.\n",
    "\n",
    "**Q1)** What does the following code print:\n",
    "```Python\n",
    "f = LinearFunction(3, 2)\n",
    "g = LinearFunction(-1, -1)\n",
    "f.add(g)\n",
    "print(f.to_str())\n",
    "```\n",
    "\n",
    "a. `3x + 2`\n",
    "\n",
    "b. `-1x + -1`\n",
    "\n",
    "c. `2x + 1`\n",
    "\n",
    "**Q2)** Which of these is a correct way to create a random instance of `LinearFunction` with the name `f`?\n",
    "\n",
    "a.\n",
    "```Python\n",
    "f = random()\n",
    "```\n",
    "\n",
    "b.\n",
    "```Python\n",
    "f = LinearFunction.random(3,2)\n",
    "```\n",
    "\n",
    "c.\n",
    "```Python\n",
    "f = LinearFunction(3, 2)\n",
    "f.random()\n",
    "```\n",
    "\n",
    "d.\n",
    "```Python\n",
    "f = LinearFunction.random()\n",
    "```\n",
    "\n",
    "\n",
    "\n",
    "**Q3)** Let `f` and `g` be defined as follows:\n",
    "```Python\n",
    "f = LinearFunction(3, 2)\n",
    "g = LinearFunction(-1, -1)\n",
    "```\n",
    "Which of the following is invalid and will give an error\n",
    "\n",
    "\n",
    "a.\n",
    "```Python\n",
    "h = f.add(g.scale(3))\n",
    "```\n",
    "\n",
    "b.\n",
    "```Python\n",
    "(f.add(g)).scale(3)\n",
    "```\n",
    "\n",
    "c.\n",
    "```Python\n",
    "f.scale(3)\n",
    "h = f.add(g)\n",
    "```\n",
    "\n",
    "d.\n",
    "```Python\n",
    "h = f.add(g)\n",
    "h.scale(2)\n",
    "```\n",
    "\n",
    "\n",
    "**Q4)** What does the following code print?\n",
    "\n",
    "```Python\n",
    "f = LinearFunction(3, 2)\n",
    "g = LinearFunction(0, 5)\n",
    "\n",
    "f.a = g.b + f.b\n",
    "g.a = f.b - g.b\n",
    "f.b = g.a * f.a\n",
    "g.b = f.a - g.b\n",
    "\n",
    "print(f.add(g).to_str())\n",
    "```\n",
    "\n",
    "a. `3x + 2`\n",
    "\n",
    "b. `4x + -19`\n",
    "\n",
    "c. `3x + 8`\n",
    "\n",
    "d. `-8x + 11`"
   ]
  },
  {
   "cell_type": "markdown",
   "metadata": {},
   "source": [
    "<br>\n",
    "<br>\n",
    "<br>\n",
    "<br>\n",
    "<br>\n",
    "<br>\n",
    "<br>\n",
    "<br>\n",
    "<br>\n",
    "<br>\n",
    "<br>\n",
    "<br>\n",
    "<br>\n",
    "<br>\n",
    "<br>\n",
    "<br>\n",
    "<br>\n",
    "<br>\n",
    "<br>\n",
    "<br>\n",
    "<br>\n",
    "<br>\n",
    "<br>\n",
    "<br>\n",
    "<br>\n",
    "<br>\n",
    "<br>\n",
    "<br>\n",
    "<br>\n",
    "<br>\n",
    "<br>\n",
    "<br>\n",
    "<br>\n",
    "<br>\n",
    "<br>\n",
    "<br>\n",
    "\n",
    "## Solutions to \"Check your understanding\"\n",
    "\n",
    "**Q1)** Answer: a.\n",
    "\n",
    "**Q2)** Answer: d.\n",
    "\n",
    "**Q3)** Answer: a.\n",
    "\n",
    "**Q4)** Answer: b."
   ]
  }
 ],
 "metadata": {
  "kernelspec": {
   "display_name": "Python 3 (ipykernel)",
   "language": "python",
   "name": "python3"
  },
  "language_info": {
   "codemirror_mode": {
    "name": "ipython",
    "version": 3
   },
   "file_extension": ".py",
   "mimetype": "text/x-python",
   "name": "python",
   "nbconvert_exporter": "python",
   "pygments_lexer": "ipython3",
   "version": "3.7.11"
  }
 },
 "nbformat": 4,
 "nbformat_minor": 4
}
