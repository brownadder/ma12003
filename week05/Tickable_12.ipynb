{
 "cells": [
  {
   "attachments": {},
   "cell_type": "markdown",
   "metadata": {},
   "source": [
    "# Tickable Exercise 12\n",
    "**Set**: Mon 4 Mar 2024\n",
    "\n",
    "**Due**: In your allocated computer lab in week 6\n",
    "\n",
    "In this tickable we will look at how to represent algebraic expressions in Python and learn how to use recursion on such expressions.\n",
    "\n",
    "<hr style=\"height: 2px\">\n",
    "\n",
    "*&#169; Pranav Singh, University of Bath 2021-2024. This problem sheet is copyright of Pranav Singh, University of Bath. It is provided exclusively for educational purposes at the University and is to be downloaded or copied for your private study only. Further distribution, e.g. by upload to external repositories, is prohibited.*"
   ]
  },
  {
   "cell_type": "markdown",
   "metadata": {},
   "source": [
    "# Expressions"
   ]
  },
  {
   "cell_type": "markdown",
   "metadata": {},
   "source": [
    "When it comes to mathematical objects in Python, we have mostly found ourselves working with numeric quantities: vectors such as $[3.4, 0.1, 0.0]$, rational numbers such as $3/5$, and matrices such as $[[0, 1], [2, -1]]$. However, in mathematics we are often interested in working directly with expressions such as $x+y$, $x^2-\\frac{1}{x}$, and $x^2 + \\sin(x) - \\frac{\\exp(2 y)}{x}$. Sometimes we are interested in evaluating these functions at specific values of $x$ and $y$ (in which case the result is numeric), but often enough we would like to simply apply *symbolic* operations on expressions (in which case the result is another expression). For instance, we may want to simplify the expression $(x+y)\\cdot \\left(x^2-\\frac{1}{x}\\right)$. \n",
    "\n",
    "In this Tickable, we focus on representing some basic expressions using a user defined type. We say that an *algebraic expression* is either \n",
    "* a number (such as $5$ or $3.14$)\n",
    "* a variable (such as $x, y, \\phi, \\theta$)\n",
    "* a sum of two expressions (such as $\\phi + 1$ or $5 + 0.1$)\n",
    "* a product of two expressions (such as $\\theta \\cdot x$ or $0.1 \\cdot y$)\n",
    "\n",
    "The third and fourth definitions above allow us to construct much more complicated expressions. For instance,\n",
    "\n",
    "* $ ( (\\phi + 1) \\cdot (0.1 \\cdot y) ) + (\\theta \\cdot x) )$\n",
    "* $ ( ((0.1 \\cdot y) + \\phi) + (\\theta \\cdot x) ) \\cdot (x + (5 + 0.1) ) $\n",
    "\n",
    "\n",
    "### Implementing algebraic expressions in Python\n",
    "\n",
    "We would like to create a new user defined type `Expression` which allows us to store (or represent) such algebraic expressions. An instance of this type could represent\n",
    "\n",
    "* a number such as `1.2` or `4` (of type `float` or `int`) stored in an attribute `numericvalue` or\n",
    "\n",
    "* a variable such as `'x'`, `'y'`, or `'theta'` (of type `str`) stored in an attribute `variablename`.\n",
    "\n",
    "These take care of the first two definitions of algebraic expressions. \n",
    "\n",
    "Recall the third and fourth algebraic definitions. Let $e_1$ and $e_2$ be two algebraic expressions, then $e_1 + e_2$ and $e_1 \\cdot e_2$ are also algebraic expressions. The components of the expression $e_1 + e_2$ are $e_1$ (the first *operand*), $e_2$ (the second *operand*), and $+$ (the *operator*, which defines the operation to be performed on the two operands $e_1$ and $e_2$).  \n",
    "\n",
    "$$ \n",
    "\\underbrace{e_1}_{\\text{first operand}} \\overbrace{+}^{\\text{operator}} \\underbrace{e_2}_{\\text{second operand}}\n",
    "$$\n",
    "\n",
    "We label the components of the algebraic expression $e_1 \\cdot e_2$ similarly:\n",
    "\n",
    "$$ \n",
    "\\underbrace{e_1}_{\\text{first operand}} \\overbrace{\\cdot}^{\\text{operator}} \\underbrace{e_2}_{\\text{second operand}}\n",
    "$$\n",
    "\n",
    "To represent such algebraic expressions in Python with the user defined type `Expression`, we need to specify the *attributes* `operand1`, `operand2` and `operator`. Let us say that `expr1` and `expr2` are two instance of `Expression` which represent the algebraic expression $e_1$ and $e_2$ respectively.\n",
    "\n",
    "* The algebraic expressions $e_1 + e_2$ can be represented by an instance of `Expression`. This instance should have an attribute `operator` whose value is `'+'`, an  attribute `operand1` whose value is the `Expression` `expr1`, and an attribute `operand2`, whose value is the `Expression` `expr2`.\n",
    "\n",
    "* Similarly, a product of two other expressions $e_1 \\cdot e_2$ can be represented by an instance of `Expression`, with the attribute `operator` being `'*'`, the attribute `operand1` being `expr1`, and the attribute `operand2` being `expr2`.\n",
    "\n",
    "We would like to create a new user defined type `Expression` which allows us to store (or represent) such expressions by defining an appropriate `__init__` method. "
   ]
  },
  {
   "cell_type": "markdown",
   "metadata": {},
   "source": [
    "### Representing numeric values\n",
    "\n",
    "The expressions $5$ (to be precise, Python representations of the algebraic expression $5$) should be created by calling \n",
    "\n",
    "```Python\n",
    "e5 = Expression(5)\n",
    "```\n",
    "The object `e5` should have an attribute `numericvalue` whose value should be `5`. To achieve this, we have to implement the `__init__` method for the class `Expression` which should store the value `5` in the attribute `numericvalue`. This part of the `__init__` method has been created for you:"
   ]
  },
  {
   "cell_type": "code",
   "execution_count": null,
   "metadata": {},
   "outputs": [],
   "source": [
    "class Expression(object):\n",
    "    '''Algebraic expressions'''\n",
    "    \n",
    "    def __init__(self, *args):\n",
    "        '''Creates a Python representation of an algebraic expression'''\n",
    "        if (len(args) == 1):\n",
    "            if isinstance(args[0], (int, float)):\n",
    "                self.numericvalue = args[0]\n",
    "            \n",
    "    def isnumeric(self):\n",
    "        '''Returns a Boolean value which indicates whether the expression is numeric (5, 0.1 etc)'''\n",
    "        return hasattr(self, 'numericvalue')\n",
    "    \n",
    "    def isvariable(self):\n",
    "        '''Returns a Boolean value which indicates whether the expression is a variable (x, y, phi, theta etc)'''\n",
    "        return hasattr(self, 'variablename')\n",
    "    \n",
    "    def isoperator(self):\n",
    "        '''Returns a Boolean value which indicates whether the expression is an operator acting on operands (phi + 1, theta * x etc)'''\n",
    "        return hasattr(self, 'operator')  "
   ]
  },
  {
   "cell_type": "markdown",
   "metadata": {},
   "source": [
    "You can now create numeric expressions using the following syntax:\n",
    "\n",
    "```Python\n",
    "e5 = Expression(5)\n",
    "e1 = Expression(1)\n",
    "e1by10 = Expression(0.1)\n",
    "```\n",
    "\n",
    "For instance, try the following code:"
   ]
  },
  {
   "cell_type": "code",
   "execution_count": null,
   "metadata": {},
   "outputs": [],
   "source": [
    "e5 = Expression(5)\n",
    "e1 = Expression(1)\n",
    "e1by10 = Expression(0.1)\n",
    "print(e5.numericvalue)\n",
    "print(e5.isnumeric())\n",
    "print(e5.isvariable())\n",
    "print(e5.isoperator())"
   ]
  },
  {
   "cell_type": "markdown",
   "metadata": {},
   "source": [
    "We have also implemented methods `isnumeric`, `isvariable` and `isoperator` which return a Boolean value to indicate whether the expression is numeric, variable or operator (i.e. involves `+` or `*`), respectively. Currently we can only create numeric expressions, but you will extend the `__init__` method to allow creating of other types of expressions later in this tickable.. \n",
    "\n",
    "Note that we have used the `*args` syntax in the definition of `__init__`. Recall from Lecture 16 that this allows us to use variable number of parameters to create instances of `Expression`. This will be useful when we wish to represent expressions such as $\\phi + 1$ by calling `s1 = Expression('sum', phi, e1)` and need to pass $3$ arguments (in addition to `self`), not $1$. "
   ]
  },
  {
   "cell_type": "markdown",
   "metadata": {},
   "source": [
    "### &#9745; Task 1:\n",
    "\n",
    "Extend the `__init__` method in the definition of the class `Expression` such that we can create the expression `x` by calling `x = Expression('x')`. This should store the string `'x'` in the attribute `variablename` of the instance `x`."
   ]
  },
  {
   "cell_type": "markdown",
   "metadata": {},
   "source": [
    "You can now create instances of `Expression` to represent the algebraic expressions $x, y, \\phi, \\theta$ in the following manner:\n",
    "\n",
    "```Python\n",
    "x = Expression('x')\n",
    "y = Expression('y')\n",
    "phi = Expression('phi')\n",
    "theta = Expression('theta')\n",
    "```\n",
    "\n",
    "The objects `x`, `y`, `phi` and `theta` should have an attribute `variablename` whose value should be `'x'`, `'y'`, `'phi'` and `'theta'`, respectively. Try the above code and try printing the value of the attribute `x.variablename` and `phi.variablename`. "
   ]
  },
  {
   "cell_type": "markdown",
   "metadata": {},
   "source": [
    "### &#9745; Task 2:\n",
    "#### Task 2a\n",
    "\n",
    "Let us say that `expr1` and `expr2` are instances of `Expression` which represent the algebraic expressions $e_1$ and $e_2$, respectively.\n",
    "\n",
    "* Extend the `__init__` method so that, we can represent $e_1+e_2$ by `Expression('+', expr1, expr2)`. \n",
    "\n",
    "* Extend the `__init__` method so that, we can represent $e_1 \\cdot e_2$ by `Expression('*', expr1, expr2)`.\n",
    "\n",
    "In the call `Expression('+', expr1, expr2)`, we pass `3` parameters to `Expression(...)`: the string `'+'`, the object `expr1` which is of type `Expression`, and the object `expr2` which is also of type `Expression`. The `__init__` method should store the operator name `'+'` in the attribute `operator`, the `Expression` object `expr1` in the attribute `operand1` and the `Expression` object `expr2` in the attribute `operand2`. Similarly, for `Expression('*', expr1, expr2)`, except that the value of the attribute `operator` should be `'*'`."
   ]
  },
  {
   "cell_type": "markdown",
   "metadata": {},
   "source": [
    "You can now create instances of `Expression` to represent the algebraic expressions $s_1 = \\phi + 1, s_2 = 5 + 0.1, p_1 = \\theta \\cdot x$ and $p_2 = 0.1 \\cdot y$ in the following manner (assuming the `Expression` instances `e5`,`e1`,`e1by10`, `x`, `y`, `phi`,`theta` have already been created):\n",
    "\n",
    "```Python\n",
    "s1 = Expression('+', phi, e1)\n",
    "s2 = Expression('+', e5, e1by10)\n",
    "p1 = Expression('*', theta, x)\n",
    "p2 = Expression('*', e1by10, y)\n",
    "```"
   ]
  },
  {
   "cell_type": "markdown",
   "metadata": {},
   "source": [
    "#### Task 2b\n",
    "\n",
    "Create appropriate instances of `Expression` to represent the following algebraic expression:\n",
    "\n",
    "* $ a = ( (\\phi + 1) \\cdot (0.1 \\cdot y) ) + (\\theta \\cdot x) = (s_1 \\cdot p_2) + p_1$\n",
    "* $ c = \\psi + ((\\gamma + x) \\cdot (2 + \\alpha) ) $"
   ]
  },
  {
   "cell_type": "markdown",
   "metadata": {},
   "source": [
    "### &#9745; Task 3:\n",
    "#### Recursion on objects\n",
    "\n",
    "#### Task 3a\n",
    "We would like to create a method `to_str()` which recursively creates a string representation for an object of type `Expression`. For instance, we would like \n",
    "\n",
    "* `e1by10.to_str()` to return the string `'0.1'`\n",
    "* `x.to_str()` to return the string `'x'`\n",
    "* `s1.to_str()` to return the string `'( phi + 1 )'`\n",
    "* `p1.to_str()` to return the string `'( theta * x )'`\n",
    "* `a.to_str()` to return the string `'( ( ( phi + 1 ) * ( 0.1 * y ) ) + ( theta * x ) )'`\n",
    "\n",
    "One way in which we can create such a string representation is to think recursively:\n",
    "\n",
    "* The string representation for a variable such as `phi = Expression('phi')` should simply be the string `'phi'`. i.e. `phi.to_str()` should return `'phi'`, the value of the attribute `variablename`.\n",
    "\n",
    "* The string representation for a constant such as `e1 = Expression(1)` should be the string `'1'`. i.e. `e1.to_str()` should return `'1'`, which is the string representation of the attribute `numericvalue`.\n",
    "\n",
    "* Once we have the above base cases, we can recursively create the string representation for an expression such as\n",
    "`expr = Expression('+', expr1, expr2)` by first creating string representations for `expr1` and `expr2` (recursively) using `to_str()`, and then combining these in the appropriate way to create a representation for `expr`. Similarly for the case of `'*'`.\n",
    "\n",
    "### Algorithm: Create string representation of an `Expression`\n",
    "**Input** `expr`, an instance of `Expression`\n",
    "\n",
    "**Output** String representation of `expr`\n",
    "1. **if** `expr` is a variable **then**\n",
    "1. $~~~~$ **return** `expr.variablename`\n",
    "1. **else if** `expr` is numeric **then**\n",
    "1. $~~~~$ **return** `str(expr.numericvalue)`\n",
    "1. **else**\n",
    "1. $~~~~$ `op1` $\\mapsto$ `expr.operand1`; `op2` $\\mapsto$ `expr.operand2`\n",
    "1. $~~~~$ $s_1 \\mapsto$ `op1.to_str()`; $s_2 \\mapsto$ `op2.to_str()`\n",
    "1. $~~~~$ **return** `'( '` + $s_1$ + `' '` + `expr.operator` + `' '` + $s_2$ + `' )'`\n",
    "1. **end if**\n",
    "\n",
    "\n",
    "The handling of the first two cases -- i.e. when the `Expression` `self` is numeric or variable -- has been done for you:\n",
    "\n",
    "```Python\n",
    "    def to_str(self):\n",
    "        '''Returns a string representation of an Expression'''\n",
    "        if self.isoperator():\n",
    "            FILL THIS PART\n",
    "        else:\n",
    "            if self.isvariable():\n",
    "                return self.variablename\n",
    "            else:\n",
    "                return str(self.numericvalue)\n",
    "```\n",
    "\n",
    "Copy the above implementation to your definition of the class `Expression` and complete the implementation by filling in the relevant code for the case when the `Expression` `self` is an operator. "
   ]
  },
  {
   "cell_type": "markdown",
   "metadata": {},
   "source": [
    "**WARNING** Before testing this functionality, remember to create fresh instances of all the relevant objects using the updated definition of the class `Expression`. \n",
    "\n",
    "#### Task 3b\n",
    "Represent the following algebraic expressions and print their string representation using the syntax `print(expr.to_str())` (where `expr` is an instance of `Expression`).\n",
    "*  $1$\n",
    "*  $x$\n",
    "*  $\\phi$\n",
    "*  $\\theta$\n",
    "*  $s_1 = \\phi + 1$ \n",
    "*  $p_1 = \\theta \\cdot x$ \n",
    "*  $ d = (\\beta + (\\delta + (3 + z) ) \\cdot ( (3 \\cdot w) + (\\beta \\cdot \\delta) ) $ \n"
   ]
  },
  {
   "cell_type": "markdown",
   "metadata": {},
   "source": [
    "## Testing\n",
    "To test your code, copy the following tests into your notebook and execute them with the `run_tests()` command. You can also create additional tests of your own."
   ]
  },
  {
   "cell_type": "code",
   "execution_count": null,
   "metadata": {},
   "outputs": [],
   "source": [
    "# Tests for Task 1\n",
    "def test_task1_init(): \n",
    "    z = Expression('z')\n",
    "    assert z.isvariable() and (z.variablename == 'z')\n",
    "    \n",
    "def test_task1_isvariable_true():\n",
    "    mu = Expression('mu')\n",
    "    assert mu.isvariable() \n",
    "    \n",
    "def test_task1_isvariable_false():\n",
    "    e9 = Expression(9)\n",
    "    assert not(e9.isvariable())\n",
    "\n",
    "def test_task1_isnumeric_false():\n",
    "    mu = Expression('mu')\n",
    "    assert not(mu.isnumeric()) \n",
    "\n",
    "# Tests for Task 2 \n",
    "def test_task2_init_sum():\n",
    "    s = Expression('+', Expression('x'), Expression(1))\n",
    "    assert hasattr(s, 'operator') and s.operator=='+' \n",
    "    assert hasattr(s, 'operand1') and s.operand1.isvariable() and s.operand1.variablename == 'x'\n",
    "    assert hasattr(s, 'operand2') and s.operand2.isnumeric() and s.operand2.numericvalue == 1\n",
    "    \n",
    "def test_task2_init_product():\n",
    "    p = Expression('*', Expression('x'), Expression(1))\n",
    "    assert hasattr(p, 'operator') and p.operator=='*' \n",
    "    assert hasattr(p, 'operand1') and p.operand1.isvariable() and p.operand1.variablename == 'x'\n",
    "    assert hasattr(p, 'operand2') and p.operand2.isnumeric() and p.operand2.numericvalue == 1\n",
    "   \n",
    "    \n",
    "def test_task2_isoperator_true():\n",
    "    expr1 = Expression('+', Expression('x'), Expression(0))\n",
    "    expr2 = Expression('*', Expression('y'), Expression('theta'))\n",
    "    assert expr1.isoperator() and expr2.isoperator()\n",
    "    \n",
    "def test_task2_isoperator_false():\n",
    "    z = Expression('z')\n",
    "    e9 = Expression(9)\n",
    "    assert not(z.isoperator()) and not(e9.isoperator()) \n",
    "\n",
    "               \n",
    "# Tests for Task 4    \n",
    "        \n",
    "def test_task3_to_str_numeric():\n",
    "    e9 = Expression(9)\n",
    "    assert e9.to_str() == '9'\n",
    "               \n",
    "def test_task3_to_str_variable():\n",
    "    z = Expression('z')\n",
    "    assert z.to_str() == 'z'\n",
    "\n",
    "def test_task3_to_str_sum():\n",
    "    z = Expression('z')\n",
    "    e9 = Expression(9)\n",
    "    s = Expression('+', z, e9)\n",
    "    assert s.to_str() == '( z + 9 )'           \n",
    "        \n",
    "def test_task3_to_str_product():\n",
    "    z = Expression('z')\n",
    "    e9 = Expression(9)\n",
    "    p = Expression('*', z, e9)\n",
    "    assert p.to_str() == '( z * 9 )'    \n",
    "\n",
    "\n",
    "def test_task3_to_str_recursive():\n",
    "    z = Expression('z')\n",
    "    e9 = Expression(9)\n",
    "    sigma = Expression('sigma')\n",
    "    f = Expression('+', Expression('*', z, e9), sigma)\n",
    "    assert f.to_str() == '( ( z * 9 ) + sigma )'       \n",
    "        \n",
    "run_tests()"
   ]
  }
 ],
 "metadata": {
  "kernelspec": {
   "display_name": "Python 3",
   "language": "python",
   "name": "python3"
  },
  "language_info": {
   "codemirror_mode": {
    "name": "ipython",
    "version": 3
   },
   "file_extension": ".py",
   "mimetype": "text/x-python",
   "name": "python",
   "nbconvert_exporter": "python",
   "pygments_lexer": "ipython3",
   "version": "3.9.10"
  }
 },
 "nbformat": 4,
 "nbformat_minor": 4
}
