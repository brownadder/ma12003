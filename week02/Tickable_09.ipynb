{
 "cells": [
  {
   "cell_type": "markdown",
   "id": "incorrect-lambda",
   "metadata": {},
   "source": [
    "# Tickable Exercise 9\n",
    "**Set**: Mon 13 Feb 2023\n",
    "\n",
    "**Due**: In your allocated computer lab in week 3\n",
    "\n",
    "In this tickable you will pratice using the JupyterLab debugger to find an error in a code.\n",
    "\n",
    "<hr style=\"height: 2px\">\n",
    "\n",
    "*&#169; Eike Mueller, University of Bath 2019-2021. This problem sheet is copyright of Eike Mueller, University of Bath. It is provided exclusively for educational purposes at the University and is to be downloaded or copied for your private study only. Further distribution, e.g. by upload to external repositories, is prohibited.*"
   ]
  },
  {
   "cell_type": "markdown",
   "id": "front-garlic",
   "metadata": {},
   "source": [
    "Consider two $n$-dimensional vectors $\\boldsymbol{x}$ and $\\boldsymbol{y}$ which have only positive entries ($x_j\\ge 0$ and $y_j\\ge 0$ for $j=0,1,\\dots,n-1$). The integer taxidriver sum is defined as\n",
    "\n",
    "$$\n",
    "S_{\\text{taxi}}(\\boldsymbol{x},\\boldsymbol{y}) := \\sum_{j=0}^{n-1} \\left(\\lfloor x_j \\rfloor + \\lfloor y_j \\rfloor\\right)\n",
    "$$\n",
    "\n",
    "Consider the following Python code, which computes the integer taxidriver sum between two vectors."
   ]
  },
  {
   "cell_type": "code",
   "execution_count": 2,
   "id": "decent-doctor",
   "metadata": {},
   "outputs": [],
   "source": [
    "import numpy as np\n",
    "\n",
    "def taxidriver(x,y):\n",
    "    '''Compute taxidriver distance between two vectors\n",
    "    \n",
    "    input:\n",
    "      vectors x and y (must be of same size)\n",
    "    output:\n",
    "      integer taxidriver distance ||x-y||_{1,int}\n",
    "    '''\n",
    "    if not (len(x)==len(y)):\n",
    "        raise Exception('input vectors have to be of the same size')\n",
    "    x_int = np.array(x,dtype=np.int8)\n",
    "    y_int = np.array(y,dtype=np.int8)\n",
    "    distance = 0\n",
    "    for k in range(len(x)):\n",
    "        sum_k = x_int[k]+y_int[k]\n",
    "        distance += sum_k\n",
    "    return distance"
   ]
  },
  {
   "cell_type": "markdown",
   "id": "lesser-retrieval",
   "metadata": {},
   "source": [
    "Note that instead of calling the floor function for each individual component of the vectors, we convert the arguments `x` and `y` to vectors with integer components with \n",
    "\n",
    "```Python\n",
    "  x_int = np.array(x,dtype=np.int8)\n",
    "  y_int = np.array(y,dtype=np.int8)\n",
    "```\n",
    "\n",
    "The following code demonstrates that this works. Each component of the vector $\\boldsymbol{x}$ is rounded down."
   ]
  },
  {
   "cell_type": "code",
   "execution_count": null,
   "id": "proof-birmingham",
   "metadata": {},
   "outputs": [],
   "source": [
    "x = np.array([1.2,8.7,7.2])\n",
    "x_int = np.array(x,dtype=np.int8)\n",
    "print(x_int)"
   ]
  },
  {
   "cell_type": "markdown",
   "id": "rural-treatment",
   "metadata": {},
   "source": [
    "For $\\boldsymbol{x}=\\begin{pmatrix}1.2\\\\7.3\\end{pmatrix}$, $\\boldsymbol{y}=\\begin{pmatrix}4.1\\\\6.9\\end{pmatrix}$ we have that\n",
    "\n",
    "$$\n",
    "\\begin{aligned}\n",
    "S_{taxi}(\\boldsymbol{x},\\boldsymbol{y}) &= \\lfloor (1.2 \\rfloor+\\lfloor 4.1 \\rfloor) + (\\lfloor 7.3 \\rfloor+\\lfloor 6.9 \\rfloor)\\\\\n",
    "&=(1+4) + (7+6)\\\\\n",
    "&= 18\n",
    "\\end{aligned}\n",
    "$$\n",
    "\n",
    "and this agrees with what our Python function returns:"
   ]
  },
  {
   "cell_type": "code",
   "execution_count": 4,
   "id": "recorded-arrest",
   "metadata": {},
   "outputs": [
    {
     "data": {
      "text/plain": [
       "18"
      ]
     },
     "execution_count": 4,
     "metadata": {},
     "output_type": "execute_result"
    }
   ],
   "source": [
    "taxidriver(np.array([1.2,7.3]),np.array([4.1,6.9]))"
   ]
  },
  {
   "cell_type": "markdown",
   "id": "tribal-tissue",
   "metadata": {},
   "source": [
    "However, there is a problem with other inputs.\n",
    "\n",
    "For $\\boldsymbol{x}=\\begin{pmatrix}1.4\\\\5.7\\end{pmatrix}$, $\\boldsymbol{y}=\\begin{pmatrix}220.2\\\\122.4\\end{pmatrix}$ we have that\n",
    "\n",
    "$$\n",
    "\\begin{aligned}\n",
    "S_{\\text{taxi}}(\\boldsymbol{x},\\boldsymbol{y}) &= (\\lfloor 1.4 \\rfloor+\\lfloor 220.2 \\rfloor) + (\\lfloor 5.7 \\rfloor+\\lfloor 122.4 \\rfloor)\\\\\n",
    "&=(1+220) + (5+122)\\\\\n",
    "&= 348\n",
    "\\end{aligned}\n",
    "$$\n",
    "\n",
    "The code returns something very different:"
   ]
  },
  {
   "cell_type": "code",
   "execution_count": 5,
   "id": "attended-hampshire",
   "metadata": {},
   "outputs": [
    {
     "data": {
      "text/plain": [
       "92"
      ]
     },
     "execution_count": 5,
     "metadata": {},
     "output_type": "execute_result"
    }
   ],
   "source": [
    "x = np.array([1.4,5.7])\n",
    "y = np.array([220.2,122.4])\n",
    "taxidriver(x,y)"
   ]
  },
  {
   "cell_type": "markdown",
   "id": "prompt-directive",
   "metadata": {},
   "source": [
    "## Your turn\n",
    "Change to the folder `MA10276_workspace` in the root directory. Open the notebook `Tickable_09_template.ipynb` and save it under a different name to work on the following tasks."
   ]
  },
  {
   "cell_type": "markdown",
   "id": "nuclear-bleeding",
   "metadata": {},
   "source": [
    "### &#9745; Task 1\n",
    "Copy the above Python implementation of the taxidriver sum to your Python notebook. Use the Python debugger to find out why it gives an incorrect result if $\\boldsymbol{x}=\\begin{pmatrix}1.4\\\\5.7\\end{pmatrix}$, $\\boldsymbol{y}=\\begin{pmatrix}220.2\\\\122.4\\end{pmatrix}$.\n",
    "\n",
    "for this, proceed as follows:\n",
    "\n",
    "1. Enable the JupyterLab debugger as described in the [Lecture on debugging](Lecture_13b_JupyterLabDebugger.ipynb).\n",
    "1. Set a breakpoint in the line\n",
    "```Python\n",
    "distance += sum_k\n",
    "```\n",
    "in the function `taxdriver()`\n",
    "1. Execute the problematic code\n",
    "```Python\n",
    "x = np.array([1.4,5.7])\n",
    "y = np.array([220.2,122.4])\n",
    "taxidriver(x,y)\n",
    "```\n",
    "and make sure that you understand the contents of the VARIABLES, CALLSTACK and SOURCE panes.\n",
    "1. Use the JupyterLab debugger to step through the code as you inspect the variables\n",
    "1. Use the observed data to form suitable hypotheses about why the code produces incorrect results in some cases"
   ]
  },
  {
   "cell_type": "markdown",
   "id": "accepted-branch",
   "metadata": {},
   "source": [
    "### &#9745; Task 2\n",
    "Based on your investigations from Task 1, propose a bugfix which allows you to obtain the correct result for the given input."
   ]
  },
  {
   "cell_type": "markdown",
   "id": "still-observer",
   "metadata": {},
   "source": [
    "To gain a tick for this problem you must be prepared to\n",
    "1. Demonstrate to your tutor how you are using the JupyterLab debugger\n",
    "1. Explain how you used the debugger to locate the bug in the code\n",
    "1. Discuss your proposed bugfix with your tutor"
   ]
  }
 ],
 "metadata": {
  "kernelspec": {
   "display_name": "Python 3 (ipykernel)",
   "language": "python",
   "name": "python3"
  },
  "language_info": {
   "codemirror_mode": {
    "name": "ipython",
    "version": 3
   },
   "file_extension": ".py",
   "mimetype": "text/x-python",
   "name": "python",
   "nbconvert_exporter": "python",
   "pygments_lexer": "ipython3",
   "version": "3.8.12"
  }
 },
 "nbformat": 4,
 "nbformat_minor": 5
}
