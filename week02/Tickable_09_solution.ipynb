{
 "cells": [
  {
   "cell_type": "markdown",
   "id": "rolled-smart",
   "metadata": {},
   "source": [
    "# Tickable 9 - model solution\n",
    "\n",
    "*&#169; Eike Mueller, University of Bath 2019-2021. This model solution is copyright of Eike Mueller, University of Bath. It is provided exclusively for educational purposes at the University and is to be downloaded or copied for your private study only. Further distribution, e.g. by upload to external repositories, is prohibited.*"
   ]
  },
  {
   "cell_type": "markdown",
   "id": "f21809c9",
   "metadata": {},
   "source": [
    "## Discussion of the bug\n",
    "The problem with the code is that the arrays `x_int` and `y_int` are created such that their datatype is `np.int8`. Recall from the [lecture on Storing numbers on a computer](../week01/Lecture_12_StoringNumbers.ipynb) that this datatype can only integer store numbers in the range $-128\\dots127$. In the problematic code the second array `y = np.array([220.2,122.4])` contains numbers outside this range.\n",
    "\n",
    "To fix this issue, we need to create `x_int` and `y_int` such that their type can store larger numbers. For example, we could use `np.int32`, which holds numbers in the range $-2^{31},\\dots,2^{31}-1\\approx -2\\cdot 10^{9},\\dots,+2\\cdot 10^{9}$. For this, change the two lines\n",
    "\n",
    "```Python\n",
    "x_int = np.array(x,dtype=np.int8)\n",
    "y_int = np.array(y,dtype=np.int8)\n",
    "```\n",
    "\n",
    "to \n",
    "\n",
    "```Python\n",
    "x_int = np.array(x,dtype=np.int32)\n",
    "y_int = np.array(y,dtype=np.int32)\n",
    "```\n",
    "\n",
    "Note that we still get incorrect results if the user calls the function with extremely large numbers, so we probably want to check the contents of the two input arrays `x` and `y` if this happens."
   ]
  },
  {
   "cell_type": "markdown",
   "id": "eb397c79",
   "metadata": {},
   "source": [
    "## Corrected code\n",
    "The correct code is shown here:"
   ]
  },
  {
   "cell_type": "code",
   "execution_count": 1,
   "id": "a5306a28",
   "metadata": {},
   "outputs": [],
   "source": [
    "import numpy as np\n",
    "\n",
    "def taxidriver(x,y):\n",
    "    '''Compute taxidriver distance between two vectors\n",
    "    \n",
    "    input:\n",
    "      vectors x and y (must be of same size)\n",
    "    output:\n",
    "      integer taxidriver distance ||x-y||_{1,int}\n",
    "    '''\n",
    "    if not (len(x)==len(y)):\n",
    "        raise Exception('input vectors have to be of the same size')\n",
    "    x_int = np.array(x,dtype=np.int32)\n",
    "    y_int = np.array(y,dtype=np.int32)\n",
    "    distance = 0\n",
    "    for k in range(len(x)):\n",
    "        sum_k = x_int[k]+y_int[k]\n",
    "        distance += sum_k\n",
    "    return distance"
   ]
  },
  {
   "cell_type": "markdown",
   "id": "c96b3691",
   "metadata": {},
   "source": [
    "If we use this function, we get the correct result, as the following code demonstrates:"
   ]
  },
  {
   "cell_type": "code",
   "execution_count": null,
   "id": "bcc7da8d",
   "metadata": {},
   "outputs": [],
   "source": [
    "x = np.array([1.4,5.7])\n",
    "y = np.array([220.2,122.4])\n",
    "taxidriver(x,y)"
   ]
  }
 ],
 "metadata": {
  "kernelspec": {
   "display_name": "Python 3",
   "language": "python",
   "name": "python3"
  },
  "language_info": {
   "codemirror_mode": {
    "name": "ipython",
    "version": 3
   },
   "file_extension": ".py",
   "mimetype": "text/x-python",
   "name": "python",
   "nbconvert_exporter": "python",
   "pygments_lexer": "ipython3",
   "version": "3.9.10"
  }
 },
 "nbformat": 4,
 "nbformat_minor": 5
}
