{
 "cells": [
  {
   "cell_type": "markdown",
   "id": "rolled-smart",
   "metadata": {},
   "source": [
    "# Tickable 8\n",
    "\n",
    "**Before doing any work in this notebook, first save it under a different name**. For this, click on ''File'' $\\rightarrow$ ''Save as...''"
   ]
  },
  {
   "cell_type": "markdown",
   "id": "municipal-nursery",
   "metadata": {},
   "source": [
    "## &#9745; Task 2"
   ]
  },
  {
   "cell_type": "code",
   "execution_count": null,
   "id": "julian-reservation",
   "metadata": {},
   "outputs": [],
   "source": []
  },
  {
   "cell_type": "markdown",
   "id": "61003a6f",
   "metadata": {},
   "source": [
    "## &#9745; Task 3\n",
    "#### Task 3a\n",
    "You can edit the table in the following cell by double-clicking on it."
   ]
  },
  {
   "cell_type": "markdown",
   "id": "minor-auckland",
   "metadata": {},
   "source": [
    "| value of $\\delta$ | Solution of System A | Solution of System B |\n",
    "| --- | --- | --- |\n",
    "| $0.1$ |  |  |\n",
    "| $10^{-6}$ | | |\n",
    "| $10^{-7}$ | | |\n",
    "| $10^{-8}$ | | |\n",
    "| $10^{-14}$ | | |\n",
    "| $10^{-15}$ | | |"
   ]
  },
  {
   "cell_type": "markdown",
   "id": "cb9ca365",
   "metadata": {},
   "source": [
    "#### Task 3b\n",
    "You can edit the table in the following cell by double-clicking on it."
   ]
  },
  {
   "cell_type": "markdown",
   "id": "dfe7854e",
   "metadata": {},
   "source": [
    "| value of $\\delta$ | Solution of System A | Solution of System B |\n",
    "| --- | --- | --- |\n",
    "| $0.1$ |  |  |\n",
    "| $10^{-6}$ | | |\n",
    "| $10^{-7}$ | | |\n",
    "| $10^{-8}$ | | |\n",
    "| $10^{-14}$ | | |\n",
    "| $10^{-15}$ | | |"
   ]
  },
  {
   "cell_type": "markdown",
   "id": "93b8a556",
   "metadata": {},
   "source": [
    "## &#9745; Task 4"
   ]
  },
  {
   "cell_type": "code",
   "execution_count": null,
   "id": "threaded-ferry",
   "metadata": {},
   "outputs": [],
   "source": []
  }
 ],
 "metadata": {
  "kernelspec": {
   "display_name": "Python 3",
   "language": "python",
   "name": "python3"
  },
  "language_info": {
   "codemirror_mode": {
    "name": "ipython",
    "version": 3
   },
   "file_extension": ".py",
   "mimetype": "text/x-python",
   "name": "python",
   "nbconvert_exporter": "python",
   "pygments_lexer": "ipython3",
   "version": "3.9.10"
  }
 },
 "nbformat": 4,
 "nbformat_minor": 5
}
