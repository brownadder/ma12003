{
 "cells": [
  {
   "cell_type": "markdown",
   "id": "d6e8ec0e",
   "metadata": {},
   "source": [
    "# Tickable 14\n",
    "\n",
    "**Before doing any work in this notebook, first save it under a different name**. For this, click on ''File'' $\\rightarrow$ ''Save as...''"
   ]
  },
  {
   "cell_type": "markdown",
   "id": "98da9ad5",
   "metadata": {},
   "source": [
    "## &#9745; Task 1"
   ]
  },
  {
   "cell_type": "code",
   "execution_count": null,
   "id": "920be112",
   "metadata": {},
   "outputs": [],
   "source": []
  },
  {
   "cell_type": "code",
   "execution_count": null,
   "id": "905959cc-d874-4c4d-b266-1c1d34fe9bf1",
   "metadata": {},
   "outputs": [],
   "source": []
  },
  {
   "cell_type": "markdown",
   "id": "ddf73e5c",
   "metadata": {},
   "source": [
    "## &#9745; Task 2"
   ]
  },
  {
   "cell_type": "code",
   "execution_count": null,
   "id": "cee1c113",
   "metadata": {},
   "outputs": [],
   "source": []
  },
  {
   "cell_type": "markdown",
   "id": "3448eceb",
   "metadata": {},
   "source": [
    "## &#9745; Task 3\n",
    "#### Task 3a"
   ]
  },
  {
   "cell_type": "code",
   "execution_count": null,
   "id": "7c98d32f",
   "metadata": {},
   "outputs": [],
   "source": []
  },
  {
   "cell_type": "markdown",
   "id": "792136c4-f053-41a2-a45e-ea154a2f3f04",
   "metadata": {},
   "source": [
    "#### Task 3b"
   ]
  },
  {
   "cell_type": "code",
   "execution_count": null,
   "id": "0874c5ad-d347-4d4e-8f90-2cf7d56e5fd1",
   "metadata": {},
   "outputs": [],
   "source": []
  },
  {
   "cell_type": "markdown",
   "id": "81579c95-ee00-4471-a633-a097a0dc073b",
   "metadata": {},
   "source": [
    "#### Task 3c"
   ]
  },
  {
   "cell_type": "code",
   "execution_count": null,
   "id": "0af71ad8-040c-4a68-91fa-902bb9f42405",
   "metadata": {},
   "outputs": [],
   "source": []
  },
  {
   "cell_type": "markdown",
   "id": "4543dd56-1447-4eb7-ad72-ba558ada5cf2",
   "metadata": {},
   "source": [
    "## &#9745; Task 4"
   ]
  },
  {
   "cell_type": "code",
   "execution_count": null,
   "id": "8d8c21d6-b698-40fb-9746-f728a808418d",
   "metadata": {},
   "outputs": [],
   "source": []
  },
  {
   "cell_type": "code",
   "execution_count": null,
   "id": "539cb3c2-cc56-47ac-a56e-aef334e08505",
   "metadata": {},
   "outputs": [],
   "source": []
  },
  {
   "cell_type": "markdown",
   "id": "f752580f",
   "metadata": {},
   "source": [
    "## Testing\n",
    "Copy the tests from the tickable into the following cell:"
   ]
  },
  {
   "cell_type": "code",
   "execution_count": null,
   "id": "85962e39",
   "metadata": {},
   "outputs": [],
   "source": []
  }
 ],
 "metadata": {
  "kernelspec": {
   "display_name": "Python 3 (ipykernel)",
   "language": "python",
   "name": "python3"
  },
  "language_info": {
   "codemirror_mode": {
    "name": "ipython",
    "version": 3
   },
   "file_extension": ".py",
   "mimetype": "text/x-python",
   "name": "python",
   "nbconvert_exporter": "python",
   "pygments_lexer": "ipython3",
   "version": "3.7.11"
  }
 },
 "nbformat": 4,
 "nbformat_minor": 5
}
