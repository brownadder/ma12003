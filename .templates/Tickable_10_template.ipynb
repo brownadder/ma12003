{
 "cells": [
  {
   "cell_type": "markdown",
   "id": "rolled-smart",
   "metadata": {},
   "source": [
    "# Tickable 10\n",
    "\n",
    "**Before doing any work in this notebook, first save it under a different name**. For this, click on ''File'' $\\rightarrow$ ''Save as...''"
   ]
  },
  {
   "cell_type": "markdown",
   "id": "typical-hartford",
   "metadata": {},
   "source": [
    "## &#9745; Task 3\n",
    "### &#9745; Task 3a"
   ]
  },
  {
   "cell_type": "code",
   "execution_count": null,
   "id": "lasting-alignment",
   "metadata": {},
   "outputs": [],
   "source": []
  },
  {
   "cell_type": "markdown",
   "id": "municipal-nursery",
   "metadata": {},
   "source": [
    "### &#9745; Task 3b"
   ]
  },
  {
   "cell_type": "code",
   "execution_count": null,
   "id": "julian-reservation",
   "metadata": {},
   "outputs": [],
   "source": []
  }
 ],
 "metadata": {
  "kernelspec": {
   "display_name": "Python 3",
   "language": "python",
   "name": "python3"
  },
  "language_info": {
   "codemirror_mode": {
    "name": "ipython",
    "version": 3
   },
   "file_extension": ".py",
   "mimetype": "text/x-python",
   "name": "python",
   "nbconvert_exporter": "python",
   "pygments_lexer": "ipython3",
   "version": "3.9.10"
  }
 },
 "nbformat": 4,
 "nbformat_minor": 5
}
