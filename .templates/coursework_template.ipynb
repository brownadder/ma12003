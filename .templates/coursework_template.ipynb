{
 "cells": [
  {
   "attachments": {},
   "cell_type": "markdown",
   "id": "rolled-smart",
   "metadata": {},
   "source": [
    "# MA12003 Programming coursework \n",
    "\n",
    "**Before making any changes to this notebook, save it as `coursework_USERNAME.ipynb` where `USERNAME` is your username. You need to save this new file in the `ma12003_workspace` directory.**\n",
    "\n",
    "**DO NOT create any extra cells in this notebook** with the exception of additional cells under the Additional Examples section at the bottom of this file.\n",
    "\n",
    "* Your code should be put in the relevant cell. \n",
    "\n",
    "* Any packages that you need to import should be put in the section titled **Imports**. \n",
    "\n",
    "* Code for your implementation of the required classes should appear in the appropriate cells in the section titled **Classes**. Running these cells **should not** produce any printed output.\n",
    "\n",
    "* The examples provided in Coursework should be put in the relevant cells, e.g. Task 1.a Example cell, Task 1.b Example cell, etc. In particular the examples will produce printed output and **should not** be put in the cells for the classes. \n",
    "\n",
    "* Any additional tests that you ran for checking correctness of your code can be put under the **Additional Examples** section. Note that this is the only section under which you are allowed to add new cells. Note that all cells under **Additional Examples** section will be **ignored for the purpose of assessment**. The only reason to include these is to provide **hints** to examiner in case your code seems to be failing basic tests due to simple errors. However there is no guarantee that these will be reviewed. \n",
    "\n",
    "#### Enter your full name in the following cell:"
   ]
  },
  {
   "attachments": {},
   "cell_type": "markdown",
   "id": "4cc4fb74",
   "metadata": {},
   "source": []
  },
  {
   "cell_type": "markdown",
   "id": "0a5c297a",
   "metadata": {},
   "source": [
    "## **Imports**"
   ]
  },
  {
   "cell_type": "markdown",
   "id": "31dd938c",
   "metadata": {},
   "source": [
    "* All your imported libraries should be imported in the following cell. \n",
    "\n",
    "* **If you import more libraries later in your code, you will be penalised.**"
   ]
  },
  {
   "cell_type": "code",
   "execution_count": null,
   "id": "4706af76",
   "metadata": {},
   "outputs": [],
   "source": []
  },
  {
   "cell_type": "markdown",
   "id": "e1694104",
   "metadata": {},
   "source": [
    "## **Classes**"
   ]
  },
  {
   "cell_type": "markdown",
   "id": "f7bf966b",
   "metadata": {},
   "source": [
    "### **`PseudometricSpace`** class"
   ]
  },
  {
   "cell_type": "markdown",
   "id": "7eea0acb",
   "metadata": {},
   "source": [
    "Copy the skeletal code for the abstract class `PseudometricSpace` in the cell below, and modify it as required."
   ]
  },
  {
   "cell_type": "code",
   "execution_count": null,
   "id": "76d418d7",
   "metadata": {},
   "outputs": [],
   "source": []
  },
  {
   "cell_type": "markdown",
   "id": "60dea6ea",
   "metadata": {},
   "source": [
    "### **`RealNumber`** class"
   ]
  },
  {
   "cell_type": "markdown",
   "id": "c5eebd13",
   "metadata": {},
   "source": [
    "Copy the skeletal code for the concrete class `RealNumber` in the cell below, and modify it as required. "
   ]
  },
  {
   "cell_type": "code",
   "execution_count": null,
   "id": "e1cbc29b",
   "metadata": {},
   "outputs": [],
   "source": []
  },
  {
   "cell_type": "markdown",
   "id": "8e4e80a9",
   "metadata": {},
   "source": [
    "### **`String`** class"
   ]
  },
  {
   "cell_type": "markdown",
   "id": "1995e30e",
   "metadata": {},
   "source": [
    "Copy the skeletal code for the concrete class `String` in the cell below, and modify it as required. "
   ]
  },
  {
   "cell_type": "code",
   "execution_count": null,
   "id": "463f3343",
   "metadata": {},
   "outputs": [],
   "source": []
  },
  {
   "cell_type": "markdown",
   "id": "3b516e5e",
   "metadata": {},
   "source": [
    "### **`ManhattanPoint`** class"
   ]
  },
  {
   "cell_type": "markdown",
   "id": "ed2158b7",
   "metadata": {},
   "source": [
    "Copy the skeletal code for the concrete class `ManhattanPoint` in the cell below, and modify it as required. "
   ]
  },
  {
   "cell_type": "code",
   "execution_count": null,
   "id": "59bcd43c",
   "metadata": {},
   "outputs": [],
   "source": []
  },
  {
   "cell_type": "markdown",
   "id": "8e10a390",
   "metadata": {},
   "source": [
    "## **Example Runs**"
   ]
  },
  {
   "attachments": {},
   "cell_type": "markdown",
   "id": "b9aaf2aa",
   "metadata": {},
   "source": [
    "## Task 1"
   ]
  },
  {
   "attachments": {},
   "cell_type": "markdown",
   "id": "478f4502",
   "metadata": {},
   "source": [
    "### Task 1.a Example\n",
    "\n",
    "Copy the code for Task 1.a Example in the cell below and test to see if it has the required behaviour"
   ]
  },
  {
   "cell_type": "code",
   "execution_count": null,
   "id": "4a87e60a",
   "metadata": {},
   "outputs": [],
   "source": []
  },
  {
   "cell_type": "markdown",
   "id": "fb9faa43",
   "metadata": {},
   "source": [
    "### Task 1.b Example\n",
    "\n",
    "Copy the code for Task 1.b Example in the cell below and test to see if it has the required behaviour"
   ]
  },
  {
   "cell_type": "code",
   "execution_count": null,
   "id": "05fa80fc",
   "metadata": {},
   "outputs": [],
   "source": []
  },
  {
   "attachments": {},
   "cell_type": "markdown",
   "id": "265a2a0b",
   "metadata": {},
   "source": [
    "### Task 1.c Example\n",
    "\n",
    "Copy the code for Task 1.c Example in the cell below and test to see if it has the required behaviour"
   ]
  },
  {
   "cell_type": "code",
   "execution_count": null,
   "id": "def9fb75",
   "metadata": {},
   "outputs": [],
   "source": []
  },
  {
   "attachments": {},
   "cell_type": "markdown",
   "id": "ready-grill",
   "metadata": {},
   "source": [
    "## Task 2"
   ]
  },
  {
   "attachments": {},
   "cell_type": "markdown",
   "id": "f98392d2",
   "metadata": {},
   "source": [
    "### Task 2 Example\n",
    "\n",
    "Copy the code for Task 2 Example in the cell below and test to see if it has the required behaviour"
   ]
  },
  {
   "cell_type": "code",
   "execution_count": null,
   "id": "050ce2b6",
   "metadata": {},
   "outputs": [],
   "source": []
  },
  {
   "cell_type": "markdown",
   "id": "2d1b6bb0",
   "metadata": {},
   "source": [
    "## Task 3"
   ]
  },
  {
   "cell_type": "markdown",
   "id": "888d2927",
   "metadata": {},
   "source": [
    "### Task 3.a Example\n",
    "\n",
    "Copy the code for Task 3.a Example in the cell below and test to see if it has the required behaviour"
   ]
  },
  {
   "cell_type": "code",
   "execution_count": null,
   "id": "3851b562",
   "metadata": {},
   "outputs": [],
   "source": []
  },
  {
   "cell_type": "markdown",
   "id": "3daf7dde",
   "metadata": {},
   "source": [
    "### Task 3.b Example\n",
    "\n",
    "Copy the code for Task 3.b Example in the cell below and test to see if it has the required behaviour"
   ]
  },
  {
   "cell_type": "code",
   "execution_count": null,
   "id": "e226a76e",
   "metadata": {},
   "outputs": [],
   "source": []
  },
  {
   "cell_type": "markdown",
   "id": "716b35a8",
   "metadata": {},
   "source": [
    "### Task 3.c Example\n",
    "\n",
    "Copy the code for Task 3.c Example in the cell below and test to see if it has the required behaviour"
   ]
  },
  {
   "cell_type": "code",
   "execution_count": null,
   "id": "7cea7fed",
   "metadata": {},
   "outputs": [],
   "source": []
  },
  {
   "cell_type": "markdown",
   "id": "1ab2490a",
   "metadata": {},
   "source": [
    "## Task 4"
   ]
  },
  {
   "cell_type": "markdown",
   "id": "5d09279c",
   "metadata": {},
   "source": [
    "### Task 4 Example\n",
    "\n",
    "Copy the code for Task 4 Example in the cell below and test to see if it has the required behaviour"
   ]
  },
  {
   "cell_type": "code",
   "execution_count": null,
   "id": "fb9ab4f0",
   "metadata": {},
   "outputs": [],
   "source": []
  },
  {
   "attachments": {},
   "cell_type": "markdown",
   "id": "8ef42a6c",
   "metadata": {},
   "source": [
    "## Additional Examples\n",
    "\n",
    "* Any additional examples that you test your code with **can** be provided below. \n",
    "\n",
    "* Note that these are **NOT** a required part of the submission and **WILL NOT BE ASSESSED**. For this reason, if you prefer, you could also delete the examples below before submission and only use the space below for your own tests.\n",
    "\n",
    "* Feel free to add more cells below as required. Reminder: The cells below will be ignored during assessment, with the possible exception of identifying simple errors."
   ]
  },
  {
   "cell_type": "code",
   "execution_count": null,
   "id": "379a390f",
   "metadata": {},
   "outputs": [],
   "source": []
  }
 ],
 "metadata": {
  "kernelspec": {
   "display_name": "Python 3",
   "language": "python",
   "name": "python3"
  },
  "language_info": {
   "codemirror_mode": {
    "name": "ipython",
    "version": 3
   },
   "file_extension": ".py",
   "mimetype": "text/x-python",
   "name": "python",
   "nbconvert_exporter": "python",
   "pygments_lexer": "ipython3",
   "version": "3.11.9"
  }
 },
 "nbformat": 4,
 "nbformat_minor": 5
}
