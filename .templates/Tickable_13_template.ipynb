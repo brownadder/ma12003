{
 "cells": [
  {
   "cell_type": "markdown",
   "id": "d6e8ec0e",
   "metadata": {},
   "source": [
    "# Tickable 13\n",
    "\n",
    "**Before doing any work in this notebook, first save it under a different name**. For this, click on ''File'' $\\rightarrow$ ''Save as...''"
   ]
  },
  {
   "cell_type": "markdown",
   "id": "a7c7afd9",
   "metadata": {},
   "source": [
    "## &#9745; Task 1"
   ]
  },
  {
   "cell_type": "code",
   "execution_count": null,
   "id": "dd0fefbe",
   "metadata": {},
   "outputs": [],
   "source": []
  },
  {
   "cell_type": "markdown",
   "id": "98da9ad5",
   "metadata": {},
   "source": [
    "## &#9745; Task 2"
   ]
  },
  {
   "cell_type": "code",
   "execution_count": null,
   "id": "920be112",
   "metadata": {},
   "outputs": [],
   "source": []
  },
  {
   "cell_type": "markdown",
   "id": "ddf73e5c",
   "metadata": {},
   "source": [
    "## &#9745; Task 3"
   ]
  },
  {
   "cell_type": "code",
   "execution_count": null,
   "id": "cee1c113",
   "metadata": {},
   "outputs": [],
   "source": []
  },
  {
   "cell_type": "markdown",
   "id": "3448eceb",
   "metadata": {},
   "source": [
    "## &#9745; Task 4"
   ]
  },
  {
   "cell_type": "code",
   "execution_count": null,
   "id": "7c98d32f",
   "metadata": {},
   "outputs": [],
   "source": []
  },
  {
   "cell_type": "markdown",
   "id": "f752580f",
   "metadata": {},
   "source": [
    "## Testing\n",
    "Copy the tests from the tickable into the following cell:"
   ]
  },
  {
   "cell_type": "code",
   "execution_count": null,
   "id": "85962e39",
   "metadata": {},
   "outputs": [],
   "source": []
  },
  {
   "cell_type": "markdown",
   "id": "c72d0996-74c3-4907-80f8-0cf952c35d47",
   "metadata": {},
   "source": [
    "## Further things you can do\n",
    "#### Part 1"
   ]
  },
  {
   "cell_type": "code",
   "execution_count": null,
   "id": "41ff7e00",
   "metadata": {},
   "outputs": [],
   "source": []
  },
  {
   "cell_type": "markdown",
   "id": "8334e786-21ea-412a-9e58-a068ce6d838a",
   "metadata": {},
   "source": [
    "#### Part 2"
   ]
  },
  {
   "cell_type": "code",
   "execution_count": null,
   "id": "4c75115c-e36f-4019-8940-c8aa35d56817",
   "metadata": {},
   "outputs": [],
   "source": []
  }
 ],
 "metadata": {
  "kernelspec": {
   "display_name": "Python 3 (ipykernel)",
   "language": "python",
   "name": "python3"
  },
  "language_info": {
   "codemirror_mode": {
    "name": "ipython",
    "version": 3
   },
   "file_extension": ".py",
   "mimetype": "text/x-python",
   "name": "python",
   "nbconvert_exporter": "python",
   "pygments_lexer": "ipython3",
   "version": "3.7.11"
  }
 },
 "nbformat": 4,
 "nbformat_minor": 5
}
