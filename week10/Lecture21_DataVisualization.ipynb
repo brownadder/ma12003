{
 "cells": [
  {
   "cell_type": "markdown",
   "id": "35bdf2d4",
   "metadata": {},
   "source": [
    "# *DISCLAIMER*\n",
    "## *Please, copy this notebook, the climate_data.csv, and the .jpeg into your ma12003_workspace folder!*\n",
    "*This is unfortunately necessary as the notebook will save a figure. Since the course directory is read-only, this notebook will not work unless you move it to your ma12003_workspace folder.*\n",
    "\n",
    "# Data visualization with matplotlib.pyplot\n",
    "\n",
    "Matplotlib is a comprehensive library for creating static, animated, and interactive visualizations in Python. In particular, the pyplot module provides many functions for for creating figures and plots. \n",
    "\n",
    "### What you will learn\n",
    "\n",
    "In this notebook we will cover the following topics:\n",
    "* plotting one-dimensional numerical data dependent on one parameter\n",
    "* merging multiple plots into the same figure\n",
    "* having multiple subfigures in the same plot\n",
    "* scaling and annotating \n",
    "* plotting one-dimensional numerical data dependent on two parameters\n",
    "\n",
    "*&#169; Tobias Hartung, University of Bath 2021-2022. This problem sheet is copyright of Tobias Hartung, University of Bath. It is provided exclusively for educational purposes at the University and is to be downloaded or copied for your private study only. Further distribution, e.g. by upload to external repositories, is prohibited.*\n",
    "\n",
    "Plotting data in pyplot is generally very quick and easy. For example, we may take some climate data (https://climatedataguide.ucar.edu/climate-data/global-land-ocean-surface-temperature-data-hadcrut5) and plot the temperature anomaly, i.e., the deviation of the annual average temperature from the pre-industrial average. "
   ]
  },
  {
   "cell_type": "code",
   "execution_count": null,
   "id": "f89d5063",
   "metadata": {},
   "outputs": [],
   "source": [
    "import matplotlib.pyplot as plt # import matplotlib for the notebook\n",
    "\n",
    "time = []       # year\n",
    "anomaly = []    # anomaly value\n",
    "conf_lo = []    # lower confidence interval limit 2.5%\n",
    "conf_hi = []    # upper confidence interval limit 97.5%\n",
    "\n",
    "with open('climate_data.csv','r') as climate_file: # open data file\n",
    "    lines = climate_file.readlines()               # read all data, first line is header\n",
    "    for line_idx in range(1,len(lines)):      \n",
    "        t,a,l,h = lines[line_idx].strip().split(',')          # separate columns\n",
    "        time.append(int(t))\n",
    "        anomaly.append(float(a))\n",
    "        conf_lo.append(float(l))\n",
    "        conf_hi.append(float(h))\n",
    "\n",
    "# plot anomaly values\n",
    "plt.plot(anomaly)\n",
    "plt.show()"
   ]
  },
  {
   "cell_type": "markdown",
   "id": "fd538b26",
   "metadata": {},
   "source": [
    "If only data is given to plot, then the x-axis will always take the values 0 to N-1 if the data has N points. In our case, we would like to change the x-axis to the years given in the `time` list."
   ]
  },
  {
   "cell_type": "code",
   "execution_count": null,
   "id": "156ca41a",
   "metadata": {},
   "outputs": [],
   "source": [
    "plt.plot(time,anomaly)\n",
    "plt.show()"
   ]
  },
  {
   "cell_type": "markdown",
   "id": "c9bea556",
   "metadata": {},
   "source": [
    "## Formatting\n",
    "\n",
    "An important part of plotting, arguably even more important than the data visualization itself, is formatting. We may not always want to have a blue line connecting the data points. `plt.plot()` allows for a format string to be passed on as well. The default string is `'b-'` where the \"b\" means \"blue\" and \"-\" means to connect with a solid line. There is no marker specified here, so none is plotted. A complete list of your options can be found in the documentation\n",
    "\n",
    "https://matplotlib.org/stable/api/_as_gen/matplotlib.pyplot.plot.html\n",
    "\n",
    "For example, the format string `'cp:'` creates cyan colored line and markers, pentagons as markers at each point and a dotted line connecting the values. "
   ]
  },
  {
   "cell_type": "code",
   "execution_count": null,
   "id": "5a9a0c44",
   "metadata": {},
   "outputs": [],
   "source": [
    "plt.plot(time,anomaly,'cp:')\n",
    "plt.show()"
   ]
  },
  {
   "cell_type": "markdown",
   "id": "83154ced",
   "metadata": {},
   "source": [
    "Here we can also see that the line simply interpolates linearly between the points. It also shows that when you have a lot of data, it may be sensible to omit the markers. \n",
    "\n",
    "Alternatively, a line argument can be omitted if only the data points should be shown. The next example has red not markers and no lines."
   ]
  },
  {
   "cell_type": "code",
   "execution_count": null,
   "id": "70ab310d",
   "metadata": {},
   "outputs": [],
   "source": [
    "plt.plot(time,anomaly,'ro')\n",
    "plt.show()"
   ]
  },
  {
   "cell_type": "markdown",
   "id": "9c18f1cb",
   "metadata": {},
   "source": [
    "In addition to formatting the data itself, we can add labels with `plt.xlabel()` and `plt.ylabel()`, and define ranges for each axis with `plt.axis([xmin,xmax,ymin,ymax])` to increase legibility and the amount of information portrayed. Furthermore, the font size can be set with the fontsize argument."
   ]
  },
  {
   "cell_type": "code",
   "execution_count": null,
   "id": "52025cc0",
   "metadata": {
    "scrolled": true
   },
   "outputs": [],
   "source": [
    "plt.plot(time,anomaly)\n",
    "plt.axis([1825,2050,-1,1.5])\n",
    "plt.xlabel('year',fontsize=20)\n",
    "plt.ylabel('temperature anomaly (degree C)')\n",
    "plt.show()"
   ]
  },
  {
   "cell_type": "markdown",
   "id": "546bdc59",
   "metadata": {},
   "source": [
    "However, even with these, the automated tick mark placement may not be exactly what you want. Hence, you can have even more control by setting tick marks explicitly and you can choose different scales for each axis. Ticks and markers can also have their size adjusted."
   ]
  },
  {
   "cell_type": "code",
   "execution_count": null,
   "id": "9c0e4564",
   "metadata": {},
   "outputs": [],
   "source": [
    "plt.plot(time,anomaly,'ro',markersize=2)\n",
    "plt.xticks([t for t in range(1850,2031,30)],fontsize=20)\n",
    "plt.yticks([-.6 + .4*n for n in range(5)],fontsize=20)\n",
    "plt.xlabel('year',fontsize=20)\n",
    "plt.ylabel('temperature anomaly (degree C)',fontsize=20)\n",
    "plt.show()"
   ]
  },
  {
   "cell_type": "markdown",
   "id": "bc6e80e0",
   "metadata": {},
   "source": [
    "Of course, sometime it is important to compare different data in the same plot, e.g., by having multiple graphs in the same plot. While `plt.plot()` is capable of plotting multiple data sets in one command, a nicer and cleaner way of plotting is to call `plt.plot()` multiple times before `plt.show()`. Then all sub-plots will be merged into a single plot. In such a case, it is also important to add a legend to the plot. \n",
    "\n",
    "For example, we can add the upper and lower confidence limits to the plot. In this case, we also want to add a legend."
   ]
  },
  {
   "cell_type": "code",
   "execution_count": null,
   "id": "42c265df",
   "metadata": {},
   "outputs": [],
   "source": [
    "plt.plot(time,anomaly,'go',markersize=2,label=\"temperature anomaly (degree C)\")\n",
    "plt.plot(time,conf_lo,'b^',markersize=2,label=\"lower confidence limit (2.5%)\")\n",
    "plt.plot(time,conf_hi,'rv',markersize=2,label=\"upper confidence limit (97.5%)\")\n",
    "plt.xlabel('year',fontsize=20)\n",
    "plt.legend(fontsize=13)\n",
    "plt.show()"
   ]
  },
  {
   "cell_type": "markdown",
   "id": "3ed4d2bc",
   "metadata": {},
   "source": [
    "Pyplot tends to choose a fairly good location for the legend, if left to its own devices. However, you can force a location with `loc='...'` if you want to, but beware it can overlap with things you wish to plot. Your placement options are explained in a lot of detail in the documentation.\n",
    "\n",
    "https://matplotlib.org/stable/api/legend_api.html\n",
    "\n",
    "You can also add a title to your plot. "
   ]
  },
  {
   "cell_type": "code",
   "execution_count": null,
   "id": "3ef4cece",
   "metadata": {
    "scrolled": true
   },
   "outputs": [],
   "source": [
    "plt.plot(time,anomaly,'go',markersize=2,label=\"temperature anomaly (degree C)\")\n",
    "plt.plot(time,conf_lo,'b^',markersize=2,label=\"lower confidence limit (2.5%)\")\n",
    "plt.plot(time,conf_hi,'rv',markersize=2,label=\"upper confidence limit (97.5%)\")\n",
    "plt.xlabel('year',fontsize=20)\n",
    "plt.legend(fontsize=13,loc='lower center')\n",
    "plt.title('A bad legend placement example',fontsize=30)\n",
    "plt.show()"
   ]
  },
  {
   "cell_type": "markdown",
   "id": "9402862a",
   "metadata": {},
   "source": [
    "Now, even if we were to place the legend sensibly, this plot is still very crowded. So, it would be nice to set the size of the figure manually. We can do this with `plt.figure(figsize=[width,height])`."
   ]
  },
  {
   "cell_type": "code",
   "execution_count": null,
   "id": "b417711c",
   "metadata": {},
   "outputs": [],
   "source": [
    "plt.figure(figsize=[20,10])\n",
    "plt.plot(time,anomaly,'go',markersize=7,label=\"temperature anomaly\")\n",
    "plt.plot(time,conf_lo,'b^',markersize=7,label=\"lower confidence limit (2.5%)\")\n",
    "plt.plot(time,conf_hi,'rv',markersize=7,label=\"upper confidence limit (97.5%)\")\n",
    "plt.xlabel('year',fontsize=20)\n",
    "plt.ylabel('degree C',fontsize=20)\n",
    "plt.legend(fontsize=20,loc='upper left')\n",
    "plt.title('Temperature Anomaly',fontsize=30)\n",
    "plt.xticks(fontsize=20)\n",
    "plt.yticks(fontsize=20)\n",
    "plt.show()"
   ]
  },
  {
   "cell_type": "markdown",
   "id": "5ed3cd24",
   "metadata": {},
   "source": [
    "Now, although it would be fine to show our confidence intervals with three plots as above, it would be nicer to have proper error bars. To achieve this, we can use the `plt.errorbar()` function instead of `plt.plot()`. It's basic use allows for errorbars in x (`xerr`) and y (`yerr`) and thus also requires the errors to be passed on as arguments. Attributes like `capsize`, `capthick`, and `elinewidth` allow for customization of the error bars. "
   ]
  },
  {
   "cell_type": "code",
   "execution_count": null,
   "id": "bce04ed5",
   "metadata": {},
   "outputs": [],
   "source": [
    "plt.errorbar([1,2],[1,2],xerr=[.5,.1], yerr=[.2,.4],fmt='k-.', capsize=10, capthick=2, elinewidth=2)\n",
    "plt.show()"
   ]
  },
  {
   "cell_type": "markdown",
   "id": "8cb5ab17",
   "metadata": {},
   "source": [
    "You can look at\n",
    "\n",
    "https://matplotlib.org/stable/api/_as_gen/matplotlib.pyplot.errorbar.html\n",
    "\n",
    "for a full list of your options here. \n",
    "\n",
    "The `plt.errorbar()` function is very useful if your error bars are symmetric, e.g., if you are showing standard deviations. However, if you have a lot of data, such as our climate data, then the error bars can get overwhelming. Furthermore, our data has differen length error bars up and down. In this case, using `plt.fill_between` is nicer to use. This function fills between two curves, i.e., it takes in x-values and two y-values. "
   ]
  },
  {
   "cell_type": "code",
   "execution_count": null,
   "id": "53766871",
   "metadata": {},
   "outputs": [],
   "source": [
    "plt.figure(figsize=[20,10])\n",
    "plt.plot(time,anomaly,'bo:',markersize=7)\n",
    "plt.fill_between(time,conf_lo,conf_hi,color='c')\n",
    "plt.xlabel('year',fontsize=20)\n",
    "plt.ylabel('temperature anomaly (degree C)',fontsize=20)\n",
    "plt.title('Temperature Anomaly',fontsize=30)\n",
    "plt.xticks(fontsize=20)\n",
    "plt.yticks(fontsize=20)\n",
    "plt.show()"
   ]
  },
  {
   "cell_type": "markdown",
   "id": "6b7c782e",
   "metadata": {},
   "source": [
    "## Axis scaling\n",
    "\n",
    "When plotting we sometimes wish to plet with different scales on the axis. Pyplot allows us to do this using the `plt.xscale()` and `plt.yscale()` functions which can be set to linear `'linear'` (the default), logarithmic `'log'`, symmetric log `'symlog'`, and logit `'logit'` which is given by `logit(x) = ln(x/(1-x))` for `0<x<1`. "
   ]
  },
  {
   "cell_type": "code",
   "execution_count": null,
   "id": "df6cf994",
   "metadata": {},
   "outputs": [],
   "source": [
    "plt.rcParams[\"figure.figsize\"] = plt.rcParamsDefault[\"figure.figsize\"] # resetting global figure size\n",
    "\n",
    "import numpy as np\n",
    "\n",
    "# make up some data in the open interval (0, 1)\n",
    "y = np.random.normal(loc=0.5, scale=0.4, size=1000)\n",
    "y = y[(y > 0) & (y < 1)]\n",
    "y.sort()\n",
    "x = np.arange(len(y))\n",
    "\n",
    "# linear\n",
    "plt.plot(x, y)\n",
    "plt.xscale('linear')\n",
    "plt.yscale('linear')\n",
    "plt.title('linear')\n",
    "plt.grid(True)\n",
    "plt.show()\n",
    "\n",
    "# log\n",
    "plt.plot(x, y)\n",
    "plt.xscale('linear')\n",
    "plt.yscale('log')\n",
    "plt.title('log')\n",
    "plt.grid(True)\n",
    "plt.show()\n",
    "\n",
    "# symmetric log\n",
    "plt.plot(x, y - y.mean())\n",
    "plt.xscale('linear')\n",
    "plt.yscale('symlog', linthresh=0.01)\n",
    "plt.title('symlog')\n",
    "plt.grid(True)\n",
    "plt.show()\n",
    "\n",
    "# logit\n",
    "plt.plot(x, y)\n",
    "plt.xscale('linear')\n",
    "plt.yscale('logit')\n",
    "plt.title('logit')\n",
    "plt.grid(True)\n",
    "plt.show()"
   ]
  },
  {
   "cell_type": "markdown",
   "id": "5a581dce",
   "metadata": {},
   "source": [
    "Different axis scales can be very important in showing general behavior. For example, we can plot the Fibonacci sequence which grows like `F_n ~ phi^n` where phi is the golden ratio. This type of behavior is hard to detect in a standard linear plot. But functions `f(x) = c d^x` are linear if the y-axis is logarithmic. This is because a logarithmic plot plots `ln(f(x))` instead of `f(x)`. Thus, if `f(x)=c d^x`, then the log plot shows `ln(c) + x ln(d)` which is linear. Furthermore, we can obtain the constant `c` from the intercept of the graph with the y-axis and the constant `d` from the slope of the plot.\n",
    "\n",
    "As can be seen in the example below, the general form `F_n ~ c d^n` for the Fibonacci sequence can be easily verified using a suitable choice of axis scaling."
   ]
  },
  {
   "cell_type": "code",
   "execution_count": null,
   "id": "1c6ff273",
   "metadata": {},
   "outputs": [],
   "source": [
    "# compute Fibinacci numbers\n",
    "fib = [1,1]\n",
    "for n in range(98):\n",
    "    fib.append(fib[-1]+fib[-2])\n",
    "    \n",
    "# plot them normally\n",
    "plt.plot(range(100),fib) \n",
    "plt.show()\n",
    "\n",
    "# use log plot to show F_n ~ c d^n behavior\n",
    "plt.plot(range(100),fib)\n",
    "plt.yscale('log')\n",
    "plt.show()"
   ]
  },
  {
   "cell_type": "markdown",
   "id": "bf2c7045",
   "metadata": {},
   "source": [
    "## Higher dimensional data\n",
    "\n",
    "Visualization of higher dimensional data is often tricky. An example we could consider here would be local temperature data such as in this picture.\n",
    "\n",
    "![title](Gridded-global-surface-temperatures-in-HadCRUT4-and-HadCRUT5-analysis-for-March-2016.jpg)\n",
    "\n",
    "However, just handling the data for this would be a bit too much for this notebook. So instead we will generate some nice looking fake data in a square domain.\n",
    "\n",
    "Three dimensional data can be represented in a number of generally useful ways. For example, we can consider contour plots that show values `z=f(x,y)` by plotting lines of constant `z` like elevation lines on a map. A contour plot can be created with the `plt.contour()` function which takes three arguments: a grid of `x` values, a grid of `y` values, and a grid of `z` values. The `x` and `y` values represent positions on the plot, and the `z` values will be represented by the contour levels. A very good way to prepare the data is to use the numpy `meshgrid()` function, which builds two-dimensional grids from one-dimensional arrays."
   ]
  },
  {
   "cell_type": "code",
   "execution_count": null,
   "id": "f3a0232c",
   "metadata": {},
   "outputs": [],
   "source": [
    "def landscape_function(x, y):\n",
    "    return np.sin(x) ** 10 + np.cos(10 + y * x) * np.cos(x)\n",
    "\n",
    "x = np.linspace(0, 5, 50)\n",
    "y = np.linspace(0, 5, 40)\n",
    "\n",
    "X, Y = np.meshgrid(x, y)\n",
    "Z = landscape_function(X, Y)\n",
    "\n",
    "plt.contour(X,Y,Z)\n",
    "plt.show()"
   ]
  },
  {
   "cell_type": "markdown",
   "id": "0d71601c",
   "metadata": {},
   "source": [
    "The color scheme can sometimes be a bit irritating if no legend is supplied. Thus, we often wish to choose a suitable color scheme, either using the colors or cmap keyword, as well as add a colorbar. We may also fill the contour plot using the `plt.contourf()` function instead. "
   ]
  },
  {
   "cell_type": "code",
   "execution_count": null,
   "id": "15b6f0e3",
   "metadata": {},
   "outputs": [],
   "source": [
    "plt.contour(X,Y,Z, colors='black')\n",
    "plt.show()\n",
    "\n",
    "plt.contourf(X,Y,Z, cmap='RdGy')\n",
    "plt.colorbar()\n",
    "plt.show()"
   ]
  },
  {
   "cell_type": "markdown",
   "id": "86f747ff",
   "metadata": {},
   "source": [
    "There are many options of colormaps depending on what you want to show. Often the color scheme you choose will depend on the data as well, e.g., heat distribution data has standard representations. Furthermore, you will likely need to overlay multiple plots, e.g., the black line plot with some additional data and the coloration. While it is possible to have multiple calls to `plt.contour()`, it generally will not be very suitable to simply overlay them in the way we did for `plt.plot()`.  \n",
    "\n",
    "Instead, using `plt.imshow()` interprets your underlying two-dimensional X-Y grid as an image. This makes your options almost limitless but requires a bit more manual work. For example, `plt.imshow()` doesn't accept an x and y grid, so you must manually specify the `extent = [xmin, xmax, ymin, ymax]` of the image on the plot. By default, `plt.imshow()` also follows the standard image array definition where the origin is in the upper left, not in the lower left as in most contour plots. This must be changed when showing gridded data. Finally, `plt.imshow()` will automatically adjust the axis aspect ratio to match the input data. This can be changed by setting, for example, `plt.axis(aspect='image')` to make x and y units match.\n",
    "\n",
    "The example below shows a few more features. The additional number `levels = 5` in `plt.contour()` defines how many contour lines are plotted. If you provide an integer `n` there, it tries to choose no more than `n+1` \"nice\" contour levels. You can also pass a list (must be in increasing order) to explicitly define the contour levels to be plotted. This can help declutter if the default is too tightly packed. The `plt.clabel` command allows you to add labels to the contours themselves. In `plt.imshow()` we redefined the origin to be in the lower left with `origin='lower'`, used a rainbow color scheme for the color map, and we set the transparency to 0.5 with the `alpha` parameter. Note that we plot the `imshow()` after the `contour()` data. So without adjusting the transparency, we would not be able to see the contour lines."
   ]
  },
  {
   "cell_type": "code",
   "execution_count": null,
   "id": "7a299605",
   "metadata": {},
   "outputs": [],
   "source": [
    "contours = plt.contour(X, Y, Z, levels= 5, colors='black')\n",
    "plt.clabel(contours, inline=True, fontsize=8)\n",
    "\n",
    "plt.imshow(Z, extent=[0, 5, 0, 5], origin='lower', cmap='rainbow', alpha=0.5)\n",
    "plt.colorbar();"
   ]
  },
  {
   "cell_type": "markdown",
   "id": "b300a4ca",
   "metadata": {},
   "source": [
    "## Annotations\n",
    "\n",
    "It is sometimes useful to add text to a plot to highlight aspects or give further information. This can be achieved in two basic ways. \n",
    "\n",
    "The `plt.text(x,y,s)` functions allows you to place the string `s` at the position `(x,y)`.\n",
    "\n",
    "If you want to highlight a certain area and the space is not sufficient for the text you want to add, you can also add an arrow with `plt.annotate(s,xy,xytext,arrowprops)`. This command puts the string `s` at the position `xytext` and draws an arrow from `xytext` to `xy`. The arrow properties can be defined using `arrowprops`."
   ]
  },
  {
   "cell_type": "code",
   "execution_count": null,
   "id": "a6e39087",
   "metadata": {},
   "outputs": [],
   "source": [
    "t = np.arange(0.0, 5.0, 0.01)\n",
    "s = np.cos(2*np.pi*t)\n",
    "plt.plot(t, s, lw=2)\n",
    "\n",
    "plt.text(1, -1.5, 'something oscillating')\n",
    "plt.annotate('local max', xy=(2, 1), xytext=(3, 1.5),\n",
    "             arrowprops=dict(facecolor='black', shrink=0.05),\n",
    "             )\n",
    "\n",
    "plt.ylim(-2, 2)\n",
    "plt.show()"
   ]
  },
  {
   "cell_type": "markdown",
   "id": "6174d3cf",
   "metadata": {},
   "source": [
    "## Saving figures\n",
    "\n",
    "Of course, often we need to save the plots in addition to just viewing them. This can be done with `plt.savefig()` which must be called before `plt.show()`. `plt.savefig()` requires a string with the filename. This can be a path as well but note that the string is taken verbatim, i.e., no file extension will be generated and if the path points to something that already exists, it will be replaced. Furthermore, there is a `format` attribute in which you can specify the format the figure is to be saved as, e.g., `'png'`, `'pdf'`, or `'svg'`. The default format is `'png'` although `plt.savefig()` is reasonably smart in detecting file extensions in the file name string and will set it accordingly if positively identified. \n",
    "\n",
    "For example, `plt.savefig('picture')` has no file extension and no format set, so it will default to `'png'`. `plt.savefig('picture.pdf')` on the other hand will realize that the format should be `'pdf'` and save the figure as `'pdf'`. If format is provided, it will override the inferred file extension, that is, `plt.savefig('picture.pdf',format='svg')` will save an `'svg'` file although the file extension will say `'pdf'`. "
   ]
  },
  {
   "cell_type": "code",
   "execution_count": null,
   "id": "72d0bdba",
   "metadata": {},
   "outputs": [],
   "source": [
    "plt.plot(t, s, lw=2)\n",
    "\n",
    "plt.text(1, -1.5, 'something oscillating')\n",
    "plt.annotate('local max', xy=(2, 1), xytext=(3, 1.5),\n",
    "             arrowprops=dict(facecolor='black', shrink=0.05),\n",
    "             )\n",
    "\n",
    "plt.ylim(-2, 2)\n",
    "plt.savefig('annotated_cosine.svg',format='svg')\n",
    "plt.show()"
   ]
  },
  {
   "cell_type": "markdown",
   "id": "b018515d",
   "metadata": {},
   "source": [
    "## Subplots and multiple axes\n",
    "\n",
    "Finally, it should be noted that pyplot allows for multiple plots not only be overlayed but also arranged into side-by-side subplots. \n",
    "\n",
    "For example, we may want to consider the effects of global warming, sea ice coverage, and human CO2 emissions in the air. The data here is a rough approximation of real trend data.\n",
    "\n",
    "We could plot this data in three subplots. `plt.subplot()` can take three arguments `plt.subplot(r,c,n)` where `r` is the number of rows, `c` the number of columns, and `n` the plot number. If we are looking to have three plots in a row, we would choose `r=1` and `c=3`. For 9 or fewer plots, the numbers `r`, `c`, `n`, can be combined into a single three-digit number, i.e., `plt.subplot(2,3,2)` is equivalent to `plt.subplot(232)`. This approach also requires us to define the figure with `plt.figure(figsize=[width,height])`."
   ]
  },
  {
   "cell_type": "code",
   "execution_count": null,
   "id": "c67f2230",
   "metadata": {},
   "outputs": [],
   "source": [
    "years = np.arange(1950,2021)\n",
    "\n",
    "aco2 = 20/np.exp(np.log(7.5)/6)\n",
    "bco2 = np.log(7.5)/60\n",
    "CO2_emissions = 260 + aco2 * np.exp(bco2 * (years-1950)) # in gigatons\n",
    "\n",
    "temp = .2 * (np.exp(np.log(1+.95/.2)/70 * (years-1950)) - 1) # in celsius\n",
    "\n",
    "ice = 9.5 - 4/70 * (years-1950)# sea ice extend in millions of km^2\n",
    "\n",
    "plt.figure(figsize=[15,5])\n",
    "plt.subplot(131)\n",
    "plt.plot(years, CO2_emissions, 'g-')\n",
    "plt.ylabel('human CO2 emissions in gigatons')\n",
    "plt.xlabel('year')\n",
    "\n",
    "plt.subplot(132)\n",
    "plt.plot(years, temp, 'r-')\n",
    "plt.ylabel('temperature anomaly in Celsius')\n",
    "plt.xlabel('year')\n",
    "\n",
    "plt.subplot(133)\n",
    "plt.plot(years, ice, 'b-')\n",
    "plt.ylabel('arctic sea ice extend in 10^6 km^2')\n",
    "plt.xlabel('year')\n",
    "\n",
    "plt.show()"
   ]
  },
  {
   "cell_type": "markdown",
   "id": "6aa16e87",
   "metadata": {},
   "source": [
    "Alternatively, we could overlay these three plots. In that case, it can be useful to have different axes as our dava values are vastly different. This can be very important when discussing related data on different scales. \n",
    "\n",
    "The `plt.subplots()` function allows you to do this. The extend of what is possible unfortunately goes far beyond what can be covered in this notebook. Furthermore, this requires us to take the plot object apart in order to copy cooredinate axes which will then allow us to have different numerical ranges for each axis.\n",
    "\n",
    "The below example should therefore act as a basic example that you can build upon should you wish to. Please, refer to the pyplot documentation for more detail.\n",
    "\n",
    "https://matplotlib.org/stable/api/_as_gen/matplotlib.pyplot.subplots.html"
   ]
  },
  {
   "cell_type": "code",
   "execution_count": null,
   "id": "7b556e54",
   "metadata": {},
   "outputs": [],
   "source": [
    "\n",
    "fig, ax = plt.subplots(figsize=(20,10))\n",
    "\n",
    "# Twin the x-axis twice to make independent y-axes.\n",
    "axes = [ax, ax.twinx(), ax.twinx()]\n",
    "\n",
    "# Make some space on the right side for the extra y-axis.\n",
    "fig.subplots_adjust(right=0.75)\n",
    "\n",
    "# Move the last y-axis spine over to the right by 15% of the width of the axes\n",
    "axes[-1].spines['right'].set_position(('axes', 1.15))\n",
    "\n",
    "# To make the border of the right-most axis visible, we need to turn the frame\n",
    "# on. This hides the other plots, however, so we need to turn its fill off.\n",
    "axes[-1].set_frame_on(True)\n",
    "axes[-1].patch.set_visible(False)\n",
    "\n",
    "# And finally we get to plot things...\n",
    "axes[0].plot(years,CO2_emissions, color='green')\n",
    "axes[0].set_ylabel('human CO2 emissions in gigatons', fontsize=25)\n",
    "axes[0].tick_params(axis='y', colors='green')\n",
    "axes[0].set_yticks(list(range(270,421,30)))\n",
    "axes[0].yaxis.set_tick_params(labelsize=25)\n",
    "\n",
    "axes[1].plot(years,temp, color='red')\n",
    "axes[1].set_ylabel('temperature anomaly in Celsius', fontsize=25)\n",
    "axes[1].tick_params(axis='y', colors='red')\n",
    "axes[1].set_yticks([.2*j for j in range(6)])\n",
    "axes[1].yaxis.set_tick_params(labelsize=25)\n",
    "\n",
    "axes[2].plot(years,ice, color='blue')\n",
    "axes[2].set_ylabel('arctic sea ice extend in 10^6 km^2', fontsize=25)\n",
    "axes[2].tick_params(axis='y', colors='blue')\n",
    "axes[2].yaxis.set_tick_params(labelsize=25)\n",
    "\n",
    "axes[0].set_xlabel('Year', fontsize=25)\n",
    "axes[0].xaxis.set_tick_params(labelsize=25)\n",
    "axes[0].tick_params(axis='x', labelrotation=45)\n",
    "\n",
    "\n",
    "plt.title('Effects of Global Warming', fontsize=40)\n",
    "plt.show()"
   ]
  },
  {
   "cell_type": "markdown",
   "id": "fef5e8aa",
   "metadata": {},
   "source": [
    "# Check your understanding\n",
    "\n",
    "##### Question 1\n",
    "How do you obtain access to pyplot functions?\n",
    "\n",
    "##### Question 2\n",
    "Which function do you use to create a line graph?\n",
    "\n",
    "##### Question 3\n",
    "How many graphs can be plotted in the same figure?\n",
    "\n",
    "##### Question 4\n",
    "How do you create a figure that is 15 units wide and 7 units high?\n",
    "\n",
    "##### Question 5\n",
    "How do you display a figure?\n",
    "\n",
    "##### Question 6\n",
    "How do you save a figure to disk?\n",
    "\n",
    "```\n",
    "\n",
    "\n",
    "\n",
    "\n",
    "\n",
    "\n",
    "\n",
    "\n",
    "\n",
    "\n",
    "\n",
    "\n",
    "\n",
    "\n",
    "\n",
    "\n",
    "\n",
    "\n",
    "\n",
    "\n",
    "\n",
    "\n",
    "\n",
    "```\n",
    "\n",
    "# Answers\n",
    "Q1: `import matplotlib.pyplot`\n",
    "Q2: `plt.plot()`\n",
    "Q3: unlimited\n",
    "Q4: `plt.figure(figsize=(15,7))`\n",
    "Q5: `plt.show()`\n",
    "Q6: `plt.savefig()`"
   ]
  }
 ],
 "metadata": {
  "kernelspec": {
   "display_name": "Python 3",
   "language": "python",
   "name": "python3"
  },
  "language_info": {
   "codemirror_mode": {
    "name": "ipython",
    "version": 3
   },
   "file_extension": ".py",
   "mimetype": "text/x-python",
   "name": "python",
   "nbconvert_exporter": "python",
   "pygments_lexer": "ipython3",
   "version": "3.8.10"
  }
 },
 "nbformat": 4,
 "nbformat_minor": 5
}
