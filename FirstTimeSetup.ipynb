{
    "cells": [
        {
            "cell_type": "markdown",
            "id": "8f274b9d",
            "metadata": {
                "deletable": false,
                "editable": false,
                "trusted": true
            },
            "source": [
                "# First time setup\n",
                "This Jupyter notebook is used to set up the course environment for MA12003. **You only need to follow these instructions the *first time* you log in to the Notable server for this course.**\n",
                "\n",
                "## Step 1:\n",
                "Click on `Kernel` $\\rightarrow$ `Restart Kernel and Clear All Outputs ...` in the menu bar at the top of this window:\n",
                "\n",
                "<div>\n",
                "<img src=\"figures/restart_and_clear_output.png\" alt=\"picture of Kernel restart\" width=\"1000\"/>\n",
                "</div>\n",
                "\n",
                "In the dialog, confirm that you want to restart and clear all output:\n",
                "\n",
                "<div>\n",
                "<img src=\"figures/restart_and_clear_output_confirm.png\" alt=\"picture of Kernel restart confirmation dialog\" width=\"1000\"/>\n",
                "</div>\n",
                "\n",
                "\n",
                "## Step 2:\n",
                "Execute the following code cell (containing the text `!mkdir -p ${HOME}/ma12003_workspace` and so on) by selecting it and pressing the \"run\" button from the menu bar:\n",
                "\n",
                "<div>\n",
                "<img src=\"figures/run_cell.png\" alt=\"picture of run button\" width=\"1000\"/>\n",
                "</div>\n",
                "\n",
                "(you can also run the code by pressing the `Ctrl+Enter` keys simultaneously)"
            ]
        },
        {
            "cell_type": "code",
            "execution_count": null,
            "id": "03a5261a",
            "metadata": {
                "deletable": false,
                "editable": false,
                "trusted": true
            },
            "outputs": [],
            "source": [
                "!mkdir -p ${HOME}/ma12003_workspace\n",
                "!cp .templates/*template*.ipynb ${HOME}/ma12003_workspace\n",
                "!cp .code/UpdateMA12003.ipynb ${HOME}\n",
                "!cp .code/00-ma12003.py ${HOME}/.ipython/profile_default/startup/\n",
                "!python -m pip install --user pytest-timeout"
            ]
        },
        {
            "cell_type": "markdown",
            "id": "b9c3e31d",
            "metadata": {
                "deletable": false,
                "editable": false,
                "trusted": true
            },
            "source": [
                "If code cell has been executed successfully you will see the text `In [1]:` left of it.\n",
                "\n",
                "Navigate back to you root folder (sometimes this is also called the 'home' folder) by clicking the folder symbol to the left of **<i class=\"fa fa-folder\"></i>/ ma12003 /** folder in the Folder Browser tab (on the left hand side of the Notable tab in your browser):\n",
                "\n",
                "\n",
                "<div>\n",
                "<img src=\"figures/back_to_root.png\" alt=\"navigate to root\" width=\"1000\"/>\n",
                "</div>\n",
                "\n",
                "\n",
                "If you do not see the Folder Browser tab open (which containts the list of files and folders) and cannot find the root button mentioned above, click on the \"Folder Browser\" button highlighted in the screenshot below:\n",
                "\n",
                "<div>\n",
                "<img src=\"figures/folder_browser.png\" alt=\"folder browser button\" width=\"1000\"/>\n",
                "</div>\n",
                "\n",
                "Once you have successfully navigated to your root folder, you will see a new folder called `ma12003_workspace` in your root directory; this folder contains templates for files that you will use when working on this course.\n",
                "\n",
                "You will also find a new notebook `UpdateMA12003.ipynb` in your root directory. This notebook can be used to update the course material.\n",
                "\n",
                "Your root folder should look like this:\n",
                "\n",
                "<div>\n",
                "<img src=\"figures/root_folder.png\" alt=\"root after setup\" width=\"500\"/>\n",
                "</div>\n",
                "\n",
                "Note that you will not see the folder called **instructor-courses** - this is only visible to me. You should now work through the content of the [Welcome notebook](./Welcome.ipynb) which explains how to navigate the MA12003 course material on the Notable server. You can now close this notebook and you do not need to come back to it again."
            ]
        }
    ],
    "metadata": {
        "kernelspec": {
            "display_name": "Python 3 (ipykernel)",
            "language": "python",
            "name": "python3"
        },
        "language_info": {
            "codemirror_mode": {
                "name": "ipython",
                "version": 3
            },
            "file_extension": ".py",
            "mimetype": "text/x-python",
            "name": "python",
            "nbconvert_exporter": "python",
            "pygments_lexer": "ipython3",
            "version": "3.11.4"
        }
    },
    "nbformat": 4,
    "nbformat_minor": 5
}
