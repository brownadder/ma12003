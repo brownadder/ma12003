{
    "cells": [
        {
            "cell_type": "markdown",
            "metadata": {
                "deletable": false,
                "editable": false,
                "trusted": true
            },
            "source": [
                "# Update MA12003 course material\n",
                "\n",
                "Use this notebook to update the course material for MA12003. It is recommended that you do this at regular intervals since your lecturer will update the material as the semester progresses.\n",
                "\n",
                "**This will delete and repopulate the folder `ma12003` in your home directory. For this reason your should never store any work that you want to keep in this folder.**\n",
                "\n",
                "## Step 1:\n",
                "Click on `Kernel` $\\rightarrow$ `Restart Kernel and Clear ...` in the menu bar at the top of this window and confirm that you want to restart and clear all output.\n",
                "\n",
                "## Step 2:\n",
                "Run the following code cell (use `Ctrl+Enter` or the Run button from the menu bar) to pull an updated version of the course material for MA12003."
            ]
        },
        {
            "cell_type": "code",
            "execution_count": null,
            "metadata": {
                "deletable": false,
                "editable": false,
                "trusted": true,
                "vscode": {
                    "languageId": "plaintext"
                }
            },
            "outputs": [],
            "source": [
                "!rm -rf ${HOME}/ma12003\n",
                "!git clone https://github.com/brownadder/ma12003.git ${HOME}/ma12003"
            ]
        }
    ],
    "metadata": {
        "language_info": {
            "name": "python"
        },
        "orig_nbformat": 4
    },
    "nbformat": 4,
    "nbformat_minor": 2
}
