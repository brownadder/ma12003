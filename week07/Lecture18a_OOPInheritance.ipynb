{
 "cells": [
  {
   "cell_type": "markdown",
   "metadata": {},
   "source": [
    "<div style=\"text-align:right;color:blue\">version id: __VERSION_ID__</div>\n",
    "\n",
    "# OOP - Part IV.a: Inheritance"
   ]
  },
  {
   "cell_type": "markdown",
   "metadata": {},
   "source": [
    "Along with user defined types (classes), methods (which define functionality of objects) and overloading (which allows us to define more readable and user-friendly ways in which objects can be made to interact), one of the major pillars of Object Oriented Programming is *inheritance*.\n",
    "\n",
    "Inheritance is a concept inspired by a common observation in life. Let us consider the singers Adele and Bob Dylan. Adele and Bob Dylan have a list of genres ([Pop, Soul] and [Folk, Rock, Blues], respectively), records sold (120mn and 125mn, respectively), and best selling album (\"21\" and \"Blood on The Tracks\", respectively) etc. These are all singing related *attributes* which (presumably) you do not have yet. However, Adele and Bob Dylan can also talk, walk, have a nationality, an age, etc. These are attributes which all humans have. Some of these attributes are on account of being a primate, a mammal, and yet others on account of being a living being (age and ancestors, for instance). \n",
    "\n",
    "In OOP terms, we would like to say that Adele and Bob Dylans are instances of the class Singer, however a Singer is also a HomoSapien (and gets all the properties and functionality that HomoSapiens have), a HomoSapien is a Primate, a Primate is a Mammal, a Mammal is a LivingBeing. A Mathematician is also a HomoSapien and shares many properties and functionalities with a Singer on account of this fact. Less reassuringly, a Mathematician also shares many properties and functionalities with a Chimpanzee on account of being a Primate and a HousePlant on account of being a LivingBeing.\n",
    "\n",
    "Inheritance allows us to define properties and methods at different levels (such as those common to all Primates, those common to HousePlants, those common to Singers, etc), while *inheriting* properties and methods of all classes \"above\" (that is a HomoSapien automatically gets all properties of Primates, Mammals and LivingBeing). \n",
    "\n",
    "Inheritance is a very powerful tool for organising properties and functionality at appropriate levels, and the fact that we do not have to duplicate these at every level is extremely helpful in writing code that is maintainable. The applications are not just limited to categorising species, of course, and we will see some examples relevant to  Mathematics in Lecture 18b.\n",
    "\n",
    "<hr style=\"height: 2px\">\n",
    "\n",
    "### What you will learn\n",
    "In this notebook we will cover the following topics:\n",
    "\n",
    "* User defined types (classes) \n",
    "* Creating objects or instances of user defined types\n",
    "* Attributes (or properties) of objects\n",
    "* Functions that act on objects\n",
    "* Attributes of a class\n",
    "\n",
    "<hr style=\"height: 2px\">\n",
    "\n",
    "*&#169; Pranav Singh, University of Bath 2021-2022. This problem sheet is copyright of Pranav Singh, University of Bath. It is provided exclusively for educational purposes at the University and is to be downloaded or copied for your private study only. Further distribution, e.g. by upload to external repositories, is prohibited.*"
   ]
  },
  {
   "cell_type": "markdown",
   "metadata": {},
   "source": [
    "# Implementing `Singer` class without using inheritance"
   ]
  },
  {
   "cell_type": "markdown",
   "metadata": {},
   "source": [
    "Let us start by considering the example described in the introduction. We start by creating a class `Singer` without using any concepts of inheritance. We create an `__init__` method that allows us to set attributes of a singer and methods `__str__`, `sing`, `sellrecord`, `breathe`, `speak`,`walk`, `locate`, `birthday` (of which only `sing` and `sellrecord` are unique of singers). "
   ]
  },
  {
   "cell_type": "code",
   "execution_count": null,
   "metadata": {},
   "outputs": [],
   "source": [
    "import copy\n",
    "\n",
    "class Singer(object):\n",
    "    \n",
    "    def __init__(self, name, age, location, nationality, genres, recordssold, bestsellingalbum):\n",
    "        self.name = name\n",
    "        self.age = age\n",
    "        self.location = location\n",
    "        self.nationality = nationality\n",
    "        self.genres = copy.copy(genres)\n",
    "        self.recordssold = recordssold\n",
    "        self.bestsellingalbum = bestsellingalbum\n",
    "        \n",
    "    def __str__(self):\n",
    "        return self.nationality + ' singer ' + self.name\n",
    "    \n",
    "    def __repr__(self):\n",
    "        return self.name\n",
    "    \n",
    "    def sing(self, lyrics):\n",
    "        print(self.name + ' sings \"' + lyrics + '\" ')\n",
    "        \n",
    "    def sellrecord(self):\n",
    "        self.recordssold += 1\n",
    "        print(self.name + ' sold a record!')\n",
    "    \n",
    "    def breathe(self):\n",
    "        print(self.name + ' just took a breath!')\n",
    "        \n",
    "    def speak(self, message):\n",
    "        print(self.name + ' says \"' + message + '\"')\n",
    "        \n",
    "    def walk(self, destination):\n",
    "        self.location = destination\n",
    "        print(self.name + ' walked to ' + destination)\n",
    "        \n",
    "    def locate(self):\n",
    "        print(self.name + ' is currently at ' + self.location)\n",
    "        \n",
    "    def birthday(self):\n",
    "        self.age += 1\n",
    "        print(self.name + ' just celebrated ' + str(self.age) + 'th birthday')"
   ]
  },
  {
   "cell_type": "code",
   "execution_count": null,
   "metadata": {},
   "outputs": [],
   "source": [
    "adele = Singer('Adele', 33, 'Beverly Hills, California', 'British', ['Pop', 'Soul'], 120000000, '21')\n",
    "bobdylan = Singer('Bob Dylan', 80, 'Malibu, California', 'American', ['Folk', 'Rock', 'Blues'], 125000000, 'Blood on The Tracks')"
   ]
  },
  {
   "cell_type": "code",
   "execution_count": null,
   "metadata": {},
   "outputs": [],
   "source": [
    "print(str(adele))\n",
    "print(str(bobdylan))"
   ]
  },
  {
   "cell_type": "code",
   "execution_count": null,
   "metadata": {},
   "outputs": [],
   "source": [
    "print(adele.recordssold)\n",
    "print(adele.location)\n",
    "print(adele.genres)"
   ]
  },
  {
   "cell_type": "code",
   "execution_count": null,
   "metadata": {},
   "outputs": [],
   "source": [
    "print(bobdylan.recordssold)\n",
    "print(bobdylan.location)\n",
    "print(bobdylan.genres)"
   ]
  },
  {
   "cell_type": "markdown",
   "metadata": {},
   "source": [
    "Let us see how our methods behave"
   ]
  },
  {
   "cell_type": "code",
   "execution_count": null,
   "metadata": {},
   "outputs": [],
   "source": [
    "adele.sellrecord()\n",
    "adele.sellrecord()\n",
    "print(adele.recordssold)"
   ]
  },
  {
   "cell_type": "code",
   "execution_count": null,
   "metadata": {},
   "outputs": [],
   "source": [
    "adele.breathe()"
   ]
  },
  {
   "cell_type": "code",
   "execution_count": null,
   "metadata": {},
   "outputs": [],
   "source": [
    "bobdylan.locate()\n",
    "bobdylan.walk('Seattle')\n",
    "bobdylan.locate()\n",
    "bobdylan.walk('New York')\n",
    "bobdylan.locate()"
   ]
  },
  {
   "cell_type": "code",
   "execution_count": null,
   "metadata": {},
   "outputs": [],
   "source": [
    "bobdylan.sing('How many roads must a man walk?')\n",
    "adele.sing('Hello, can you hear me?')"
   ]
  },
  {
   "cell_type": "code",
   "execution_count": null,
   "metadata": {},
   "outputs": [],
   "source": [
    "print(adele.age)\n",
    "adele.birthday()\n",
    "print(adele.age)"
   ]
  },
  {
   "cell_type": "markdown",
   "metadata": {},
   "source": [
    "## Inheritance"
   ]
  },
  {
   "cell_type": "markdown",
   "metadata": {},
   "source": [
    "You would have noticed that some of the functionality such as `breathe` or `walk` is not just limited to singers. Similarly, the attributes `nationality`, `age` and `location` are not specific to singers alone."
   ]
  },
  {
   "cell_type": "markdown",
   "metadata": {},
   "source": [
    "We now create the following classes \n",
    "\n",
    "* `LivingBeing`\n",
    "\n",
    "* `Mammal`, which  derives from `LivingBeing`\n",
    "\n",
    "* `Primate`, which  derives from `Mammal`\n",
    "\n",
    "* `HomoSapien`, which  derives from `Primate`\n",
    "\n",
    "* `Singer`, which  derives from `HomoSapien`\n"
   ]
  },
  {
   "cell_type": "markdown",
   "metadata": {},
   "source": [
    "A LivingBeing has a name, an age and a location."
   ]
  },
  {
   "cell_type": "code",
   "execution_count": null,
   "metadata": {},
   "outputs": [],
   "source": [
    "class LivingBeing(object):\n",
    "    \n",
    "    def __init__(self, name, age, location):\n",
    "        self.name = name\n",
    "        self.age = age\n",
    "        self.location = location\n",
    "        \n",
    "    def __str__(self):\n",
    "        return self.name\n",
    "        \n",
    "    def __repr__(self):\n",
    "        return self.name\n",
    "        \n",
    "    def birthday(self):\n",
    "        self.age += 1\n",
    "        print(self.name + ' just celebrated ' + str(self.age) + 'th birthday')\n",
    "        \n",
    "    def locate(self):\n",
    "        print(self.name + ' is currently at ' + self.location)"
   ]
  },
  {
   "cell_type": "code",
   "execution_count": null,
   "metadata": {},
   "outputs": [],
   "source": [
    "gst = LivingBeing('General Sherman Tree', 2500, 'California')\n",
    "gst.locate()\n",
    "gst.birthday()"
   ]
  },
  {
   "cell_type": "markdown",
   "metadata": {},
   "source": [
    "To inherit the properties of `LivingBeing`, we define the class `Mammal` by *deriving* from `LivingBeing`. "
   ]
  },
  {
   "cell_type": "code",
   "execution_count": null,
   "metadata": {},
   "outputs": [],
   "source": [
    "class Mammal(LivingBeing):\n",
    "    def breathe(self):\n",
    "        print(self.name + ' just took a breath!')\n",
    "        \n",
    "    def walk(self, destination):\n",
    "        self.location = destination\n",
    "        print(self.name + ' walked to ' + destination)"
   ]
  },
  {
   "cell_type": "markdown",
   "metadata": {},
   "source": [
    "Pay attention to the first line of the syntax used for defining the class `Mammal`:\n",
    "\n",
    "```Python\n",
    "class Mammal(LivingBeing):\n",
    "```\n",
    "\n",
    "Note carefully that we have used `LivingBeing` instead of `object`, which we use usually. This tells Python that the class `Mammal` derives from the class `LivingBeing` and inherits its methods.\n",
    "\n",
    "Let us see how we can create an instance of the class `Mammal`."
   ]
  },
  {
   "cell_type": "code",
   "execution_count": null,
   "metadata": {},
   "outputs": [],
   "source": [
    "rbb = Mammal('Ravenous Bugblatter Beast', 299, 'Traal')"
   ]
  },
  {
   "cell_type": "markdown",
   "metadata": {},
   "source": [
    "Even though we have not defined an `__init__` method, we can create an instance of `Mammal` by using the same syntax as that for `LivingBeing`! This is because we have *inherited* the `__init__` method from `LivingBeing`.\n",
    "\n",
    "In fact, instances of `Mammal` have all the methods available to instances of `LivingBeing`, including `locate` and `birthday`."
   ]
  },
  {
   "cell_type": "code",
   "execution_count": null,
   "metadata": {},
   "outputs": [],
   "source": [
    "rbb.locate()\n",
    "rbb.birthday()"
   ]
  },
  {
   "cell_type": "markdown",
   "metadata": {},
   "source": [
    "Of course, instances of `Mammal` have certain methods such as `breathe` and `walk` which are not available to all instances of `LivingBeing`. For instance, the Ravenous Bugblatter Beast can walk, but General Sherman Tree cannot!"
   ]
  },
  {
   "cell_type": "code",
   "execution_count": null,
   "metadata": {},
   "outputs": [],
   "source": [
    "rbb.breathe()\n",
    "rbb.walk('Bath')\n",
    "rbb.locate()"
   ]
  },
  {
   "cell_type": "code",
   "execution_count": null,
   "metadata": {},
   "outputs": [],
   "source": [
    "gst.locate()\n",
    "gst.walk('Bath')"
   ]
  },
  {
   "cell_type": "code",
   "execution_count": null,
   "metadata": {},
   "outputs": [],
   "source": [
    "gst.breathe()"
   ]
  },
  {
   "cell_type": "markdown",
   "metadata": {},
   "source": [
    "The class `LivingBeing` from which we inherit functionality is called the *Base Class* (or sometimes the *Parent Class*) and the class `Mammal` which inherits the functionality is called the *Derived Class* (sometimes the *Child Class*)."
   ]
  },
  {
   "cell_type": "markdown",
   "metadata": {},
   "source": [
    "### The next level"
   ]
  },
  {
   "cell_type": "code",
   "execution_count": null,
   "metadata": {},
   "outputs": [],
   "source": [
    "class Primate(Mammal):\n",
    "    def climb_tree(self, tree):\n",
    "        print(self.name + ' has climbed the tree ' + str(tree))"
   ]
  },
  {
   "cell_type": "code",
   "execution_count": null,
   "metadata": {},
   "outputs": [],
   "source": [
    "hrm = Primate('Harambe', 16, 'Cincinnati Zoo')\n",
    "hrm"
   ]
  },
  {
   "cell_type": "markdown",
   "metadata": {},
   "source": [
    "The primate Harambe can do everything a `Mammal` and a `LivingBeing` can do, even though we have not explicitly implemented that functionality in the class `Primate`."
   ]
  },
  {
   "cell_type": "code",
   "execution_count": null,
   "metadata": {},
   "outputs": [],
   "source": [
    "hrm.locate()\n",
    "hrm.birthday()\n",
    "hrm.breathe()\n",
    "hrm.walk('California')"
   ]
  },
  {
   "cell_type": "markdown",
   "metadata": {},
   "source": [
    "Harambe can also do somethings that are unique to Primates (in contrast to all mammals), such as climbing a tree."
   ]
  },
  {
   "cell_type": "code",
   "execution_count": null,
   "metadata": {},
   "outputs": [],
   "source": [
    "hrm.climb_tree(gst)"
   ]
  },
  {
   "cell_type": "markdown",
   "metadata": {},
   "source": [
    "### isinstance"
   ]
  },
  {
   "cell_type": "markdown",
   "metadata": {},
   "source": [
    "Note that `rbb` is an instance of the class `Mammal`, but since this class is derived from `LivingBeing`, it is also an instance of `LivingBeing`. Similarly, `hrm` is an instance of `Primate`, `Mammal` and `LivingBeing`."
   ]
  },
  {
   "cell_type": "code",
   "execution_count": null,
   "metadata": {},
   "outputs": [],
   "source": [
    "print(hrm)\n",
    "print(isinstance(hrm, Primate))\n",
    "print(isinstance(hrm, Mammal))\n",
    "print(isinstance(hrm, LivingBeing))\n",
    "print(isinstance(hrm, object))"
   ]
  },
  {
   "cell_type": "code",
   "execution_count": null,
   "metadata": {},
   "outputs": [],
   "source": [
    "print(rbb)\n",
    "print(isinstance(rbb, Primate))\n",
    "print(isinstance(rbb, Mammal))\n",
    "print(isinstance(rbb, LivingBeing))\n",
    "print(isinstance(rbb, object))"
   ]
  },
  {
   "cell_type": "code",
   "execution_count": null,
   "metadata": {},
   "outputs": [],
   "source": [
    "print(gst)\n",
    "print(isinstance(gst, Primate))\n",
    "print(isinstance(gst, Mammal))\n",
    "print(isinstance(gst, LivingBeing))\n",
    "print(isinstance(gst, object))"
   ]
  },
  {
   "cell_type": "markdown",
   "metadata": {},
   "source": [
    "The use of `object` in the definition `class LivingBeing(object)` and all the classes we have defined throughout, starting with `class LinearFunction(object)` in Lecture 15, means all classes are derived from the class `object`!\n",
    "Thus instances of `LivingBeing` (or any class, for that matter) are also an instances of the universal class `object`. \n",
    "\n",
    "In fact it is the universal class `object` from which we inherit default methods such as `__init__` and `__str__`. To see the methods and attributes available in the class `object`, we can use the `dir` syntax."
   ]
  },
  {
   "cell_type": "code",
   "execution_count": null,
   "metadata": {},
   "outputs": [],
   "source": [
    "dir(object)"
   ]
  },
  {
   "cell_type": "markdown",
   "metadata": {},
   "source": [
    "### Overloading a method from a base class"
   ]
  },
  {
   "cell_type": "markdown",
   "metadata": {},
   "source": [
    "Let us proceed further to \n",
    "\n",
    "A Homo Sapien has additional attributes: `nationality` and `profession`. This forces us to create an `__init__` function. Note how we did not have to do this for `Mammal` or `Primate` since they could use the `__init__` method defined in `LivingBeing`. However, not all is lost: We can still reuse the functionality of the `__init__` method from `LivingBeing` for setting `name`, `age` and `location`. \n",
    "\n"
   ]
  },
  {
   "cell_type": "code",
   "execution_count": null,
   "metadata": {},
   "outputs": [],
   "source": [
    "class HomoSapien(Primate):\n",
    "    \n",
    "    def __init__(self, name, age, location, nationality, profession):\n",
    "        super().__init__(name, age, location)\n",
    "        self.nationality = nationality\n",
    "        self.profession = profession\n",
    "        \n",
    "    def __str__(self):\n",
    "        return self.nationality + ' ' + self.profession + ' ' + super().__str__()"
   ]
  },
  {
   "cell_type": "markdown",
   "metadata": {},
   "source": [
    "In the above definition of `__init__`, the line\n",
    "```Python\n",
    "super().__init__(name, age, location)\n",
    "```\n",
    "super() returns an instance of the *Base Class*, i.e. `Primate` and therefore `super().__init__(...)`\n",
    "calls the method `__init__` from the Base Class `Primate`. \n",
    "\n",
    "Since `Primate` inherits `__init__` from `Mammal`, and `Mammal` inherits it from `LivingBeing`, effectively we are calling the `__init__` method defined in `LivingBeing` with the parameter values of `name`, `age` and `location` (ignoring the first parameter `self`, which is the object instance). This method sets the values of the attributes `name`, `age` and `location`.\n",
    "\n",
    "Having set the values of the attributes `name`, `age` and `location` succesfully, we only have to set the value of the attributes `self.nationality` to the value of the parameter `nationality`, and `self.profession` to the value of the parameter `profession`, which is done in the line\n",
    "\n",
    "```Python\n",
    "self.nationality = nationality\n",
    "self.profession = profession\n",
    "```"
   ]
  },
  {
   "cell_type": "markdown",
   "metadata": {},
   "source": [
    "Instances of `HomoSapien` can be initiated as expected."
   ]
  },
  {
   "cell_type": "code",
   "execution_count": null,
   "metadata": {},
   "outputs": [],
   "source": [
    "emmawatson = HomoSapien('Emma Watson', 31, 'London', 'British', 'actor')\n",
    "lionelmessi = HomoSapien('Lionel Messi', 34, 'Paris', 'Argentinian', 'footballer')\n",
    "print(emmawatson)\n",
    "print(lionelmessi)"
   ]
  },
  {
   "cell_type": "markdown",
   "metadata": {},
   "source": [
    "Note how the `__str__` method in the class `HomoSapien` is defined. This method returns a string that starts with the nationality, followed by profession, and lastly, the method `super().__str__()` is called. \n",
    "\n",
    "Effectively, this call `super().__str__()` calls the `__str__()` method for `Primate` class (which is the class from which `HomoSapien` is derived). Since there is no explicit definition of `__str__()` method in the class `Primate`, we inherit the definition from `Mammal`. Since there is no explicit definition of `__str__()` in the class `Mammal` either, we inherit the definition from the class `LivingBeing`. Thus calling `super().__str__()` is equivalent to treating the object `self` as an instance of the class `LivingBeing` and using the definition of `__str__()` defined in `LivingBeing`. This returns the name of the `LivingBeing`. In this way, we are re-using the code defined for all living beings, and any improvements in this code will become available to all homo sapiens.\n",
    "\n",
    "Altogether, the `__str__()` method in the class `HomoSapien` returns the nationality, profession and name of a `HomoSapien`. \n",
    "\n",
    "Note that we have not overloaded the `__repr__()` method. Thus, `HomoSapien` inherits the definition of `__repr__()` from `LivingBeing`:"
   ]
  },
  {
   "cell_type": "code",
   "execution_count": null,
   "metadata": {},
   "outputs": [],
   "source": [
    "emmawatson"
   ]
  },
  {
   "cell_type": "markdown",
   "metadata": {},
   "source": [
    "In particular, the nationality and profession are not printed."
   ]
  },
  {
   "cell_type": "markdown",
   "metadata": {},
   "source": [
    "#### Forbiddings homo sapiens from climbing trees"
   ]
  },
  {
   "cell_type": "markdown",
   "metadata": {},
   "source": [
    "As of now our functionality allows HomoSapiens to climb trees:"
   ]
  },
  {
   "cell_type": "code",
   "execution_count": null,
   "metadata": {},
   "outputs": [],
   "source": [
    "emmawatson.climb_tree(gst)\n",
    "lionelmessi.climb_tree(gst)"
   ]
  },
  {
   "cell_type": "markdown",
   "metadata": {},
   "source": [
    "However, we may decide that this is not a usual enough practice and homo sapiens typically fail at climbing trees. We **overload** the `climb_tree` method defined in `Primates`.\n",
    "\n",
    "We also define the `speak` method since `HomoSapiens` can speak."
   ]
  },
  {
   "cell_type": "code",
   "execution_count": null,
   "metadata": {},
   "outputs": [],
   "source": [
    "class HomoSapien(Primate):\n",
    "    \n",
    "    def __init__(self, name, age, location, nationality, profession):\n",
    "        super().__init__(name, age, location)\n",
    "        self.nationality = nationality\n",
    "        self.profession = profession\n",
    "    \n",
    "    def __str__(self):\n",
    "        return self.nationality + ' ' + self.profession + ' ' + super().__str__()\n",
    "    \n",
    "    def climb_tree(self, tree):\n",
    "        print(self.name + ' tried climbing ' + str(tree) + ' but failed.')\n",
    "        \n",
    "    def speak(self, message):\n",
    "        print(self.name + ' says \"' + message + '\"')"
   ]
  },
  {
   "cell_type": "markdown",
   "metadata": {},
   "source": [
    "Let's create fresh instances for Bob Dylan and Adele, with the updated definition of HomoSapien. We now find that Adele and Bob Dylan are unable to climb a tree, but they can speak!"
   ]
  },
  {
   "cell_type": "code",
   "execution_count": null,
   "metadata": {},
   "outputs": [],
   "source": [
    "emmawatson = HomoSapien('Emma Watson', 31, 'London', 'British', 'actor')\n",
    "lionelmessi = HomoSapien('Lionel Messi', 34, 'Paris', 'Argentinian', 'footballer')\n",
    "emmawatson.climb_tree(gst)\n",
    "emmawatson.speak('If not me, who? If not now, when?')\n",
    "lionelmessi.climb_tree(gst)\n",
    "lionelmessi.speak('Adios, Barcelona!')"
   ]
  },
  {
   "cell_type": "markdown",
   "metadata": {},
   "source": [
    "This does not affect Harambe's ability to climb trees, though. Instances of `Primate` will be able to climb trees, with the exception of `HomoSapiens`."
   ]
  },
  {
   "cell_type": "code",
   "execution_count": null,
   "metadata": {},
   "outputs": [],
   "source": [
    "hrm = Primate('Harambe', 16, 'Cincinnati Zoo')\n",
    "hrm.climb_tree(gst)"
   ]
  },
  {
   "cell_type": "markdown",
   "metadata": {},
   "source": [
    "### The singer"
   ]
  },
  {
   "cell_type": "code",
   "execution_count": null,
   "metadata": {},
   "outputs": [],
   "source": [
    "class Singer(HomoSapien):\n",
    "    \n",
    "    def __init__(self, name, age, location, nationality, genres, recordssold, bestsellingalbum):\n",
    "        super().__init__(name, age, location, nationality, 'singer')\n",
    "        self.recordssold = recordssold\n",
    "        self.genres = copy.copy(genres)\n",
    "        self.bestsellingalbum = bestsellingalbum\n",
    "        \n",
    "    def sing(self, lyrics):\n",
    "        print(self.name + ' sings \"' + lyrics + '\" ')\n",
    "        \n",
    "    def sellrecord(self):\n",
    "        self.recordssold += 1\n",
    "        print(self.name + ' sold a record!')"
   ]
  },
  {
   "cell_type": "markdown",
   "metadata": {},
   "source": [
    "Once again we need to **overload** the method `__init__` which we inherit from `HomoSapien`. However, we can use the `__init__` method from `HomoSapien` for setting `name`, `age`, `location` and `nationality`. Note that we explicitly set the profession to `'singer'`.\n",
    "\n",
    "It turns out that very little is specific to a Singer! We only need two more methods `sing` and `sellrecord`.\n",
    "\n",
    "Yet, we have all the functionality available to HomoSapiens, Primates, Mammals and LivingBeings"
   ]
  },
  {
   "cell_type": "code",
   "execution_count": null,
   "metadata": {},
   "outputs": [],
   "source": [
    "adele = Singer('Adele', 33, 'Beverly Hills, California', 'British', ['Pop', 'Soul'], 120000000, '21')\n",
    "print(str(adele))\n",
    "print(adele.location)\n",
    "print(adele.genres)\n",
    "\n",
    "print(adele.recordssold)\n",
    "adele.sellrecord()\n",
    "adele.sellrecord()\n",
    "print(adele.recordssold)\n",
    "\n",
    "\n",
    "adele.locate()\n",
    "adele.walk('Seattle')\n",
    "adele.locate()\n",
    "adele.walk('New York')\n",
    "adele.locate()\n",
    "\n",
    "adele.breathe()\n",
    "adele.sing('Hello, can you hear me?')"
   ]
  },
  {
   "cell_type": "markdown",
   "metadata": {
    "tags": []
   },
   "source": [
    "### The footballer"
   ]
  },
  {
   "cell_type": "markdown",
   "metadata": {},
   "source": [
    "You should be able to appreciate the ease with which we can build rich user defined types by utilising inheritance. For instance consider the ease with which we can define a new class `Footballer`, whose instances have rich functionality, much of which is inherited!"
   ]
  },
  {
   "cell_type": "code",
   "execution_count": null,
   "metadata": {},
   "outputs": [],
   "source": [
    "class Footballer(HomoSapien):\n",
    "    \n",
    "    def __init__(self, name, age, location, nationality, nationalteam, clubteam, goalsscored):\n",
    "        super().__init__(name, age, location, nationality, 'footballer')\n",
    "        self.nationalteam = nationalteam\n",
    "        self.clubteam = clubteam\n",
    "        self.goalsscored = goalsscored\n",
    "        \n",
    "    def scoregoal(self):\n",
    "        self.goalsscored += 1\n",
    "        print(self.name + ' scores!')"
   ]
  },
  {
   "cell_type": "markdown",
   "metadata": {},
   "source": [
    "Similar to the case of singers, that we explicitly set the profession (this time to `'footballer'`) and only need one more method `scoregoal`."
   ]
  },
  {
   "cell_type": "code",
   "execution_count": null,
   "metadata": {},
   "outputs": [],
   "source": [
    "messi = Footballer('Lionel Messi', 34, 'Paris', 'Argentinian', 'Argentina', 'PSG', 750)\n",
    "print(messi)\n",
    "messi.breathe()\n",
    "messi.locate()\n",
    "messi.speak('Bonjour Paris!')\n",
    "messi.walk('California')\n",
    "messi.climb_tree(gst)\n",
    "messi.birthday()\n",
    "messi.scoregoal()"
   ]
  },
  {
   "cell_type": "markdown",
   "metadata": {},
   "source": [
    "### The mathematician"
   ]
  },
  {
   "cell_type": "markdown",
   "metadata": {},
   "source": [
    "And finally, not to leave out mathematicians!"
   ]
  },
  {
   "cell_type": "code",
   "execution_count": null,
   "metadata": {},
   "outputs": [],
   "source": [
    "class Mathematician(HomoSapien):\n",
    "    \n",
    "    def __init__(self, name, age, location, nationality, university):\n",
    "        super().__init__(name, age, location, nationality, 'mathematician')\n",
    "        self.university = university\n",
    "        \n",
    "    def prove(self, theorem):\n",
    "        print(self.name + ' of ' + self.university + ' proves ' + theorem + '!')"
   ]
  },
  {
   "cell_type": "code",
   "execution_count": null,
   "metadata": {},
   "outputs": [],
   "source": [
    "daubechies = Mathematician('Ingrid Daubechies', 67, 'Durham', 'USA', 'Duke University')\n",
    "daubechies.breathe()\n",
    "daubechies.prove('Wavelet Convergence')\n",
    "daubechies.speak('Wavelets are cool!')\n",
    "daubechies.walk('New York')\n",
    "daubechies.locate()"
   ]
  },
  {
   "cell_type": "code",
   "execution_count": null,
   "metadata": {},
   "outputs": [],
   "source": [
    "import copy\n",
    "class MyClassA(object):\n",
    "    def __init__(self, x):\n",
    "        self.a = x**3\n",
    "\n",
    "    def __str__(self):\n",
    "        return '[' + str(self.a) + ']'\n",
    "        \n",
    "class MyClassB(MyClassA):\n",
    "    def __init__(self, x, y):\n",
    "        super().__init__(x)\n",
    "        self.b = x * y\n",
    "        self.a = 2 * self.a\n",
    "        \n",
    "    def __str__(self):\n",
    "        return super().__str__() + str(self.b) + super().__str__()  \n",
    "    \n",
    "A = MyClassA(5)\n",
    "B = MyClassB(5, 3)\n",
    "print(A.a)\n",
    "print(B.a)\n",
    "print(B.b)\n",
    "B = MyClassB(5, 3)\n",
    "print(str(B))"
   ]
  },
  {
   "cell_type": "markdown",
   "metadata": {
    "tags": []
   },
   "source": [
    "## Check your understanding\n",
    "\n",
    "The solutions to these excercises are provided at the very end of this notebook.\n",
    "\n",
    "Consider the classes:\n",
    "\n",
    "```Python\n",
    "import copy\n",
    "class MyClassA(object):\n",
    "    def __init__(self, x):\n",
    "        self.a = x**3\n",
    "\n",
    "    def __str__(self):\n",
    "        return '[' + str(self.a) + ']'\n",
    "        \n",
    "class MyClassB(MyClassA):\n",
    "    def __init__(self, x, y):\n",
    "        super().__init__(x)\n",
    "        self.b = x * y\n",
    "        self.a = 2 * self.a\n",
    "        \n",
    "    def __str__(self):\n",
    "        return super().__str__() + str(self.b) + super().__str__()   \n",
    "```\n",
    "\n",
    "**Q1)** Which of the following statements are true? (multiple answers may be true)\n",
    "\n",
    "a. `MyClassA` derives from `MyClassB`\n",
    "\n",
    "b. `MyClassB` derives from `MyClassA`\n",
    "\n",
    "c. `MyClassA` derives from `object`\n",
    "\n",
    "d. `MyClassB` derives from `object`\n",
    "\n",
    "e. Instance of `MyClassA` are also instances of `MyClassB`\n",
    "\n",
    "f. Instance of `MyClassB` are also instances of `MyClassA`\n",
    "\n",
    "g. Instance of `MyClassA` are also instances of `object`\n",
    "\n",
    "h. Instance of `MyClassB` are also instances of `object`\n",
    "\n",
    "\n",
    "**Q2)**  What are the values of `A.a`, `B.a` and `B.b` after the following code:\n",
    "\n",
    "```Python\n",
    "A = MyClassA(5)\n",
    "B = MyClassB(5, 3)\n",
    "```\n",
    "\n",
    "a. `A.a = 125`, `B.a = 125`, `B.b = 15`\n",
    "\n",
    "b. `A.a = 5`, `B.a = 3`, `B.b = 15`\n",
    "\n",
    "c. `A.a = 125`, `B.a = 250`, `B.b = 15`\n",
    "\n",
    "d. `A.a = 5`, `B.a = 5`, `B.b = 3`\n",
    "\n",
    "\n",
    "**Q3)** What does the following code print?\n",
    "\n",
    "```Python\n",
    "A = MyClassA(5)\n",
    "print(str(A))\n",
    "```\n",
    "\n",
    "a. `15`\n",
    "\n",
    "b. `[5]`\n",
    "\n",
    "c. `[250]`\n",
    "\n",
    "d. `[125]`\n",
    "\n",
    "\n",
    "**Q4)** What does the following code print?\n",
    "\n",
    "```Python\n",
    "B = MyClassA(5, 3)\n",
    "print(str(B))\n",
    "```\n",
    "\n",
    "a. `[5,3]`\n",
    "\n",
    "b. `5 3 5`\n",
    "\n",
    "c. `[250]15[250]`\n",
    "\n",
    "d. `5[3]5`"
   ]
  },
  {
   "cell_type": "markdown",
   "metadata": {},
   "source": [
    "<br>\n",
    "<br>\n",
    "<br>\n",
    "<br>\n",
    "<br>\n",
    "<br>\n",
    "<br>\n",
    "<br>\n",
    "<br>\n",
    "<br>\n",
    "<br>\n",
    "<br>\n",
    "<br>\n",
    "<br>\n",
    "<br>\n",
    "<br>\n",
    "<br>\n",
    "<br>\n",
    "<br>\n",
    "<br>\n",
    "<br>\n",
    "<br>\n",
    "<br>\n",
    "<br>\n",
    "<br>\n",
    "<br>\n",
    "<br>\n",
    "<br>\n",
    "<br>\n",
    "<br>\n",
    "<br>\n",
    "<br>\n",
    "<br>\n",
    "<br>\n",
    "<br>\n",
    "<br>\n",
    "\n",
    "## Solutions to \"Check your understanding\"\n",
    "\n",
    "**Q1)** Answer: b, c, f, g, h\n",
    "\n",
    "**Q2)** Answer: c.\n",
    "\n",
    "**Q3)** Answer: d.\n",
    "\n",
    "**Q4)** Answer: c.\n"
   ]
  }
 ],
 "metadata": {
  "kernelspec": {
   "display_name": "Python 3 (ipykernel)",
   "language": "python",
   "name": "python3"
  },
  "language_info": {
   "codemirror_mode": {
    "name": "ipython",
    "version": 3
   },
   "file_extension": ".py",
   "mimetype": "text/x-python",
   "name": "python",
   "nbconvert_exporter": "python",
   "pygments_lexer": "ipython3",
   "version": "3.7.11"
  }
 },
 "nbformat": 4,
 "nbformat_minor": 4
}
