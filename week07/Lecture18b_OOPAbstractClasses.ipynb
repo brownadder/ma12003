{
 "cells": [
  {
   "cell_type": "markdown",
   "metadata": {},
   "source": [
    "# OOP - Part IV.b: Abstract Classes"
   ]
  },
  {
   "cell_type": "markdown",
   "metadata": {},
   "source": [
    "In Lecture 18a, we have seen how to use inheritance in the context of *concrete* classes - i.e. classes whose instances can be created (such as `HomoSapien`, `LivingBeing` etc.). There is another context in which inheritance proves valuable: *abstract* classes. An abstract class is a class whose instances cannot be created. Typically, these classes leave the functionality of some methods unspecified. \n",
    "\n",
    "The only use of these classes is in the context of inheritance - we create a *derived* class that inherits from such an abstract class. If the derived class defines the functionality of all methods in the abstract class, we can create its instance. If functionality of some methods remains unspecified, the derived class is also abstract and we cannot create its instances. \n",
    "\n",
    "Abstract classes are useful when we wish to specify the syntax of some (or all) methods, but do not wish to implement the method or restrict to one specific implementation. We will see examples that arise naturally in the context of Mathematics. \n",
    "\n",
    "<hr style=\"height: 2px\">\n",
    "\n",
    "### What you will learn\n",
    "In this notebook we will cover the following topics:\n",
    "\n",
    "* Abstract classes and abstract methods\n",
    "* Inheriting from abstract classes\n",
    "* Implementing abstract methods\n",
    "* Decorators\n",
    "\n",
    "<hr style=\"height: 2px\">\n",
    "\n",
    "*&#169; Pranav Singh, University of Bath 2021-2022. This problem sheet is copyright of Pranav Singh, University of Bath. It is provided exclusively for educational purposes at the University and is to be downloaded or copied for your private study only. Further distribution, e.g. by upload to external repositories, is prohibited.*"
   ]
  },
  {
   "cell_type": "markdown",
   "metadata": {},
   "source": [
    "# Abstract Classes and Abstract Methods"
   ]
  },
  {
   "cell_type": "markdown",
   "metadata": {},
   "source": [
    "A Ring $(A, +, \\cdot, 0, 1)$ is a set $A$ along with two operators: $+$ and $\\cdot$. \n",
    "\n",
    "* The set $A$ has an element $0$ which is an additive identity \n",
    "* The set $A$ has an element $1$ which is a multiplicative identity.  \n",
    "* For every $a \\in A$, there is an element $-a \\in A$ (called additive inverse) such that $a + (-a) = 0$.\n",
    "* We can add two elements: $a+b$\n",
    "* We can subtract an element from another: $a-b = a+(-b)$. \n",
    "* We can multiply two elements: $a \\cdot b$. \n",
    "* In general there does not have to be a multiplicative inverse $a^{-1}$ and division $a/b$ is not necessarily defined. \n",
    "* We can always define non-negative integer powers of any element since $a^0 = 1$ and $a^{n+1} = a \\cdot (a^n)$.\n",
    "\n",
    "The following are some examples of rings:\n",
    "\n",
    "* $(\\mathbb{Q}, +, \\cdot, 0, 1)$ the ring of rationals.\n",
    "* $(\\mathbb{C}, +, \\cdot, 0, 1)$ the ring of complex numbers.\n",
    "* $(\\mathbb{R}^{n\\times n}, +, \\cdot, O_n, I_n)$ the ring of $n \\times n$ real-valued matrices, where $A \\cdot B$ is matrix product.\n",
    "* $(\\mathcal{P}(x), +, \\cdot, 0, 1)$ the ring of polynomials in $x$.\n",
    "\n",
    "Thus, many different classes could act as a *ring* and it does not make sense to implement `Ring` as a *concrete* class. Instead, `Ring` should be implemented as an *abstract* class and the above 4 examples should be concrete examples derived from it. `Ring` should specify *syntax* (not implementation) of methods and operations such as addition and multiplication, while the concrete classes should implement these operations.\n",
    "\n",
    "In Python, we create an abstract class by using Abstract Base Classes (ABC). An Abstract Base Class should not be used directly for creating instances. Rather, the purpose of an ABC is to specify the functionality that other classes should inherit and implement. \n",
    "\n",
    "We create an Abstract Base Class called `Ring` by inheriting from the class `ABC` (imported from package `abc`). "
   ]
  },
  {
   "cell_type": "code",
   "execution_count": null,
   "metadata": {},
   "outputs": [],
   "source": [
    "from abc import ABC, abstractmethod\n",
    "\n",
    "class Ring(ABC):\n",
    "    '''Ring (A, +, ., zero, id)'''\n",
    "    \n",
    "    @abstractmethod\n",
    "    def __mul__(a,b):\n",
    "        ...\n",
    "    \n",
    "    @abstractmethod\n",
    "    def __add__(a,b):\n",
    "        ...\n",
    "        \n",
    "    @abstractmethod\n",
    "    def __neg__(a,b):    \n",
    "        ...\n",
    "    \n",
    "    # Even if we do not know how to add or how to negate,\n",
    "    # we can already define subtraction in terms of these operators.\n",
    "    def __sub__(a,b):\n",
    "        return a+(-b)  # Note that a+(-b) is equivalent to a.__add__(b.__neg__())\n",
    "    \n",
    "    # The multiplicative identity \"1\" is written as \"id\" since 1 is reserved for the integer \n",
    "    @abstractmethod\n",
    "    def id():\n",
    "        ...\n",
    "    \n",
    "    # The additive identity \"0\" is written as \"zero\" since 0 is reserved for the integer \n",
    "    @abstractmethod\n",
    "    def zero():\n",
    "        ...\n",
    "    \n",
    "    @abstractmethod\n",
    "    def __str__(self):\n",
    "        ...\n",
    "    \n",
    "    # __repr__() replicates the (as yet unspecified) implementation of __str__()\n",
    "    def __repr__(self):\n",
    "        return str(self)\n",
    "    \n",
    "    # Even if id() and __mul__() are not defined yet, we can define power in terms of these\n",
    "    def __pow__(a, n):\n",
    "        if (n==0):\n",
    "            return a.__class__.id()\n",
    "        else:\n",
    "            return a * (a**(n-1))"
   ]
  },
  {
   "cell_type": "markdown",
   "metadata": {},
   "source": [
    "As you can see, we cannot create an instance of this class:"
   ]
  },
  {
   "cell_type": "code",
   "execution_count": null,
   "metadata": {},
   "outputs": [],
   "source": [
    "a = Ring()"
   ]
  },
  {
   "cell_type": "markdown",
   "metadata": {},
   "source": [
    "In fact, we have not even defined the methods such as `__mul__()`, `__add__()` etc. The current definition of `__mul__()`\n",
    "\n",
    "```Python\n",
    "    @abstractmethod\n",
    "    def __mul__(a,b):\n",
    "        ...\n",
    "```\n",
    "\n",
    "tells us the name of the method, `__mul__()`, and the fact that it should take two parameters `a` and `b`. However, it does not tell us how to compute the product `a * b`! Instead there are three dots `...` where the body (i.e. the implementation) of the method should be. \n",
    "\n",
    "Note that the line before the definition of `__mul__()` is `@abstractmethod`. A keyword appearing in the format `@keyword` in the line above a methods (or functions) definition is called a *decorator*. The decorator `@abstractmethod` tells Python \n",
    "\n",
    "* That `__mul__()` is just an abstract method with a specified syntax (`__mul__(a,b)`) and it does not have an implementation.\n",
    "* That a class derived from `Ring` must implement `__mul__()`. \n",
    "* Only once all *abstract methods* have been implemented in a Derived Class will it be possible for an instance of the Derived Class to be created.\n",
    "\n",
    "Note that every *object* has an attribute `__class__`. By accessing this class, we can access its methods and attributes. For instance, consider the following code:\n",
    "\n",
    "```Python\n",
    "    def __pow__(a, n):\n",
    "        if (n==0):\n",
    "            return a.__class__.id()\n",
    "        else:\n",
    "            return a * (a**(n-1))\n",
    "```\n",
    "Since $a^0 = 1$, when we encounter the $n=0$ case, we find the class of `a` and return the `id()` (i.e. the multiplicative identity $1$) belonging to this class. Note that the above definition of power will work as soon as we define `id` and `*` (i.e. `__mul__()`). Note that `a**(n-1)` is equivalent to `a.__pow__(n-1)`.\n",
    "\n",
    "\n",
    "Note that we have violated the *self* notation in many places - sometimes using a simpler parameter name (such as `a` in `__pow__()`) is just much more natural. "
   ]
  },
  {
   "cell_type": "markdown",
   "metadata": {},
   "source": [
    "## Inheriting to another Abstract Class"
   ]
  },
  {
   "cell_type": "markdown",
   "metadata": {},
   "source": [
    "We can inherit the abstract class `Ring` and create a concrete implementation. Or we can inherit to yet another abstract class. \n",
    "\n",
    "For instance, a *Field* is a *Ring* which also has \n",
    "* a multiplicative inverse for all elements (except for zero): for each $b \\neq 0$, there is $b^{-1} \\in A$ such that $b \\cdot (b^{-1}) = 1$ \n",
    "* division $a/b = a \\cdot (b^{-1})$.\n",
    "\n",
    "Consider the previously introduced examples:\n",
    "\n",
    "* $(\\mathbb{Q}, +, \\cdot, 0, 1)$ the ring of rationals is also a field.\n",
    "* $(\\mathbb{C}, +, \\cdot, 0, 1)$ the ring of complex numbers is also a field.\n",
    "* $(\\mathbb{R}^{n\\times n}, +, \\cdot, O_n, I_n)$ the ring of $n \\times n$ real-valued matrices is not a field since there are matrices (other than the zero matrix $O_n$) which do not have an inverse. \n",
    "* $(\\mathcal{P}(x), +, \\cdot, 0, 1)$ the ring of polynomials in $x$ is not a field since inverse of a polynomial is not a polynomial.\n",
    "\n",
    "We define the class `Field` by inheriting from `Ring`:"
   ]
  },
  {
   "cell_type": "code",
   "execution_count": null,
   "metadata": {},
   "outputs": [],
   "source": [
    "class Field(Ring):\n",
    "    '''Field (A, +, ., zero, id)'''\n",
    "    \n",
    "    @abstractmethod\n",
    "    def inv(a):\n",
    "        ...\n",
    "        \n",
    "    # Even if inv() is not defined yet, and __mul__() is inherited but not defined, we can still define a/b = a * (b.inv())\n",
    "    def __truediv__(a,b):\n",
    "        return a*(b.inv())"
   ]
  },
  {
   "cell_type": "markdown",
   "metadata": {},
   "source": [
    "Since we have not defined `inv()`, `id()`, `zero()`, `__mul__()` etc, `Field` is also an abstract class and we still cannot instantiate an object of type `Field`:"
   ]
  },
  {
   "cell_type": "code",
   "execution_count": null,
   "metadata": {},
   "outputs": [],
   "source": [
    "a = Field()"
   ]
  },
  {
   "cell_type": "markdown",
   "metadata": {},
   "source": [
    "This is not a limitation, but very much by design! The idea is that the `Field` class should act a *template* or a *blueprint* for specific fields such as $\\mathbb{Q}$ and $\\mathbb{C}$. \n",
    "\n",
    "Note that even though we have not specified how to compute `inv()` or `__mul__()` (i.e. `*`), we can define $a/b$ as $a \\cdot b^{-1}$ or `__mul__(a, b.inv())` (equivalent to `a * b.inv())`). Later on, when we define `inv()` and `__mul__()` for each derived class, the appropriate functionality of `a/b` i.e. `__truediv__()` will automatically work."
   ]
  },
  {
   "cell_type": "markdown",
   "metadata": {},
   "source": [
    "# Implementing Abstract Classes and Abstract Methods"
   ]
  },
  {
   "cell_type": "markdown",
   "metadata": {},
   "source": [
    "We now create a concrete example of a field: the field of rational numbers $(\\mathbb{Q}, +, \\cdot, 0, 1)$. We do so by deriving the new class `Rational` from the abstract class `Field` and implementing all the methods in `Field` and `Ring` which were decorated by `@abstractmethod`. "
   ]
  },
  {
   "cell_type": "code",
   "execution_count": null,
   "metadata": {},
   "outputs": [],
   "source": [
    "class Rational(Field):\n",
    "    '''Field of rational numbers (Q, +, ., zero, id)'''\n",
    "    \n",
    "    def __init__(self,num,denom):\n",
    "        self.num = num\n",
    "        self.denom = denom\n",
    "    \n",
    "    def __str__(self):\n",
    "        return '('+str(self.num)+'/'+str(self.denom)+')'\n",
    "    \n",
    "    def id():\n",
    "        return Rational(1,1)\n",
    "    \n",
    "    def zero():\n",
    "        return Rational(0,1)\n",
    "    \n",
    "    def __mul__(a,b):\n",
    "        if isinstance(b,int):\n",
    "            return Rational(a.num*b, a.denom)\n",
    "        else:\n",
    "            return Rational(a.num*b.num, a.denom*b.denom)\n",
    "    \n",
    "    def __add__(a,b):\n",
    "        cnum = a.num*b.denom + b.num*a.denom\n",
    "        cdenom = a.denom*b.denom\n",
    "        return Rational(cnum, cdenom)\n",
    "    \n",
    "    def __neg__(a):\n",
    "        return Rational(-a.num, a.denom)\n",
    "    \n",
    "    def inv(a):\n",
    "        return Rational(a.denom, a.num)"
   ]
  },
  {
   "cell_type": "markdown",
   "metadata": {},
   "source": [
    "`Rational` is a concrete class since all abstract methods have been implemented! We can create its instances:"
   ]
  },
  {
   "cell_type": "code",
   "execution_count": null,
   "metadata": {},
   "outputs": [],
   "source": [
    "a = Rational(1,2)\n",
    "b = Rational(3,5)\n",
    "print(a)\n",
    "print(b)\n",
    "print(a+b)"
   ]
  },
  {
   "cell_type": "markdown",
   "metadata": {},
   "source": [
    "We have not explicitly defined `__repr__()`,`__sub__()`, `__truediv__()` and `__pow__()` in `Rational`: These were already defined in `Ring` and `Field`, and are inherited. Note carefully, that these methos utilise the definitions of `__str__()`, `__add__()`, `__neg__()`, `__mul__()`, `inv()` and `id()`, which we defined in `Rational`.\n",
    "\n",
    "Here is an example of `__repr__()` which enables us to display an object directly on the Notebook without `print`:"
   ]
  },
  {
   "cell_type": "code",
   "execution_count": null,
   "metadata": {},
   "outputs": [],
   "source": [
    "a"
   ]
  },
  {
   "cell_type": "markdown",
   "metadata": {},
   "source": [
    "Similarly, `__sub__()`, `__truediv__()` and `__pow__()` work as expected:"
   ]
  },
  {
   "cell_type": "code",
   "execution_count": null,
   "metadata": {},
   "outputs": [],
   "source": [
    "print(a-b)\n",
    "print(a/b)\n",
    "print(a**4)"
   ]
  },
  {
   "cell_type": "markdown",
   "metadata": {},
   "source": [
    "Due to operator overloading, we can work with instances of `Rational` in the same way as we are used to dealing with `float` and `int`, and can write some fairly complicated operations in a compact way:"
   ]
  },
  {
   "cell_type": "code",
   "execution_count": null,
   "metadata": {},
   "outputs": [],
   "source": [
    "print(((a-b)**2)*(a+b)/b)"
   ]
  },
  {
   "cell_type": "code",
   "execution_count": null,
   "metadata": {},
   "outputs": [],
   "source": [
    "import numpy as np\n",
    "x1 = 1\n",
    "y1 = 3\n",
    "x2 = 0\n",
    "y2 = -1\n",
    "x3 = 7\n",
    "y3 = 2\n",
    "v = np.array([[x1, y1], [x2, y2], [x3, y3]])  \n",
    "print(v)\n",
    "print(v[0,0])\n",
    "print(v[0,1])"
   ]
  },
  {
   "cell_type": "markdown",
   "metadata": {
    "tags": []
   },
   "source": [
    "## Check your understanding\n",
    "\n",
    "The solutions to these excercises are provided at the very end of this notebook.\n",
    "\n",
    "Consider the classes:\n",
    "\n",
    "```Python\n",
    "from abc import ABC, abstractmethod\n",
    "import numpy as np\n",
    "\n",
    "class Shape(ABC):\n",
    "    \n",
    "    @abstractmethod\n",
    "    def perimeter(self):\n",
    "        ...\n",
    "    \n",
    "    @abstractmethod\n",
    "    def area(self):\n",
    "        ...\n",
    "        \n",
    "        \n",
    "class Circle(Shape):\n",
    "    def __init__(self, centre_x, centre_y, radius):\n",
    "        self.centre_x = centre_x\n",
    "        self.centre_y = centre_y\n",
    "        self.radius = radius\n",
    "        \n",
    "    def perimeter(self):\n",
    "        return 2 * np.pi * self.radius\n",
    "    \n",
    "    def area(self):\n",
    "        return np.pi * (self.radius**2)\n",
    "        \n",
    "                 \n",
    "class Polygon(Shape):    \n",
    "    def __init__(self, vertices):\n",
    "        self.vertices = vertices\n",
    "\n",
    "        \n",
    "class Triangle(Polygon):\n",
    "    def __init__(self, x1, y1, x2, y2, x3, y3):\n",
    "        vertices = np.array([[x1, y1], [x2, y2], [x3, y3]])  \n",
    "        super().__init__(vertices)\n",
    "    \n",
    "    def sides(self):\n",
    "        v = self.vertices\n",
    "        a = np.sqrt((v[0,0]-v[1,0])**2 + (v[0,1]-v[1,1])**2)\n",
    "        b = np.sqrt((v[1,0]-v[2,0])**2 + (v[1,1]-v[2,1])**2)\n",
    "        c = np.sqrt((v[2,0]-v[0,0])**2 + (v[2,1]-v[0,1])**2)\n",
    "        return a, b, c\n",
    "                \n",
    "    def perimeter(self):\n",
    "        # Compute lengths of sides\n",
    "        [a, b, c] = self.sides()\n",
    "        return a + b + c\n",
    "    \n",
    "    def area(self):\n",
    "        # Compute lengths of sides\n",
    "        [a, b, c] = self.sides()\n",
    "        p = (a+b+c)/2\n",
    "        return np.sqrt(p*(p-a)*(p-b)*(p-c))\n",
    "          \n",
    "```\n",
    "\n",
    "**Q1)** Which of the following are derived classes? (multiple answers may be true)\n",
    "\n",
    "a. `Shape` \n",
    "\n",
    "b. `Circle` \n",
    "\n",
    "c. `Polygon` \n",
    "\n",
    "d. `Triangle` \n",
    "\n",
    "<br>\n",
    "\n",
    "**Q2)** Which of the following are abstract classes? (multiple answers may be true)\n",
    "\n",
    "a. `Shape` \n",
    "\n",
    "b. `Circle` \n",
    "\n",
    "c. `Polygon` \n",
    "\n",
    "d. `Triangle` \n",
    "\n",
    "<br>\n",
    "\n",
    "**Q3)**  Which of the following methods are abstract methods in the class `Polygon`? (multiple answers may be true)\n",
    "\n",
    "a. `perimeter()` \n",
    "\n",
    "b. `area()` \n",
    "\n",
    "c. `__init__()` \n",
    "\n",
    "d. `sides()` \n",
    "\n",
    "<br>\n",
    "\n",
    "**Q4)** We wish to create a class for equilateral triangles called `EquilateralTriangle`. Which class should `EquilateralTriangle` be derived from? Specify the most efficient option in the sense that the number of methods that have to be explicitly defined (effectively, overloaded) in `EquilateralTriangle` should be minimal. Also specify the (minimum) number of methods to be implemented. \n",
    "\n",
    "a. `Shape`, 4 methods\n",
    "\n",
    "b. `Shape`, 2 methods\n",
    "\n",
    "c. `Circle`, 3 methods\n",
    "\n",
    "d. `Polygon`, 4 methods\n",
    "\n",
    "e. `Polygon`, 3 methods\n",
    "\n",
    "f. `Polygon`, 2 methods\n",
    "\n",
    "g. `Triangle`, 4 methods\n",
    "\n",
    "h. `Triangle`, 2 methods\n",
    "\n",
    "i. `Triangle`, 1 method\n",
    "\n",
    "<br>\n",
    "\n",
    "**Q5)** We update the definition of the class `Polygon` by implementing the follwing method for computing perimeter-to-area ratio in the class `Polygon`:\n",
    "\n",
    "```Python\n",
    "    def perimeter_to_area(self):\n",
    "        return self.perimeter()/self.area()\n",
    "```\n",
    "\n",
    "Which of the following classes have this method? (multiple answers may be true)\n",
    "\n",
    "a. `Shape`\n",
    "\n",
    "b. `Circle`\n",
    "\n",
    "c. `Polygon`\n",
    "\n",
    "d. `Triangle`"
   ]
  },
  {
   "cell_type": "markdown",
   "metadata": {},
   "source": [
    "<br>\n",
    "<br>\n",
    "<br>\n",
    "<br>\n",
    "<br>\n",
    "<br>\n",
    "<br>\n",
    "<br>\n",
    "<br>\n",
    "<br>\n",
    "<br>\n",
    "<br>\n",
    "<br>\n",
    "<br>\n",
    "<br>\n",
    "<br>\n",
    "<br>\n",
    "<br>\n",
    "<br>\n",
    "<br>\n",
    "<br>\n",
    "<br>\n",
    "<br>\n",
    "<br>\n",
    "<br>\n",
    "<br>\n",
    "<br>\n",
    "<br>\n",
    "<br>\n",
    "<br>\n",
    "<br>\n",
    "<br>\n",
    "<br>\n",
    "<br>\n",
    "<br>\n",
    "<br>\n",
    "\n",
    "## Solutions to \"Check your understanding\"\n",
    "\n",
    "**Q1)** Answer: b, c, d\n",
    "\n",
    "**Q2)** Answer: a, c\n",
    "\n",
    "**Q3)** Answer: a, b\n",
    "\n",
    "**Q4)** Answer: i\n",
    "\n",
    "**Q5)** Answer: c, d"
   ]
  }
 ],
 "metadata": {
  "kernelspec": {
   "display_name": "Python 3 (ipykernel)",
   "language": "python",
   "name": "python3"
  },
  "language_info": {
   "codemirror_mode": {
    "name": "ipython",
    "version": 3
   },
   "file_extension": ".py",
   "mimetype": "text/x-python",
   "name": "python",
   "nbconvert_exporter": "python",
   "pygments_lexer": "ipython3",
   "version": "3.7.11"
  }
 },
 "nbformat": 4,
 "nbformat_minor": 4
}
