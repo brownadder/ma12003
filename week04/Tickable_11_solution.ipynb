{
 "cells": [
  {
   "attachments": {},
   "cell_type": "markdown",
   "metadata": {},
   "source": [
    "# Tickable Exercise 11\n",
    "**Set**: Mon 26 Feb 2024\n",
    "\n",
    "**Due**: In your allocated computer lab in week 5\n",
    "\n",
    "In this tickable we will look at implementing a set of classes for working with geometric objects such as points and lines.\n",
    "\n",
    "<hr style=\"height: 2px\">\n",
    "\n",
    "*&#169; Pranav Singh, University of Bath 2021-2024. This problem sheet is copyright of Pranav Singh, University of Bath. It is provided exclusively for educational purposes at the University and is to be downloaded or copied for your private study only. Further distribution, e.g. by upload to external repositories, is prohibited.*"
   ]
  },
  {
   "cell_type": "markdown",
   "metadata": {},
   "source": [
    "## Points in 2D"
   ]
  },
  {
   "cell_type": "markdown",
   "metadata": {},
   "source": [
    "A point in 2D space can be represented by two real numbers, $x$ and $y$, which are called the coordinates of this point. In mathematics, we write points using the notation $(x,y)$. For instance, $(2,3)$, $(-1,0)$ and $(0,0)$ are three points in 2D. "
   ]
  },
  {
   "cell_type": "markdown",
   "metadata": {},
   "source": [
    "### &#9745; Task 1:\n",
    "\n",
    "#### Task 1a\n",
    "Create a user defined type (i.e. class) called `Point` to represent points in 2D.\n",
    "\n",
    "#### Task 1b \n",
    "Create 2D points (0, 4), (0, 0) and (3,0) as instances of the class `Point` named `pt1`, `pt2` and `pt3`, respectively, with the values of the attributes `x` and `y` set appropriately for these three points."
   ]
  },
  {
   "cell_type": "code",
   "execution_count": null,
   "metadata": {},
   "outputs": [],
   "source": [
    "class Point(object):\n",
    "    '''Points in 2D'''"
   ]
  },
  {
   "cell_type": "code",
   "execution_count": null,
   "metadata": {},
   "outputs": [],
   "source": [
    "pt1 = Point()\n",
    "pt1.x = 0\n",
    "pt1.y = 4\n",
    "\n",
    "pt2 = Point()\n",
    "pt2.x = 0\n",
    "pt2.y = 0\n",
    "\n",
    "pt3 = Point()\n",
    "pt3.x = 3\n",
    "pt3.y = 0"
   ]
  },
  {
   "cell_type": "markdown",
   "metadata": {
    "tags": []
   },
   "source": [
    "### &#9745; Task 2:\n",
    "\n",
    "Define a function `to_str_pt`: `Point` $\\longrightarrow$ `str`, which takes a `Point` and returns a string representation of the point (which is of type `str`). For instance `to_str_pt(pt1)` should return the string `'(0,4)'` and `to_str_pt(pt2)` should return the string `'(0,0)'`."
   ]
  },
  {
   "cell_type": "code",
   "execution_count": null,
   "metadata": {},
   "outputs": [],
   "source": [
    "def to_str_pt(pt):\n",
    "    '''Returns a string representation of a 2D point'''\n",
    "    return '(' + str(pt.x) + ',' + str(pt.y) + ')'"
   ]
  },
  {
   "cell_type": "markdown",
   "metadata": {},
   "source": [
    "Check that your function gives the correct string representation for `pt1` by running the code\n",
    "```Python \n",
    "    to_str_pt(pt1)\n",
    "```\n",
    "in a new cell."
   ]
  },
  {
   "cell_type": "code",
   "execution_count": null,
   "metadata": {},
   "outputs": [],
   "source": [
    "to_str_pt(pt1)"
   ]
  },
  {
   "cell_type": "markdown",
   "metadata": {},
   "source": [
    "## Lines in 2D"
   ]
  },
  {
   "cell_type": "markdown",
   "metadata": {},
   "source": [
    "* We can represent non-vertical lines in 2D in a very similar way to linear functions. All non-vertical lines can be represented as $y=mx+c$, i.e. the parameters $m$ (the slope) and $c$ (the y intercept) uniquely define a non-vertical line. \n",
    "\n",
    "* However, there is an exception: we cannot represent vertical lines in this notation! Vertical lines can be represented as $x=x_0$, i.e. the parameter $x_0$ (the x intercept) uniquely defines a vertical line."
   ]
  },
  {
   "cell_type": "markdown",
   "metadata": {},
   "source": [
    "We create a user defined type (class) called `Line` to represent lines in 2D:"
   ]
  },
  {
   "cell_type": "code",
   "execution_count": null,
   "metadata": {},
   "outputs": [],
   "source": [
    "class Line(object):\n",
    "    '''Lines in 2D'''"
   ]
  },
  {
   "cell_type": "markdown",
   "metadata": {},
   "source": [
    "We can now create valid instances of `Line` in two different ways. Non-vertical lines can be represented by setting the attributes `m` and `c`. For example the line $y = 3x - 5$ is represented as:"
   ]
  },
  {
   "cell_type": "code",
   "execution_count": null,
   "metadata": {},
   "outputs": [],
   "source": [
    "ln1 = Line()\n",
    "ln1.m = 3\n",
    "ln1.c = -5"
   ]
  },
  {
   "cell_type": "markdown",
   "metadata": {},
   "source": [
    "Vertical lines, on the other hand, are represented by setting the attribute `x0`. For example, the vertical line $x=5$ is represented as:"
   ]
  },
  {
   "cell_type": "code",
   "execution_count": null,
   "metadata": {},
   "outputs": [],
   "source": [
    "ln2 = Line()\n",
    "ln2.x0 = 5"
   ]
  },
  {
   "cell_type": "markdown",
   "metadata": {},
   "source": [
    "### &#9745; Task 3:\n",
    "\n",
    "* Define a function `is_vertical_ln` : `Line` $\\longrightarrow$ `Boolean` which tells us whether a particular line is vertical or not. This function should take a parameter of type `Line` and should return `True` if the line is vertical and `False` otherwise. **Hint:** You should use the `hasattr` function to find out whether an instance of `Line` has the attribute `x0` or not (see last part of Lecture 15).\n",
    "\n",
    "* Define a function `to_str_ln`: `Line` $\\longrightarrow$ `str` which produces a string representation of a line. For a vertical line such as `ln2` in the example above, it should produce the string `'x = 5'` and for a non-vertical line `ln1` defined above, this function should produce the string `'y = 3x + -5'`."
   ]
  },
  {
   "cell_type": "code",
   "execution_count": null,
   "metadata": {},
   "outputs": [],
   "source": [
    "def is_vertical_ln(ln):\n",
    "    '''Returns a Boolean value to indicate vertical 2D lines'''\n",
    "    return hasattr(ln, 'x0')\n",
    "\n",
    "def to_str_ln(ln):\n",
    "    '''Returns a string representation of a 2D line'''\n",
    "    if is_vertical_ln(ln):\n",
    "        return 'x = ' + str(ln.x0)\n",
    "    else:\n",
    "        return 'y = ' + str(ln.m) + 'x + ' + str(ln.c) "
   ]
  },
  {
   "cell_type": "markdown",
   "metadata": {},
   "source": [
    "\n",
    "After implementing the above functions, the code\n",
    "```Python\n",
    "print(to_str_ln(ln1))\n",
    "print(to_str_ln(ln2))\n",
    "```\n",
    "produces the following user readable output:\n",
    "```Python\n",
    "y = 3x + -5\n",
    "x = 5\n",
    "```\n",
    "\n",
    "You should try printing `to_str_ln(ln1)` in a new cell to see what output you get."
   ]
  },
  {
   "cell_type": "code",
   "execution_count": null,
   "metadata": {},
   "outputs": [],
   "source": [
    "print(to_str_ln(ln1))"
   ]
  },
  {
   "cell_type": "markdown",
   "metadata": {},
   "source": [
    "## Intersection of Lines"
   ]
  },
  {
   "cell_type": "markdown",
   "metadata": {},
   "source": [
    "* Two vertical lines do not intersect (except when they are identical, i.e. same $x_0$, in which case the point of intersection is ill defined).\n",
    "\n",
    "* The intersection of a vertical line $x=x_0$ with a non-vertical line $y = mx + c$ is given by $(x_0, m x_0 + c)$, i.e. the $y$ coordinate is simply obtained by substituting value of $x=x_0$ in the definition $y=mx+c$.\n",
    "\n",
    "* The intersection of the non-vertical lines $y = m_1 x + c_1$ and $y = m_2 x + c_2$ can be computed by solving for \n",
    "\n",
    "$$\n",
    "m_1 x + c_1 = m_2 x + c_2 \\quad \\Longleftrightarrow \\quad (m_2-m_1) x = c_1 - c_2 \\quad \\Longleftrightarrow \\quad x = \\frac{c_1 - c_2}{m_2-m_1}, \\qquad \\text{provided} \\quad m_1 \\neq  m_2.\n",
    "$$\n",
    "\n",
    "For instance, we can compute the intersection between the lines $y = 5x + 7$ and $y = 3x - 4$ by solving for\n",
    "\n",
    "$$\n",
    "5 x + 7  = 3x - 4 \\quad \\Longleftrightarrow \\quad x = \\frac{-11}{2}.\n",
    "$$\n",
    "\n",
    "This gives us the $x$ coordinate. The $y$ coordinate is then obtained by substituting the value of $x$ in $y=mx+c$ (using either of the two line definitions). In our example, we could substitute $x = \\frac{-11}{2}$ in the first line definition $y = 5x + 7$,\n",
    "\n",
    "$$\n",
    "y  = 5 \\times \\frac{-11}{2} + 7 = \\frac{-55+14}{2} = \\frac{-41}{2}\n",
    "$$\n",
    "\n",
    "Therefore, the point of intersection is\n",
    "\n",
    "$$\n",
    "\\left( \\frac{-11}{2}, \\frac{-41}{2} \\right) \\quad \\in \\mathbb{Q}^2.\n",
    "$$"
   ]
  },
  {
   "cell_type": "markdown",
   "metadata": {},
   "source": [
    "### &#9745; Task 4:\n",
    "\n",
    "Implement a function `intersect_ln`: `Line` $\\times$ `Line` $\\longrightarrow$ `Point`, which computes the intersection between lines in 2D and returns the point of intersection.\n",
    "\n",
    "* If the lines do not intersect because they are **parallel**, you should raise an exception `'The specified lines are parallel and do not intersect'`. \n",
    "\n",
    "* If the intersection is not unique or because the lines are **identical**,  you should raise an exception `'The specified lines are identical and do not intersect in a unique point'`. "
   ]
  },
  {
   "cell_type": "code",
   "execution_count": null,
   "metadata": {},
   "outputs": [],
   "source": [
    "def intersect_ln(ln1, ln2):\n",
    "    '''Returns a 2D point corresponding to the intersection of two lines in 2D '''\n",
    "    if is_vertical_ln(ln1) and is_vertical_ln(ln2):\n",
    "        # two vertical lines do not intersect in a unique point - either they are identical or parallel\n",
    "        if ln1.x0==ln2.x0:\n",
    "            raise Exception('The specified lines are identical and do not intersect in a unique point')\n",
    "        else:\n",
    "            raise Exception('The specified lines are parallel and do not intersect')\n",
    "    elif is_vertical_ln(ln1): \n",
    "        # ln2 cannot also be vertical - the case of both ln1 and ln2 being vertical was covered by the first if\n",
    "        pt = Point() # point of intersection\n",
    "        pt.x = ln1.x0\n",
    "        pt.y = ln2.m * pt.x + ln2.c\n",
    "        return pt\n",
    "    elif is_vertical_ln(ln2): \n",
    "        # ln1 cannot also be vertical - the case of both ln1 and ln2 being vertical was covered by the first if\n",
    "        pt = Point() # point of intersection\n",
    "        pt.x = ln2.x0\n",
    "        pt.y = ln1.m * pt.x + ln1.c\n",
    "        return pt\n",
    "    else: \n",
    "        # neither ln1 nor ln2 is vertical\n",
    "        if (ln1.m==ln2.m): # check for parallel lines\n",
    "            if (ln1.c==ln2.c): # check for identical lines\n",
    "                raise Exception('The specified lines are identical and do not intersect in a unique point')\n",
    "            else:\n",
    "                raise Exception('The specified lines are parallel and do not intersect')\n",
    "        else:\n",
    "            # lines are not parallel/identical, so they intersect\n",
    "            pt = Point()\n",
    "            pt.x = (ln1.c-ln2.c)/(ln2.m-ln1.m)\n",
    "            pt.y = ln1.m * pt.x + ln1.c\n",
    "            return pt"
   ]
  },
  {
   "cell_type": "markdown",
   "metadata": {},
   "source": [
    "After implementing the above functions, we can compute the intersection of the two lines $y = 3x - 5$ and $x=5$ as:\n",
    "```Python\n",
    "intersection_pt = intersect_ln(ln1, ln2)\n",
    "print(to_str_pt(intersection_pt))\n",
    "```\n",
    "You should try this code in a new cell and make sure it produces the following user readable output:\n",
    "```Python\n",
    "(5,10)\n",
    "```\n",
    "which is the point where the two lines intersect. "
   ]
  },
  {
   "cell_type": "code",
   "execution_count": null,
   "metadata": {},
   "outputs": [],
   "source": [
    "intersection_pt = intersect_ln(ln1, ln2)\n",
    "print(to_str_pt(intersection_pt))"
   ]
  },
  {
   "cell_type": "markdown",
   "metadata": {},
   "source": [
    "## Testing\n",
    "To test your code, copy the following tests into your notebook and execute them with the `run_tests()` command. You can also create additional tests of your own."
   ]
  },
  {
   "cell_type": "code",
   "execution_count": null,
   "metadata": {},
   "outputs": [],
   "source": [
    "# Tests for Task 1    \n",
    "\n",
    "def test_task1_isinstance_pt():\n",
    "    assert isinstance(pt1, Point) and isinstance(pt2, Point) and isinstance(pt3, Point) \n",
    "    \n",
    "def test_task1_attributes_pt2():\n",
    "    assert hasattr(pt2,'x') and hasattr(pt2,'y')\n",
    "\n",
    "def test_task1_attributes_pt1():\n",
    "    assert pt1.x == 0 and pt1.y == 4\n",
    "    \n",
    "def test_task1_attributes_pt2():\n",
    "    assert pt2.x == 0 and pt2.y == 0\n",
    "    \n",
    "def test_task1_attributes_pt3():\n",
    "    assert pt3.x == 3 and pt3.y == 0\n",
    "    \n",
    "    \n",
    "# Tests for Task 2\n",
    "\n",
    "def test_task2_str_pt1():\n",
    "    assert to_str_pt(pt1)=='(0,4)'\n",
    "    \n",
    "def test_task2_str_pt2():\n",
    "    assert to_str_pt(pt2)=='(0,0)'\n",
    "    \n",
    "def test_task2_str_pt3():\n",
    "    assert to_str_pt(pt3)=='(3,0)'\n",
    "    \n",
    "    \n",
    "# Tests for Task 3\n",
    "\n",
    "def test_task3_vertical_ln():\n",
    "    ln2 = Line()\n",
    "    ln2.x0 = 5\n",
    "    assert is_vertical_ln(ln2)\n",
    "\n",
    "def test_task3_non_vertical_ln():\n",
    "    ln1 = Line()\n",
    "    ln1.m = 3\n",
    "    ln1.c = -5\n",
    "    assert not(is_vertical_ln(ln1))\n",
    "\n",
    "def test_task3_str_vertical_ln():\n",
    "    ln2 = Line()\n",
    "    ln2.x0 = 5\n",
    "    assert to_str_ln(ln2)=='x = 5'\n",
    "    \n",
    "def test_task3_str_non_vertical_ln():\n",
    "    ln1 = Line()\n",
    "    ln1.m = 3\n",
    "    ln1.c = -5\n",
    "    assert to_str_ln(ln1)=='y = 3x + -5'\n",
    "    \n",
    "    \n",
    "# Tests for Task 4    \n",
    "\n",
    "def test_task4_intersection_12():\n",
    "    '''Intersection of the two lines described in Task 4'''\n",
    "    ln1 = Line()\n",
    "    ln1.m = 3\n",
    "    ln1.c = -5\n",
    "    \n",
    "    ln2 = Line()\n",
    "    ln2.x0 = 5\n",
    "    \n",
    "    intersection_pt = intersect_ln(ln1, ln2)\n",
    "    assert isinstance(intersection_pt, Point) and intersection_pt.x == 5 and intersection_pt.y == 10\n",
    "    \n",
    "    \n",
    "def test_task4_intersection_symmetry():\n",
    "    '''The intersection of lines 1 and 2 is the same as the intersection of lines 2 and 1: i.e. order should not matter'''\n",
    "    ln1 = Line()\n",
    "    ln1.m = 3\n",
    "    ln1.c = -5\n",
    "    \n",
    "    ln2 = Line()\n",
    "    ln2.x0 = 5\n",
    "    \n",
    "    intersection_pt_12 = intersect_ln(ln1, ln2)\n",
    "    intersection_pt_21 = intersect_ln(ln2, ln1)\n",
    "    assert intersection_pt_21.x == intersection_pt_12.x and intersection_pt_21.y == intersection_pt_12.y\n",
    "    \n",
    "\n",
    "def test_task4_parallel_vertical():\n",
    "    '''Two parallel lines do not intersect - vertical lines example'''\n",
    "    ln1 = Line()\n",
    "    ln1.x0 = -2\n",
    "    \n",
    "    ln2 = Line()\n",
    "    ln2.x0 = 5\n",
    "    \n",
    "    try:\n",
    "        intersection_pt = intersect_ln(ln1, ln2)\n",
    "        assert(1==0)  # This should not run because the above line should raise an exception\n",
    "    except Exception as e:\n",
    "        assert(str(e)=='The specified lines are parallel and do not intersect')\n",
    "\n",
    "        \n",
    "run_tests()"
   ]
  },
  {
   "cell_type": "markdown",
   "metadata": {},
   "source": [
    "## Other things you may want to try out"
   ]
  },
  {
   "cell_type": "markdown",
   "metadata": {},
   "source": [
    "When we work solely with lines with integer or rational coefficients, the point of intersection will always be rational. For instance, the intersection of $y = 5x + 7$ and $y = 3x - 4$ is $\\left( \\frac{-11}{2}, \\frac{-41}{2} \\right) \\in \\mathbb{Q}^2$, as we have seen. However, your code will give an output of (-5.5, -20.5)."
   ]
  },
  {
   "cell_type": "code",
   "execution_count": null,
   "metadata": {},
   "outputs": [],
   "source": [
    "ln3 = Line()\n",
    "ln3.m = 5\n",
    "ln3.c = 7\n",
    "\n",
    "ln4 = Line()\n",
    "ln4.m = 3\n",
    "ln4.c = -4\n",
    "\n",
    "pt = intersect_ln(ln3, ln4)\n",
    "print(to_str_pt(pt))"
   ]
  },
  {
   "cell_type": "markdown",
   "metadata": {},
   "source": [
    "### RationalPoint\n",
    "\n",
    "You could use the functionality of `rational.py` to \n",
    "\n",
    "* Create a `RationalPoint` class to represent points $(x,y)$ where $x,y$ are rationals. \n",
    "* Create a new function `to_str_ratpt` for string representations of objects of this class. \n",
    "* Create a `RationalPoint` instance for the point $\\left( \\frac34, -\\frac12 \\right)$ and check that the function `to_str_ratpt` creates the string representation `(3 / 4 , -1 / 2)`."
   ]
  },
  {
   "cell_type": "code",
   "execution_count": null,
   "metadata": {},
   "outputs": [],
   "source": [
    "import rational \n",
    "\n",
    "class RationalPoint(object):\n",
    "    '''Points in 2D with rational coordinates'''\n",
    "\n",
    "def to_str_ratpt(rpt):\n",
    "    '''Returns a string representation of a 2D point with rational coordinates'''\n",
    "    return '(' + rational.to_str(rpt.x) + ' , ' +  rational.to_str(rpt.y) + ')'\n",
    "\n",
    "rpt1 = RationalPoint()\n",
    "rpt1.x = [3,4]\n",
    "rpt1.y = [-1,2]\n",
    "\n",
    "print(to_str_ratpt(rpt1))"
   ]
  },
  {
   "cell_type": "markdown",
   "metadata": {},
   "source": [
    "### RationalLine\n",
    "\n",
    "* Create a `RationalLine` class to represent lines where the parameters $m$ and $c$ (in case of non-vertical lines) and $x_0$ (in case of vertical lines) are all rational. \n",
    "* Create `RationalLine` instances for the lines $y=\\frac35 x -\\frac27, y = 2x + \\frac13$ and $x=\\frac12$.\n",
    "* Create an identical copy of `is_vertical_ln` called `is_vertical_ratln` which tells us if a RationalLine is vertical or not.\n",
    "* Create a new function `to_str_ratln` for string representations of objects of this class and test it on the `RationalLine` instances you have created.\n",
    "* Create a new function `intersect_ratln` which returns a `RationalPoint` as the intersection of two lines.\n",
    "* Find the intersections of the lines $y=\\frac35 x -\\frac27$ and $y = 2x + \\frac13$, and of lines $y=\\frac35 x -\\frac27$ and $x=\\frac12$."
   ]
  },
  {
   "cell_type": "code",
   "execution_count": null,
   "metadata": {},
   "outputs": [],
   "source": [
    "class RationalLine(object):\n",
    "    '''Lines in 2D with rational coefficients'''\n",
    "\n",
    "def is_vertical_ratln(rln):\n",
    "    '''Returns a Boolean value to indicate vertical 2D lines'''\n",
    "    return hasattr(rln, 'x0')\n",
    "\n",
    "def to_str_ratln(rln):\n",
    "    '''Returns a string representation of a 2D line with rational coordinates'''\n",
    "    if is_vertical_ratln(rln):\n",
    "        return 'x = ' + rational.to_str(rln.x0)\n",
    "    else:\n",
    "        return 'y = ' + rational.to_str(rln.m) + 'x + ' + rational.to_str(rln.c) "
   ]
  },
  {
   "cell_type": "code",
   "execution_count": null,
   "metadata": {},
   "outputs": [],
   "source": [
    "rln1 = RationalLine()\n",
    "rln1.m = [3,5]\n",
    "rln1.c = [-2,7]\n",
    "\n",
    "rln2 = RationalLine()\n",
    "rln2.m = [2,1]\n",
    "rln2.c = [1,3]\n",
    "\n",
    "rln3 = RationalLine()\n",
    "rln3.x0 = [1,2]\n",
    "\n",
    "print(is_vertical_ratln(rln1))\n",
    "print(is_vertical_ratln(rln2))\n",
    "print(is_vertical_ratln(rln3))\n",
    "print(to_str_ratln(rln1))\n",
    "print(to_str_ratln(rln2))\n",
    "print(to_str_ratln(rln3))"
   ]
  },
  {
   "cell_type": "code",
   "execution_count": null,
   "metadata": {},
   "outputs": [],
   "source": [
    "def intersect_ratln(rln1, rln2):\n",
    "    if is_vertical_ratln(rln1) and is_vertical_ratln(rln2):\n",
    "        # two vertical lines do not intersect in a unique point - either they are identical or parallel\n",
    "        if rln1.x0==rln2.x0:\n",
    "            raise Exception('The specified lines are identical and do not intersect in a unique point')\n",
    "        else:\n",
    "            raise Exception('The specified lines are parallel and do not intersect')\n",
    "    elif is_vertical_ratln(rln1): \n",
    "        # rln2 cannot also be vertical - the case of both rln1 and rln2 being vertical was covered by the first if\n",
    "        rpt = RationalPoint() # point of intersection as a RationalPoint!\n",
    "        rpt.x = rln1.x0\n",
    "        rpt.y = rational.add( rational.mul(rln2.m , rpt.x) , rln2.c)\n",
    "        return pt\n",
    "    elif is_vertical_ratln(rln2): \n",
    "        # rln1 cannot also be vertical - the case of both rln1 and rln2 being vertical was covered by the first if\n",
    "        rpt = RationalPoint() # point of intersection as a RationalPoint!\n",
    "        rpt.x = rln2.x0\n",
    "        rpt.y = rational.add( rational.mul(rln1.m , rpt.x) , rln1.c)\n",
    "        return rpt\n",
    "    else: \n",
    "        # neither rln1 nor rln2 is vertical\n",
    "        if (rln1.m==rln2.m): # check for parallel lines\n",
    "            if (rln1.c==rln2.c): # check for identical lines\n",
    "                raise Exception('The specified lines are identical and do not intersect in a unique point')\n",
    "            else:\n",
    "                raise Exception('The specified lines are parallel and do not intersect')\n",
    "        else:\n",
    "            # lines are not parallel/identical, so they intersect\n",
    "            rpt = RationalPoint()\n",
    "            c1_minus_c2 = rational.add(rln1.c , rational.mul_int(-1, rln2.c) )\n",
    "            m2_minus_m1 = rational.add(rln2.m , rational.mul_int(-1, rln1.m) )\n",
    "            inv_m2_minus_m1 = [m2_minus_m1[1], m2_minus_m1[0]]  # inverse of a rational\n",
    "            \n",
    "            rpt.x = rational.mul( c1_minus_c2, inv_m2_minus_m1 )\n",
    "            rpt.y = rational.add( rational.mul(rln1.m , rpt.x) , rln1.c)\n",
    "            return rpt"
   ]
  },
  {
   "cell_type": "code",
   "execution_count": null,
   "metadata": {},
   "outputs": [],
   "source": [
    "rpt12 = intersect_ratln(rln1, rln2)\n",
    "print(to_str_ratpt(rpt12))\n",
    "\n",
    "rpt13 = intersect_ratln(rln1, rln3)\n",
    "print(to_str_ratpt(rpt13))"
   ]
  }
 ],
 "metadata": {
  "kernelspec": {
   "display_name": "Python 3",
   "language": "python",
   "name": "python3"
  },
  "language_info": {
   "codemirror_mode": {
    "name": "ipython",
    "version": 3
   },
   "file_extension": ".py",
   "mimetype": "text/x-python",
   "name": "python",
   "nbconvert_exporter": "python",
   "pygments_lexer": "ipython3",
   "version": "3.10.9"
  }
 },
 "nbformat": 4,
 "nbformat_minor": 4
}
