{
 "cells": [
  {
   "cell_type": "markdown",
   "metadata": {},
   "source": [
    "<div style=\"text-align:right;color:blue\">version id: __VERSION_ID__</div>\n",
    "\n",
    "# Object Oriented Programming (OOP) - Part I: User defined types\n",
    "\n",
    "<center><i>Programs must be written for people to read, and only incidentally for machines to execute.</i></center>\n",
    "<p style=\"text-align:center;\">(Abelson and Sussman, 1985)</p>"
   ]
  },
  {
   "cell_type": "markdown",
   "metadata": {},
   "source": [
    "In the first part of this course we mentioned that \"*programming is about writing instructions (=computer code) that a computer can execute*\". Our first consideration when writing code therefore is *correctness*, i.e. that the code should do what we expect it to do. Often the next consideration is *efficiency* or *speed*. However, when it comes to writing larger pieces of code that achieve more complex computational tasks or that aim to survive more than a few weeks' use by the programmer her(him)self, we need to consider aspects beyond correctness and speed. \n",
    "\n",
    "In this notebook we will learn about Object Oriented Programming (OOP) in Python, which consists of some programming concepts and practices that are extremely helpful in making complex programs easier to write, and leads to readable, reusable and maintainable programs. It is no surprise that OOP becomes absolutely essential when writing large scale programs and is used in virtually every piece of software that you use on a daily basis. As you will see from the examples we will cover, however,  OOP is just as helpful for writing good programs for mathematical purposes! \n",
    "\n",
    "<hr style=\"height: 2px\">\n",
    "\n",
    "### What you will learn\n",
    "In this notebook we will cover the following topics:\n",
    "\n",
    "* User defined types (classes) \n",
    "* Creating objects or instances of user defined types\n",
    "* Attributes (or properties) of objects\n",
    "* Functions that act on objects\n",
    "* Attributes of a class\n",
    "\n",
    "<hr style=\"height: 2px\">\n",
    "\n",
    "*&#169; Pranav Singh, University of Bath 2021-2025. This problem sheet is copyright of Pranav Singh, University of Bath. It is provided exclusively for educational purposes at the University and is to be downloaded or copied for your private study only. Further distribution, e.g. by upload to external repositories, is prohibited.*"
   ]
  },
  {
   "cell_type": "markdown",
   "metadata": {},
   "source": [
    "## Linear functions"
   ]
  },
  {
   "cell_type": "markdown",
   "metadata": {},
   "source": [
    "Consider degree 1 polynomials in $x \\in \\mathbb{R}$. These are linear functions $f(x) = ax + b$ with integer coefficients $a,b \\in \\mathbb{Z}$, and can be represented by a list of integers `[a,b]`. For instance, we store $f(x) = 3x-4$ as `[3,-4]`."
   ]
  },
  {
   "cell_type": "code",
   "execution_count": null,
   "metadata": {},
   "outputs": [],
   "source": [
    "f = [3,-4]"
   ]
  },
  {
   "cell_type": "markdown",
   "metadata": {},
   "source": [
    "Just like Tickables 10, we can define a function that helps us evaluate a linear function (degree 1 polynomial) at a point $x\\in \\mathbb{R}$. "
   ]
  },
  {
   "cell_type": "code",
   "execution_count": null,
   "metadata": {},
   "outputs": [],
   "source": [
    "def evaluate(g, x):\n",
    "    a = g[0]\n",
    "    b = g[1]\n",
    "    return a*x + b\n",
    "\n",
    "print(evaluate(f, 3/7))\n",
    "print(evaluate(f,0))\n",
    "print(evaluate(f,-1))"
   ]
  },
  {
   "cell_type": "markdown",
   "metadata": {},
   "source": [
    "Note that even though the coefficients $a$ and $b$ are integers and the point $x=3/7$ is rational, $f(x)$ is not computed as a rational. This is because $3/7$ is stored in the computer as a floating point number. In order to get the answer in terms of rational numbers, $3 \\times \\frac{3}{7} - 4 = \\frac{9-28}{7} = -\\frac{19}{7}$, we would have to use our implementation of rational numbers from Lecture 14. This implementation is available in the module `rational.py` in the folder `week04` and we can utilise it by importing it using `import rational`."
   ]
  },
  {
   "cell_type": "code",
   "execution_count": null,
   "metadata": {},
   "outputs": [],
   "source": [
    "import rational\n",
    "\n",
    "def evaluate_rat(g, x):\n",
    "    a = g[0]\n",
    "    b = g[1]\n",
    "    return rational.add_int(b, rational.mul_int(a, x))\n",
    "\n",
    "x = [3, 7]\n",
    "f = [3, -4]\n",
    "\n",
    "print(rational.to_str(evaluate_rat(f, x)))"
   ]
  },
  {
   "cell_type": "markdown",
   "metadata": {},
   "source": [
    "<br>\n",
    "\n",
    "#### Issues with this approach\n",
    "\n",
    "Let us pause to make a few observations. Since `a` and `b` are integers (not rationals), in \n",
    "\n",
    "```Python\n",
    "return rational.add_int(b, rational.mul_int(a, x))\n",
    "```\n",
    "\n",
    "we have to be very careful to use `add_int` and `mul_int` instead of `add` and `mul`. In mathematics, we could simply write $3 \\times \\frac{3}{7}$ and $\\frac{9}{7} - 4$, knowing that $3$ can always be interpreted as $\\frac{3}{1}$ and $-4$ as $\\frac{-4}{1}$. However, using `rational.mul` gives us an error.\n"
   ]
  },
  {
   "cell_type": "code",
   "execution_count": null,
   "metadata": {},
   "outputs": [],
   "source": [
    "rational.mul(3,[3,7])"
   ]
  },
  {
   "cell_type": "markdown",
   "metadata": {},
   "source": [
    "<br> \n",
    "\n",
    "We have to be careful of the **order of the parameters** for `add_int` and `mul_int`. For instance `rational.mul_int([3,7],3)` gives an error. In mathematics, we don't have to care about the order of multiplication of rationals and integers, $3 \\times \\frac{3}{7} = \\frac{3}{7} \\times 3 = \\frac{9}{7}$."
   ]
  },
  {
   "cell_type": "code",
   "execution_count": null,
   "metadata": {},
   "outputs": [],
   "source": [
    "rational.mul_int([3,7],3)"
   ]
  },
  {
   "cell_type": "markdown",
   "metadata": {},
   "source": [
    "<br>\n",
    "\n",
    "Nothing stops us from treating `f` which is a linear function (degree 1 polynomial), as a rational number"
   ]
  },
  {
   "cell_type": "code",
   "execution_count": null,
   "metadata": {},
   "outputs": [],
   "source": [
    "print(rational.to_str(f))"
   ]
  },
  {
   "cell_type": "markdown",
   "metadata": {},
   "source": [
    "or from treating `x` (which is a rational number) as a linear function"
   ]
  },
  {
   "cell_type": "code",
   "execution_count": null,
   "metadata": {},
   "outputs": [],
   "source": [
    "print(evaluate(x,3))"
   ]
  },
  {
   "cell_type": "markdown",
   "metadata": {},
   "source": [
    "or, both, leading to potentially ambiguous situation such as in the case of `evaluate_rat` where we have to think carefully to recall whether the first parameter is a linear function and the second a rational number, or vice-versa."
   ]
  },
  {
   "cell_type": "code",
   "execution_count": null,
   "metadata": {},
   "outputs": [],
   "source": [
    "print(evaluate_rat([3,4],[1,2]))"
   ]
  },
  {
   "cell_type": "markdown",
   "metadata": {},
   "source": [
    "The code quickly becomes **unreadable**. For instance, ask yourself which of the following is more readable:\n",
    "\n",
    "```Python\n",
    "    rational.add_int(b, rational.mul_int(a, x))\n",
    "```\n",
    "\n",
    "&emsp;&emsp;or \n",
    "\n",
    "``` Python\n",
    "    a*x + b \n",
    "```"
   ]
  },
  {
   "cell_type": "markdown",
   "metadata": {},
   "source": [
    "There are some deep issues here. For instance\n",
    "\n",
    "\n",
    "* When seen without context, what does `s = [5,7]` represent? Is it the rational number $s = \\frac{5}{7}$ or the linear function $s(x) = 5x+7$?\n",
    "\n",
    "* Which addition operation should be used on `s = [5,7]` and `r = [-1,2]`? Should they be added as rational numbers or as linear functions? "
   ]
  },
  {
   "cell_type": "markdown",
   "metadata": {},
   "source": [
    "## User defined types"
   ]
  },
  {
   "cell_type": "markdown",
   "metadata": {},
   "source": [
    "While it is possible to represent rational numbers, linear functions, lines in 2D, points in 2D space etc. using inbuilt python datatypes such as lists, this can create a lot of ambiguity. Not only does it make the code much harder for someone else to read and understand, but it can also be a recipe for a code full of unpredictable behaviours, and errors that result from accidentally using the wrong function or the wrong order of parameters. We have also seen that notation such as `rational.add_int` is significantly more cumbersome than simply being able to use operators like `+`. \n",
    "\n",
    "In this section we will see how we can define our own datatypes in Python. In Python a type is also called a `class`. We can create a user defined type `LinearFunction` using the `class` syntax."
   ]
  },
  {
   "cell_type": "code",
   "execution_count": null,
   "metadata": {},
   "outputs": [],
   "source": [
    "class LinearFunction(object):\n",
    "    '''Linear functions on R'''"
   ]
  },
  {
   "cell_type": "markdown",
   "metadata": {},
   "source": [
    "The header `class LinearFunction(object)` indicates that `LinearFunction` is a `class` and that each linear function is a kind of `object`. The second line is a *docstring* which should provide a very brief description of our new class in a human readable format. As usual, including a docstring is not essential but it is a very good practice. \n",
    "\n",
    "We can find information about the class `LinearFunction` using the `?` syntax:"
   ]
  },
  {
   "cell_type": "code",
   "execution_count": null,
   "metadata": {},
   "outputs": [],
   "source": [
    "?LinearFunction"
   ]
  },
  {
   "cell_type": "markdown",
   "metadata": {},
   "source": [
    "The above information tells us that `LinearFunction` is a `type`. So we have successfully created our first user defined type in Python!\n",
    "\n",
    "We can now create a linear function $f$ which will be an *object* of *type* `LinearFunction`. The **Init signature** tells us how to do so. Specifically, we need to call `LinearFunction()` -- i.e. we call the name of our new class as though it is a function. Calling the class name as a function creates a new object of the type defined by the class."
   ]
  },
  {
   "cell_type": "code",
   "execution_count": null,
   "metadata": {},
   "outputs": [],
   "source": [
    "f = LinearFunction()\n",
    "print(type(f))"
   ]
  },
  {
   "cell_type": "markdown",
   "metadata": {},
   "source": [
    "We can also use `?` syntax on the object `f` to get information on it:"
   ]
  },
  {
   "cell_type": "code",
   "execution_count": null,
   "metadata": {},
   "outputs": [],
   "source": [
    "?f"
   ]
  },
  {
   "cell_type": "markdown",
   "metadata": {},
   "source": [
    "## Objects (or Instances)"
   ]
  },
  {
   "cell_type": "markdown",
   "metadata": {},
   "source": [
    "The new object $f$ is called an *instance* of the class `LinearFunction`, and the act of its creation is called an *instantiation* of `LinearFunction`. We can use the `isinstance(x,cls)` function to check whether an object 'x' is an instance of the class 'cls'."
   ]
  },
  {
   "cell_type": "code",
   "execution_count": null,
   "metadata": {},
   "outputs": [],
   "source": [
    "isinstance(f, LinearFunction)"
   ]
  },
  {
   "cell_type": "markdown",
   "metadata": {},
   "source": [
    "The use of `isinstance` is not limited to user defined class. Indeed, it can be used for all datatype. For instance, we can also check whether a variable is of built in datatype such as `int`, `str`, `float` etc."
   ]
  },
  {
   "cell_type": "code",
   "execution_count": null,
   "metadata": {},
   "outputs": [],
   "source": [
    "s = 'hello'\n",
    "print(isinstance(s, str))\n",
    "print(isinstance(s, int))"
   ]
  },
  {
   "cell_type": "markdown",
   "metadata": {},
   "source": [
    "The number $4$, as you would recall, can be stored either as an `int` or a `float` depending on whether we write it as `4` or `4.0`, respectively."
   ]
  },
  {
   "cell_type": "code",
   "execution_count": null,
   "metadata": {},
   "outputs": [],
   "source": [
    "xi = 4\n",
    "print(isinstance(xi, int))\n",
    "print(isinstance(xi, float))"
   ]
  },
  {
   "cell_type": "code",
   "execution_count": null,
   "metadata": {},
   "outputs": [],
   "source": [
    "xf = 4.0\n",
    "print(isinstance(xf, int))\n",
    "print(isinstance(xf, float))"
   ]
  },
  {
   "cell_type": "markdown",
   "metadata": {},
   "source": [
    "We can also check whether an object is an instance of one of the classes among multiple classes `cls1, cls2, ..., clsn` by using `isinstance(x, (cls1, cls2, ..., clsn))`. For example, to check if `xi` and `xf` are numbers, we may want to check whether they are either `int` or `float`. "
   ]
  },
  {
   "cell_type": "code",
   "execution_count": null,
   "metadata": {},
   "outputs": [],
   "source": [
    "print(isinstance(xi, (int, float)))\n",
    "print(isinstance(xf, (int, float)))"
   ]
  },
  {
   "cell_type": "markdown",
   "metadata": {},
   "source": [
    "As we have seen, the variables `f`, `s`, `xi` and `xf` store objects of type `LinearFunction`, `str`, `int` and `float`, respectively. The common aspect is that each of them is an *object* (of some type or the other). For instance, `f` is an *object* of type (or class) `LinearFunction`, `s` is an *object* of type (or class) `str`, etc. Python defines a universal class called `object` and any instance of any class automatically is also an instance of the class `object`. Thus, `f`, `s`, `xi` and `xf` are also instances of the class `object`."
   ]
  },
  {
   "cell_type": "code",
   "execution_count": null,
   "metadata": {},
   "outputs": [],
   "source": [
    "print(isinstance(f, object))\n",
    "print(isinstance(s, object))\n",
    "print(isinstance(xi, object))\n",
    "print(isinstance(xf, object))"
   ]
  },
  {
   "cell_type": "markdown",
   "metadata": {},
   "source": [
    "Recall how we defined the class `LinearFunction` using `class LinearFunction(object)`. The use of `object` in the definition makes every instance of `LinearFunction` also an instance of the universal class `object`. Note that `f` is an instance of type `LinearFunction` as well as of type `object`. Thus something can be an instance of more than one class. We will study this in more detail when we come across the concept of *inheritance*."
   ]
  },
  {
   "cell_type": "markdown",
   "metadata": {},
   "source": [
    "## Attributes of an object"
   ]
  },
  {
   "cell_type": "markdown",
   "metadata": {},
   "source": [
    "Currently `f` has no data. For it to represent a linear function $f(x) = ax + b$, we should also specify the coefficients $a$ and $b$. Let us say we wish to create the linear function $f(x) = 5x +7$. We should store the values $5$ and $7$ in the *attributes* `a` and `b`, respectively. "
   ]
  },
  {
   "cell_type": "code",
   "execution_count": null,
   "metadata": {},
   "outputs": [],
   "source": [
    "f.a = 5\n",
    "f.b = 7"
   ]
  },
  {
   "cell_type": "markdown",
   "metadata": {},
   "source": [
    "The *attributes* `a` and `b` are associated with the *object* `f` and are accessed using the *dot* notation. Attributes can be seen as *properties* of an object."
   ]
  },
  {
   "cell_type": "code",
   "execution_count": null,
   "metadata": {},
   "outputs": [],
   "source": [
    "f.a"
   ]
  },
  {
   "cell_type": "markdown",
   "metadata": {},
   "source": [
    "This notation tells us to go inside the object `f` and find the value of `b` stored in there. There should be no confusion with a *variable* of the same name. For instance, `f.b` is defined, but we have not yet defined the variable `b` in this notebook. "
   ]
  },
  {
   "cell_type": "code",
   "execution_count": null,
   "metadata": {},
   "outputs": [],
   "source": [
    "b"
   ]
  },
  {
   "cell_type": "markdown",
   "metadata": {},
   "source": [
    "Even if the variable `b` was defined, it does not refer to `f.b`, which is the value of `b` stored *inside* the object `f`."
   ]
  },
  {
   "cell_type": "code",
   "execution_count": null,
   "metadata": {},
   "outputs": [],
   "source": [
    "b = -1\n",
    "print(b)\n",
    "print(f.b)"
   ]
  },
  {
   "cell_type": "markdown",
   "metadata": {},
   "source": [
    "## Functions"
   ]
  },
  {
   "cell_type": "markdown",
   "metadata": {},
   "source": [
    "Since we can access the attributes of an instance of class `LinearFunction`, we can create a `to_str_lf` function which creates a user readable string representation of a linear function. For instance, `f = [5,7]` can be represented by the string `'5x + 7'`."
   ]
  },
  {
   "cell_type": "code",
   "execution_count": null,
   "metadata": {},
   "outputs": [],
   "source": [
    "def to_str_lf(g):\n",
    "    '''Returns a string representation of a LinearFunction'''\n",
    "    return str(g.a) + \"x + \" + str(g.b);"
   ]
  },
  {
   "cell_type": "code",
   "execution_count": null,
   "metadata": {},
   "outputs": [],
   "source": [
    "to_str_lf(f)"
   ]
  },
  {
   "cell_type": "markdown",
   "metadata": {},
   "source": [
    "Here we have used the postfix `lf` to indicate that this function acts on instances of `LinearFunctions`."
   ]
  },
  {
   "cell_type": "markdown",
   "metadata": {},
   "source": [
    "Similarly, we can implement a function to evaluate a linear function `g` at a given point `x`."
   ]
  },
  {
   "cell_type": "code",
   "execution_count": null,
   "metadata": {},
   "outputs": [],
   "source": [
    "def evaluate_lf(g, x):\n",
    "    '''Evaluates the linear function g at the point x and returns g(x)'''\n",
    "    return g.a*x + g.b"
   ]
  },
  {
   "cell_type": "code",
   "execution_count": null,
   "metadata": {},
   "outputs": [],
   "source": [
    "print(evaluate_lf(f, 3))"
   ]
  },
  {
   "cell_type": "markdown",
   "metadata": {},
   "source": [
    "The postfix `lf` distinguishes this function from our initial implementation of `evaluate` function, whose first parameter needs to be a list of two numbers, unlike `evaluate_lf` where the first parameter `g` must be a `LinearFunction`. \n",
    "\n",
    "Using `to_str_lf` and `evaluate_lf`, we can create more readable and informative output:"
   ]
  },
  {
   "cell_type": "code",
   "execution_count": null,
   "metadata": {},
   "outputs": [],
   "source": [
    "print('The value of '+to_str_lf(f)+ ' at x = 3 is ' + str(evaluate_lf(f,3)))"
   ]
  },
  {
   "cell_type": "markdown",
   "metadata": {},
   "source": [
    "<br>\n",
    "\n",
    "We can also create a function to add two linear functions $f$ and $g$, which should return another `LinearFunction` $r$ such that \n",
    "\n",
    "$$\n",
    "r.a = f.a + g.a \\texttt{ and }  r.b = f.b + g.b\n",
    "$$"
   ]
  },
  {
   "cell_type": "code",
   "execution_count": null,
   "metadata": {},
   "outputs": [],
   "source": [
    "def add_lf(f, g):\n",
    "    '''Returns the sum of two LinearFunctions'''\n",
    "    r = LinearFunction()\n",
    "    r.a = f.a + g.a\n",
    "    r.b = f.b + g.b\n",
    "    return r"
   ]
  },
  {
   "cell_type": "markdown",
   "metadata": {},
   "source": [
    "Note that we have to create `r` as a new *instance* of `LinearFunction` using `r = LinearFunction()` before setting its attributes `a` and `b`."
   ]
  },
  {
   "cell_type": "code",
   "execution_count": null,
   "metadata": {},
   "outputs": [],
   "source": [
    "f1 = LinearFunction()\n",
    "f1.a = 5\n",
    "f1.b = 7\n",
    "\n",
    "f2 = LinearFunction()\n",
    "f2.a = 3\n",
    "f2.b = -4\n",
    "\n",
    "f3 = add_lf(f1, f2)\n",
    "print('The sum of ' + to_str_lf(f1) + ' and ' + to_str_lf(f2) + ' is ' + to_str_lf(f3))"
   ]
  },
  {
   "cell_type": "markdown",
   "metadata": {},
   "source": [
    "<br> \n",
    "\n",
    "We can also create a function `random_lf` that outputs a random linear function. To do this we need the `random` function `np.random.random()` which returns a random number between $0$ and $1$. Let's print 3 different random numbers using this function:"
   ]
  },
  {
   "cell_type": "code",
   "execution_count": null,
   "metadata": {},
   "outputs": [],
   "source": [
    "import numpy as np\n",
    "print(np.random.random())\n",
    "print(np.random.random())\n",
    "print(np.random.random())"
   ]
  },
  {
   "cell_type": "markdown",
   "metadata": {},
   "source": [
    "We use this in the function `random_lf` which returns a random linear function:"
   ]
  },
  {
   "cell_type": "code",
   "execution_count": null,
   "metadata": {},
   "outputs": [],
   "source": [
    "import numpy as np\n",
    "\n",
    "def random_lf():\n",
    "    '''Returns a random LinearFunction'''\n",
    "    g = LinearFunction()\n",
    "    g.a = np.random.random()\n",
    "    g.b = np.random.random()\n",
    "    return g"
   ]
  },
  {
   "cell_type": "code",
   "execution_count": null,
   "metadata": {},
   "outputs": [],
   "source": [
    "f = random_lf()\n",
    "print(to_str_lf(f))"
   ]
  },
  {
   "cell_type": "markdown",
   "metadata": {},
   "source": [
    "* The function `evaluate_lf` acts on an instance of `LinearFunction` (`g`) and a `float` (`x`) and produces a `float` (`g(x)`).\n",
    "\n",
    "* The function `to_str_lf` acts on an instance of `LinearFunction` and produces a `str`.\n",
    "\n",
    "* The function `add_lf` acts on two instances of `LinearFunction` (`f` and `g`) and returns another instance of `LinearFunction`, `r` (`r=f+g`). \n",
    "\n",
    "* The function `random_lf` takes no input, and returns an instance of `LinearFunction`. \n",
    "\n",
    "In mathematical notation, we say that these functions are maps:\n",
    "\n",
    "* `evaluate_lf` : `LinearFunction` $\\times$ `float` $\\rightarrow$ `float`.\n",
    "\n",
    "* `to_str_lf` : `LinearFunction` $\\rightarrow$ `str`.\n",
    "\n",
    "* `add_lf` : `LinearFunction` $\\times$ `LinearFunction` $\\rightarrow$ `LinearFunction`.\n",
    "\n",
    "* `random_lf` : `null` $\\rightarrow$ `LinearFunction`.\n",
    "\n",
    "\n",
    "Thus, functions can act on instances of `LinearFunction` and can also return instances of `LinearFunction`."
   ]
  },
  {
   "cell_type": "markdown",
   "metadata": {},
   "source": [
    "## Missing attributes"
   ]
  },
  {
   "cell_type": "markdown",
   "metadata": {},
   "source": [
    "While we can create a string representation for the linear function `f1`,"
   ]
  },
  {
   "cell_type": "code",
   "execution_count": null,
   "metadata": {},
   "outputs": [],
   "source": [
    "to_str_lf(f1)"
   ]
  },
  {
   "cell_type": "markdown",
   "metadata": {},
   "source": [
    "the following attempt at creating a string representation for `f4` fails."
   ]
  },
  {
   "cell_type": "code",
   "execution_count": null,
   "metadata": {},
   "outputs": [],
   "source": [
    "f4 = LinearFunction()\n",
    "to_str_lf(f4)"
   ]
  },
  {
   "cell_type": "markdown",
   "metadata": {},
   "source": [
    "This is because we have neglected to define the attributes `a` and `b` for the instance `f4`. We can explicitly check whether the instance has an attribute called `a` using the `hasattr` function:"
   ]
  },
  {
   "cell_type": "code",
   "execution_count": null,
   "metadata": {},
   "outputs": [],
   "source": [
    "hasattr(f4, 'a')"
   ]
  },
  {
   "cell_type": "code",
   "execution_count": null,
   "metadata": {},
   "outputs": [],
   "source": [
    "hasattr(f1, 'a')"
   ]
  },
  {
   "cell_type": "markdown",
   "metadata": {},
   "source": [
    "In the next lecture we will see how to avoid such a possibility - i.e. we would like to forbid the creation of an object of type `LinearFunction` unless the values of both parameters `a` and `b` are specified.\n",
    "\n",
    "For now, you should exercise great care and ensure that you (or your functions such as `add_lf`) appropriately define the values of the attributes `a` and `b` for every instance of `LinearFunction`."
   ]
  },
  {
   "cell_type": "markdown",
   "metadata": {},
   "source": [
    "## Check your understanding\n",
    "\n",
    "The solutions to these excercises are provided at the very end of this notebook.\n",
    "\n",
    "**Q1)** Which of the following is the correct way to create an instance of `LinearFunction` with the name `f`?\n",
    "\n",
    "a.\n",
    "```Python\n",
    "LinearFunction(f)\n",
    "```\n",
    "\n",
    "b.\n",
    "```Python\n",
    "f = LinearFunction()\n",
    "```\n",
    "\n",
    "c.\n",
    "```Python\n",
    "f = LinearFunction\n",
    "```\n",
    "\n",
    "**Q2)** Let's say that `f` is an instance of `LinearFunction`. What is the value of the attribute `a` of `f` after the following code:\n",
    "\n",
    "```Python\n",
    "f.a = 4\n",
    "a = 7\n",
    "```\n",
    "\n",
    "**Q3)** Let's say that `f` and `g` are instances of `LinearFunction`. What does the following code print?\n",
    "\n",
    "```Python\n",
    "f.a = 1\n",
    "f.b = -3\n",
    "g.a = 2\n",
    "g.b = 5\n",
    "add_lf(f,g)\n",
    "print(to_str_ln(f))\n",
    "```\n"
   ]
  },
  {
   "cell_type": "markdown",
   "metadata": {},
   "source": [
    "<br>\n",
    "<br>\n",
    "\n",
    "# Advanced (Optional): Attributes of a class"
   ]
  },
  {
   "cell_type": "markdown",
   "metadata": {},
   "source": [
    "In Python, classes can also have attributes. For instance, we can create an attribute `points` of the class `LinearFunction` with the value `[0,0.5,1,1.5]` by adding\n",
    "\n",
    "```Python\n",
    "points = [0, 0.5, 1, 1.5]\n",
    "```\n",
    "\n",
    "in the definition of the class `LinearFunction`."
   ]
  },
  {
   "cell_type": "code",
   "execution_count": null,
   "metadata": {},
   "outputs": [],
   "source": [
    "class LinearFunction(object):\n",
    "    \"\"\"Linear functions on R\"\"\"\n",
    "    \n",
    "    points = [0.0, 0.5, 1.0, 1.5]"
   ]
  },
  {
   "cell_type": "markdown",
   "metadata": {},
   "source": [
    "We can access this attribute of the class `LinearFunction` using the dot notation on the class name `LinearFunction`."
   ]
  },
  {
   "cell_type": "code",
   "execution_count": null,
   "metadata": {},
   "outputs": [],
   "source": [
    "LinearFunction.points"
   ]
  },
  {
   "cell_type": "markdown",
   "metadata": {},
   "source": [
    "A class attribute may be useful if it has to be used for many instances. For instance, say we have an interest in computing the average of the linear functions at the points stored in `LinearFunction.points`. We can create a function `sample_average_lf` which does this. "
   ]
  },
  {
   "cell_type": "code",
   "execution_count": null,
   "metadata": {},
   "outputs": [],
   "source": [
    "evaluate_lf(f1,4)"
   ]
  },
  {
   "cell_type": "code",
   "execution_count": null,
   "metadata": {},
   "outputs": [],
   "source": [
    "LinearFunction.points"
   ]
  },
  {
   "cell_type": "code",
   "execution_count": null,
   "metadata": {},
   "outputs": [],
   "source": [
    "def sample_average_lf(g):\n",
    "    '''This function computes the average value of the function g at the points LinearFunction.points'''\n",
    "    n = len(LinearFunction.points)\n",
    "    sum = 0                                                # accumulator for computing sum\n",
    "    for i in range(n):\n",
    "        value = evaluate_lf(g, LinearFunction.points[i])   # value of the function g at the ith point\n",
    "        sum = sum + value\n",
    "        \n",
    "    average = sum/n\n",
    "    return average"
   ]
  },
  {
   "cell_type": "code",
   "execution_count": null,
   "metadata": {},
   "outputs": [],
   "source": [
    "sample_average_lf(f1)"
   ]
  },
  {
   "cell_type": "code",
   "execution_count": null,
   "metadata": {},
   "outputs": [],
   "source": [
    "sample_average_lf(f2)"
   ]
  },
  {
   "cell_type": "markdown",
   "metadata": {},
   "source": [
    "### Some issues with class attributes"
   ]
  },
  {
   "cell_type": "markdown",
   "metadata": {},
   "source": [
    "A *class attribute* is also available to *instances* of the class `LinearFunction` using the dot notation on the instance."
   ]
  },
  {
   "cell_type": "code",
   "execution_count": null,
   "metadata": {},
   "outputs": [],
   "source": [
    "f4 = LinearFunction()\n",
    "f4.points"
   ]
  },
  {
   "cell_type": "markdown",
   "metadata": {},
   "source": [
    "Unlike *object attributes* `a` and `b`, which we defined earlier, the *class attribute* `points` is shared across all instances of the class `LinearFunction`. For instance, see what happens when we change the value of `LinearFunction.points`. The value of the *class attribute* `points` is changed for the newly created instance `f5` but also for the old instance `f4`."
   ]
  },
  {
   "cell_type": "code",
   "execution_count": null,
   "metadata": {},
   "outputs": [],
   "source": [
    "LinearFunction.points = [0,5,10]\n",
    "f5 = LinearFunction()\n",
    "\n",
    "print(LinearFunction.points)\n",
    "print(f4.points)\n",
    "print(f5.points)"
   ]
  },
  {
   "cell_type": "markdown",
   "metadata": {},
   "source": [
    "**Warning:** If we assign a new value to `f5.points`, this creates a new *object attribute* with the name `points` within `f5`. "
   ]
  },
  {
   "cell_type": "code",
   "execution_count": null,
   "metadata": {},
   "outputs": [],
   "source": [
    "f5.points = [-1, 0, 1]\n",
    "\n",
    "print(f5.points)\n",
    "print(f4.points)\n",
    "print(LinearFunction.points)"
   ]
  },
  {
   "cell_type": "markdown",
   "metadata": {},
   "source": [
    "Now `f5.points` is an *object attribute* and we cannot use it to refer to the *class attribute* `points`! However, we did not set the value of `f4.points`, and it still refers to the *class attribute* `points`.\n",
    "\n",
    "This behaviour can obviously be very confusing, and **safe practices** to avoid such ambiguity are:\n",
    "\n",
    "* Use class attributes sparingly, and only if necessary.\n",
    "\n",
    "* If possible, avoid changing the value of class attribute.\n",
    "\n",
    "* Even though class attribute is shared across all instances, refer to the attribute using the notation *classname*.*attribute* and avoid *instance*.*attribute*. \n",
    "\n",
    "* If you must change the value of the class attribute, it is particularly crucial that you do so by using *classname*.*attribute* = *value* (**not** *instance*.*attribute* = *value*). \n",
    "\n",
    "* Never use the same name for a class attribute and an object attribute.\n"
   ]
  },
  {
   "cell_type": "markdown",
   "metadata": {},
   "source": [
    "## Solutions to \"Check your understanding\"\n",
    "\n",
    "**Q1)** Answer: b.\n",
    "\n",
    "**Q2)** Answer: 4.\n",
    "\n",
    "**Q3)** Answer: `'1x - 3'`. Note that value of `f` does not change due to the `add_lf` call."
   ]
  }
 ],
 "metadata": {
  "kernelspec": {
   "display_name": "Python 3",
   "language": "python",
   "name": "python3"
  },
  "language_info": {
   "codemirror_mode": {
    "name": "ipython",
    "version": 3
   },
   "file_extension": ".py",
   "mimetype": "text/x-python",
   "name": "python",
   "nbconvert_exporter": "python",
   "pygments_lexer": "ipython3",
   "version": "3.11.9"
  }
 },
 "nbformat": 4,
 "nbformat_minor": 4
}
