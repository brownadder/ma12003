{
 "cells": [
  {
   "cell_type": "markdown",
   "metadata": {},
   "source": [
    "<div style=\"text-align:right;color:blue\">version id: __VERSION_ID__</div>\n",
    "\n",
    "# MA12003: Programming Coursework \n",
    "\n",
    "* **Set:** Wednesday 2 April 2025, 8:00\n",
    "* **Due:** Wednesday 30 April 2025, 17:00\n",
    "* **Total marks:** 20\n",
    "\n",
    "This coursework assignment is worth 20\\% of the total mark of MA12003.\n",
    "\n",
    "<hr style=\"height: 2px\">\n",
    "\n",
    "**You must not discuss your work for this coursework assignment with anyone else. The work which\n",
    "you hand in must be your own. Under no circumstances should you exchange solutions with other students. After you hand your work in, you could be asked by an examiner to explain it verbally as part of the marking process. Any evidence of cheating will entail disciplinary procedures and the risk of losing all points on the assignment for all parties involved. See [the official guidance](http://www.bath.ac.uk/library/help/infoguides/plagiarism.html) and [the QA53 document](http://www.bath.ac.uk/quality/documents/QA53.pdf) for further details.**\n",
    "\n",
    "<hr style=\"height: 2px\">\n",
    "\n",
    "*&#169; Pranav Singh, University of Bath 2024-2025. This coursework description is copyright of Pranav Singh, University of Bath. It is provided exclusively for educational purposes at the University and is to be downloaded or copied for your private study only. Further distribution, e.g. by upload to external repositories, is prohibited.* "
   ]
  },
  {
   "cell_type": "markdown",
   "metadata": {},
   "source": [
    "# Coursework introduction \n",
    "\n",
    "This coursework involves working with **pseudometric spaces** and requires you to\n",
    "\n",
    "- implement classes for three examples of pseudometric spaces (**Task 1**),\n",
    "- implement a method for testing the pseudometric axioms (**Task 2**),\n",
    "- implement methods for finding medians and partitions of sets in pseudometric spaces (**Task 3**),\n",
    "- implement a method for identifying clusters within a set in a pseudometric space (**Task 4**)."
   ]
  },
  {
   "cell_type": "markdown",
   "metadata": {},
   "source": [
    "# Assignment instructions"
   ]
  },
  {
   "cell_type": "markdown",
   "metadata": {},
   "source": [
    "**Do NOT modify this notebook**. It can be changed without prior notice. All your code should be implemented in your **working notebook**, instructions for creating which are described below. Please read instructions at the top of your working notebook carefully. \n",
    "\n",
    "\n",
    "#### Classes, Functions and Methods\n",
    "* Each class that needs to be implemented in this coursework has a **skeletal code**, which you should copy to your working notebook, and correct, extend or implement as described in the appropriate tasks.\n",
    "\n",
    "* In your code you must use exactly the names of the classes, functions and methods given below.\n",
    "* You are allowed to make appropriate changes to the definition of a class (but not its name) for the purpose of inheritance only.\n",
    "* Your solution should have only **one copy** of each class definition. Multiple copies will be penalised, and you may be marked on the basis of an incorrect copy. \n",
    "* Your code should also use the same names and orders of parameters for all functions and methods.\n",
    "* You are not required to check for validity of parameter inputs or raise exceptions. \n",
    "* You may modify or remove return statements, in order to to satisfy the specification of the tasks. For e.g. you should remove the line `raise NotImplementedError(\"... method not implemented yet\")` in the skeletal implementations of a method and replace it with an appropriate return statement.\n",
    "\n",
    "\n",
    "#### Examples and Testing \n",
    "* Each subtask has **one example**, which you should copy to your working notebook and which you should use to check that your code works as required. The output of your code should be identical to this output (except where it is reasonable to have differences -- such cases will be noted explicitly), so please pay close attention to the expected output described in the task description. \n",
    "\n",
    "* You will only receive full marks if your code has the same behaviour for these examples as well as the correct behaviour for other (potentially more complicated) examples constructed by me for testing your code.\n",
    "* It is your responsibility to create more examples to check if the behaviour of your implementation is correct and conforms to the description of the task. \n",
    "* Rarely, in cases where a trivial fix to your code is obvious to the assessor, the assessor **may** (but not necessarily will) attempt to fix the code. If your code then passes the tests, you will get the marks for the tests but you will be **penalised** for the error. \n",
    "\n",
    "#### Sources, Imports, Hints, Misc\n",
    "* You can import standard Python modules already available on Notable server, but you must get approval from me beforehand. The criteria is that the module you import should not make major parts of the coursework trivial. For example, you cannot use a library that implements a clustering algorithm, a method for finding medians etc. \n",
    "\n",
    "* You can use any code you wrote in the Tickables, any code which has been made available as a model solution and all code which has been presented in the lectures.\n",
    "* You must not copy code from any other sources, e.g. the internet. Doing so will be considered cheating.\n",
    "* **Hints** are provided at the **end of each task**. \n",
    "* Your code **should not print anything additional** (e.g. debug information) beyond what is required in Task Examples.\n",
    "\n",
    "Further guidance on completing the coursework assignment can be found below.\n",
    "\n",
    "### Feedback \n",
    "\n",
    "You will receive feedback after the exam marks have been released. The feedback will consist of your marked work and an overall feedback document commenting on the assessment across the cohort.\n",
    "\n",
    "\n",
    "### Academic integrity statement: \n",
    "Academic misconduct is defined by the University as “the use of unfair means in any examination or assessment procedure”. This includes (but is not limited to) cheating, collusion, plagiarism, fabrication, or falsification. The University’s Quality Assurance Code of Practice, [QA53 Examination and Assessment Offences](https://www.bath.ac.uk/publications/qa53-examination-and-assessment-offences/), sets out the consequences of committing an offence and the penalties that might be applied.\n",
    "\n",
    "\n",
    "### Generative AI policy\n",
    "\n",
    "The use of Generative AI is not permitted (category A)\n",
    "\n",
    "### Submission on Moodle\n",
    "**Please read the following instructions very carefully. It is your responsibility to upload your solution correctly to moodle by the deadline. Late submission will incur a penalty. In general, the mark for late submissions which are uploaded no later than 5 days after the deadline is capped at 40%. Anything submitted later than this will receive a zero mark. Incomplete or missing submissions will also receive zero marks. You should only submit a single `.ipynb` file through the Moodle submission point: your working notebook. Details of the working notebook are described below.**\n",
    "\n",
    "\n",
    "### Working Notebook\n",
    "All code must be **submitted in a single notebook file** called `coursework_USERNAME.ipynb` where `USERNAME` is your username. For example, if your username is `gh3145`, then the name of the file should be `coursework_gh3145.ipynb`. We will refer to this notebook as your **working notebook**. Note that you **do not have to submit any other file**.\n",
    "\n",
    "To create the working notebook file, please do the following:\n",
    "\n",
    "1. Execute the code in the following cell:"
   ]
  },
  {
   "cell_type": "code",
   "execution_count": null,
   "metadata": {},
   "outputs": [],
   "source": [
    "!mkdir ~/ma12003_workspace/coursework\n",
    "!cp -r -n ~/ma12003/.templates/coursework/coursework_template.ipynb ~/ma12003_workspace/coursework/"
   ]
  },
  {
   "cell_type": "markdown",
   "metadata": {},
   "source": [
    "**You might get an error message while executing this cell, however the template notebook should still have been copied correctly (check your `ma12003_workspace` folder).**\n",
    "\n",
    "2. Go to the directory **<i class=\"fa fa-folder-o\"></i> ma12003_workspace/coursework** on the Notable server.\n",
    "3. Open the notebook file **<i class=\"fa fa-book\"></i> coursework_template.ipynb**.\n",
    "4. Save the notebook as `coursework_USERNAME.ipynb` where `USERNAME` is your username (`coursework_gh3145.ipynb` in the example above). You can do this by selecting \"File\" $\\rightarrow$ \"Save as...\" in the menu bar.\n",
    "\n",
    "To upload your solution to moodle, first download your **working notebook** via \"File\" $\\rightarrow$ \"Download\" to your computer. You need to make sure that your file is in `.ipynb` format (HTML, PDF, JSON formats are not acceptable). Next, upload it to the submission point on the [course moodle page](https://moodle.bath.ac.uk/course/view.php?id=60569). While working on the assignment, don't forget to save your work regularly. You might also want to download a copy of your working notebook to your local computer at regular intervals as an additional backup."
   ]
  },
  {
   "cell_type": "markdown",
   "metadata": {},
   "source": [
    "## Style marks $~~~~$ [4 marks = 20\\%]\n",
    "\n",
    "These marks are awarded for overall code **reusability**, **object oriented principles**, and **use of advanced concepts** throughout the assignment. They will cover the following aspects:\n",
    "\n",
    "* Code modularity and reusability \n",
    "* Application of object oriented principles such as inheritance and overloading.\n",
    "* Use of advanced Python concepts \n",
    "    * lambda functions\n",
    "    * maps and filters\n",
    "    * set manipulation\n",
    "    * list/set/dictionary comprehensions \n",
    "    * join\n",
    "\n",
    "Note that there are **NO style marks** allocated explicitly for **comments**, sensible usage of **variable names**, or **readability** in this year's coursework. The only reason for you to abide by good readability practices is the following: In case your code has a simple error that is easy to identify, an assessor of your coursework **may** (but not necessarily will) fix a small part of your code, allowing your code to pass tests (with marks subject to a penalty). A poorly written code will not be subject to such an attempt. "
   ]
  },
  {
   "cell_type": "markdown",
   "metadata": {},
   "source": [
    "# **Mathematical Background: Pseudometric Spaces $(X,d)$**"
   ]
  },
  {
   "cell_type": "markdown",
   "metadata": {},
   "source": [
    "A **pseudometric space** is a pair $(X, d)$ where:\n",
    "- $X$ is a set\n",
    "- $d : X \\times X \\to \\mathbb{R}_{\\geq 0}$ is a function satisfying the following axioms for all $x,y,z \\in X$:\n",
    "\n",
    "| **Name**              | **Statement**                                 | **Key**                             |\n",
    "|-----------------------|-----------------------------------------------|--------------------------------------|\n",
    "| Non-negativity        | $$d(x, y) \\geq 0$$                              | `nonnegativity`         |\n",
    "| Reflexivity           | $$d(x, x) = 0$$                                | `reflexivity`           |\n",
    "| Symmetry              | $$d(x, y) = d(y, x)$$                           | `symmetry`              |\n",
    "| Triangle inequality   |$$d(x, z) \\leq d(x, y) + d(y, z)$$              | `triangle_inequality`   |\n",
    "\n",
    "* $d$ is called the _pseudometric distance function_, a _pseudometric_, or sometimes simply the **distance**.\n",
    "* elements of a pseudometric space, $x,y \\in X$, are often called **points** (even though they might not correspond to your usual understand of points in 2D space, or 3D space, for instance).\n",
    "* $d(x,y)$ measure the _distance_ between the _points_ $x,y$.\n",
    "\n",
    "> ⚠️ Unlike a true metric, a pseudometric does **not require**: $d(x, y) = 0 \\Rightarrow x = y$.\n",
    "\n",
    "---"
   ]
  },
  {
   "cell_type": "markdown",
   "metadata": {},
   "source": [
    "#### **Example 1: Real Numbers**"
   ]
  },
  {
   "cell_type": "markdown",
   "metadata": {},
   "source": [
    "Let $X=\\mathbb{R}$ be the set of all real numbers.  Define the (pseudometric) distance function as:\n",
    "$$\n",
    "d_{\\mathbb{R}}(x, y) = |\\, x-y \\,|, \\qquad x,y \\in \\mathbb{R},\n",
    "$$\n",
    "\n",
    "**Remarks:** $d_{\\mathbb{R}}$ is also a metric since $d_{\\mathbb{R}}(x,y)=0 \\Rightarrow x=y$. In fact, every metric space is a pseudometric space. \n",
    "\n",
    "---"
   ]
  },
  {
   "cell_type": "markdown",
   "metadata": {},
   "source": [
    "#### **Example 2: String Length Distance**"
   ]
  },
  {
   "cell_type": "markdown",
   "metadata": {},
   "source": [
    "Let $X=\\mathbb{S}$ be the set of all strings.  Define the (pseudometric) distance function as:\n",
    "$$\n",
    "d_{\\mathbb{S}}(x, y) = |\\, \\text{len}(x) - \\text{len}(y) \\,|, \\qquad x,y \\in \\mathbb{S},\n",
    "$$\n",
    "where $\\text{len}(x)$ is the length of the string $x \\in \\mathbb{S}$.\n",
    "\n",
    "**Remarks:** $d_{\\mathbb{S}}$ is not a metric since the _points_ `\"cat\"` and `\"dog\"` have distance $0$, for instance, but they are not identical. Thus, every pseudometric space is not a metric space. \n",
    "\n",
    "---"
   ]
  },
  {
   "cell_type": "markdown",
   "metadata": {},
   "source": [
    "#### **Example 3: Manhattan Distance on $\\mathbb{S} \\times \\mathbb{R}$**\n",
    "\n",
    "The Manhattan distance is defined on products of pseudometric spaces. In this example we consider the case where $X=\\mathbb{S} \\times\\mathbb{R}$, which consists of all tuples $(s,x)$ such that $s\\in \\mathbb{S}$ is a string and $x\\in \\mathbb{R}$ is a real number. Then the Manhattan distance is defined as\n",
    "\n",
    "$$ d_{\\mathbb{S} \\times \\mathbb{R}}((s_1,x_1), (s_2, x_2)) = d_{\\mathbb{S}}(s_1, s_2) + d_{\\mathbb{R}}(x_1, x_2), \\qquad s_1,s_2 \\in \\mathbb{S},\\quad x_1,x_2  \\in \\mathbb{R}, $$\n",
    "\n",
    "where $d_{\\mathbb{R}}$ and $d_{\\mathbb{S}}$ are pseudometrics on the sets $\\mathbb{R}$ and $\\mathbb{S}$ that were defined in examples 1 and 2 respectively.\n",
    "\n",
    "\n",
    "**Remarks:** If you imagine a gridlike road network represented as points in $X=\\mathbb{R}\\times \\mathbb{R}$, the corresponding Manhattan metric measures the shortest distance a taxi needs to take to go from one intersection $(x_1,y_1)$ to another $(x_2,y_2)$. This is the reason this distance is called the Manhattan distance and is often also called the taxicab distance. You do NOT need to implement the case of $X=\\mathbb{R}\\times \\mathbb{R}$ in this coursework.\n"
   ]
  },
  {
   "cell_type": "markdown",
   "metadata": {},
   "source": [
    "# **Imports**"
   ]
  },
  {
   "cell_type": "markdown",
   "metadata": {},
   "source": [
    "* All your imported libraries should be imported in the `Imports` section of your working notebook. \n",
    "\n",
    "* **If you import more libraries later in your code, you will be penalised**. \n",
    "\n",
    "* Here are some of the basic library imports that I expect that you will need for this coursework."
   ]
  },
  {
   "cell_type": "code",
   "execution_count": null,
   "metadata": {},
   "outputs": [],
   "source": [
    "from abc import ABC, abstractmethod\n",
    "import random\n",
    "import string"
   ]
  },
  {
   "cell_type": "markdown",
   "metadata": {},
   "source": [
    "# **Skeletal Implementations of Classes**"
   ]
  },
  {
   "cell_type": "markdown",
   "metadata": {},
   "source": [
    "You are provided with a skeletal implementation of the abstract class \n",
    "\n",
    "* `PseudometricSpace`\n",
    "\n",
    "You are also given skeletal implementations for the concrete classes\n",
    "\n",
    "* `RealNumber` \n",
    "* `String` \n",
    "* `ManhattanPoint`\n",
    "\n",
    "Copy these to appropriate sections in your working notebook and modify them as required for completing the tasks outlined later in this coursework."
   ]
  },
  {
   "cell_type": "code",
   "execution_count": null,
   "metadata": {},
   "outputs": [],
   "source": [
    "class PseudometricSpace(ABC):\n",
    "    \"\"\"\n",
    "    Abstract class for pseudometric spaces.\n",
    "    \"\"\"\n",
    "    \n",
    "    # don't change this\n",
    "    @abstractmethod\n",
    "    def dist(self, other):\n",
    "        ...\n",
    "\n",
    "    # don't change this\n",
    "    @abstractmethod\n",
    "    def random():\n",
    "        ...\n",
    "\n",
    "    # don't change this\n",
    "    def __repr__(self):\n",
    "        return str(self)\n",
    "\n",
    "    # Task 2\n",
    "    def test_axioms(self):\n",
    "        raise NotImplementedError(\"test_axioms() method not implemented yet\")\n",
    "\n",
    "    # Task 3.a\n",
    "    def total_distance(self, points):\n",
    "        raise NotImplementedError(\"total_distance() method not implemented yet\")\n",
    "\n",
    "    # Task 3.b\n",
    "    def median(points):\n",
    "        raise NotImplementedError(\"median() method not implemented yet\")\n",
    "\n",
    "    # Task 3.c\n",
    "    def partition(x1, x2, points):\n",
    "        raise NotImplementedError(\"partition() method not implemented yet\")\n",
    "\n",
    "    # Task 4\n",
    "    def clusters(x1, x2, points):\n",
    "        raise NotImplementedError(\"clusters() method not implemented yet\")"
   ]
  },
  {
   "cell_type": "code",
   "execution_count": null,
   "metadata": {},
   "outputs": [],
   "source": [
    "class RealNumber(object):\n",
    "\n",
    "    # don't change this\n",
    "    def __init__(self, value):\n",
    "        \"\"\"\n",
    "        Initialize an instance of RealNumber \n",
    "        where value is a number. For example:\n",
    "\n",
    "        x = RealNumber(3.14)\n",
    "        \"\"\"\n",
    "        self.value = value"
   ]
  },
  {
   "cell_type": "code",
   "execution_count": null,
   "metadata": {},
   "outputs": [],
   "source": [
    "class String(object):\n",
    "\n",
    "    # don't change this\n",
    "    def __init__(self, text):\n",
    "        \"\"\"\n",
    "        Initialize an instance of String\n",
    "        where text is a string. For example:\n",
    "\n",
    "        s = String(\"hello\")\n",
    "        \"\"\"\n",
    "        self.text = text"
   ]
  },
  {
   "cell_type": "code",
   "execution_count": null,
   "metadata": {},
   "outputs": [],
   "source": [
    "class ManhattanPoint(object):\n",
    "\n",
    "    # don't change this\n",
    "    def __init__(self, s, x):\n",
    "        \"\"\"\n",
    "        Initialize an instance of ManhattanPoint,\n",
    "        where 's' is an instance of String\n",
    "        and 'x' is an instance of RealNumber.\n",
    "        \n",
    "        For example:\n",
    "\n",
    "        s = String(\"hello\")\n",
    "        x = RealNumber(3.14)\n",
    "        m = ManhattanPoint(s, r)\n",
    "        \"\"\"\n",
    "        self.s = s\n",
    "        self.x = x"
   ]
  },
  {
   "cell_type": "markdown",
   "metadata": {},
   "source": [
    "# **Coursework Tasks**"
   ]
  },
  {
   "cell_type": "markdown",
   "metadata": {},
   "source": [
    "## **Task 1. Implement Examples 1-3** $~~~~$ [4 marks = 20%]"
   ]
  },
  {
   "cell_type": "markdown",
   "metadata": {},
   "source": [
    "### **Task 1.a. String Representations**"
   ]
  },
  {
   "cell_type": "markdown",
   "metadata": {},
   "source": [
    "Implement appropriate methods in the classes `RealNumber`, `String` and `ManhattanPoint` **to produce string representations** of their instances. "
   ]
  },
  {
   "cell_type": "markdown",
   "metadata": {},
   "source": [
    "#### **Task 1.a. Example**"
   ]
  },
  {
   "cell_type": "markdown",
   "metadata": {},
   "source": [
    "For instance, the following code "
   ]
  },
  {
   "cell_type": "code",
   "execution_count": null,
   "metadata": {},
   "outputs": [],
   "source": [
    "x1 = RealNumber(7.5)\n",
    "s1 = String(\"hello\")\n",
    "m1 = ManhattanPoint(s1, x1)\n",
    "\n",
    "print(str(x1))\n",
    "print(str(s1))\n",
    "print(str(m1))"
   ]
  },
  {
   "cell_type": "markdown",
   "metadata": {},
   "source": [
    "should produce the following output\n",
    "\n",
    "```python\n",
    "7.5\n",
    "hello\n",
    "(hello, 7.5)\n",
    "```\n",
    "\n",
    "**Note carefully** the placement of the comma and the brackets in the string representation of the instance `m1` of the `ManhattanPoint`."
   ]
  },
  {
   "cell_type": "markdown",
   "metadata": {},
   "source": [
    "### **Task 1.b. Pseudometric Distance Functions**"
   ]
  },
  {
   "cell_type": "markdown",
   "metadata": {},
   "source": [
    "Implement the `dist(self, other)` method in the classes `RealNumber`, `String` and `ManhattanPoint` **to implement the pseudometric distances** described in Examples 1-3. \n",
    "\n",
    "We illustrate the expected behaviour of this method with the example of the class `RealNumber`. You should appropriately translate the required behaviour to the other two classes.\n",
    "\n",
    "* The parameters `self` and `other` are both instances of `RealNumber`.\n",
    "\n",
    "* If `x1` and `x2` are two instances of `RealNumber`, you can call the method as `x1.dist(x2)`.\n",
    "\n",
    "* The method `dist` needs to return a number (this is common across all three classes, except that in some cases the number may be floating point or integer). "
   ]
  },
  {
   "cell_type": "markdown",
   "metadata": {},
   "source": [
    "#### **Task 1.b. Example**"
   ]
  },
  {
   "cell_type": "markdown",
   "metadata": {},
   "source": [
    "For instance, the following code "
   ]
  },
  {
   "cell_type": "code",
   "execution_count": null,
   "metadata": {},
   "outputs": [],
   "source": [
    "x2 = RealNumber(2.7)\n",
    "s2 = String(\"outer space\")\n",
    "m2 = ManhattanPoint(s2, x2)\n",
    "\n",
    "print(x1.dist(x2))\n",
    "print(s1.dist(s2))\n",
    "print(m1.dist(m2))"
   ]
  },
  {
   "cell_type": "markdown",
   "metadata": {},
   "source": [
    "should produce the following output\n",
    "\n",
    "```python\n",
    "4.8\n",
    "6\n",
    "10.8\n",
    "```\n",
    "\n",
    "**Note** that this assumes that you have run the code for Task 1.a Example (to ensure `x1`, `s1`, `m1` are defined). ."
   ]
  },
  {
   "cell_type": "markdown",
   "metadata": {},
   "source": [
    "### **Task 1.c. Random Instances**"
   ]
  },
  {
   "cell_type": "markdown",
   "metadata": {},
   "source": [
    "Implement the `random()` method in the classes `RealNumber`, `String` and `ManhattanPoint` **to create random instances of these classes**. \n",
    "\n",
    "* The method will be called as `ClassName.random()` and should return an instance of `ClassName`, where `ClassName` is one of `RealNumber`, `String` or `ManhattanPoint`. \n",
    "\n",
    "* The remaining behaviour for the three classes is described separately.\n",
    "\n",
    "**`RealNumber`**\n",
    "* The random number should be $n/4$ where $n$ is random integer between `1` and `100` chosen uniformly. \n",
    "* It should always output a floating point number, e.g. `21.0` is OK, but `21` is not.\n",
    "\n",
    "**`String`**\n",
    "- The random string should have a length between `1` and `10`, selected uniformly at random.\n",
    "- The letters in this string should be random ASCII lowercase letters, selected uniformly. \n",
    "\n",
    "**`ManhattanPoint`**\n",
    "- The string component (of the random instance of `ManhattanPoint`) should obey the rules for generating random instances of `String`.\n",
    "- The real number component (of the random instance of `ManhattanPoint`) should obey the rules for generating random instances of `RealNumber`.\n",
    "\n",
    "**Hint 1:** The `randint(start, end)` method in the library `random` produces a random integer between `start` and `end` chosen uniformly and inclusive of both end points. For instance, to generate random integers between `3` and `7`, you can call `random.randint(3, 7)`.\n",
    "\n",
    "**Hint 2:** You can create a random string in Python by calling the `choices` method in the library `random`. For instance, to create a random string of length `4` in ASCII lowercase call `''.join(random.choices(string.ascii_lowercase, k=4))`. Feel free to use this hint directly with minor modifications as required. "
   ]
  },
  {
   "cell_type": "markdown",
   "metadata": {},
   "source": [
    "#### **Task 1.c. Example**"
   ]
  },
  {
   "cell_type": "markdown",
   "metadata": {},
   "source": [
    "For instance, the following code "
   ]
  },
  {
   "cell_type": "code",
   "execution_count": null,
   "metadata": {},
   "outputs": [],
   "source": [
    "print(RealNumber.random())\n",
    "print(String.random())\n",
    "print(ManhattanPoint.random())"
   ]
  },
  {
   "cell_type": "markdown",
   "metadata": {},
   "source": [
    "should output in the following format:\n",
    "\n",
    "```python\n",
    "9.25\n",
    "mfbasjhgny\n",
    "(rc, 8.0)\n",
    "```\n",
    "\n",
    "**Note:** The real number component in the third example is `8.0` not `8`. This shows that the number was stored as float. \n",
    "\n",
    "**Note:** Since this is randomised, you should never expect to see the exact output as above. "
   ]
  },
  {
   "cell_type": "markdown",
   "metadata": {},
   "source": [
    "## **Task 2. Randomised Testing of Axioms** $~~~~$ [4 marks = 20%]"
   ]
  },
  {
   "cell_type": "markdown",
   "metadata": {},
   "source": [
    "In this task you need to implement the `test_axioms(self)` method which tests the four pseudometric axioms in any concrete implementation of `PseudometriSpace`. \n",
    "\n",
    "* Let's say that the class `PseudometricExample` is a concrete class that inherits from the abstract class `PseudometricSpace` and `pseudometricInstance` is an instance of the class `PseudometricExample`.\n",
    "\n",
    "    * The `test_axioms` method will be tested by calling `pseudometricInstance.test_axioms()`.\n",
    "\n",
    "    * Each axiom should be tested `100` times using points randomly generated using the `PseudometricExample.random()` method.\n",
    "\n",
    "    * If any of the `100` tests fails, the axiom is considered to have failed. If all `100` tests pass, the axiom is considered to have passed. \n",
    "\n",
    "    * The method `test_axioms` needs to return a `dictionary` (see Lecture 19, week 8) in the following format:\n",
    "```python\n",
    "        {\n",
    "            \"nonnegativity\": True or False,\n",
    "            \"reflexivity\": True or False,\n",
    "            \"symmetry\": True or False,\n",
    "            \"triangle_inequality\": True or False\n",
    "        }\n",
    "```\n",
    "\n",
    "* I will test your implementation of `test_axioms` by inheriting different classes from `PseudometricSpace`, some of which will will meet the pseudometric axioms, and some which will not. \n",
    "\n",
    "* We also want to test if `RealNumber`, `String`, and `ManhattanPoint` satisfy the four pseudometric axioms. To do this I will call `r.test_axioms()`, `s.test_axioms()` and `m.test_axioms()`, where `r`, `s` and `m` are instances of `RealNumber`, `String`, and `ManhattanPoint`, respectively. You should modify your implementation of these classes using appropriate Object Oriented Principles to allow this. \n",
    "\n",
    "\n",
    "**WARNING:** Follow the output format precisely. Any error in the name of the dictionary keys (e.g. `\"nonnegativity\"`) or output format will lead you to losing marks since the testing will be done automatically. The keys in the output dictionary correspond to the keys provided in the table of axioms in the Mathematical Background for Pseudometric Spaces. \n",
    "\n",
    "\n",
    "**More details on how to test the axioms**\n",
    "\n",
    "- Generate 3 random points `x`, `y`, `z`.\n",
    "- Test `\"nonnegativity\"` using only `x` and `y`.\n",
    "- Test `\"reflexivity\"` using only `x`.\n",
    "- Test `\"symmetry\"` using only `x` and `y`.\n",
    "- Test `\"triangle_inequality\"` using all three points `x`, `y`, `z`.\n",
    "- Repeat the procedure `100` times. If any axiom fails in any of these `100` times, it is considered to have failed. If it doesn't fail even once, it is considered to be passed.\n",
    "\n",
    "\n",
    "**Note:** Since we work with floating point numbers, equalities and inequalities become harder to check. For floating point numbers, for a very small positive number $\\varepsilon>0$,\n",
    "\n",
    "* instead of checking $a=b$, you should check $|a-b| < \\varepsilon$, and\n",
    "* instead of checking $a<b$, you should check $b-a < \\varepsilon$,\n",
    "* for ensuring non-negativity, $a\\geq0$, check instead if $a< - \\varepsilon$ is false.\n",
    "* I suggest using $\\varepsilon=10^{-10}$ for this coursework.\n",
    "\n",
    "**Hint:** To call the `random` method in the appropriate class, you could call `type(self).random()`. Here `type(self)` helps identify the appropriate class. You might find this helpful when generating the 3 random points `x`, `y`, `z` in the implementation of `test_axioms`."
   ]
  },
  {
   "cell_type": "markdown",
   "metadata": {},
   "source": [
    "#### **Task 2. Example**"
   ]
  },
  {
   "cell_type": "markdown",
   "metadata": {},
   "source": [
    "For instance, the following code "
   ]
  },
  {
   "cell_type": "code",
   "execution_count": null,
   "metadata": {},
   "outputs": [],
   "source": [
    "r = RealNumber(0)\n",
    "print(r.test_axioms())\n",
    "\n",
    "class TrivialSpace(PseudometricSpace):\n",
    "    def dist(self, other):\n",
    "        return 1\n",
    "\n",
    "    # Task 1.c\n",
    "    def random():\n",
    "        return TrivialSpace()\n",
    "\n",
    "t = TrivialSpace()\n",
    "print(t.test_axioms())"
   ]
  },
  {
   "cell_type": "markdown",
   "metadata": {},
   "source": [
    "should produce the following output:\n",
    "\n",
    "```python\n",
    "{'nonnegativity': True, 'reflexivity': True, 'symmetry': True, 'triangle_inequality': True}\n",
    "{'nonnegativity': True, 'reflexivity': False, 'symmetry': True, 'triangle_inequality': True}\n",
    "```"
   ]
  },
  {
   "cell_type": "markdown",
   "metadata": {},
   "source": [
    "## **Task 3. Total Distance, Median and Partition** $~~~~$ [4 marks = 20%]"
   ]
  },
  {
   "cell_type": "markdown",
   "metadata": {},
   "source": [
    "### **Task 3.a. Total Distance**"
   ]
  },
  {
   "cell_type": "markdown",
   "metadata": {},
   "source": [
    "The total distance between a point $x \\in X$ in a pseuodometric space and a set $Y = {y_1,...,y_n} \\subseteq X$ of points in the same pseudometric space is the sum of all pointwise distances from $x$ to $y_i$, for $i=1,...,n$, i.e. \n",
    "\n",
    "$$ \\text{total\\_distance}(x,\\{y_1,...,y_n\\}) \\ = \\ \\sum_{i=1}^n d(x, y_i). $$\n",
    "\n",
    "In this task you need to implement the `total_distance(self, points)` method in the abstract class `PseudometricSpace`. Let's say that the class `PseudometricExample` is a concrete class that inherits from the abstract class `PseudometricSpace`.\n",
    "\n",
    "* The parameters `self` is an instance of `PseudometricExample` and the parameter `points` is a **set** of instances of `PseudometricExample`.\n",
    "\n",
    "* The method will be called as `self.total_distance(points)`.\n",
    "\n",
    "* The output of this method should be a (non-negative) real number, specifically the total distance defined above. \n",
    "\n"
   ]
  },
  {
   "cell_type": "markdown",
   "metadata": {},
   "source": [
    "#### **Task 3.a. Example**"
   ]
  },
  {
   "cell_type": "markdown",
   "metadata": {},
   "source": [
    "For instance, the following code "
   ]
  },
  {
   "cell_type": "code",
   "execution_count": null,
   "metadata": {},
   "outputs": [],
   "source": [
    "clist = [-5/4, 2/3, 5/6, 1., 1/2, -3/4, 3/2, 8/7, 7/4, 3., -1/2, -1., -3/2, 4/3, 5/4]\n",
    "wlist = [\"cat\", \"dog\", \"fish\", \"bird\", \"elephant\", \"giraffe\", \"lion\", \"tiger\", \"bear\", \"wolf\", \"fox\", \"whale\", \"shark\", \"eagle\", \"hawk\"]\n",
    "\n",
    "rlist = [RealNumber(c) for c in clist]\n",
    "slist = [String(c) for c in wlist]\n",
    "mlist = [ManhattanPoint(s, r) for (s, r) in list(zip(slist, rlist))]\n",
    "\n",
    "print(rlist[5].total_distance(set(rlist)))\n",
    "print(slist[5].total_distance(set(slist)))\n",
    "print(mlist[5].total_distance(set(mlist)))"
   ]
  },
  {
   "cell_type": "markdown",
   "metadata": {},
   "source": [
    "should produce the following output\n",
    "\n",
    "```python\n",
    "22.226190476190474\n",
    "39\n",
    "61.226190476190474\n",
    "```\n",
    "\n",
    "**Hint:** You may frequently need to convert between sets and list for Tasks 3 and 4. We can convert a set `st` to a list as `list(st)`, or a list `lst` to a set as `set(lst)`."
   ]
  },
  {
   "cell_type": "markdown",
   "metadata": {},
   "source": [
    "### **Task 3.b. Median**"
   ]
  },
  {
   "cell_type": "markdown",
   "metadata": {},
   "source": [
    "The median of a set $Y \\subseteq X$ in a pseudometric space is the element $x \\in Y$ that is _closest_ to all points in the set in terms of having the smallest `total_distance` to the set. More precisely, $x\\in Y$ is a median of $Y$ if\n",
    "\n",
    "$$ \\forall z \\in Y \\ :\\  \\text{total\\_distance}(x, Y)\\ \\leq\\ \\text{total\\_distance}(z, Y). $$\n",
    "\n",
    "In this task you need to implement the `median(points)` method in the abstract class `PseudometricSpace`. Let's say that the class `PseudometricExample` is a concrete class that inherits from the abstract class `PseudometricSpace`.\n",
    "\n",
    "* The parameter `points` is a **set** of instances of `PseudometricExample`. You can assume that this set is non-empty. \n",
    "\n",
    "* The method will be called as `PseudometricExample.median(points)`.\n",
    "\n",
    "* The output of this method should be an instance of `PseudometricExample`. \n",
    "\n",
    "**Note:** The median is not necessarily unique (e.g. consider the set $\\{1,2,3,4\\}$ where $2$ or $3$ could both be considered medians). In case of multiple medians, you can return any median."
   ]
  },
  {
   "cell_type": "markdown",
   "metadata": {},
   "source": [
    "#### **Task 3.b. Example**"
   ]
  },
  {
   "cell_type": "markdown",
   "metadata": {},
   "source": [
    "For instance, the following code "
   ]
  },
  {
   "cell_type": "code",
   "execution_count": null,
   "metadata": {},
   "outputs": [],
   "source": [
    "print(RealNumber.median(set(rlist)))\n",
    "print(String.median(set(slist)))\n",
    "print(ManhattanPoint.median(set(mlist)))"
   ]
  },
  {
   "cell_type": "markdown",
   "metadata": {},
   "source": [
    "should produce output similar to (but, due to non-uniqueness of the median, not necessarily identical to)\n",
    "\n",
    "```python\n",
    "0.8333333333333334\n",
    "hawk\n",
    "(fish, 0.8333333333333334)\n",
    "```\n",
    "\n",
    "**Hint:** You should make use of the `distance(self, points)` method."
   ]
  },
  {
   "cell_type": "markdown",
   "metadata": {},
   "source": [
    "### **Task 3.c. Partition**"
   ]
  },
  {
   "cell_type": "markdown",
   "metadata": {},
   "source": [
    "Given a subset $Y \\subseteq X$ and two elements in this set $x_1, x_2 \\in Y$, the partition of $Y$ with respect to $x_1$ and $x_2$ consists of disjoint subsets $Y_1, Y_2$ such that\n",
    "\n",
    "$$ Y_1 = \\left\\{y \\in Y\\ :\\ d(x_1, y) < d(x_2, y) \\right\\} \\ \\cup \\{x_1\\} \\setminus \\{x_2\\}$$ \n",
    "\n",
    "and $Y_2 = Y \\setminus Y_1$. \n",
    "\n",
    "* That is, $Y_1$ are all the points in $Y$ that are closer to $x_1$ than they are to $x_2$, and $Y_2$ is the set of points that are closer (or equal in distance) to $x_2$ than they are to $x_1$. \n",
    "\n",
    "* Due to this difference, the partition is not expected to be symmetric. \n",
    "\n",
    "* We explicitly enforce that $x_1 \\in Y_1$ and $x_2 \\in Y_2$. \n",
    "\n",
    "In this task you need to implement the `partition(x1, x2, points)` method in the abstract class `PseudometricSpace`. Let's say that the class `PseudometricExample` is a concrete class that inherits from the abstract class `PseudometricSpace`.\n",
    "\n",
    "* The parameters `x1` and `x2` are instances of `PseudometricExample`. You can assume that they are distinct instances.\n",
    "\n",
    "* The parameter `points` is a **set** of instances of `PseudometricExample`. You can assume that `x1` and `x2` are both in this set.\n",
    "\n",
    "* The method will be called as `PseudometricExample.partition(x1, x2, points)`.\n",
    "\n",
    "* The output of this method should be a list of sets `partitions`, such that `partitions[0]` is a **set** that corresponds to $Y_1$ and `partitions[1]` is a **set** that corresponds to $Y_2$. \n",
    "\n"
   ]
  },
  {
   "cell_type": "markdown",
   "metadata": {},
   "source": [
    "#### **Task 3.c. Example**"
   ]
  },
  {
   "cell_type": "markdown",
   "metadata": {},
   "source": [
    "For instance, the following code "
   ]
  },
  {
   "cell_type": "code",
   "execution_count": null,
   "metadata": {},
   "outputs": [],
   "source": [
    "for points in [rlist, slist, mlist]:\n",
    "    x1, x2 = points[0], points[1]\n",
    "    ClassName = type(x1)\n",
    "    p1, p2 = ClassName.partition(x1, x2, set(points))\n",
    "    print(f\"Closest to {x1}: {p1}\")\n",
    "    print(f\"Closest to {x2}: {p2}\")\n",
    "    print(\"\")"
   ]
  },
  {
   "cell_type": "markdown",
   "metadata": {},
   "source": [
    "should produce output similar to (but, due to randomness, not necessarily identical to)\n",
    "\n",
    "```python\n",
    "Closest to -1.25: {-0.5, -1.5, -1.25, -1.0, -0.75}\n",
    "Closest to 0.6666666666666666: {3.0, 1.1428571428571428, 0.8333333333333334, 1.25, 0.6666666666666666, 0.5, 1.5, 1.3333333333333333, 1.75, 1.0}\n",
    "\n",
    "Closest to cat: {cat}\n",
    "Closest to dog: {fish, eagle, hawk, dog, fox, lion, whale, shark, bear, elephant, tiger, bird, giraffe, wolf}\n",
    "\n",
    "Closest to (cat, -1.25): {(cat, -1.25), (giraffe, -0.75), (fox, -0.5), (whale, -1.0), (shark, -1.5)}\n",
    "Closest to (dog, 0.6666666666666666): {(hawk, 1.25), (eagle, 1.3333333333333333), (dog, 0.6666666666666666), (tiger, 1.1428571428571428), (wolf, 3.0), (elephant, 0.5), (lion, 1.5), (bird, 1.0), (fish, 0.8333333333333334), (bear, 1.75)}\n",
    "```\n",
    "\n",
    "**Hint:** Note how we can find out the Class of which `x1` is an instance using `type(x1)`. This is useful when calling methods such as `ClassName.partition` within the appropriate Class. You may need to use this trick elsewhere. "
   ]
  },
  {
   "cell_type": "markdown",
   "metadata": {},
   "source": [
    "## **Task 4. Clustering** $~~~~$ [4 marks = 20%]"
   ]
  },
  {
   "cell_type": "markdown",
   "metadata": {},
   "source": [
    "In this task, given a subset $Y \\subseteq X$  you need to implement a clustering algorithm to produce\n",
    "\n",
    "* two clusters $Y_1, Y_2$, which are disjoint sets,\n",
    "\n",
    "* two centroids $y_1 \\in Y_1,\\ y_2 \\in Y_2$.\n",
    "\n",
    "The **clustering algorithm** is as follows:\n",
    "\n",
    "* **Initialisation.** Start with a given first guess for the centroids $y_1, y_2$. \n",
    "\n",
    "* **Partition.** Partition the set $Y$ into two clusters $Y_1$ and $Y_2$ based on which centroid they are closer to.\n",
    "\n",
    "* **Update.** For each cluster, compute its median and use it as the new guess for the centroid.\n",
    "\n",
    "* **Convergence check.** If the pair of centroids has occurred previously (in any order, i.e. if $y_1$ and $y_2$ are exchanged, the choice of centroids is considered identical), the algorithm has converged.\n",
    "\n",
    "* **Repeat.** Repeat until convergence is achieved. \n",
    "\n",
    "\n",
    "In this task you need to implement the `clusters(x1, x2, points)` method in the abstract class `PseudometricSpace`. Let's say that the class `PseudometricExample` is a concrete class that inherits from the abstract class `PseudometricSpace`.\n",
    "\n",
    "* The parameters `x1` and `x2` are instances of `PseudometricExample`. You can assume that they are distinct instances. These should be used as the **initial guesses** for the centroids, $y_1$ and $y_2$, respectively. \n",
    "\n",
    "* The parameter `points` is a **set** of instances of `PseudometricExample`, and corresponds to the set $Y$. You can assume that `x1` and `x2` are both in this set. \n",
    "\n",
    "* The method will be called as `PseudometricExample.clusters(x1, x2, points)`.\n",
    "\n",
    "* The outputs of this method should be \n",
    "\n",
    "    * `centroids`: a list of two instances of `PseudometricExample`, which are the final guesses for the centroids (one for each cluster),\n",
    "\n",
    "    * `clusters`: a list of two sets, representing the two disjoint clusters of points assigned to the centroids.\n",
    "\n",
    "    * `centroid_guesses`: a list of all centroid pairs guessed during the iteration, in order of appearance. Each element of this list should be a **set** of two centroids (this is distinct from the format of the output `centroids`, which is a **list**)."
   ]
  },
  {
   "cell_type": "markdown",
   "metadata": {},
   "source": [
    "#### **Task 4. Example**"
   ]
  },
  {
   "cell_type": "markdown",
   "metadata": {},
   "source": [
    "For instance, the following code "
   ]
  },
  {
   "cell_type": "code",
   "execution_count": null,
   "metadata": {},
   "outputs": [],
   "source": [
    "for points in [rlist, slist, mlist]:\n",
    "    ClassName = type(points[0])\n",
    "    centroids, clusters, centroid_guesses = ClassName.clusters(points[0], points[1], set(points))\n",
    "\n",
    "    print(f\"centroid 1: {centroids[0]}\")\n",
    "    print(f\"cluster 1: {clusters[0]}\")\n",
    "    print(f\"centroid 2: {centroids[1]}\")\n",
    "    print(f\"cluster 2: {clusters[1]}\")\n",
    "    print(\"\")"
   ]
  },
  {
   "cell_type": "markdown",
   "metadata": {},
   "source": [
    "should produce output similar to (but, due to randomness, not necessarily identical to)\n",
    "\n",
    "```python\n",
    "centroid 1: -1.0\n",
    "cluster 1: {-1.0, -0.75, -1.25, -0.5, -1.5}\n",
    "centroid 2: 1.1428571428571428\n",
    "cluster 2: {3.0, 0.8333333333333334, 1.3333333333333333, 0.5, 1.0, 0.6666666666666666, 1.1428571428571428, 1.5, 1.25, 1.75}\n",
    "\n",
    "centroid 1: dog\n",
    "cluster 1: {dog, fox, cat}\n",
    "centroid 2: eagle\n",
    "cluster 2: {eagle, wolf, whale, tiger, fish, giraffe, bear, elephant, bird, shark, hawk, lion}\n",
    "\n",
    "centroid 1: (whale, -1.0)\n",
    "cluster 1: {(elephant, 0.5), (whale, -1.0), (giraffe, -0.75), (fox, -0.5), (shark, -1.5), (cat, -1.25)}\n",
    "centroid 2: (hawk, 1.25)\n",
    "cluster 2: {(bird, 1.0), (tiger, 1.1428571428571428), (eagle, 1.3333333333333333), (wolf, 3.0), (lion, 1.5), (bear, 1.75), (dog, 0.6666666666666666), (fish, 0.8333333333333334), (hawk, 1.25)}\n",
    "```\n",
    "\n",
    "**Hint 1:** You should make use of the `median(points)` and the `partition(x1, x2, points)` methods.\n",
    "\n",
    "**Hint 2:** You can use `{4,5} in [{4,3}, {-2,1}, {4,5}, {5,6}]` to check whether the set `{4,5}` appears in the list of sets `[{4,3}, {-2,1}, {4,5}, {5,6}]`."
   ]
  },
  {
   "cell_type": "markdown",
   "metadata": {},
   "source": [
    "## Guidance\n",
    "You might find the tests below useful, but you might want to design additional tests yourself (no additional marks are awarded for these additional tests) to check the correctness of your code. A student who has actively engaged with the course and completed all tickables will be able to complete the assignment in 10-15\n",
    "hours.\n",
    "\n",
    "### Asking questions on the coursework\n",
    "You can ask questions by posting them annonymously on the Q & A Padlet (`https://padlet.com/ps2106/ma12003-programming-2024-25-fbcq2jk28sjn2len`) or by emailing the lecturer (`ps2106@bath.ac.uk`). Please note that in the interest of fairness to all students, specific help with your coursework cannot be sought. \n",
    "\n",
    "### Clarifications\n",
    "Any doubt that is deemed of broader interest will be added to the Q & A Padlet along with the clarification, even if sent privately by emailing the lecturer. Within reason, clarifications will continue to be provided fairly close to the submission deadline as I receive queries. Clarifications are **not** corrections in the coursework, but are hints and disambiguations, and are provided to everyone only to ensure that any help or hint does not favour a student unequally. Students have no obligations to read through these clarifications and may choose to entirely ignore them, provided they adhere strictly to the coursework description. "
   ]
  }
 ],
 "metadata": {
  "kernelspec": {
   "display_name": "torchcomplex",
   "language": "python",
   "name": "python3"
  },
  "language_info": {
   "codemirror_mode": {
    "name": "ipython",
    "version": 3
   },
   "file_extension": ".py",
   "mimetype": "text/x-python",
   "name": "python",
   "nbconvert_exporter": "python",
   "pygments_lexer": "ipython3",
   "version": "3.11.9"
  }
 },
 "nbformat": 4,
 "nbformat_minor": 2
}
