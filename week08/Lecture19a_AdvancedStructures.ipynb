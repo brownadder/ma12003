{
 "cells": [
  {
   "cell_type": "markdown",
   "id": "f9d210f9",
   "metadata": {},
   "source": [
    "# Advanced structures\n",
    "\n",
    "While a lot can be achieved using lists, sometimes they can be a bit cumbersome. In this lecture, we will discuss a few advanced data structures such as sets, tuples, and dictionaries. Although their functionality can be reproduced using lists, working with these structures can make your code much more readable and avoid errors due to working with data structures that are not suited for the application. \n",
    "\n",
    "Furthermore, we will consider advanced functionality of functions. In particular, it may often be useful to provide default values for some arguments of a function. This can help keep you code simple and allow for users to only supply the arguments they need for a given application. Additionally, we will discuss a slightly different version of a function, called a generator, which makes the function act like an iterator, similar to the `range()` function. This allows for function outputs to be used in for-loops, for example, or function values can be computed one at a time when they are needed; thus, giving great flexibility in your programming. \n",
    "\n",
    "### What you will learn\n",
    "\n",
    "In this notebook we will cover the following topics:\n",
    "* sets\n",
    "* tuples\n",
    "* dictionaries\n",
    "* generators\n",
    "* default values for functions\n",
    "\n",
    "*&#169; Tobias Hartung, University of Bath 2021-2025. This problem sheet is copyright of Tobias Hartung, University of Bath. It is provided exclusively for educational purposes at the University and is to be downloaded or copied for your private study only. Further distribution, e.g. by upload to external repositories, is prohibited.*\n",
    "\n",
    "\n",
    "## Sets\n",
    "\n",
    "For example, a set can be represented as a list by listing all elements. However, if we do this, then we need to ensure that no duplicates are in the list and the ordered nature of a list may not be what we want either. Thus, using a set in Python can simplify your code and make it a lot more efficient.\n"
   ]
  },
  {
   "cell_type": "code",
   "execution_count": null,
   "id": "3df56d96",
   "metadata": {},
   "outputs": [],
   "source": [
    "items = {(1,2):4, (4,2):2}"
   ]
  },
  {
   "cell_type": "code",
   "execution_count": null,
   "id": "74eabba4",
   "metadata": {},
   "outputs": [],
   "source": [
    "fruits = ['apple', 'banana', 'cherry','guava']\n",
    "disliked_fruits = ['apple', 'guava']\n",
    "[f for f in fruits if f not in disliked_fruits]"
   ]
  },
  {
   "cell_type": "code",
   "execution_count": null,
   "id": "aac67223",
   "metadata": {},
   "outputs": [],
   "source": [
    "{'dog','cat','rat','dog'}"
   ]
  },
  {
   "cell_type": "code",
   "execution_count": null,
   "id": "55b690ca",
   "metadata": {},
   "outputs": [],
   "source": [
    "{(4,2),(2,1)}"
   ]
  },
  {
   "cell_type": "code",
   "execution_count": null,
   "id": "85ba95d7",
   "metadata": {},
   "outputs": [],
   "source": [
    "L = [1,2,3,4,4] # recall how to define a list\n",
    "print('type of L: ',type(L))\n",
    "\n",
    "s1 = set([1,2,3,4,4]) # defining a set from a list\n",
    "s2 = {1,3,3}          # defining a set directly\n",
    "print('type of s1: ',type(s1))\n",
    "print('type of s2: ',type(s2))\n",
    "\n",
    "print('list L: ',L)\n",
    "print('set s1: ',s1)\n",
    "print('set s2: ',s2)"
   ]
  },
  {
   "cell_type": "markdown",
   "id": "4765b879",
   "metadata": {},
   "source": [
    "Note that sets are iterable but not ordered, that is you can write a for loop `for x in s1:` and it will go through each element `x` of `s1` but you cannot ask for the \"first element\" of the set because it is \"unordered\". As the following example shows, the order in which the set gets iterated over is not the same as the list used to define the set."
   ]
  },
  {
   "cell_type": "code",
   "execution_count": null,
   "id": "f533a15f",
   "metadata": {},
   "outputs": [],
   "source": [
    "s = set([1,3,4,2,6]) # define set from list of elements\n",
    "for x in s:\n",
    "    print(x) # show all elements of the set"
   ]
  },
  {
   "cell_type": "markdown",
   "id": "57e9839f",
   "metadata": {},
   "source": [
    "Be aware, the elements of a Python set must be \"immutable\", i.e., they cannot be changed after they are created in memory. Numbers and strings can be in sets, but lists cannot be elements of sets. If you want an immutable list-like object as an element of a set, you will need to use tuples (see below). \n",
    "\n",
    "Sets also have the `union`, `intersection`, `difference`, and `symmetric difference` methods."
   ]
  },
  {
   "cell_type": "code",
   "execution_count": null,
   "id": "bb0bbba8",
   "metadata": {},
   "outputs": [],
   "source": [
    "s1 = set([1,2,3,4])\n",
    "s2 = set([3,4,5,6])\n",
    "\n",
    "print(\"union of s1 and s2\")\n",
    "print(s1.union(s2))\n",
    "print(s1|s2) # also union\n",
    "print()\n",
    "\n",
    "print(\"intersection of s1 and s2\")\n",
    "print(s1.intersection(s2))\n",
    "print(s1&s2) # also intersection\n",
    "print()\n",
    "\n",
    "print(\"difference of s1 and s2\")\n",
    "print(s1.difference(s2))\n",
    "print(s1-s2) # also difference\n",
    "print()\n",
    "\n",
    "print(\"symmetric difference of s1 and s2\")\n",
    "print(s1.symmetric_difference(s2))\n",
    "print(s1^s2) # also symmetric difference"
   ]
  },
  {
   "cell_type": "markdown",
   "id": "a81841f5",
   "metadata": {},
   "source": [
    "You can check whether two sets are disjoint with `isdisjoint()` or subsets of another with `issubset()` or `<=`. `<` determines whether we have a proper subset."
   ]
  },
  {
   "cell_type": "code",
   "execution_count": null,
   "id": "b3ec314f",
   "metadata": {},
   "outputs": [],
   "source": [
    "print(s1.isdisjoint(s2))\n",
    "print(s1.issubset(s1))\n",
    "print(s1<s1)"
   ]
  },
  {
   "cell_type": "markdown",
   "id": "92b1588f",
   "metadata": {},
   "source": [
    "Similarly, we have `issuperset()`, `>=` and `>`. \n",
    "\n",
    "Finally, we can `add()` and `remove()` elements from a set, and check wheter an element is in a set with `in`."
   ]
  },
  {
   "cell_type": "code",
   "execution_count": null,
   "id": "2a1dedab",
   "metadata": {},
   "outputs": [],
   "source": [
    "print(s1)\n",
    "s1.add(9)\n",
    "s1.remove(1)\n",
    "print(s1)\n",
    "print(2 in s1)"
   ]
  },
  {
   "cell_type": "markdown",
   "id": "bf939c59",
   "metadata": {},
   "source": [
    "For example, sets are useful if you want to reduce lists to their unique values, e.g., ranges of functions. Then we can ask whether they are disjoint, the same, or similar questions."
   ]
  },
  {
   "cell_type": "code",
   "execution_count": null,
   "id": "c4437372",
   "metadata": {},
   "outputs": [],
   "source": [
    "import numpy as np\n",
    "\n",
    "def f1(n):                       # define first function as round( sin(n pi / 2) )\n",
    "    return round(np.sin(n * np.pi/2))\n",
    "\n",
    "def f2(n):                       # define second function as modulo 3 \n",
    "    return n%3\n",
    "\n",
    "def f3(n):                       # define third function as round( sin(n pi / 2) )**2\n",
    "    return round(np.sin(n * np.pi/2))**2\n",
    "\n",
    "domain = range(100)\n",
    "\n",
    "# compute ranges as lists\n",
    "range_list_f1 = []\n",
    "range_list_f2 = []\n",
    "range_list_f3 = []\n",
    "for n in domain:\n",
    "    range_list_f1.append(f1(n))\n",
    "    range_list_f2.append(f2(n))\n",
    "    range_list_f3.append(f3(n))\n",
    "\n",
    "# show ranges: imagine we chose domain = range(10000) or even larger\n",
    "print('f1 range as list: ',range_list_f1)\n",
    "print('f2 range as list: ',range_list_f2)\n",
    "print('f3 range as list: ',range_list_f3)\n",
    "print()\n",
    "\n",
    "# map ranges to sets and print\n",
    "range_f1 = set(range_list_f1)\n",
    "range_f2 = set(range_list_f2)\n",
    "range_f3 = set(range_list_f3)\n",
    "print('f1 range as set: ',range_f1)\n",
    "print('f2 range as set: ',range_f2)\n",
    "print('f3 range as set: ',range_f3)\n",
    "print()\n",
    "\n",
    "# ask questions about ranges as sets\n",
    "print('Are they the same?', range_f1 == range_f2)\n",
    "print('Is range(f1) a subset of range(f2)?', range_f1 <= range_f2)\n",
    "print('Is range(f3) a subset of range(f2)?', range_f3 <= range_f2)\n",
    "print('Are they disjoint?', range_f1.isdisjoint(range_f2))\n",
    "print('What are the common elements?', range_f1&range_f2)"
   ]
  },
  {
   "cell_type": "markdown",
   "id": "a85442a9",
   "metadata": {},
   "source": [
    "## Tuples\n",
    "\n",
    "Tuples are ordered lists and immutable. As such, they can be used to represent constant vectors and appear in sets. They are defined using parentheses (). They are indexed just like lists, the only difference is that you cannot assign a value to a tuple element."
   ]
  },
  {
   "cell_type": "code",
   "execution_count": null,
   "id": "ce179b45",
   "metadata": {},
   "outputs": [],
   "source": [
    "t = (1,2,3) # define a tuple\n",
    "print(t)    # show the tuple\n",
    "print(t[0]) # show a value of the tuple\n",
    "t[1] = 5    # this causes an error, cannot change values in a tuple"
   ]
  },
  {
   "cell_type": "markdown",
   "id": "2a286010",
   "metadata": {},
   "source": [
    "The code above would work perfectly fine if `t` had been a list."
   ]
  },
  {
   "cell_type": "code",
   "execution_count": null,
   "id": "635fb710",
   "metadata": {},
   "outputs": [],
   "source": [
    "t = [1,2,3] # define a list\n",
    "print(t)    # show the list\n",
    "print(t[0]) # show a value of the list\n",
    "t[1] = 5    # change value of list\n",
    "print(t)    # show the list"
   ]
  },
  {
   "cell_type": "markdown",
   "id": "2bc1bcba",
   "metadata": {},
   "source": [
    "If you have a function that has multiple return arguments, i.e., a function that ends in `return a,b,c` then the returned object is the tuple `(a,b,c)`. To get access to the values in a tuple, we can use tuple unpacking. "
   ]
  },
  {
   "cell_type": "code",
   "execution_count": null,
   "id": "c6ad2652",
   "metadata": {},
   "outputs": [],
   "source": [
    "a,b,c = t # unpacking the tuple t into variables a, b, and c\n",
    "print(a)\n",
    "print(b)\n",
    "print(c)"
   ]
  },
  {
   "cell_type": "markdown",
   "id": "70d82d50",
   "metadata": {},
   "source": [
    "Other than this immutability, tuples act just like lists and can be concatenated with `+` and sliced with `:`. \n",
    "\n",
    "## Dictionaries\n",
    "\n",
    "Dictionaries are similar to lists, but instead of having a numerical index, they are indexed by a key. This can make your code much more readable. Consider the following example of a participant in a study."
   ]
  },
  {
   "cell_type": "code",
   "execution_count": null,
   "id": "db3a4338",
   "metadata": {},
   "outputs": [],
   "source": [
    "participant = ['Smith', 'John', 32, 105] # data stored as list\n",
    "participant = {                          # data stored as dictionary\n",
    "    'last name': 'Smith', \n",
    "    'first name': 'John',\n",
    "    'age': 32,\n",
    "    'IQ': 105\n",
    "}\n",
    "\n",
    "print(participant['age'])"
   ]
  },
  {
   "cell_type": "markdown",
   "id": "8f4cc37c",
   "metadata": {},
   "source": [
    "The call `participant['age']` is much more readable than the list equivalent `participant[2]`. Furthermore, if the data changes to include more or less information, the code `participant['age']` still works unchanged whereas the index in the list may be shifted and then `participant[2]` refers to the wrong data. \n",
    "\n",
    "When working with dictionaries, the important functions are `keys()` (returns list of keys), `values()` (returns list of values, and `pop()` (removes a key-value-pair). We can also add an entry to the dictionary by setting it with `dictionary[key] = value`."
   ]
  },
  {
   "cell_type": "code",
   "execution_count": null,
   "id": "d50021be",
   "metadata": {},
   "outputs": [],
   "source": [
    "print(participant.keys()) # show current keys\n",
    "print(participant.values()) # show current values \n",
    "participant.pop('IQ') # remove IQ from dictionary\n",
    "participant['score'] = 10 # add a 'score' entry to the dictionary\n",
    "print(participant) # show changed dictionary"
   ]
  },
  {
   "cell_type": "markdown",
   "id": "8f1694f3",
   "metadata": {},
   "source": [
    "It is important to note that dictionaries are iterable and `for x in dict:` loops over key values. "
   ]
  },
  {
   "cell_type": "code",
   "execution_count": null,
   "id": "8db112b6",
   "metadata": {},
   "outputs": [],
   "source": [
    "for x in participant:\n",
    "    print(x)"
   ]
  },
  {
   "cell_type": "markdown",
   "id": "634a2bc1",
   "metadata": {},
   "source": [
    "If you wish to access both keys and values, you should use `.items()`."
   ]
  },
  {
   "cell_type": "code",
   "execution_count": null,
   "id": "fbbbed70",
   "metadata": {},
   "outputs": [],
   "source": [
    "for k,v in participant.items():\n",
    "    print(k,v)"
   ]
  },
  {
   "cell_type": "markdown",
   "id": "f7e5c32b",
   "metadata": {},
   "source": [
    "## Generators\n",
    "\n",
    "Sometimes, list can get very large but you don't need to have all elements at all times. For example, if you write `for n in range(10**100):` it is not necessary (nor possible) to store 10^100 many integers in memory. Instead, only the current number `n` is stored and incremented at each loop iteration. Generators do this for you in Python. \n",
    "\n",
    "Generators are defined like functions but use `yield` instead of `return`."
   ]
  },
  {
   "cell_type": "code",
   "execution_count": null,
   "id": "bcb50e33",
   "metadata": {},
   "outputs": [],
   "source": [
    "{2,3}"
   ]
  },
  {
   "cell_type": "code",
   "execution_count": null,
   "id": "cc6b8f9a",
   "metadata": {},
   "outputs": [],
   "source": [
    "def fibonacci():\n",
    "    \"\"\"\n",
    "    Generator object to generate the Fibonacci numbers starting with 1, 1, ...\n",
    "    \n",
    "    Input: None\n",
    "    \n",
    "    Output: integer representing the sequence of Fibonacci numbers\n",
    "    \"\"\"\n",
    "    a = 1\n",
    "    b = 1\n",
    "    while True:\n",
    "        yield a\n",
    "        a,b = b,a + b\n",
    "\n",
    "F = fibonacci()\n",
    "print(F)\n",
    "        "
   ]
  },
  {
   "cell_type": "markdown",
   "id": "c2e24124",
   "metadata": {},
   "source": [
    "This defines `F` to be a generator of the Fibonacci sequence. It can generate arbitrarily many elements in the sequence but at any point in time only two numbers are stored (`a` and `b`). We can access the numbers by calling `next`."
   ]
  },
  {
   "cell_type": "code",
   "execution_count": null,
   "id": "424d51cb",
   "metadata": {},
   "outputs": [],
   "source": [
    "print(next(F))\n",
    "print(next(F))\n",
    "print(next(F))\n",
    "print(next(F))\n",
    "print(next(F))"
   ]
  },
  {
   "cell_type": "markdown",
   "id": "0dd3127e",
   "metadata": {},
   "source": [
    "As such, the main difference between a generator and a function is the fact that a function is closed and removed from memory once it has returned a value. For example, if we were to write a function of the form"
   ]
  },
  {
   "cell_type": "raw",
   "id": "bce78d50",
   "metadata": {},
   "source": [
    "def function(args):\n",
    "    do something\n",
    "    return something\n",
    "    do something else"
   ]
  },
  {
   "cell_type": "markdown",
   "id": "119affb5",
   "metadata": {},
   "source": [
    "then the function will never execute the `do something else` part because it stops everything it does as soon as a `return` statement is executed. \n",
    "\n",
    "A generator on the other hand would look like"
   ]
  },
  {
   "cell_type": "raw",
   "id": "d0031364",
   "metadata": {},
   "source": [
    "def generator(args):\n",
    "    do something\n",
    "    yield something\n",
    "    do something else"
   ]
  },
  {
   "cell_type": "markdown",
   "id": "863fa31b",
   "metadata": {},
   "source": [
    "Once it reaches the `yield` statement, it will also return a value but the generator will stay in the state it is in. Once `next()` is called on the generator object, the `do something else` code will be executed. \n",
    "\n",
    "Hence, a generator object will only cease to exist like a function does, if the generator reaches the end of its code, i.e., the end of the `do something else` part in the abstract example above. If we consider our Fibonacci generator however, this is not possible because it trapped in an infinite loop `while True`. If you wanted to stop a generator object, like the Fibonacci generator, from existing (because you no longer need it), you need to close it manually. This can be achieved by calling the `.close()` method. "
   ]
  },
  {
   "cell_type": "code",
   "execution_count": null,
   "id": "563d1a2b",
   "metadata": {},
   "outputs": [],
   "source": [
    "F.close()    # closing the Fibonnaci generator"
   ]
  },
  {
   "cell_type": "markdown",
   "id": "0f3301a6",
   "metadata": {},
   "source": [
    "## Default values\n",
    "\n",
    "Finally, it can often be usefult to define functions with default values for some variables. This can allow you to define more versatile functions while, at the same time, keeping the the code readible when the additional functionality is not needed. \n",
    "\n",
    "We can define default values by assigning a value to an argument in the `def function():` line.\n",
    "\n",
    "For example, we could consider the Fibinacci generator above. But rather than having the first two elements given by 1 and 1, we could allow for the first two values to be supplied by the user. However, if they are not given, then we could default back to 1 and 1. "
   ]
  },
  {
   "cell_type": "code",
   "execution_count": null,
   "id": "085c3220",
   "metadata": {},
   "outputs": [],
   "source": [
    "def versatile_fibonacci(init=(1,1)): \n",
    "    \"\"\"\n",
    "    Generator object to generate the Fibonacci numbers starting with the number specified in the tuple init.\n",
    "    If init is not given, then the sequence starts with 1,1,...\n",
    "    \n",
    "    Input:\n",
    "    init : tuple of size 2 : optional values for first two Fibonacci numbers\n",
    "    \n",
    "    Output:\n",
    "    integer representing the sequence of Fibonacci numbers\n",
    "    \"\"\"\n",
    "    \n",
    "    # note that a is the 0th number and b the 1st, while init contains F_1 and F_2\n",
    "    # so we need to set b = F_1 and a = F_2-F_1\n",
    "    a = init[0]\n",
    "    b = init[1]\n",
    "    \n",
    "    # now we repeat the same code\n",
    "    while True:\n",
    "        yield a\n",
    "        a,b = b,a + b\n",
    "\n",
    "# define the \"normal\" Fibonacci sequence by not passing initial values\n",
    "fibo = versatile_fibonacci()\n",
    "for i in range(5):\n",
    "    print(next(fibo))\n",
    "\n",
    "print() # make an empty line in the output\n",
    "\n",
    "# but we can also define different starting values, like F_1 = 3 and F_2 = 3, \n",
    "# by passing the tuple (3,3) to the init argument\n",
    "fibo_3_3 = versatile_fibonacci(init=(3,3))\n",
    "for i in range(5):\n",
    "    print(next(fibo_3_3))"
   ]
  },
  {
   "cell_type": "markdown",
   "id": "fae033e6",
   "metadata": {},
   "source": [
    "Of course, default values and arguments without default values can be mixed. If you do this, then all arguments without default values need to be listed first. For example, we could consider a function that computes the `N`th Fibonacci number but allowing for the initial values to be set differently with 1 and 1 as defaults."
   ]
  },
  {
   "cell_type": "code",
   "execution_count": null,
   "id": "a84d2048",
   "metadata": {},
   "outputs": [],
   "source": [
    "def nth_fibonacci(N,f1=1,f2=1):\n",
    "    \"\"\"\n",
    "    This function computes the Nth Fibonacci number. \n",
    "    \n",
    "    Input:\n",
    "    N : integer : the N for the Nth Fibonacci number to be computed\n",
    "    f1 : integer : optional argument for the first Fibonacci number to be specified; if unspecified f1 = 1\n",
    "    f2 : integer : optional argument for the second Fibonacci number to be specified; if unspecified f2 = 1\n",
    "    \n",
    "    Output:\n",
    "    integer f_n representing the Nth Fibonacci number.\n",
    "    \"\"\"\n",
    "    \n",
    "    # first check whether N is 1 or 2, i.e., one of the supplied values\n",
    "    if N == 1: \n",
    "        return f1\n",
    "    \n",
    "    if N == 2:\n",
    "        return f2\n",
    "    \n",
    "    # else we need to add the last two values N-2 times\n",
    "    f_n_minus_1 = f2\n",
    "    f_n_minus_2 = f1\n",
    "    for i in range(N-2):\n",
    "        f_n = f_n_minus_1 + f_n_minus_2 # add the last two numbers\n",
    "        \n",
    "        # shift the index, i.e., set new last and second to last numbers\n",
    "        f_n_minus_2 = f_n_minus_1  \n",
    "        f_n_minus_1 = f_n\n",
    "        \n",
    "    return f_n\n",
    "\n",
    "print(nth_fibonacci(5))\n",
    "print(nth_fibonacci(5,f1=3,f2=3))"
   ]
  },
  {
   "cell_type": "markdown",
   "id": "a5b61f0d",
   "metadata": {},
   "source": [
    "# Check your understanding\n",
    "\n",
    "##### Question 1\n",
    "Which of the following define the set {'a', 'b', 'c'}:\n",
    "```\n",
    "A S = set('abc')\n",
    "B S = set('a','b','c')\n",
    "C S = set(['a','b','c'])\n",
    "D S = {'a','b','c'}\n",
    "E S = {('a','b','c')}\n",
    "```\n",
    "\n",
    "##### Question 2\n",
    "What is the result of `{1,2,3} & set('123')`?\n",
    "```\n",
    "A {1,2,3}\n",
    "B {'1','2','3'}\n",
    "C {1,2,3,'1','2','3'}\n",
    "D set()\n",
    "E {}\n",
    "```\n",
    "\n",
    "##### Question 3\n",
    "Which of the following are true of Python dictionaries?\n",
    "```\n",
    "A Dictionaries are accessed by key.\n",
    "B Dictionaries can be nested to any depth.\n",
    "C A dictionary can contain any object type except another dictionary.\n",
    "D Items are accessed by their position in a dictionary.\n",
    "E All the keys in a dictionary must be of the same type.\n",
    "F Dictionaries are mutable.\n",
    "```\n",
    "\n",
    "##### Question 4\n",
    "What is the type of `d = {('foo', 100),('bar', 200),('baz', 300)}`?\n",
    "\n",
    "##### Question 5\n",
    "What is the type of `d = {}`?\n",
    "\n",
    "##### Question 6\n",
    "Consider the dictionary `d = {'foo': 100, 'bar': 200, 'baz': 300}`. What happens if you write `d['bar':'baz']`?\n",
    "\n",
    "##### Question 7\n",
    "Consider `t=(1,2,3)`. How would you replace the `2` with a `4`?\n",
    "\n",
    "##### Question 8\n",
    "What structure would you use to compute one prime at a time starting with 2 or another chosen prime, that is, you may want to obtain 2, 3, 5, 7, ... one at a time and you may wish to choose the initial prime in the list?\n",
    "\n",
    "```\n",
    "\n",
    "\n",
    "\n",
    "\n",
    "\n",
    "\n",
    "\n",
    "\n",
    "\n",
    "\n",
    "\n",
    "\n",
    "\n",
    "\n",
    "\n",
    "\n",
    "\n",
    "\n",
    "\n",
    "\n",
    "\n",
    "\n",
    "\n",
    "```\n",
    "\n",
    "# Answers\n",
    "Q1: A, C, D\n",
    "Q2: D\n",
    "Q3: A, B, F\n",
    "Q4: set\n",
    "Q5: dictionary\n",
    "Q6: It raises an exception. \n",
    "Q7: This is a trick question. Tuples are immutable.\n",
    "Q8: A generator with default argument, e.g., `def primes(first_prime = 2):`\n"
   ]
  }
 ],
 "metadata": {
  "kernelspec": {
   "display_name": "Python 3",
   "language": "python",
   "name": "python3"
  },
  "language_info": {
   "codemirror_mode": {
    "name": "ipython",
    "version": 3
   },
   "file_extension": ".py",
   "mimetype": "text/x-python",
   "name": "python",
   "nbconvert_exporter": "python",
   "pygments_lexer": "ipython3",
   "version": "3.11.9"
  }
 },
 "nbformat": 4,
 "nbformat_minor": 5
}
