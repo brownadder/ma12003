{
 "cells": [
  {
   "cell_type": "markdown",
   "metadata": {},
   "source": [
    "<div style=\"text-align:right;color:blue\">version id: __VERSION_ID__</div>\n",
    "\n",
    "# OOP - Part III b: Copying Objects\n",
    "\n",
    "In this notebook, we will learn the issues with copying an object in a naive way and the correct way of copying objects. This also tells us more about how objects are stored in memory. \n",
    "\n",
    "### What you will learn\n",
    "\n",
    "In particular, we will cover:\n",
    "\n",
    "* Deep and shallow copying of lists\n",
    "* Deep and shallow copying of objects\n",
    "\n",
    "<hr style=\"height: 2px\">\n",
    "\n",
    "*&#169; Pranav Singh, University of Bath 2021-2022. This problem sheet is copyright of Pranav Singh, University of Bath. It is provided exclusively for educational purposes at the University and is to be downloaded or copied for your private study only. Further distribution, e.g. by upload to external repositories, is prohibited.*"
   ]
  },
  {
   "cell_type": "markdown",
   "metadata": {},
   "source": [
    "# Copying objects - shallow vs deep copy"
   ]
  },
  {
   "cell_type": "markdown",
   "metadata": {},
   "source": [
    "Recall that if `a` is a `list` such as `[3,1,4]`, then `b=a` does not create a copy of the data inside the list. Instead, it just copies the reference or address - i.e. the location where the data `[3,1,4]` is stored in your computer's memory. Thus, both variables `a` and `b` end up referring to the same data."
   ]
  },
  {
   "cell_type": "markdown",
   "metadata": {},
   "source": [
    "We can see this behaviour by assigning `b=a` and then changing an element of `b`. We find that the list `a` is also modified! Infact `a` and `b` are the same object effectively (as verified by `a is b`) since they store the same address (or location in memory)."
   ]
  },
  {
   "cell_type": "code",
   "execution_count": null,
   "metadata": {},
   "outputs": [],
   "source": [
    "a = [3,1,4]\n",
    "b = a\n",
    "b[1]=-5\n",
    "\n",
    "print(a)\n",
    "print(b)\n",
    "\n",
    "a is b"
   ]
  },
  {
   "cell_type": "markdown",
   "metadata": {},
   "source": [
    "Often this is not the behaviour we want or expect! Typically we want to or expect to be able to create a *copy of the data in the list* `a` and store it in the variable `b`. Afterwards, any changes to `b` should not affect `a`. \n",
    "\n",
    "In order to achieve this we should use the `copy` command. To do this we must import the `copy` package and call `copy.copy` function with input `a`."
   ]
  },
  {
   "cell_type": "code",
   "execution_count": null,
   "metadata": {},
   "outputs": [],
   "source": [
    "import copy\n",
    "\n",
    "a = [3,1,4]\n",
    "b = copy.copy(a)\n",
    "b[1]=-5\n",
    "\n",
    "print(a)\n",
    "print(b)\n",
    "\n",
    "a is b"
   ]
  },
  {
   "cell_type": "markdown",
   "metadata": {},
   "source": [
    "We no longer have `a is b`, and `a` and `b` are now refering to different locations in memory where the list data is stored. "
   ]
  },
  {
   "cell_type": "markdown",
   "metadata": {},
   "source": [
    "### Shallow copy"
   ]
  },
  {
   "cell_type": "markdown",
   "metadata": {},
   "source": [
    "There is still an issue with this approach. Let us see this with another example."
   ]
  },
  {
   "cell_type": "code",
   "execution_count": null,
   "metadata": {},
   "outputs": [],
   "source": [
    "a = [[3,1,4], [0,1,0]]\n",
    "b = copy.copy(a)\n",
    "\n",
    "b[1] = [-1,-1,-1]\n",
    "\n",
    "print(a)\n",
    "print(b)\n",
    "\n",
    "a is b"
   ]
  },
  {
   "cell_type": "markdown",
   "metadata": {},
   "source": [
    "This worked as expected! Changing the 2nd element of `b` (i.e. `b[1]`) does not change `a`. We can see that `a` and `b` are not the same object since we get `False` for `a is b` (they do not refer to the same location in memory). \n",
    "\n",
    "However, consider the following example:"
   ]
  },
  {
   "cell_type": "code",
   "execution_count": null,
   "metadata": {},
   "outputs": [],
   "source": [
    "a = [[3,1,4], [0,1,0]]\n",
    "b = copy.copy(a)\n",
    "b[1][1]=-5\n",
    "\n",
    "print(a)\n",
    "print(b)\n",
    "\n",
    "a is b"
   ]
  },
  {
   "cell_type": "markdown",
   "metadata": {},
   "source": [
    "Even though we used `copy.copy` to create a copy of `a`, modifying an element inside the second element of `b` still changed `a`!"
   ]
  },
  {
   "cell_type": "markdown",
   "metadata": {},
   "source": [
    "What exactly is going on here? \n",
    "\n",
    "What is happening is that `a[0]` (the first element of `a`) stores the address (or location in memory) for the list `[3,1,4]`, while `a[1]` (the second element of `a`) stores the address (or location in memory) for the list `[0,1,0]`.\n",
    "\n",
    "When we use `copy.copy`, `b` is indeed a new list distinct from `a`, hence `a is b` returns `False`. `b` stores a new copy of the data stored in `a`. \n",
    "\n",
    "However, as we have mentioned the data actually stored in `a` is not the lists `[3,1,4]` and `[0,1,0]` themselves, but the addresses (or locations in memory) to `[3,1,4]` and `[0,1,0]`, which are stored in the elements `a[0]` and `a[1]`, respectively. Thus, `b = copy.copy(a)` ends up copying the values of the addresses (or locations) stored in `a[0]` and `a[1]`. Therefore, `b[0]` still refers to the same data as `a[0]`! We can see this by checking `b[0] is a[0]`."
   ]
  },
  {
   "cell_type": "code",
   "execution_count": null,
   "metadata": {},
   "outputs": [],
   "source": [
    "b[0] is a[0]"
   ]
  },
  {
   "cell_type": "markdown",
   "metadata": {},
   "source": [
    "In particular, no copies of `[3,1,4]` and `[0,1,0]` are created!\n",
    "\n",
    "What has happened here is a called a shallow copy. That is, we have created a new copy of the data only at the topmost level: we create a new list `b` with two elements `b[0]` and `b[1]`, but we then assign the values of `a[0]` and `a[1]` to these elements. This is equivalent to the following call:  \n",
    "\n",
    "```Python\n",
    "b[0]=a[0]\n",
    "b[1]=a[1]\n",
    "```\n",
    "\n",
    "As we have already seen, doing so does not create a new copy of the list `a[0]` (or `a[1]`)! In order to do so, we must use `copy.copy()` at this level as well. How can we achieve this (recusive) copying that copies at all levels?\n"
   ]
  },
  {
   "cell_type": "markdown",
   "metadata": {},
   "source": [
    "### Deep copy"
   ]
  },
  {
   "cell_type": "markdown",
   "metadata": {},
   "source": [
    "The problems identified above can be fixed by using `copy.deepcopy`, which recursively goes through the data and creates a fresh copy at each level! "
   ]
  },
  {
   "cell_type": "code",
   "execution_count": null,
   "metadata": {},
   "outputs": [],
   "source": [
    "a = [[3,1,4], [0,1,0]]\n",
    "b = copy.deepcopy(a)\n",
    "b[1][1]=-5\n",
    "\n",
    "print(a)\n",
    "print(b)"
   ]
  },
  {
   "cell_type": "markdown",
   "metadata": {},
   "source": [
    "We now find that `a` is not changed on changing an element in second list of `b`. In fact, the elements `b[0]` and `b[1]` are no longer the same objects as `a[0]` and `a[1]`:"
   ]
  },
  {
   "cell_type": "code",
   "execution_count": null,
   "metadata": {},
   "outputs": [],
   "source": [
    "b[0] is a[0]"
   ]
  },
  {
   "cell_type": "code",
   "execution_count": null,
   "metadata": {},
   "outputs": [],
   "source": [
    "b[1] is a[1]"
   ]
  },
  {
   "cell_type": "markdown",
   "metadata": {},
   "source": [
    "Unless you have good reasons to create a shallow copy, it is much safer to create deep copies. Of course deep copies replicate all data recursively, and this increases storage requirement. "
   ]
  },
  {
   "cell_type": "markdown",
   "metadata": {},
   "source": [
    "# Copying user defined types"
   ]
  },
  {
   "cell_type": "markdown",
   "metadata": {},
   "source": [
    "To see equivalent behaviour in context of user defined types, let us start by defining new user types `A` and `B`. "
   ]
  },
  {
   "cell_type": "code",
   "execution_count": null,
   "metadata": {},
   "outputs": [],
   "source": [
    "class A(object):\n",
    "    '''test class A'''\n",
    "    \n",
    "    def __init__(self, lst):\n",
    "        self.lst = lst\n",
    "        \n",
    "    def __str__(self):\n",
    "        return 'A{' + str(self.lst) + '}'"
   ]
  },
  {
   "cell_type": "code",
   "execution_count": null,
   "metadata": {},
   "outputs": [],
   "source": [
    "class B(object):\n",
    "    '''test class B'''\n",
    "    \n",
    "    def __init__(self, a1, a2):\n",
    "        self.a1 = a1\n",
    "        self.a2 = a2\n",
    "        \n",
    "    def __str__(self):\n",
    "        return 'B[' + str(self.a1) + ' ; '  + str(self.a2) + ']'"
   ]
  },
  {
   "cell_type": "markdown",
   "metadata": {},
   "source": [
    "Let us create some instances of the class `A`. "
   ]
  },
  {
   "cell_type": "code",
   "execution_count": null,
   "metadata": {},
   "outputs": [],
   "source": [
    "a1 = A([1,5,-1])\n",
    "a2 = A([0,2])\n",
    "a3 = A([-1,0,1])"
   ]
  },
  {
   "cell_type": "markdown",
   "metadata": {},
   "source": [
    "Let us create instances of the class `B` where the attributes `a1` and `a2` are set to instances of class `A` that we have just created:"
   ]
  },
  {
   "cell_type": "code",
   "execution_count": null,
   "metadata": {},
   "outputs": [],
   "source": [
    "b1 = B(a1, a2)\n",
    "b2 = B(a1, a3)"
   ]
  },
  {
   "cell_type": "markdown",
   "metadata": {},
   "source": [
    "Since we have defined `__str__()` methods in both classes `A` and `B`, it becomes easy to print these objects:"
   ]
  },
  {
   "cell_type": "code",
   "execution_count": null,
   "metadata": {},
   "outputs": [],
   "source": [
    "print(a3)\n",
    "print(b1)\n",
    "print(b2)"
   ]
  },
  {
   "cell_type": "markdown",
   "metadata": {},
   "source": [
    "### Copy by reference"
   ]
  },
  {
   "cell_type": "markdown",
   "metadata": {},
   "source": [
    "If we simply assign the value of the object `b1` to the object `b3`, we will only be copying the reference (or address). That is `b3` and `b1` are the same object (as we can verify using `b3 is b1`) and modifying `b3` modifies the object `b1`. "
   ]
  },
  {
   "cell_type": "code",
   "execution_count": null,
   "metadata": {},
   "outputs": [],
   "source": [
    "b3 = b1\n",
    "b3.a1 = a3\n",
    "\n",
    "print(b3)\n",
    "print(b1)\n",
    "\n",
    "b3 is b1"
   ]
  },
  {
   "cell_type": "markdown",
   "metadata": {},
   "source": [
    "### Shallow copy"
   ]
  },
  {
   "cell_type": "markdown",
   "metadata": {},
   "source": [
    "We can create a shallow copy of `b1` by using `copy.copy`. Now `b3` and `b1` are not the same object!"
   ]
  },
  {
   "cell_type": "code",
   "execution_count": null,
   "metadata": {},
   "outputs": [],
   "source": [
    "b3 = copy.copy(b1)\n",
    "b3.a1 = a2\n",
    "\n",
    "print(b3)\n",
    "print(b1)\n",
    "\n",
    "b3 is b1"
   ]
  },
  {
   "cell_type": "markdown",
   "metadata": {},
   "source": [
    "However, just like the case of lists, see what happens if we modify an attribute of `b3.a1`"
   ]
  },
  {
   "cell_type": "code",
   "execution_count": null,
   "metadata": {},
   "outputs": [],
   "source": [
    "b3 = copy.copy(b1)\n",
    "b3.a1.lst = [0,0,0,0]\n",
    "\n",
    "print(b3)\n",
    "print(b1)"
   ]
  },
  {
   "cell_type": "markdown",
   "metadata": {},
   "source": [
    "This is despite the fact that `b3` is *not* the same object as `b1`:"
   ]
  },
  {
   "cell_type": "code",
   "execution_count": null,
   "metadata": {},
   "outputs": [],
   "source": [
    "b3 is b1"
   ]
  },
  {
   "cell_type": "markdown",
   "metadata": {},
   "source": [
    "However, this uniqueness only goes one level deep since we have used shallow copy, and `b3.a1` and `b1.a1` are the same object!"
   ]
  },
  {
   "cell_type": "code",
   "execution_count": null,
   "metadata": {},
   "outputs": [],
   "source": [
    "b3.a1 is b1.a1"
   ]
  },
  {
   "cell_type": "markdown",
   "metadata": {},
   "source": [
    "### Deep copying objects"
   ]
  },
  {
   "cell_type": "markdown",
   "metadata": {},
   "source": [
    "In order to copy the data in the object at all levels, we need to use the `copy.deepcopy` function."
   ]
  },
  {
   "cell_type": "code",
   "execution_count": null,
   "metadata": {},
   "outputs": [],
   "source": [
    "b1 = B(a1, a2)\n",
    "b2 = B(a1, a3)\n",
    "b3 = copy.deepcopy(b1)\n",
    "b3.a1.lst = [0,0,0,0]\n",
    "\n",
    "print(b3)\n",
    "print(b1)"
   ]
  },
  {
   "cell_type": "code",
   "execution_count": null,
   "metadata": {},
   "outputs": [],
   "source": [
    "b1 = B(a1, a2)\n",
    "b2 = B(a1, a3)\n",
    "b3 = copy.deepcopy(b1)\n",
    "b3.a1.lst[0] = -100\n",
    "\n",
    "print(b3)\n",
    "print(b1)"
   ]
  },
  {
   "cell_type": "markdown",
   "metadata": {},
   "source": [
    "We can verify that the attributes are unique even at deeper levels."
   ]
  },
  {
   "cell_type": "code",
   "execution_count": null,
   "metadata": {},
   "outputs": [],
   "source": [
    "b3.a1 is b1.a1"
   ]
  },
  {
   "cell_type": "code",
   "execution_count": null,
   "metadata": {},
   "outputs": [],
   "source": [
    "b3.a1.lst is b1.a1.lst"
   ]
  },
  {
   "cell_type": "markdown",
   "metadata": {},
   "source": [
    "## Check your understanding\n",
    "\n",
    "The solutions to these excercises are provided at the very end of this notebook.\n",
    "\n",
    "**Q1)** What does the following code print?\n",
    "\n",
    "```Python\n",
    "import copy\n",
    "a = [3,1,4]\n",
    "b = a\n",
    "a(1) = 2\n",
    "c = copy.copy(b)\n",
    "b(2) = -1\n",
    "c(0) = 0\n",
    "print(a)\n",
    "print(b)\n",
    "print(c)\n",
    "```\n",
    "\n",
    "a.\n",
    "```Python\n",
    "[3, 2, 4]\n",
    "[3, 2, -1]\n",
    "[0, 1, 4]\n",
    "```\n",
    "\n",
    "b.\n",
    "```Python\n",
    "[3, 2, 4]\n",
    "[3, 1, -1]\n",
    "[0, 1, -1]\n",
    "```\n",
    "\n",
    "c.\n",
    "```Python\n",
    "[3, 2, -1]\n",
    "[3, 2, -1]\n",
    "[0, 2, 4]\n",
    "```\n",
    "\n",
    "d.\n",
    "```Python\n",
    "[3, 2, -1]\n",
    "[3, 2, -1]\n",
    "[3, 2, -1]\n",
    "```\n",
    "\n",
    "\n",
    "\n",
    "**Q2)** Consider the following definition of the class `Test`:\n",
    "\n",
    "```Python\n",
    "class Test(object):\n",
    "    def __init__(self, lst):\n",
    "        self.lst = lst\n",
    "        \n",
    "    def __str__(self):\n",
    "        return str(self.lst)\n",
    "```\n",
    "What is the output of the following code?\n",
    "```Python\n",
    "a = [3,1,4]\n",
    "b = a\n",
    "f = Test(a)\n",
    "a[1] = 0\n",
    "g = Test(b)\n",
    "g.lst[0] = -1\n",
    "f.lst[2] = 1\n",
    "\n",
    "print(b)\n",
    "print(g)\n",
    "```\n",
    "\n",
    "\n",
    "a.\n",
    "```Python\n",
    "[-1, 0, 1]\n",
    "[-1, 0, 1]\n",
    "```\n",
    "\n",
    "\n",
    "b.\n",
    "```Python\n",
    "[-1, 0, 4]\n",
    "[-1, 0, 4]\n",
    "```\n",
    "\n",
    "c.\n",
    "```Python\n",
    "[0, 0, 4]\n",
    "[-1, 1, 4]\n",
    "```\n",
    "\n",
    "d.\n",
    "```Python\n",
    "[3, 1, 4]\n",
    "[-1, 1, 4]\n",
    "```\n",
    "\n",
    "\n",
    "**Q3)** With the same definition of `Test` class as above, what is the output of the following code?\n",
    "\n",
    "```Python\n",
    "import copy\n",
    "a = [3,1,4]\n",
    "f = Test(a)\n",
    "g = copy.copy(f)\n",
    "h = copy.deepcopy(f)\n",
    "h.lst[1] = 3\n",
    "g.lst[0] = -1\n",
    "f.lst[2] = 1\n",
    "\n",
    "print(f)\n",
    "print(g)\n",
    "print(h)\n",
    "```\n",
    "\n",
    "\n",
    "\n",
    "a.\n",
    "```Python\n",
    "[3, 1, 1]\n",
    "[-1, 1, 4]\n",
    "[3, 3, 4]\n",
    "```\n",
    "\n",
    "b.\n",
    "```Python\n",
    "[-1, 3, 1]\n",
    "[-1, 3, 1]\n",
    "[-1, 3, 1]\n",
    "```\n",
    "\n",
    "c.\n",
    "```Python\n",
    "[-1, 1, 1]\n",
    "[-1, 1, 1]\n",
    "[3, 3, 4]\n",
    "```\n",
    "\n",
    "d.\n",
    "```Python\n",
    "[3, 3, 1]\n",
    "[-1, 1, 4]\n",
    "[3, 3, 1]\n",
    "```"
   ]
  },
  {
   "cell_type": "markdown",
   "metadata": {},
   "source": [
    "<br>\n",
    "<br>\n",
    "<br>\n",
    "<br>\n",
    "<br>\n",
    "<br>\n",
    "<br>\n",
    "<br>\n",
    "<br>\n",
    "<br>\n",
    "<br>\n",
    "<br>\n",
    "<br>\n",
    "<br>\n",
    "<br>\n",
    "<br>\n",
    "<br>\n",
    "<br>\n",
    "<br>\n",
    "<br>\n",
    "<br>\n",
    "<br>\n",
    "<br>\n",
    "<br>\n",
    "<br>\n",
    "<br>\n",
    "<br>\n",
    "<br>\n",
    "<br>\n",
    "<br>\n",
    "<br>\n",
    "<br>\n",
    "<br>\n",
    "<br>\n",
    "<br>\n",
    "<br>\n",
    "\n",
    "## Solutions to \"Check your understanding\"\n",
    "\n",
    "**Q1)** Answer: c.\n",
    "\n",
    "**Q2)** Answer: a.\n",
    "\n",
    "**Q3)** Answer: c.\n"
   ]
  }
 ],
 "metadata": {
  "kernelspec": {
   "display_name": "Python 3 (ipykernel)",
   "language": "python",
   "name": "python3"
  },
  "language_info": {
   "codemirror_mode": {
    "name": "ipython",
    "version": 3
   },
   "file_extension": ".py",
   "mimetype": "text/x-python",
   "name": "python",
   "nbconvert_exporter": "python",
   "pygments_lexer": "ipython3",
   "version": "3.7.11"
  }
 },
 "nbformat": 4,
 "nbformat_minor": 4
}
