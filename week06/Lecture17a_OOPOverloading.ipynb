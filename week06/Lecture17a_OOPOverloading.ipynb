{
 "cells": [
  {
   "cell_type": "markdown",
   "metadata": {},
   "source": [
    "<div style=\"text-align:right;color:blue\">version id: __VERSION_ID__</div>\n",
    "\n",
    "# OOP - Part III a: Overloading\n"
   ]
  },
  {
   "cell_type": "markdown",
   "metadata": {},
   "source": [
    "In the previous lecture we saw how to define and restrict the ways in which instances of a class can be created by defining an `__init__()` method. The `__init__()` method is a method with special functionality. There are many other methods of this kind, which are not always called directly by their name but define functionality of objects in many contexts. For instance, some of these methods define how an object is displayed or printed, while others define how two objects can be added or multiplied using the operators `+` and `*`. In this lecture we will learn how to define this special functionality by *overloading* default methods. \n",
    "<hr style=\"height: 2px\">\n",
    "\n",
    "### What you will learn\n",
    "In this notebook we will cover the following topics:\n",
    "\n",
    "* Introduction to Overloading\n",
    "* Defining how an object is displayed\n",
    "* Our own definition of mathematical operators\n",
    "* Issues with stale definitions\n",
    "\n",
    "<hr style=\"height: 2px\">\n",
    "\n",
    "*&#169; Pranav Singh, University of Bath 2021-2022. This problem sheet is copyright of Pranav Singh, University of Bath. It is provided exclusively for educational purposes at the University and is to be downloaded or copied for your private study only. Further distribution, e.g. by upload to external repositories, is prohibited.*"
   ]
  },
  {
   "cell_type": "markdown",
   "metadata": {},
   "source": [
    "## Overloading"
   ]
  },
  {
   "cell_type": "markdown",
   "metadata": {},
   "source": [
    "Let us create a very simple class and find out information about it using the `?` sytanx."
   ]
  },
  {
   "cell_type": "code",
   "execution_count": null,
   "metadata": {},
   "outputs": [],
   "source": [
    "class myclass(object):\n",
    "    '''This is a simple class where we did not define the init method'''\n",
    "    \n",
    "?myclass"
   ]
  },
  {
   "cell_type": "markdown",
   "metadata": {},
   "source": [
    "In this class, we have not defined the `__init__()` method. Thus we create an instance of `myclass` by calling it as a function which takes no arguments/inputs:"
   ]
  },
  {
   "cell_type": "code",
   "execution_count": null,
   "metadata": {},
   "outputs": [],
   "source": [
    "myobj = myclass()"
   ]
  },
  {
   "cell_type": "markdown",
   "metadata": {},
   "source": [
    "Despite the fact that we have not defined the `__init__()` method, there is an `__init__()` method in `myclass`!! We can see its information using the `?` syntax."
   ]
  },
  {
   "cell_type": "code",
   "execution_count": null,
   "metadata": {},
   "outputs": [],
   "source": [
    "? myclass.__init__"
   ]
  },
  {
   "cell_type": "markdown",
   "metadata": {},
   "source": [
    "<br>\n",
    "\n",
    "As it turns out, Python creates an `__init__()` method for *every* class by default. The default `__init__()` method creates a new object object without any attributes and does not accept any arguments except `self`. This is why we instantiate an object of type `myclass` using the syntax `myclass()`.\n"
   ]
  },
  {
   "cell_type": "markdown",
   "metadata": {},
   "source": [
    "When we explicitly defined our own `__init__()` method in the class `LinearFunction`, we overwrote or **overloaded** the `__init__()` method that Python creates for every class by default. This new functionality supercedes the default behaviour."
   ]
  },
  {
   "cell_type": "markdown",
   "metadata": {},
   "source": [
    "## The `__str__()` method\n",
    "\n",
    "Let us see another example of a default method: the `__str__()` method. We can call the `__str__()` method on an instance of a class."
   ]
  },
  {
   "cell_type": "code",
   "execution_count": null,
   "metadata": {},
   "outputs": [],
   "source": [
    "myobj.__str__()"
   ]
  },
  {
   "cell_type": "markdown",
   "metadata": {},
   "source": [
    "We have already seen the special way in which `__init__()` behaves: it allows us to call the class name as though it is a function (eg. `myclass()` or `LinearFunction(-3,2)`). The `__str__()` method also has a special behaviour. Calling it is equivalent to calling the `str` method on `myobj`."
   ]
  },
  {
   "cell_type": "code",
   "execution_count": null,
   "metadata": {},
   "outputs": [],
   "source": [
    "str(myobj)"
   ]
  },
  {
   "cell_type": "markdown",
   "metadata": {},
   "source": [
    "This method returns a string description of the object. It has a special role: when we try to `print` an object, the `__str__()` method is called on it and the string returned by `__str__()` is printed. For example, we can print the object `myobj` using `print`."
   ]
  },
  {
   "cell_type": "code",
   "execution_count": null,
   "metadata": {},
   "outputs": [],
   "source": [
    "print(myobj)"
   ]
  },
  {
   "cell_type": "markdown",
   "metadata": {},
   "source": [
    "This is equivalent to the following."
   ]
  },
  {
   "cell_type": "code",
   "execution_count": null,
   "metadata": {},
   "outputs": [],
   "source": [
    "print(myobj.__str__())"
   ]
  },
  {
   "cell_type": "markdown",
   "metadata": {},
   "source": [
    "Calling `print(myobj)` is certainly more readable than `print(myobj.__str__())`. Thus, this special function is quite useful. Let us try to overload this method to create our own custom string description of an object."
   ]
  },
  {
   "cell_type": "code",
   "execution_count": null,
   "metadata": {},
   "outputs": [],
   "source": [
    "class myclass(object):\n",
    "    '''This is a simple class where we did not define init'''\n",
    "    \n",
    "    def __str__(self):\n",
    "        return 'Hi! I am an instance of type myclass'\n",
    "    \n",
    "myobj = myclass()"
   ]
  },
  {
   "cell_type": "markdown",
   "metadata": {},
   "source": [
    "Calling the `str()` function on the object `myobj` now returns a more human friendly string description."
   ]
  },
  {
   "cell_type": "code",
   "execution_count": null,
   "metadata": {},
   "outputs": [],
   "source": [
    "str(myobj)"
   ]
  },
  {
   "cell_type": "markdown",
   "metadata": {},
   "source": [
    "Calling `print()` function on the object prints this description."
   ]
  },
  {
   "cell_type": "code",
   "execution_count": null,
   "metadata": {},
   "outputs": [],
   "source": [
    "print(myobj)"
   ]
  },
  {
   "cell_type": "markdown",
   "metadata": {},
   "source": [
    "In the implementation of `LinearFunction` from Lecture 16, if we try to print an object of type `LinearFunction` we do not get a helpful description. If we want a readable version of a `LinearFunction`, we need to call the method `to_str()` on it before printing. \n",
    "\n",
    "We now rename the method `to_str()` in the class `LinearFunction` to `__str__()`. This overloads the default `__str__()` method and produces more readable string representations of `LinearFunctions`."
   ]
  },
  {
   "cell_type": "code",
   "execution_count": null,
   "metadata": {},
   "outputs": [],
   "source": [
    "class LinearFunction(object):\n",
    "    '''Linear functions on R'''\n",
    "    \n",
    "    def __init__(self, a, b):\n",
    "        '''Creates a LinearFunction ax+b'''\n",
    "        self.a = a;\n",
    "        self.b = b;\n",
    "    \n",
    "    def __str__(self):\n",
    "        '''Returns a string representation of a LinearFunction'''\n",
    "        return str(self.a) +'x + ' + str(self.b);\n",
    "    \n",
    "    def evaluate(self, x):\n",
    "        '''Evaluates the linear function self at the point x and returns self(x)'''\n",
    "        return self.a*x + self.b\n",
    "    \n",
    "    def add(self, g):\n",
    "        '''Returns the sum of two LinearFunctions'''\n",
    "        r = LinearFunction(self.a + g.a, self.b + g.b)\n",
    "        return r\n",
    "\n",
    "    def random():\n",
    "        '''Returns a random LinearFunction'''\n",
    "        g = LinearFunction(np.random.random(), np.random.random())\n",
    "        return g    \n",
    "    \n",
    "    def scale(self, c):\n",
    "        '''Scales the LinearFunction by a factor c'''\n",
    "        self.a = c*self.a\n",
    "        self.b = c*self.b\n",
    "    \n",
    "    def random_list(n):\n",
    "        '''Returns a list of n random LinearFunctions'''\n",
    "        lst = []\n",
    "        for i in range(n):\n",
    "            lst.append(LinearFunction.random())    \n",
    "        return lst"
   ]
  },
  {
   "cell_type": "markdown",
   "metadata": {},
   "source": [
    "We can now print an instance of `LinearFunction` directly (i.e. without calling `to_str()` or even `__str__()`)"
   ]
  },
  {
   "cell_type": "code",
   "execution_count": null,
   "metadata": {},
   "outputs": [],
   "source": [
    "f1 = LinearFunction(2,-1)\n",
    "g1 = LinearFunction(-3,5)\n",
    "h1 = f1.add(g1)\n",
    "print(h1)\n",
    "v1 = h1.evaluate(9)\n",
    "print(v1)"
   ]
  },
  {
   "cell_type": "markdown",
   "metadata": {},
   "source": [
    "We can create string representations of `LinearFunctions` in the same way as we do for integers - by using the `str()` function:"
   ]
  },
  {
   "cell_type": "code",
   "execution_count": null,
   "metadata": {},
   "outputs": [],
   "source": [
    "print('The sum of '+str(f1)+' and '+str(g1)+' is '+str(h1)+' whose value at x=9 is'+str(v1))"
   ]
  },
  {
   "cell_type": "markdown",
   "metadata": {},
   "source": [
    "<br>\n",
    "\n",
    "## The `__repr__()` method\n",
    "\n",
    "Despite implementing the `__str__()` method, when we type the name of a `LinearFunction` such as `h1`, we get an unhelpful description. "
   ]
  },
  {
   "cell_type": "code",
   "execution_count": null,
   "metadata": {},
   "outputs": [],
   "source": [
    "h1"
   ]
  },
  {
   "cell_type": "markdown",
   "metadata": {},
   "source": [
    "This is unlike built-in datatypes like `int` and `list`, where we get a human readable version of the object by typing the objects name. To implement this functionality, we must overload the `__repr__()` method, which needs to return a string representation. "
   ]
  },
  {
   "cell_type": "code",
   "execution_count": null,
   "metadata": {},
   "outputs": [],
   "source": [
    "class LinearFunction(object):\n",
    "    '''Linear functions on R'''\n",
    "    \n",
    "    def __init__(self, a, b):\n",
    "        '''Creates a LinearFunction ax+b'''\n",
    "        self.a = a;\n",
    "        self.b = b;\n",
    "    \n",
    "    def __str__(self):\n",
    "        '''Returns a string representation of a LinearFunction'''\n",
    "        return str(self.a) +'x + ' + str(self.b);\n",
    "    \n",
    "    def __repr__(self):\n",
    "        '''Returns a string representation of a LinearFunction'''\n",
    "        return str(self);\n",
    "    \n",
    "    def evaluate(self, x):\n",
    "        '''Evaluates the linear function self at the point x and returns self(x)'''\n",
    "        return self.a*x + self.b\n",
    "    \n",
    "    def add(self, g):\n",
    "        '''Returns the sum of two LinearFunctions'''\n",
    "        r = LinearFunction(self.a + g.a, self.b + g.b)\n",
    "        return r\n",
    "\n",
    "    def random():\n",
    "        '''Returns a random LinearFunction'''\n",
    "        g = LinearFunction(np.random.random(), np.random.random())\n",
    "        return g    \n",
    "    \n",
    "    def scale(self, c):\n",
    "        '''Scales the LinearFunction by a factor c'''\n",
    "        self.a = c*self.a\n",
    "        self.b = c*self.b\n",
    "    \n",
    "    def random_list(n):\n",
    "        '''Returns a list of n random LinearFunctions'''\n",
    "        lst = []\n",
    "        for i in range(n):\n",
    "            lst.append(LinearFunction.random())    \n",
    "        return lst"
   ]
  },
  {
   "cell_type": "markdown",
   "metadata": {},
   "source": [
    "In the definition of the `__repr__()` method, we have called `str(self)`, which calls the `__str__()` method on `self`. \n",
    "\n",
    "```Python\n",
    "    def __repr__(self):\n",
    "        '''Returns a string representation of a LinearFunction'''\n",
    "        return str(self);\n",
    "```\n",
    "Since we have already implemented `__str__()` method, this gives a valid result.\n"
   ]
  },
  {
   "cell_type": "code",
   "execution_count": null,
   "metadata": {},
   "outputs": [],
   "source": [
    "f2 = LinearFunction(2,-1)\n",
    "g2 = LinearFunction(-3,5)\n",
    "h2 = f2.add(g2)\n",
    "h2"
   ]
  },
  {
   "cell_type": "markdown",
   "metadata": {},
   "source": [
    "The `__repr__()` method can also be called explicitly on an object `f` as `repr(f)`, in which case it returns a string:"
   ]
  },
  {
   "cell_type": "code",
   "execution_count": null,
   "metadata": {},
   "outputs": [],
   "source": [
    "repr(h2)"
   ]
  },
  {
   "cell_type": "markdown",
   "metadata": {},
   "source": [
    "## Mathematical Operators"
   ]
  },
  {
   "cell_type": "markdown",
   "metadata": {},
   "source": [
    "Note that all of these special methods have two underscores `__` as prefix and postfix. This is Python convention for certain special methods, which are either not (typically) called by their name or \n",
    "can be called in multiple other ways (such as `__str__()`, which can be called by its name, can be called by `str(...)` or called automatically within `print()` if the object is the only parameter). \n",
    "\n",
    "For mathematical purposes, a very important category of special methods is mathematical operators! \n",
    "\n",
    "We know that we can add integers using the `+` notation:"
   ]
  },
  {
   "cell_type": "code",
   "execution_count": null,
   "metadata": {},
   "outputs": [],
   "source": [
    "a = 5 + 7\n",
    "print(a)"
   ]
  },
  {
   "cell_type": "markdown",
   "metadata": {},
   "source": [
    "Wouldn't it be nice if we could add `LinearFunctions` in the same way? \n",
    "\n",
    "In order to do so, we must overload the method `__add__()`. Since we have already implemented the functionality of addition in the class `LinearFunction`, we could simply rename our `add()` method to `__add__()`:"
   ]
  },
  {
   "cell_type": "code",
   "execution_count": null,
   "metadata": {},
   "outputs": [],
   "source": [
    "class LinearFunction(object):\n",
    "    '''Linear functions on R'''\n",
    "    \n",
    "    def __init__(self, a, b):\n",
    "        '''Creates a LinearFunction ax+b'''\n",
    "        self.a = a;\n",
    "        self.b = b;\n",
    "    \n",
    "    def __str__(self):\n",
    "        '''Returns a string representation of a LinearFunction'''\n",
    "        return str(self.a) +'x + ' + str(self.b);\n",
    "  \n",
    "    def __repr__(self):\n",
    "        '''Returns a string representation of a LinearFunction'''\n",
    "        return str(self);\n",
    "\n",
    "    def evaluate(self, x):\n",
    "        '''Evaluates the linear function self at the point x and returns self(x)'''\n",
    "        return self.a*x + self.b\n",
    "    \n",
    "    def __add__(self, g):\n",
    "        '''Returns the sum of two LinearFunctions'''\n",
    "        r = LinearFunction(self.a + g.a, self.b + g.b)\n",
    "        return r\n",
    "\n",
    "    def random():\n",
    "        '''Returns a random LinearFunction'''\n",
    "        g = LinearFunction(np.random.random(), np.random.random())\n",
    "        return g    \n",
    "    \n",
    "    def scale(self, c):\n",
    "        '''Scales the LinearFunction by a factor c'''\n",
    "        self.a = c*self.a\n",
    "        self.b = c*self.b\n",
    "    \n",
    "    def random_list(n):\n",
    "        '''Returns a list of n random LinearFunctions'''\n",
    "        lst = []\n",
    "        for i in range(n):\n",
    "            lst.append(LinearFunction.random())    \n",
    "        return lst"
   ]
  },
  {
   "cell_type": "markdown",
   "metadata": {},
   "source": [
    "We can now add instances of `LinearFunction` using the `+` notation:"
   ]
  },
  {
   "cell_type": "code",
   "execution_count": null,
   "metadata": {},
   "outputs": [],
   "source": [
    "f3 = LinearFunction(2,-1)\n",
    "g3 = LinearFunction(-3,5)\n",
    "h3 = f3 + g3\n",
    "h3"
   ]
  },
  {
   "cell_type": "markdown",
   "metadata": {},
   "source": [
    "In general, ` f + g ` is equivalent to the call `LinearFunction.__add__(f,g)`. We can also add instances without storing them in variables:"
   ]
  },
  {
   "cell_type": "code",
   "execution_count": null,
   "metadata": {},
   "outputs": [],
   "source": [
    "LinearFunction(2,-1) + LinearFunction(-3,5)"
   ]
  },
  {
   "cell_type": "markdown",
   "metadata": {},
   "source": [
    "The above is equivalent to the following code, which is less readable:"
   ]
  },
  {
   "cell_type": "code",
   "execution_count": null,
   "metadata": {},
   "outputs": [],
   "source": [
    "print(LinearFunction.__str__(LinearFunction(2,-1).__add__(LinearFunction(-3,5))))"
   ]
  },
  {
   "cell_type": "markdown",
   "metadata": {},
   "source": [
    "### Other mathematical operators  we can overload"
   ]
  },
  {
   "cell_type": "markdown",
   "metadata": {},
   "source": [
    "Some important mathematical operators we can define for your user defined type (by overloading the relevant method) are: \n",
    "\n",
    "| Method (with parameters) | Mathematical operation |\n",
    "| --- | --- |\n",
    "| `__neg__(a)` | `-a` |\n",
    "| `__sub__(a,b)` | `a-b` |\n",
    "| `__mul__(a,b)` | `a * b` |\n",
    "| `__matmul__(a,b)` | `a @ b` |\n",
    "| `__pow__(a,b)` | `a ** b` |\n",
    "| `__truediv__(a,b)` | `a/b` |\n",
    "| `__floordiv__(a,b)` | `a//b` |\n",
    "| `__mod__(a,b)` | `a % b` |\n",
    "\n",
    "We can also define comparison methods such as `<` and `>`, Boolean operations such as `not` and many other operations. For more details see https://docs.python.org/3/library/operator.html"
   ]
  },
  {
   "cell_type": "markdown",
   "metadata": {},
   "source": [
    "# Stale definitions and defining classes in modules"
   ]
  },
  {
   "cell_type": "markdown",
   "metadata": {},
   "source": [
    "An odd behaviour is that, although we can add `f3` and `g3` using the `+` notation:"
   ]
  },
  {
   "cell_type": "code",
   "execution_count": null,
   "metadata": {},
   "outputs": [],
   "source": [
    "f3 + g3"
   ]
  },
  {
   "cell_type": "markdown",
   "metadata": {},
   "source": [
    "We cannot do so for `f2` and `g2`"
   ]
  },
  {
   "cell_type": "code",
   "execution_count": null,
   "metadata": {},
   "outputs": [],
   "source": [
    "f2 + g2"
   ]
  },
  {
   "cell_type": "markdown",
   "metadata": {},
   "source": [
    "On the other hand, we can add `f2` and `g2` using the `add` method:"
   ]
  },
  {
   "cell_type": "code",
   "execution_count": null,
   "metadata": {},
   "outputs": [],
   "source": [
    "f2.add(g2)"
   ]
  },
  {
   "cell_type": "markdown",
   "metadata": {},
   "source": [
    "But calling the same on `f3` and `g3` results in an error:"
   ]
  },
  {
   "cell_type": "code",
   "execution_count": null,
   "metadata": {},
   "outputs": [],
   "source": [
    "f3.add(g3)"
   ]
  },
  {
   "cell_type": "markdown",
   "metadata": {},
   "source": [
    "This is because `f2` and `g2` were created using an old definition of the class `LinearFunction` (at the beginning of this notebook) and do not have the functionality for overloading the operator `+` which we added later. Conversely, `f3` and `g3` were created using a new definition of `LinearFunction` which does not have a method called `add()` (recall that we renamed this method to `__add__()`).\n",
    "\n",
    "In Python, class definitions are *mutable*: i.e. we can change the definition of a class during the execution. However, doing so overwrites the old definition of `LinearFunction`. The old definition only lives in terms of the instances `f2` and `g2` created using it.\n",
    "\n",
    "Crucially, `f2` is no longer found to be an instance of the *new definition* of the class `LinearFunction`, while `f3` is."
   ]
  },
  {
   "cell_type": "code",
   "execution_count": null,
   "metadata": {},
   "outputs": [],
   "source": [
    "print(isinstance(f2, LinearFunction))\n",
    "print(isinstance(f3, LinearFunction))"
   ]
  },
  {
   "cell_type": "markdown",
   "metadata": {},
   "source": [
    "This is despite the fact that the `type` of both is found to be `LinearFunction`. "
   ]
  },
  {
   "cell_type": "code",
   "execution_count": null,
   "metadata": {},
   "outputs": [],
   "source": [
    "print(type(f2))\n",
    "print(type(f3))"
   ]
  },
  {
   "cell_type": "markdown",
   "metadata": {},
   "source": [
    "Even though the type of `f2` is `LinearFunction`, it is **not** the same as the new definition of `LinearFunction`.  "
   ]
  },
  {
   "cell_type": "markdown",
   "metadata": {},
   "source": [
    "This has the potential of causing a lot of confusion and unexpected behaviour. Safe practice to avoid such possibilities are:\n",
    "\n",
    "* Avoid redefining a class (even though Python allows us to)! \n",
    "\n",
    "* To avoid any possibility of stale class definitions, it is a good practice to define classes in a `.py` file rather than in a notebook. \n",
    "\n",
    "In future lectures, we will follow both of these guidelines.\n",
    "\n",
    "You will find the latest definition of the class `LinearFunction` in the file `linearfunction.py` (the `.py` file defines a *module* called `linearfunction` - note all small letter notation). You can import the class `LinearFunction` from the module `linearfunction` by using the following command:"
   ]
  },
  {
   "cell_type": "code",
   "execution_count": null,
   "metadata": {},
   "outputs": [],
   "source": [
    "from linearfunction import LinearFunction"
   ]
  },
  {
   "cell_type": "code",
   "execution_count": null,
   "metadata": {},
   "outputs": [],
   "source": [
    "LinearFunction(3,4) + LinearFunction(-1,2)"
   ]
  },
  {
   "cell_type": "markdown",
   "metadata": {},
   "source": [
    "## Check your understanding\n",
    "\n",
    "The solutions to these excercises are provided at the very end of this notebook.\n",
    "\n",
    "**Q1)** What does the following code print?\n",
    "\n",
    "```Python\n",
    "(LinearFunction(3, 2) + LinearFunction(0, 5)).b - LinearFunction(2,1).evaluate(5)\n",
    "```\n",
    "\n",
    "a. `-5`\n",
    "\n",
    "b. `-16`\n",
    "\n",
    "c. `7`\n",
    "\n",
    "d. `-4`\n",
    "\n",
    "\n",
    "**Q2)** What does the following code print:\n",
    "```Python\n",
    "f = LinearFunction(3, 2)\n",
    "f.scale(3)\n",
    "g = LinearFunction(-1, -1)\n",
    "g + f\n",
    "h = f + g\n",
    "\n",
    "print(g + h)\n",
    "```\n",
    "a. `1x + 0`\n",
    "\n",
    "b. `25x + 16`\n",
    "\n",
    "c. `7x + 4`\n",
    "\n",
    "d. `2x + 1`\n",
    "\n",
    "\n",
    "**Q3)** Consider the following definition of the class `Test`:\n",
    "\n",
    "```Python\n",
    "class Test(object):\n",
    "    def __init__(self, a, b):\n",
    "        if (a<b):\n",
    "            self.x = a**2\n",
    "            print(b)\n",
    "        else:\n",
    "            self.x = b//2\n",
    "            print(a)\n",
    "            \n",
    "    def __str__(self):\n",
    "        return str(self.x)\n",
    "```\n",
    "What is the output of the following code?\n",
    "```Python\n",
    "f = Test(2, 5)\n",
    "g = Test(18, 7)\n",
    "print(f)\n",
    "print(g)\n",
    "```\n",
    "\n",
    "\n",
    "a.\n",
    "```Python\n",
    "5\n",
    "18\n",
    "4\n",
    "3\n",
    "```\n",
    "\n",
    "\n",
    "b.\n",
    "```Python\n",
    "2\n",
    "7\n",
    "4\n",
    "9\n",
    "```\n",
    "\n",
    "c.\n",
    "```Python\n",
    "5\n",
    "18\n",
    "1\n",
    "36\n",
    "```\n",
    "\n",
    "d.\n",
    "```Python\n",
    "4\n",
    "3\n",
    "```\n",
    "\n",
    "\n",
    "**Q4)** Consider the following definition of the class `Test`:\n",
    "\n",
    "```Python\n",
    "class Test(object):\n",
    "    def __init__(self, a, b):\n",
    "        self.x = a\n",
    "        self.y = b\n",
    "            \n",
    "    def __str__(self):\n",
    "        return '(' + str(self.x) + ',' + str(self.y) + ')'\n",
    "    \n",
    "    def __add__(self, g):\n",
    "        return Test(self.y + g.x, self.x - g.y)\n",
    "    \n",
    "    def __mul__(self, g):\n",
    "        return Test(self.y**self.x, g.x-g.y)\n",
    "```\n",
    "\n",
    "What is the output of the following code?\n",
    "```Python\n",
    "print(Test(3, 2) + Test(-1, 4))\n",
    "print(Test(7,0) * Test(3, 2))\n",
    "```\n",
    "\n",
    "a.\n",
    "```Python\n",
    "(2, 6)\n",
    "(21, 0)\n",
    "```\n",
    "\n",
    "b.\n",
    "```Python\n",
    "(1, -1)\n",
    "(0, 1)\n",
    "```\n",
    "\n",
    "c.\n",
    "```Python\n",
    "(2, 6)\n",
    "(0, 1)\n",
    "```\n",
    "\n",
    "d.\n",
    "```Python\n",
    "(1, -1)\n",
    "(21, 0)\n",
    "```"
   ]
  },
  {
   "cell_type": "markdown",
   "metadata": {},
   "source": [
    "<br>\n",
    "<br>\n",
    "<br>\n",
    "<br>\n",
    "<br>\n",
    "<br>\n",
    "<br>\n",
    "<br>\n",
    "<br>\n",
    "<br>\n",
    "<br>\n",
    "<br>\n",
    "<br>\n",
    "<br>\n",
    "<br>\n",
    "<br>\n",
    "<br>\n",
    "<br>\n",
    "<br>\n",
    "<br>\n",
    "<br>\n",
    "<br>\n",
    "<br>\n",
    "<br>\n",
    "<br>\n",
    "<br>\n",
    "<br>\n",
    "<br>\n",
    "<br>\n",
    "<br>\n",
    "<br>\n",
    "<br>\n",
    "<br>\n",
    "<br>\n",
    "<br>\n",
    "<br>\n",
    "\n",
    "## Solutions to \"Check your understanding\"\n",
    "\n",
    "**Q1)** Answer: d.\n",
    "\n",
    "**Q2)** Answer: c.\n",
    "\n",
    "**Q3)** Answer: a.\n",
    "\n",
    "**Q4)** Answer: b.\n"
   ]
  }
 ],
 "metadata": {
  "kernelspec": {
   "display_name": "Python 3 (ipykernel)",
   "language": "python",
   "name": "python3"
  },
  "language_info": {
   "codemirror_mode": {
    "name": "ipython",
    "version": 3
   },
   "file_extension": ".py",
   "mimetype": "text/x-python",
   "name": "python",
   "nbconvert_exporter": "python",
   "pygments_lexer": "ipython3",
   "version": "3.7.11"
  }
 },
 "nbformat": 4,
 "nbformat_minor": 4
}
